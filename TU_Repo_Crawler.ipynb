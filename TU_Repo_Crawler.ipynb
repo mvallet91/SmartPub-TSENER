{
 "cells": [
  {
   "cell_type": "code",
   "execution_count": 83,
   "metadata": {},
   "outputs": [],
   "source": [
    "from urllib.request import urlretrieve\n",
    "import requests\n",
    "from bs4 import BeautifulSoup\n",
    "import time\n",
    "import shutil, os.path"
   ]
  },
  {
   "cell_type": "code",
   "execution_count": 119,
   "metadata": {},
   "outputs": [],
   "source": [
    "pages = []\n",
    "for i in range(1, 6):\n",
    "    url = ('https://repository.tudelft.nl/islandora/search?page=' + str(i) + \n",
    "    '&collection=education&f%5B0%5D=mods_genre_s%3A%22master%5C%20thesis%22')\n",
    "    pages.append(url)"
   ]
  },
  {
   "cell_type": "code",
   "execution_count": 123,
   "metadata": {
    "scrolled": true
   },
   "outputs": [
    {
     "name": "stdout",
     "output_type": "stream",
     "text": [
      "https://repository.tudelft.nl/islandora/search?page=1&collection=education&f%5B0%5D=mods_genre_s%3A%22master%5C%20thesis%22\n",
      "File exists: data/tudelft_repo/TUD_1575733a-8813-4c5d-b916-0eb23ac477f9.pdf\n",
      "File exists: data/tudelft_repo/TUD_05957f39-d946-4956-be68-52f5675e100d.pdf\n",
      "File exists: data/tudelft_repo/TUD_e675fadc-fd8d-4ced-b59e-45b6faba6fdd.pdf\n",
      "File exists: data/tudelft_repo/TUD_c9492ef8-9254-4ba4-83b3-8b0ad46149c5.pdf\n",
      "File exists: data/tudelft_repo/TUD_6e274095-9920-4d20-9e11-d5b76363e709.pdf\n",
      "File exists: data/tudelft_repo/TUD_b2308402-21ed-41a2-92b7-7edd7175dca7.pdf\n",
      "File exists: data/tudelft_repo/TUD_c46eca4b-eaf5-461a-9be2-dd6b3b1b44e0.pdf\n",
      "File exists: data/tudelft_repo/TUD_ca8da1e3-94c0-438b-9281-ee4a76cb7129.pdf\n",
      "File exists: data/tudelft_repo/TUD_15227443-568e-4bd8-af88-a165c4776f11.pdf\n",
      "File exists: data/tudelft_repo/TUD_cff45740-9100-4a10-9d49-41da874146d5.pdf\n",
      "https://repository.tudelft.nl/islandora/search?page=2&collection=education&f%5B0%5D=mods_genre_s%3A%22master%5C%20thesis%22\n",
      "File exists: data/tudelft_repo/TUD_cb4c6d30-588f-4d9c-a619-5bb205c87a35.pdf\n",
      "File exists: data/tudelft_repo/TUD_83c4f538-b6ed-449f-a0ed-4359b5a0fb23.pdf\n",
      "File exists: data/tudelft_repo/TUD_87709465-b9a1-48da-9ba5-eba98bc263d7.pdf\n",
      "File exists: data/tudelft_repo/TUD_6ac288c7-40fc-438b-8623-2533a686d8e7.pdf\n",
      "File exists: data/tudelft_repo/TUD_74d36a36-b9f7-448b-9947-0ed671c12ad0.pdf\n",
      "File exists: data/tudelft_repo/TUD_d57d7f66-ef72-474e-b8e1-add9e28b6f2f.pdf\n",
      "File exists: data/tudelft_repo/TUD_a9171959-8a02-4c97-8a56-d5188d223471.pdf\n",
      "File exists: data/tudelft_repo/TUD_27b75b3f-8b4d-4977-82ee-e531fd986839.pdf\n",
      "File exists: data/tudelft_repo/TUD_5a298e79-819c-4f47-affa-c15b266c3112.pdf\n",
      "File exists: data/tudelft_repo/TUD_2a625496-e85d-4207-8d6b-0bd06565fdf9.pdf\n",
      "https://repository.tudelft.nl/islandora/search?page=3&collection=education&f%5B0%5D=mods_genre_s%3A%22master%5C%20thesis%22\n",
      "File exists: data/tudelft_repo/TUD_7312afe5-28cc-4d04-b6d9-15899bf49a51.pdf\n",
      "File exists: data/tudelft_repo/TUD_ea9282a7-d6a8-47da-b8cf-dbeb198225b7.pdf\n",
      "File exists: data/tudelft_repo/TUD_2d25af25-f4dc-4537-8153-71408cf22fa0.pdf\n",
      "File exists: data/tudelft_repo/TUD_d826e500-4551-4a8e-bd80-fefea35a8c10.pdf\n",
      "File exists: data/tudelft_repo/TUD_c372f6e8-92f2-4793-9b14-e4b445b1a6c8.pdf\n",
      "File exists: data/tudelft_repo/TUD_5ad5ceeb-5f90-44af-928e-747e8accb5fb.pdf\n",
      "File exists: data/tudelft_repo/TUD_ec15c141-289b-4a8d-ae76-652bae893ab4.pdf\n",
      "File exists: data/tudelft_repo/TUD_f9226b86-abd1-4fe9-bab5-8bc4d4d4fb78.pdf\n",
      "File exists: data/tudelft_repo/TUD_5e88d71c-3878-4c4e-967b-0b5727bd0d8f.pdf\n",
      "File exists: data/tudelft_repo/TUD_566adfe1-1f1b-4060-8847-74ad797d4cf2.pdf\n",
      "File exists: data/tudelft_repo/TUD_b0e50a76-351e-4678-82ec-5c5868e8fc88.pdf\n",
      "File exists: data/tudelft_repo/TUD_a47f9e44-6f68-4b39-b9a9-89b16b99cf9c.pdf\n",
      "https://repository.tudelft.nl/islandora/search?page=4&collection=education&f%5B0%5D=mods_genre_s%3A%22master%5C%20thesis%22\n",
      "File exists: data/tudelft_repo/TUD_479b6e60-0521-49ed-9431-a3640c35d281.pdf\n",
      "File exists: data/tudelft_repo/TUD_4c0839c9-f00b-4c4a-a327-1bc214078871.pdf\n",
      "File exists: data/tudelft_repo/TUD_76fc815e-b11a-4fdc-932b-35e398c4d89d.pdf\n",
      "File exists: data/tudelft_repo/TUD_dddb8c36-c82a-4281-965e-12b855844322.pdf\n",
      "File exists: data/tudelft_repo/TUD_a275789e-9a45-402c-9617-8f23b9866c7b.pdf\n",
      "File exists: data/tudelft_repo/TUD_2d9bc31b-9bc3-4cac-a69f-3c1c06cd5f7f.pdf\n",
      "File exists: data/tudelft_repo/TUD_bfda3b1e-9c27-4faa-8583-7c7acdfc90a6.pdf\n",
      "File exists: data/tudelft_repo/TUD_f9a658fe-9d0b-4a1d-808a-908698c8e8c2.pdf\n",
      "File exists: data/tudelft_repo/TUD_e7b9324f-f297-4c7e-9257-331e6bc6eef6.pdf\n",
      "File exists: data/tudelft_repo/TUD_d0e3de61-f9f1-4a2f-9af5-7a9cfd8c174c.pdf\n",
      "File exists: data/tudelft_repo/TUD_b3f0f792-610b-46e0-89e1-133e27d93e8b.pdf\n",
      "https://repository.tudelft.nl/islandora/search?page=5&collection=education&f%5B0%5D=mods_genre_s%3A%22master%5C%20thesis%22\n",
      "File exists: data/tudelft_repo/TUD_d01c0eca-50f3-4339-b7bf-dce035dd4ebb.pdf\n",
      "File exists: data/tudelft_repo/TUD_509c2759-d8d6-44a9-af3f-b0dc9911dc40.pdf\n",
      "File exists: data/tudelft_repo/TUD_4633114e-32c9-45c8-97f2-4663b7d4d9b3.pdf\n",
      "File exists: data/tudelft_repo/TUD_d3804b8f-0c4d-42aa-886e-b47f68a60f98.pdf\n",
      "File exists: data/tudelft_repo/TUD_1843361f-52ce-4f80-b651-eec1e4e5633b.pdf\n",
      "File exists: data/tudelft_repo/TUD_2a1ed71d-589e-474f-912e-2a82f9c6bf35.pdf\n",
      "File exists: data/tudelft_repo/TUD_292c84e9-033b-448f-9c78-48eef9c79101.pdf\n",
      "File exists: data/tudelft_repo/TUD_92e0f356-37ab-4b73-a01f-1c49f3cfaaea.pdf\n",
      "File exists: data/tudelft_repo/TUD_8d739e31-1c9b-405d-a6b7-af171e04acd3.pdf\n",
      "File exists: data/tudelft_repo/TUD_9d440bc9-ec54-43bf-b4ea-2787ea47dca5.pdf\n",
      "File exists: data/tudelft_repo/TUD_20170a8c-7e1e-434f-b5d6-9ba933e2ab6e.pdf\n",
      "File exists: data/tudelft_repo/TUD_b7fd7229-debb-4270-8b47-7e5f084ed91a.pdf\n",
      "File exists: data/tudelft_repo/TUD_dae2563e-b12c-467f-8842-3e0a2498a259.pdf\n",
      "File exists: data/tudelft_repo/TUD_3be70155-068a-4f41-8397-2a0bb71db5d3.pdf\n",
      "File exists: data/tudelft_repo/TUD_ccd3a80f-224e-46b9-9183-69960b74c6f7.pdf\n",
      "58 files already existed, 0 files downloaded\n"
     ]
    }
   ],
   "source": [
    "i = 0\n",
    "j = 0\n",
    "for item in pages:\n",
    "    page = requests.get(item)\n",
    "    soup = BeautifulSoup(page.text, 'html.parser')\n",
    "    thesis_list = soup.find(class_='islandora-basic-collection-list')\n",
    "    thesis_list_items = thesis_list.find_all('a')\n",
    "    print(item)\n",
    "    for thesis_name in thesis_list_items:\n",
    "        url = thesis_name.get('href')\n",
    "        uuid = url[25:-21]\n",
    "        download = 'https://repository.tudelft.nl/islandora/object/uuid:' + uuid + '/datastream/OBJ/download'     \n",
    "        name = 'data/tudelft_repo/TUD_' + uuid + '.pdf' \n",
    "        if os.path.exists(name):\n",
    "            print('File exists:', name)\n",
    "            i = i + 1\n",
    "            continue\n",
    "        r = requests.get(download, stream=True)\n",
    "        if r.status_code == 200:\n",
    "            with open(name, 'wb') as f:\n",
    "                r.raw.decode_content = True\n",
    "                shutil.copyfileobj(r.raw, f)\n",
    "            print('Downloaded:', name)\n",
    "            j = j + 1\n",
    "        if r.status_code != 200:\n",
    "            ('Download failed, status', r.status_code, 'link', download)\n",
    "\n",
    "        time.sleep(1)\n",
    "        \n",
    "print(i, 'files already existed,', j, 'files downloaded')"
   ]
  },
  {
   "cell_type": "code",
   "execution_count": null,
   "metadata": {},
   "outputs": [],
   "source": []
  },
  {
   "cell_type": "markdown",
   "metadata": {},
   "source": [
    "# OAI Extraction"
   ]
  },
  {
   "cell_type": "code",
   "execution_count": 199,
   "metadata": {},
   "outputs": [],
   "source": [
    "from urllib.request import urlretrieve\n",
    "from bs4 import BeautifulSoup \n",
    "from sickle import Sickle\n",
    "import shutil, os.path, pickle, time, requests\n",
    "from collections import Counter"
   ]
  },
  {
   "cell_type": "code",
   "execution_count": 2,
   "metadata": {},
   "outputs": [],
   "source": [
    "sickle = Sickle('http://oai.tudelft.nl/ir')"
   ]
  },
  {
   "cell_type": "code",
   "execution_count": 64,
   "metadata": {},
   "outputs": [],
   "source": [
    "records = sickle.ListIdentifiers(metadataPrefix='oai_dc')"
   ]
  },
  {
   "cell_type": "code",
   "execution_count": 147,
   "metadata": {},
   "outputs": [],
   "source": [
    "records = sickle.ListRecords(metadataPrefix='oai_dc', ignore_deleted=True)"
   ]
  },
  {
   "cell_type": "code",
   "execution_count": 306,
   "metadata": {
    "scrolled": true
   },
   "outputs": [
    {
     "name": "stdout",
     "output_type": "stream",
     "text": [
      "18428\n"
     ]
    }
   ],
   "source": [
    "items = {}\n",
    "records = sickle.ListRecords( **{'metadataPrefix': 'oai_dc', 'from': '2016-01-01', 'ignore_deleted': 'True'})\n",
    "for x in range(20000):\n",
    "    item = records.next()\n",
    "    uuid = item.metadata['identifier'][0][32:]\n",
    "    items[uuid] = item.metadata\n",
    "    \n",
    "print(len(items))"
   ]
  },
  {
   "cell_type": "code",
   "execution_count": 345,
   "metadata": {
    "scrolled": true
   },
   "outputs": [
    {
     "name": "stdout",
     "output_type": "stream",
     "text": [
      "items 57771 types 62105 x 62105\n"
     ]
    },
    {
     "data": {
      "text/plain": [
       "Counter({'Text': 1,\n",
       "         'abstract': 155,\n",
       "         'bachelor thesis': 1128,\n",
       "         'book': 1926,\n",
       "         'book chapter': 525,\n",
       "         'conference paper': 10767,\n",
       "         'contribution to periodical': 29,\n",
       "         'doctoral thesis': 8331,\n",
       "         'journal article': 14483,\n",
       "         'lecture notes': 489,\n",
       "         'master thesis': 16201,\n",
       "         'other': 77,\n",
       "         'patent': 544,\n",
       "         'public lecture': 1228,\n",
       "         'report': 5797,\n",
       "         'review': 46,\n",
       "         'student report': 300,\n",
       "         'working paper': 78})"
      ]
     },
     "execution_count": 345,
     "metadata": {},
     "output_type": "execute_result"
    }
   ],
   "source": [
    "x = 0\n",
    "types = []\n",
    "items = {}\n",
    "\n",
    "records = sickle.ListRecords( **{'metadataPrefix': 'oai_dc', 'ignore_deleted': 'True'})\n",
    "for r in records:\n",
    "    types.append(r.metadata['type'][0])\n",
    "    uuid = ''\n",
    "    uuid = r.metadata['identifier'][0][32:]\n",
    "    items[uuid] = r.metadata\n",
    "    x = x + 1\n",
    "\n",
    "print('items', len(items), 'types', len(types), 'x', x)\n",
    "Counter(types) "
   ]
  },
  {
   "cell_type": "code",
   "execution_count": null,
   "metadata": {},
   "outputs": [],
   "source": [
    "with open('tud_metadata.pickle', 'wb') as handle:\n",
    "    pickle.dump(items, handle, protocol=pickle.HIGHEST_PROTOCOL)"
   ]
  },
  {
   "cell_type": "code",
   "execution_count": 403,
   "metadata": {},
   "outputs": [],
   "source": [
    "with open('tud_metadata.pickle', 'rb') as handle:\n",
    "    items = pickle.load(handle)  "
   ]
  },
  {
   "cell_type": "code",
   "execution_count": null,
   "metadata": {
    "scrolled": true
   },
   "outputs": [],
   "source": [
    "failed = []\n",
    "for uuid in items.keys():\n",
    "    download = 'https://repository.tudelft.nl/islandora/object/uuid:' + uuid + '/datastream/OBJ/download'     \n",
    "    name = 'data/tudelft_repo/TUD_' + uuid + '.pdf' \n",
    "    if os.path.exists(name):\n",
    "        print('File exists:', name)\n",
    "        print('.', end = '')\n",
    "        continue\n",
    "    r = requests.get(download, stream=True)\n",
    "    if r.status_code == 200:\n",
    "        with open(name, 'wb') as f:\n",
    "            r.raw.decode_content = True\n",
    "            shutil.copyfileobj(r.raw, f)\n",
    "        print('Downloaded:', name)\n",
    "    if r.status_code != 200:\n",
    "        print('Download failed, status', r.status_code, 'link', download)\n",
    "        failed.append(uuid)\n",
    "    time.sleep(3)"
   ]
  },
  {
   "cell_type": "code",
   "execution_count": 371,
   "metadata": {},
   "outputs": [],
   "source": [
    "downloaded = {}\n",
    "for dirpath, dirs, files in os.walk('data/tudelft_repo/'):\n",
    "    for file in files: \n",
    "        path = os.path.join(dirpath, file)\n",
    "        uuid = path.split('_')[-1].split('.')[0]\n",
    "        downloaded[uuid] = items[uuid]"
   ]
  },
  {
   "cell_type": "code",
   "execution_count": 410,
   "metadata": {
    "scrolled": true
   },
   "outputs": [
    {
     "name": "stdout",
     "output_type": "stream",
     "text": [
      "['Measurement and modelling of earthing impedance in ships (DC-30MHz)']\n",
      "['measurement', 'modelling', 'earthing wire', 'external inductance', 'internal inductance']\n",
      "\n",
      "['Airfoil Optimization for vertical axis wind turbines']\n",
      "['vertical axis wind turbine']\n",
      "\n",
      "['A Hybrid Renewable Energy System for a Rural Area in Africa']\n",
      "['renewable energy', 'sustainability', 'Ikem', 'load demand', 'hydropower', 'photovoltaic', 'biomass combustion', 'HRES', 'Hybrid Renewable Energy System', 'rural electrification']\n",
      "\n",
      "['Sensitivity analysis of residential building simulations: Model choice for specific applications and critical parameters']\n",
      "['TRNSYS', 'simulation', 'influential behavior']\n",
      "\n",
      "['Aerodynamic response of a twodimensional vertical axis wind turbine to turbulence']\n",
      "['Dynamic Analysis of a Floating Vertical Axis Wind Turbine using the Actuator Cylinder Flow Theory']\n",
      "['Vertical Axis Wind Turbines (VAWTs)', 'AC Flow Theory', 'Fully coupled dynamic analysis', 'Code-to-code comparison', 'HAWC2', 'SIMO-RIFLEX-AC', 'EWEM', 'NTNU']\n",
      "\n",
      "['Multilevel Converters for Offshore Wind Systems: A comparative study']\n",
      "['Modeling of a horizontal axis wind turbine with smart actuators']\n",
      "['A MHz Switching Active Clamp Flyback Converter as a Power Factor Correction Stage for Lighting']\n",
      "['Active Clamp Flyback', 'Gallium nitride device', 'ZVS', 'High Switching Frequency', 'Power Factor Correction', 'Lighting']\n",
      "\n",
      "['Novel digital controller for boost PFC']\n",
      "['boost PFC', 'Controller design']\n",
      "\n",
      "['Control and Protection of VSC-based Multi-terminal DC Networks']\n",
      "['VSC-HVDC', 'DC grid control', 'DC breakers', 'HVDC protection', 'DC limiting reactors']\n",
      "\n"
     ]
    }
   ],
   "source": [
    "import re\n",
    "for key in list(downloaded.keys()):\n",
    "    if downloaded[key]['type'][0] == 'master thesis':\n",
    "        try:\n",
    "            if any('Ferreira' in item for item in downloaded[key]['contributor']):\n",
    "                print(downloaded[key]['title'])\n",
    "                print(downloaded[key]['subject'])\n",
    "#                 text = downloaded[key]['description']\n",
    "#                 print(re.sub('<.*?>', ' ', text[0]))\n",
    "                print('')\n",
    "        except:\n",
    "            pass"
   ]
  },
  {
   "cell_type": "code",
   "execution_count": 405,
   "metadata": {},
   "outputs": [
    {
     "data": {
      "text/plain": [
       "['Vlaams Steunpunt Ruimte en Wonen']"
      ]
     },
     "execution_count": 405,
     "metadata": {},
     "output_type": "execute_result"
    }
   ],
   "source": [
    "downloaded[key]['publisher']\n"
   ]
  },
  {
   "cell_type": "code",
   "execution_count": null,
   "metadata": {},
   "outputs": [],
   "source": []
  },
  {
   "cell_type": "code",
   "execution_count": null,
   "metadata": {},
   "outputs": [],
   "source": []
  },
  {
   "cell_type": "markdown",
   "metadata": {},
   "source": [
    "# Delete Large Files"
   ]
  },
  {
   "cell_type": "code",
   "execution_count": 348,
   "metadata": {},
   "outputs": [],
   "source": [
    "import os\n",
    "from matplotlib import pyplot as plt\n",
    "\n",
    "target_size = 100 * 1048514\n",
    "large = []\n",
    "\n",
    "for dirpath, dirs, files in os.walk('data/tudelft_repo/'):\n",
    "    for file in files: \n",
    "        path = os.path.join(dirpath, file)\n",
    "        if os.stat(path).st_size > target_size:\n",
    "            os.remove(path)\n",
    "            large.append(file)"
   ]
  },
  {
   "cell_type": "code",
   "execution_count": 271,
   "metadata": {},
   "outputs": [],
   "source": [
    "with open('large_deleted.pickle', 'wb') as handle:\n",
    "    pickle.dump(large, handle, protocol=pickle.HIGHEST_PROTOCOL)"
   ]
  }
 ],
 "metadata": {
  "kernelspec": {
   "display_name": "Python 3",
   "language": "python",
   "name": "python3"
  },
  "language_info": {
   "codemirror_mode": {
    "name": "ipython",
    "version": 3
   },
   "file_extension": ".py",
   "mimetype": "text/x-python",
   "name": "python",
   "nbconvert_exporter": "python",
   "pygments_lexer": "ipython3",
   "version": "3.5.2"
  }
 },
 "nbformat": 4,
 "nbformat_minor": 2
}
