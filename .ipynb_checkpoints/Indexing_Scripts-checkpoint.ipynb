{
 "cells": [
  {
   "cell_type": "code",
   "execution_count": 1,
   "metadata": {},
   "outputs": [],
   "source": [
    "from elasticsearch import Elasticsearch\n",
    "es = Elasticsearch([{'host': 'localhost', 'port': 9200}])"
   ]
  },
  {
   "cell_type": "code",
   "execution_count": 9,
   "metadata": {
    "scrolled": true
   },
   "outputs": [
    {
     "data": {
      "text/plain": [
       "{'active_primary_shards': 5,\n",
       " 'active_shards': 5,\n",
       " 'active_shards_percent_as_number': 100.0,\n",
       " 'cluster_name': 'smartpub',\n",
       " 'delayed_unassigned_shards': 0,\n",
       " 'initializing_shards': 0,\n",
       " 'number_of_data_nodes': 1,\n",
       " 'number_of_in_flight_fetch': 0,\n",
       " 'number_of_nodes': 1,\n",
       " 'number_of_pending_tasks': 0,\n",
       " 'relocating_shards': 0,\n",
       " 'status': 'green',\n",
       " 'task_max_waiting_in_queue_millis': 0,\n",
       " 'timed_out': False,\n",
       " 'unassigned_shards': 0}"
      ]
     },
     "execution_count": 9,
     "metadata": {},
     "output_type": "execute_result"
    }
   ],
   "source": [
    "es.cluster.health()"
   ]
  },
  {
   "cell_type": "code",
   "execution_count": null,
   "metadata": {
    "scrolled": true
   },
   "outputs": [],
   "source": [
    "es.nodes.stats()"
   ]
  },
  {
   "cell_type": "raw",
   "metadata": {},
   "source": [
    "Command for ES replicas per node\n",
    "\n",
    "curl -XPUT 'localhost:9200/ir/_settings' -H 'Content-Type: application/json' -d '{\"number_of_replicas\": 0}'\n",
    "\n",
    "curl -XPUT 'localhost:9200/twosent/_settings' -H 'Content-Type: application/json' -d '{\"number_of_replicas\": 0}'"
   ]
  },
  {
   "cell_type": "raw",
   "metadata": {},
   "source": [
    "curl -XPUT 'localhost:9200/_cluster/settings?pretty' -H 'Content-Type: application/json' -d'\n",
    "{\n",
    "    \"persistent\":\n",
    "  { \"cluster.routing.allocation.enable\" : \"all\"\n",
    "  }\n",
    "}\n",
    "'"
   ]
  },
  {
   "cell_type": "markdown",
   "metadata": {
    "heading_collapsed": true
   },
   "source": [
    "# 2 Full Index"
   ]
  },
  {
   "cell_type": "code",
   "execution_count": 4,
   "metadata": {
    "hidden": true
   },
   "outputs": [],
   "source": [
    "from pymongo import MongoClient\n",
    "from elasticsearch import Elasticsearch\n",
    "from elasticsearch import helpers\n",
    "import nltk\n",
    "import config as cfg\n",
    "\n",
    "sent_detector = nltk.data.load('tokenizers/punkt/english.pickle')"
   ]
  },
  {
   "cell_type": "code",
   "execution_count": 5,
   "metadata": {
    "hidden": true
   },
   "outputs": [
    {
     "data": {
      "text/plain": [
       "{'active_primary_shards': 0,\n",
       " 'active_shards': 0,\n",
       " 'active_shards_percent_as_number': 100.0,\n",
       " 'cluster_name': 'smartpub',\n",
       " 'delayed_unassigned_shards': 0,\n",
       " 'initializing_shards': 0,\n",
       " 'number_of_data_nodes': 1,\n",
       " 'number_of_in_flight_fetch': 0,\n",
       " 'number_of_nodes': 1,\n",
       " 'number_of_pending_tasks': 0,\n",
       " 'relocating_shards': 0,\n",
       " 'status': 'green',\n",
       " 'task_max_waiting_in_queue_millis': 0,\n",
       " 'timed_out': False,\n",
       " 'unassigned_shards': 0}"
      ]
     },
     "execution_count": 5,
     "metadata": {},
     "output_type": "execute_result"
    }
   ],
   "source": [
    "client = MongoClient('localhost:' + str(cfg.mongoDB_Port))\n",
    "db = client.pub\n",
    "pub = client.pub.publications\n",
    "es = Elasticsearch(\n",
    "    [{'host': 'localhost', 'port': 9200}], timeout=30, max_retries=10, retry_on_timeout=True\n",
    ")\n",
    "es.cluster.health(wait_for_status='yellow', request_timeout=1)"
   ]
  },
  {
   "cell_type": "code",
   "execution_count": 61,
   "metadata": {
    "hidden": true
   },
   "outputs": [],
   "source": [
    "def return_chapters(mongo_string_search, db):\n",
    "    results = db.publications.find(mongo_string_search)\n",
    "    chapters = list()\n",
    "    chapter_nums = list()\n",
    "    list_of_docs = list()\n",
    "    merged_chapters = list()\n",
    "    \n",
    "    my_dict = {\n",
    "        \"_id\": \"\",\n",
    "        \"title\": \"\",\n",
    "        \"content\": \"\",\n",
    "        \"journal\": \"\",\n",
    "        \"year\":\"\"\n",
    "    }\n",
    "    for i, r in enumerate(results):\n",
    "        # try:\n",
    "        # list_of_sections = list()\n",
    "        my_dict['_id'] = r['_id']\n",
    "        my_dict['title'] = r['title']\n",
    "        try:\n",
    "            my_dict['journal'] = r['booktitle']\n",
    "        except: \n",
    "            pass\n",
    "        try:\n",
    "            my_dict['journal'] = r['journal']\n",
    "        except: \n",
    "            pass\n",
    "        try:\n",
    "            my_dict['year'] = r['year']\n",
    "        except: \n",
    "            pass\n",
    "        try:\n",
    "            my_dict['content'] = r['content']['fulltext']\n",
    "        except:\n",
    "            my_dict['content'] = \"\"\n",
    "            # print(my_dict)\n",
    "            # sys.exit(1)\n",
    "\n",
    "        list_of_docs.append(my_dict)\n",
    "\n",
    "        my_dict = {\n",
    "            \"_id\": \"\",\n",
    "            \"title\": \"\",\n",
    "            \"content\": \"\",\n",
    "            \"journal\": \"\",\n",
    "            \"year\": \"\"\n",
    "        }\n",
    "\n",
    "    return list_of_docs"
   ]
  },
  {
   "cell_type": "code",
   "execution_count": 62,
   "metadata": {
    "hidden": true
   },
   "outputs": [],
   "source": [
    "filter_conference = [\"WWW\", \"ICSE\", \"VLDB\", \"JCDL\", \"TREC\",  \"SIGIR\", \"ICWSM\", \"ECDL\", \"ESWC\", \"TPDL\", \n",
    "                     'pbio', 'pgen', 'bmcgen', 'bmcbiot', 'bmcneur', 'bmceb', 'genbio', 'bcr']\n",
    "\n",
    "list_of_pubs = []\n",
    "\n",
    "for booktitle in filter_conference:\n",
    "    mongo_string_search = {'$or': [{'$and': [{'booktitle': booktitle}, {'content.fulltext': {'$exists': True}}]} ,\n",
    "                                   {'$and': [{'journal': booktitle},   {'content.fulltext': {'$exists': True}}]} ]}\n",
    "    list_of_pubs.append(return_chapters(mongo_string_search, db))"
   ]
  },
  {
   "cell_type": "code",
   "execution_count": 64,
   "metadata": {
    "hidden": true
   },
   "outputs": [
    {
     "data": {
      "text/plain": [
       "18"
      ]
     },
     "execution_count": 64,
     "metadata": {},
     "output_type": "execute_result"
    }
   ],
   "source": [
    "len(list_of_pubs)"
   ]
  },
  {
   "cell_type": "code",
   "execution_count": null,
   "metadata": {
    "hidden": true
   },
   "outputs": [],
   "source": [
    "for pubs in list_of_pubs:\n",
    "    actions = []\n",
    "    \n",
    "    for cur in pubs:\n",
    "        text = cur[\"content\"]\n",
    "        \n",
    "        print(cur['_id'])\n",
    "        print(cur['journal'])\n",
    "\n",
    "        actions.append({\n",
    "                    \"_index\": \"ir\",\n",
    "                    \"_type\": \"publications\",\n",
    "                    \"_id\" : cur['_id'],\n",
    "                    \"journal\": cur['journal'],\n",
    "                    \"year\": cur['year'],\n",
    "                    \"_source\" : {\n",
    "                        \"text\" : text,\n",
    "                        \"title\": cur[\"title\"]\n",
    "                    }\n",
    "                })\n",
    "\n",
    "    if len(actions) == 0:\n",
    "            continue\n",
    "\n",
    "    res = helpers.bulk(es, actions)\n",
    "    print(res)"
   ]
  },
  {
   "cell_type": "markdown",
   "metadata": {
    "heading_collapsed": true
   },
   "source": [
    "# 3 Twosent Index"
   ]
  },
  {
   "cell_type": "code",
   "execution_count": 95,
   "metadata": {
    "hidden": true
   },
   "outputs": [
    {
     "data": {
      "text/plain": [
       "{'active_primary_shards': 10,\n",
       " 'active_shards': 10,\n",
       " 'active_shards_percent_as_number': 100.0,\n",
       " 'cluster_name': 'smartpub',\n",
       " 'delayed_unassigned_shards': 0,\n",
       " 'initializing_shards': 0,\n",
       " 'number_of_data_nodes': 1,\n",
       " 'number_of_in_flight_fetch': 0,\n",
       " 'number_of_nodes': 1,\n",
       " 'number_of_pending_tasks': 0,\n",
       " 'relocating_shards': 0,\n",
       " 'status': 'green',\n",
       " 'task_max_waiting_in_queue_millis': 0,\n",
       " 'timed_out': False,\n",
       " 'unassigned_shards': 0}"
      ]
     },
     "execution_count": 95,
     "metadata": {},
     "output_type": "execute_result"
    }
   ],
   "source": [
    "from pymongo import MongoClient\n",
    "from elasticsearch import Elasticsearch\n",
    "from elasticsearch import helpers\n",
    "import math\n",
    "import requests\n",
    "import nltk\n",
    "import _pickle as cPickle\n",
    "import config as cfg\n",
    "import logging\n",
    "\n",
    "###############################\n",
    "sent_detector = nltk.data.load('tokenizers/punkt/english.pickle')\n",
    "client = MongoClient('localhost:' + str(cfg.mongoDB_Port))\n",
    "pub = client.pub.publications\n",
    "db = client.pub\n",
    "es = Elasticsearch([{'host': 'localhost', 'port': 9200}],\n",
    "                   timeout=30, max_retries=10, retry_on_timeout=True)\n",
    "es.cluster.health(wait_for_status='yellow', request_timeout=1)"
   ]
  },
  {
   "cell_type": "code",
   "execution_count": 99,
   "metadata": {
    "hidden": true
   },
   "outputs": [],
   "source": [
    "def return_chapters(mongo_string_search, db):\n",
    "    # mongo_string_search = {\"dblpkey\": \"{}\".format(dblkey)}\n",
    "    results = db.publications.find(mongo_string_search)\n",
    "    chapters = list()\n",
    "    chapter_nums = list()\n",
    "    list_of_docs = list()\n",
    "    # list_of_abstracts = list()\n",
    "    merged_chapters = list()\n",
    "    \n",
    "    my_dict = {\n",
    "        \"_id\": \"\",\n",
    "        \"paragraphs\": list(),\n",
    "        \"title\": \"\"\n",
    "    }\n",
    "    \n",
    "    for i, r in enumerate(results):\n",
    "        # try:\n",
    "        # list_of_sections = list()\n",
    "        my_dict['_id'] = r['_id']\n",
    "        my_dict['title'] = r['title']\n",
    "        paragraphs = []\n",
    "        \n",
    "#         ########################################################\n",
    "        try:\n",
    "            for chapter in r['content']['chapters']:\n",
    "                # print(r['dblpkey'])\n",
    "                if (chapter == {}):\n",
    "                    continue\n",
    "                    # remove the filter that removes related works\n",
    "                    # elif str(chapter['title']).lower() in filter_chapters:\n",
    "                    # print(chapter['title'])\n",
    "\n",
    "                # print(chapter['title'])\n",
    "                for paragraph in chapter['paragraphs']:\n",
    "                    if paragraph == {}:\n",
    "                        continue\n",
    "                    paragraphs.append(paragraph)\n",
    "                    \n",
    "            my_dict['paragraphs'] = paragraphs\n",
    "\n",
    "        except:\n",
    "            logging.exception('No paragraphs in '+r['_id'], exc_info=True)\n",
    "            continue\n",
    "#         ########################################################    \n",
    "\n",
    "        list_of_docs.append(my_dict)\n",
    "        my_dict = {\n",
    "            \"_id\": \"\",\n",
    "            \"paragraphs\": list(),\n",
    "            \"title\": \"\"\n",
    "        }\n",
    "\n",
    "    return list_of_docs"
   ]
  },
  {
   "cell_type": "code",
   "execution_count": 101,
   "metadata": {
    "hidden": true,
    "scrolled": true
   },
   "outputs": [
    {
     "name": "stderr",
     "output_type": "stream",
     "text": [
      "ERROR:root:No text in conf_vldb_ChenCLR05\n",
      "Traceback (most recent call last):\n",
      "  File \"<ipython-input-99-60f98a35fd22>\", line 25, in return_chapters\n",
      "    for chapter in r['content']['chapters']:\n",
      "KeyError: 'chapters'\n",
      "ERROR:root:No text in conf_vldb_ChanI99\n",
      "Traceback (most recent call last):\n",
      "  File \"<ipython-input-99-60f98a35fd22>\", line 25, in return_chapters\n",
      "    for chapter in r['content']['chapters']:\n",
      "KeyError: 'chapters'\n",
      "ERROR:root:No text in conf_vldb_PardonA00\n",
      "Traceback (most recent call last):\n",
      "  File \"<ipython-input-99-60f98a35fd22>\", line 25, in return_chapters\n",
      "    for chapter in r['content']['chapters']:\n",
      "KeyError: 'chapters'\n",
      "ERROR:root:No text in conf_vldb_Novaretti01\n",
      "Traceback (most recent call last):\n",
      "  File \"<ipython-input-99-60f98a35fd22>\", line 25, in return_chapters\n",
      "    for chapter in r['content']['chapters']:\n",
      "KeyError: 'chapters'\n",
      "ERROR:root:No text in conf_vldb_KoudasIM00\n",
      "Traceback (most recent call last):\n",
      "  File \"<ipython-input-99-60f98a35fd22>\", line 25, in return_chapters\n",
      "    for chapter in r['content']['chapters']:\n",
      "KeyError: 'chapters'\n",
      "ERROR:root:No text in conf_vldb_BalminPP00\n",
      "Traceback (most recent call last):\n",
      "  File \"<ipython-input-99-60f98a35fd22>\", line 25, in return_chapters\n",
      "    for chapter in r['content']['chapters']:\n",
      "KeyError: 'chapters'\n",
      "ERROR:root:No text in conf_vldb_UrhanF01\n",
      "Traceback (most recent call last):\n",
      "  File \"<ipython-input-99-60f98a35fd22>\", line 25, in return_chapters\n",
      "    for chapter in r['content']['chapters']:\n",
      "KeyError: 'chapters'\n",
      "ERROR:root:No text in conf_vldb_MillerHH00\n",
      "Traceback (most recent call last):\n",
      "  File \"<ipython-input-99-60f98a35fd22>\", line 25, in return_chapters\n",
      "    for chapter in r['content']['chapters']:\n",
      "KeyError: 'chapters'\n",
      "ERROR:root:No text in conf_vldb_LiCHPALHAY01\n",
      "Traceback (most recent call last):\n",
      "  File \"<ipython-input-99-60f98a35fd22>\", line 25, in return_chapters\n",
      "    for chapter in r['content']['chapters']:\n",
      "KeyError: 'chapters'\n",
      "ERROR:root:No text in conf_vldb_MendelzonV00\n",
      "Traceback (most recent call last):\n",
      "  File \"<ipython-input-99-60f98a35fd22>\", line 25, in return_chapters\n",
      "    for chapter in r['content']['chapters']:\n",
      "KeyError: 'chapters'\n",
      "ERROR:root:No text in conf_vldb_GalhardasFSSS01\n",
      "Traceback (most recent call last):\n",
      "  File \"<ipython-input-99-60f98a35fd22>\", line 25, in return_chapters\n",
      "    for chapter in r['content']['chapters']:\n",
      "KeyError: 'chapters'\n",
      "ERROR:root:No text in conf_vldb_MurthyB03\n",
      "Traceback (most recent call last):\n",
      "  File \"<ipython-input-99-60f98a35fd22>\", line 25, in return_chapters\n",
      "    for chapter in r['content']['chapters']:\n",
      "KeyError: 'chapters'\n"
     ]
    },
    {
     "name": "stdout",
     "output_type": "stream",
     "text": [
      "Total journals: 18\n"
     ]
    }
   ],
   "source": [
    "filter_conference = [\"WWW\", \"ICSE\", \"VLDB\", \"JCDL\", \"TREC\",  \"SIGIR\", \"ICWSM\", \"ECDL\", \"ESWC\", \"TPDL\", \n",
    "                     'pbio', 'pgen', 'bmcgen', 'bmcbiot', 'bmcneur', 'bmceb', 'genbio', 'bcr']\n",
    "\n",
    "list_of_pubs = []\n",
    "\n",
    "for booktitle in filter_conference:\n",
    "    mongo_string_search = {'$or': [{'$and': [{'booktitle': booktitle}, {'content.fulltext': {'$exists': True}}]} ,\n",
    "                                   {'$and': [{'journal': booktitle},   {'content.fulltext': {'$exists': True}}]} ]}\n",
    "    list_of_pubs.append(return_chapters(mongo_string_search, db))\n",
    "\n",
    "print(\"Total journals:\", len(list_of_pubs))"
   ]
  },
  {
   "cell_type": "code",
   "execution_count": null,
   "metadata": {
    "hidden": true
   },
   "outputs": [],
   "source": [
    "for pubs in list_of_pubs:\n",
    "    for paper in pubs:\n",
    "        actions = []\n",
    "        cleaned = []\n",
    "        datasetsent = []\n",
    "        othersent = []\n",
    "        \n",
    "        for paragraph in paper['paragraphs']:\n",
    "            if paragraph == {}:\n",
    "                continue\n",
    "            lines = (sent_detector.tokenize(paragraph.strip()))\n",
    "            \n",
    "            if len(lines) < 3:\n",
    "                continue\n",
    "\n",
    "            for i in range(len(lines)):\n",
    "                words = nltk.word_tokenize(lines[i])\n",
    "                lengths = [len(x) for x in words]\n",
    "                average = sum(lengths) / len(lengths)\n",
    "                if average < 4:\n",
    "                    continue\n",
    "                    \n",
    "                twosentences = ''\n",
    "                try:\n",
    "                    twosentences = lines[i] + ' ' + lines[i-1]\n",
    "\n",
    "                except:\n",
    "                    twosentences = lines[i] + ' ' + lines[i+1]\n",
    "                    \n",
    "                datasetsent.append(twosentences)\n",
    "\n",
    "            #cleaned.append(paragraph)\n",
    "\n",
    "        for num, parag in enumerate(datasetsent):\n",
    "            actions.append({\n",
    "                \"_index\": \"twosent\",\n",
    "                \"_type\": \"twosentnorules\",\n",
    "                \"_id\": paper['_id'] + str(num),\n",
    "\n",
    "                \"_source\" : {\n",
    "                    \"title\" : paper['title'],\n",
    "                    \"content.chapter.sentpositive\" : parag,\n",
    "                    \"paper_id\":paper['_id']\n",
    "                }})\n",
    "            \n",
    "        if len(actions) == 0:\n",
    "            continue\n",
    "\n",
    "#         res = helpers.bulk(es, actions)\n",
    "#         print(res)"
   ]
  },
  {
   "cell_type": "markdown",
   "metadata": {},
   "source": [
    "# 4 Using ES "
   ]
  },
  {
   "cell_type": "code",
   "execution_count": null,
   "metadata": {},
   "outputs": [],
   "source": []
  },
  {
   "cell_type": "code",
   "execution_count": 19,
   "metadata": {
    "scrolled": true
   },
   "outputs": [
    {
     "name": "stdout",
     "output_type": "stream",
     "text": [
      "Got 55 Hits:\n",
      "Relationship of patients' age to histopathological features of breast tumours in  BRCA1  and  BRCA2  and mutation-negative breast cancer families\n",
      "__________\n",
      "Gene Structure Evolution of the Na + -Ca 2+  Exchanger ( NCX ) Family\n",
      "__________\n",
      "Erratum to: The UBC-40 Urothelial Bladder Cancer Cell Line Index: a genomic resource for functional studies\n",
      "__________\n"
     ]
    }
   ],
   "source": [
    "res = es.search(index=\"ir\", body={\"query\": {\"match_all\": {}}}, size = 3)\n",
    "print(\"Got %d Hits:\" % res['hits']['total'])\n",
    "for hit in res['hits']['hits']:\n",
    "    print(hit['_source']['title'])#, hit['publication'])\n",
    "    print('_'*10)"
   ]
  },
  {
   "cell_type": "code",
   "execution_count": 34,
   "metadata": {
    "scrolled": true
   },
   "outputs": [
    {
     "name": "stdout",
     "output_type": "stream",
     "text": [
      "Got 9658 Hits:\n",
      "Whole exome DNA sequencing (WES) or whole genome DNA sequencing (WGS) allows identification of single nucleotide mutations or polymorphisms in all exonic regions or the entire human genome, respectively, while messenger RNA sequencing (RNA-Seq) enables quantitative analysis of gene expression. Recent advances in sequencing technology enable investigation of entire genomes at increasingly fine resolution.\n",
      "__________\n",
      "This approach allows the investigator to uncover the instances of complete or near allele silencing, which would be impossible using only RNA-Seq data. The expression state of the heterozygous loci detected in WES or WGS assays can be investigated in a matched RNA-Seq sample from the same individual, leading to a detailed map of the ASE activity.\n",
      "__________\n",
      "In addition, data from multiple heterozygous single nucleotide variants (SNVs) in the same gene must be integrated, and the large number of tested genes requires appropriate statistical treatment of the multiplicity of tested hypotheses. Next-generation sequencing of short reads is prone to technical biases, for example, over- or under-representation of certain sequence motifs or inhomogeneous mapping, which must be overcome for effective ASE detection [3-5].\n",
      "__________\n",
      "Previous work using short reads to detect ASE focused either on model organisms [11,13] or on normal human tissues or cell lines [4,10,12], although limited studies have explored the ASE landscape in cancer [15,16]. Despite these obstacles, next-generation sequencing technology has been recently used to identify putative sites of ASE within and between samples [4,6-14].\n",
      "__________\n",
      "Most published studies either tested ASE at the SNV-level, sometimes requiring agreement across SNVs within a gene [3,6,7,10,12,17,18], or used available phasing information to sum reads across SNVs [4]. Further, there is currently no standard and robust way to aggregate information across SNVs into a single measure of ASE for an entire transcript isoform or gene.\n",
      "__________\n",
      "A recent study [13] incorporated phased SNV-level information into a gene-level statistical model, allowing for extra variability due to alternative splicing effects on allelic ratios at individual SNVs. Most published studies either tested ASE at the SNV-level, sometimes requiring agreement across SNVs within a gene [3,6,7,10,12,17,18], or used available phasing information to sum reads across SNVs [4].\n",
      "__________\n",
      "However, the ability to phase common SNPs into individual haplotypes, whether based on previous knowledge or a statistical method, does not apply to somatic mutations in cancer. In some cases, population genetics-based approaches and existing databases can be used to phase common single nucleotide polymorphisms (SNPs) [20].\n",
      "__________\n",
      "When phasing information is present, MBASED takes advantage of it to increase the power of ASE detection. MBASED assesses ASE by combining information across individual heterozygous SNVs within a gene without requiring a priori knowledge of haplotype phasing; therefore, it can be applied to a wide array of existing RNA-Seq data sets, most of which do not have phasing information available.\n",
      "__________\n",
      "We found a number of mutations with known or suspected roles in cancer, including L858R mutation in EGFR and several G12A and G12C mutations in KRAS, to exhibit overexpression of the mutant allele, highlighting potential ASE contribution to cancer phenotypes. Numerous instances of genes with recurrent ASE in cancer were attributed to recurrent genomic alterations involving known cancer genes, for example, TP53 and KRAS.\n",
      "__________\n",
      "__________\n",
      "This score is then used to obtain an estimate of underlying allelic imbalance. Phased counts from the ‘major’ haplotype are transformed into normally distributed scores, and scores from individual SNVs are combined into a single gene-level score using a meta-analytic approach.\n",
      "__________\n",
      "The two-sample approach is similar and is described in the text. Overview of MBASED algorithm (one-sample analysis).\n",
      "__________\n",
      "MBASED treats this problem in an asymmetric way, by designating one of the two samples as the sample of interest, for example, tumor sample in a tumor versus normal comparison. In two-sample ASE analysis, the goal is to detect differential allelic imbalance between paired samples from the same individual.\n",
      "__________\n",
      "In such cases, MBASED phases alleles at individual SNVs into two haplotypes based exclusively on the sample of interest (tumor, in this case). If true haplotypes are unknown, then for any gene that exhibits tumor-specific ASE, only the tumor read counts are informative for separating haplotypes into ‘major’ and ‘minor’.\n",
      "__________\n",
      "If normal-specific ASE is under study, for example, when investigating loss of imprinting, then the normal sample can be designated as the sample of interest. In such cases, MBASED phases alleles at individual SNVs into two haplotypes based exclusively on the sample of interest (tumor, in this case).\n",
      "__________\n",
      "This approach views the true unobserved treatment effect (in our case, ASE) at each observational unit of a common phenomenon (SNVs of a gene) as a random variable with a common mean. We adopt the approach of DerSimonian and Laird [21] in establishing a meta-analysis framework for combining information across SNVs.\n",
      "__________\n",
      "Q measures the observed extent of inter-SNV variability of ASE within a single gene (heterogeneity). Within this framework, MBASED also reports the P-value corresponding to the constancy of the treatment effect statistic, Q, for multi-SNV genes in both one-sample and two-sample analyses.\n",
      "__________\n",
      "When supplied with the values of probabilities of observing each allele at individual SNVs under conditions of no ASE, MBASED can incorporate such pre-existing biases into its estimates of ASE (Supplementary methods in Additional file 1), and we further provide functionality to estimate these probabilities from the data set itself. We refer to such cases as instances of pre-existing allelic bias.\n",
      "__________\n",
      "The stratification was done to ensure that we tested MBASED across a variety of settings. Briefly, we divided all tested genes in the sample into 25 strata based on 5 levels of each of the 2 covariates of interest: the number of SNVs in a gene (1, 2, 3, 4, or 5+) and the average coverage of SNVs in a gene (10 to 20, 20 to 30, 30 to 40, 40 to 50, or 50+ reads/SNV).\n",
      "__________\n",
      "__________\n",
      "Performance of MBASED on simulated data in two-sample analysis. MBASED performs well at higher coverage levels and higher ASE extent, but its power is limited for the low-coverage, low-signal scenarios.\n",
      "__________\n",
      "We also tested the performance of MBASED in the setting of pre-existing allelic bias, by assuming that at each SNV under conditions of no ASE the probability of observing reference allele count, P, was >0.5 (global reference bias). We conclude that the MBASED method is robust in detecting ASE genes in samples with unknown true haplotypes, with detection power increasing with observed gene coverage and the number of detected heterozygous SNVs in a gene.\n",
      "__________\n",
      "We pre-processed the data analogously to other samples in our panel (Materials and methods) and applied MBASED both with (‘phased’) and without (‘non-phased’) specifying the true haplotypes. We obtained previously published lymphoblastoid cell line RNA-Seq data and a list of phased genomic variants for (non-cancer) individual NA12878, genotyped together with both parents as part of the 1000 Genomes Project [12].\n",
      "__________\n",
      "The small number of observed discrepancies was due to higher power of MBASED to detect ASE in general, and isoform-specific ASE in particular, when true haplotypes are known. Using the cutoffs of 0.7 on estimated MAF and 0.05 on adjusted P-value, MBASED found 110 genes to show ASE in the ‘phased’ setting and 115 genes in the ‘non-phased’ setting, of which 108 were in common, indicating a high degree of consistency (Figure S7 in Additional file 1; Additional file 2).\n",
      "__________\n",
      "A detailed discussion of the observed differences between running MBASED with and without prior knowledge of true haplotypes is provided in the Supplementary discussion in Additional file 1. The small number of observed discrepancies was due to higher power of MBASED to detect ASE in general, and isoform-specific ASE in particular, when true haplotypes are known.\n",
      "__________\n",
      "All genes with adjusted inter-SNV ASE variability P-value ≤0.05 were flagged as possibly subject to isoform-specific ASE effects. This assignment provided one way of determining a set of genes in which to further characterize ASE in downstream analysis.\n",
      "__________\n",
      "Further details of the analysis pipeline are provided in Materials and methods, and the full results of MBASED application to the samples in our panel are available in Additional files 4 and 5. All genes with adjusted inter-SNV ASE variability P-value ≤0.05 were flagged as possibly subject to isoform-specific ASE effects.\n",
      "__________\n",
      "Summary of ASE extent in the studied samples. All genes found to be ASE in one-sample analysis are broken down into genes that are (a) not tested in a two-sample comparison (due to lack of common sufficiently covered SNVs, gray), (b) found to show ASE in two-sample comparison (red), and (c) not found to show ASE in two-sample comparison (black).\n",
      "__________\n",
      "Across our 32 samples, we found that in one-sample MBASED analysis 22 out of 2,080 ASE genes with multiple heterozygous SNVs showed evidence of isoform-specific ASE. This observation may be due to incompleteness of the current set of gene models or to the variance of SNV-level measures of ASE in those genes exceeding what is allowed by our statistical model.\n",
      "__________\n",
      "__________\n",
      "The vast majority of ASE genes in tumor tissue samples from NSCLC individual 2 (second from left) fall into CN-neutral, no-AI regions, but the sample exhibits ASE levels comparable to the other two NSCLC patients (compare Figure 4B). The large extent of ASE genes in regions of CN loss in tissues is most likely explained by heterozygosity detection due to normal tissue admixture.\n",
      "__________\n",
      "__________\n",
      "Genes are grouped by chromosome (rightmost column) and ordered top-to-bottom in order of chromosomal location. We require that the ASE occurs in at least 4/18 cell lines and does not occur in any of the 7 normal samples (to exclude, for example, imprinted genes).\n",
      "__________\n",
      "Affected domain: based on canonical RefSeq transcript information and UniProt annotation. ): MBASED-derived estimate of major haplotype frequency and the corresponding (adjusted) P-value.\n",
      "__________\n",
      "The FAT domain is a binding site for the mTOR inhibitor DEPTOR [28], suggesting that this mutation might also be constitutively activating. We also observed the over-representation of known activating mutation L858R in the kinase domain of EGFR (as well as a novel mutation in the same domain in the same individual), and a mutation in the FAT domain of mTOR, a major regulator of cell-signaling pathways.\n",
      "__________\n",
      "It is possible that in such cases the mutation was crucial to early oncogenic processes, but that at later stages of tumor evolution the dependence of the cells on the mutant form of the protein was reduced. We observed some instances where the mutations expected to contribute to the cancer phenotype were underexpressed.\n",
      "__________\n",
      "In some cases, including both female tumor tissue samples, this elevated rate could be attributed to underlying CN alterations. On the other hand, all female cancer samples (after excluding H2009) showed high rates of ASE on chromosome X (54 to 100% of tested genes).\n",
      "__________\n",
      "For the eight liver tissue samples we have examined, which had the highest levels of both WGS and RNA-Seq coverage among our samples, 45% to 55% of the genes were multi-SNV, and we expect these higher percentages to be typical of all deeply sequenced samples. In our study, a high fraction of genes showed evidence of more than one heterozygous expressed SNV, highlighting the importance of having an information aggregation framework.\n",
      "__________\n",
      "While the haplotype reconstruction approach employed by MBASED is far from robust, the use of internal simulations allows the assignment of proper statistical significance to the resulting estimates of ASE. A main advantage of MBASED is that it does not rely on known phasing information and is therefore capable of using both SNPs and mutations in the analysis.\n",
      "__________\n",
      "Further, out of 115 genes declared to exhibit ASE when haplotypes are withheld, only 7 are not supported when haplotype information is taken into account. Using a sample with known haplotypes as a control, we find that running MBASED without supplying the haplotype information leads to correct haplotype recovery for 40/41 multi-SNV ASE genes.\n",
      "__________\n",
      "The meta-analytic approach taken by MBASED also allows the user to detect instances of isoform-specific ASE. The latter functionality allows the user to, for example, identify differential ASE in tumor/normal comparisons, or to detect instances of ASE not attributable to DNA copy number changes in RNA versus DNA allelic comparisons.\n",
      "__________\n",
      "We discovered evidence for significant preferential expression of the activating allele in known oncogenes (for example, KRAS and EGFR). The ability of MBASED to include somatic mutations in the ASE analysis allowed us to look in depth at the expression patterns of mutant alleles.\n",
      "__________\n",
      "In the case of KRAS, we observed significant mutant allele overexpression in three out of five mutated samples, with another sample showing borderline significance, suggesting that the overexpression might be the result of positive selection in tumor evolution. We discovered evidence for significant preferential expression of the activating allele in known oncogenes (for example, KRAS and EGFR).\n",
      "__________\n",
      "Our analysis shows that in almost every instance (36 out of 41), the observed significant overexpression of a mutant allele that was predicted to have functional consequences in the protein product was due to a CN change or an allelic imbalance event in the underlying genomic regions. In the case of KRAS, we observed significant mutant allele overexpression in three out of five mutated samples, with another sample showing borderline significance, suggesting that the overexpression might be the result of positive selection in tumor evolution.\n",
      "__________\n",
      "Further work is needed to clarify whether the findings reported here are a general feature of the cancer landscape, and what role ASE plays in a variety of cancer tissue types and indications. This suggests a limited role for alternative ASE mechanisms (for example, pre- or post-transcriptional suppression of transcripts carrying wild-type alleles) as drivers of overexpression events giving rise to cancer phenotype.\n",
      "__________\n",
      "We investigated those genes in more detail and discovered that we could attribute ASE recurrence to various artifacts, which we subsequently eliminated from the data (Materials and methods; Supplementary methods in Additional file 1). In an initial analysis we discovered a large number of genes that showed recurrent ASE across multiple samples, including some genes with monoallelic ASE in 20 or more samples.\n",
      "__________\n",
      "Since most of those variants are reported in dbSNP (v.132), an investigator might be led to believe that such a gene is imprinted or shows monoallelic expression in a cis-determined fashion. However, in other cases we found evidence that the detected heterozygous variants in the gene were due to the presence in the sample genome of a homologous nonexpressed region that was absent from the reference genome.\n",
      "__________\n",
      "In addition to presenting a new method for ASE detection in both one-sample and two-sample analyses, the current study presents, to the best of our knowledge, the most comprehensive look at ASE patterns in cancer to date. Therefore, the many advantages presented by the MBASED algorithm make it well-suited for the current stage of ASE studies of both normal and tumor samples.\n",
      "__________\n",
      "We performed RNA-Seq (75 or 76 bp paired-end) using Illumina GA-IIx for all samples, and the resulting short reads were aligned to the hg19 version of human genome using the GSNAP algorithm [38]. All 32 samples have been previously published [31,37].\n",
      "__________\n",
      "CN and AI information on the 18 cell lines was assayed with Illumina OMNI 2.5 M SNP array and processed with a modified version of PICNIC algorithm [37]. All duplicate reads have been reduced to a single copy in order to avoid the detection of spurious ASE due to biases in PCR amplification steps of sequencing protocol.\n",
      "__________\n",
      "For each sample, we obtained a list of called SNVs from the output of the Complete Genomics processing pipeline and tabulated the reference and alternative allele counts at each SNV from the aligned DNA and RNA reads. If multiple SNVs were overlapped by common WGS or RNA-Seq reads, they were merged into a single locus to ensure that the observed read counts at individual SNVs (loci) of a gene were independent, as required by the statistical model.\n",
      "__________\n",
      "A number of authors have reported the existence of false positive ASE calls produced by various biases in short read aligners [3,4]. The selfChain alignments and DGV variants were downloaded from the UCSC Genome Browser database [44] on 29 November 2012.\n",
      "__________\n",
      "Phased genomic variants in hg19 coordinates were downloaded from [46]. Since all sequencing was done on the same Illumina flow cell, the individual lane sequencing results were pooled.\n",
      "__________\n",
      "We parametrize the beta-binomial model in terms of the mean parameter μ and overdispersion parameter ρ. We use a beta-binomial model as an alternative to a standard binomial model in order to incorporate extra-binomial dispersion observed in RNA-Seq data [13].\n",
      "__________\n",
      "Under the null hypothesis of no ASE, we have p = 0.5, and a nominal meta-analysis-derived P-value is assigned to observed z, based on the known mean and variance of corresponding random variable Z. A gene-level ‘average’ FT value, z, is obtained as the inverse-variance-weighted average of SNV-level FT values z.\n",
      "__________\n",
      "This straightforward application of meta-analysis needs to be modified in order to be used by MBASED, when the true underlying haplotypes are unknown. Instead, the correct distribution is that of\n",
      "__________\n",
      "Similar to the multi-SNV scenario, we treat this MAF estimate as a statistic and estimate its null distribution through simulations. This leads to a natural MAF estimate x/n.\n",
      "__________\n",
      "With a large number of simulations, the resulting ASE P-value p can become arbitrarily close to the P-value from the two-sided binomial exact test. Similar to the multi-SNV scenario, we treat this MAF estimate as a statistic and estimate its null distribution through simulations.\n",
      "__________\n",
      "We choose as our measure of ASE the haplotype frequency difference: We assume that SNV-level counts within a gene are independent, and we further assume that SNV-level counts are independent between the two samples.\n",
      "__________\n",
      "__________\n",
      "We then estimate ASE using the meta-analysis procedure and treating ‘major’ haplotype as the tested ‘haplotype 1’. The phasing is the same for both samples to ensure that we are comparing the same haplotypes and is based on the tumor because it should be more informative in the cases of true tumor-specific ASE.\n",
      "__________\n",
      "Note that using MBASED to detect tumor-specific ASE may also uncover some instances of normal-specific ASE. We stress, however, that the proper way to identify such genes is by treating the normal sample as the sample of interest.\n",
      "__________\n",
      "We implemented the one- and two-sample analyses described above in the R package MBASED. Further details are available in Supplementary methods in Additional file 1 and the package vignette.\n",
      "__________\n",
      "However, this latter approach requires that both DNA and RNA-Seq data sets be produced under very similar conditions to avoid any systematic biases. If desired, a two-sample comparison can be performed by treating the RNA-Seq data as ‘tumor’ and DNA data as ‘normal’ to identify instances of allelic imbalance in the transcriptome not accounted for by the genomic allelic imbalance.\n",
      "__________\n",
      "Similarly, user-supplied data can be used to estimate overdispersion at each SNV (or the values of the overdisperson parameter of beta-binomial distribution can be directly supplied). Optionally, MBASED will estimate pre-existing allelic bias at each SNV from the data supplied by the user (or use directly supplied values) to properly adjust the reported effect size estimates and P-values.\n",
      "__________\n",
      "To declare a gene to be exhibiting ASE, we set the cutoffs on both statistical significance and the estimated extent of ASE (effect size). Within each sample (or a pair of samples in the case of tumor-normal comparisons) only the genes containing at least one heterozygous exonic SNV passing our filtering criteria were tested for ASE.\n",
      "__________\n",
      "For each SNV in the ASE true negative genes, we simulated reference allele counts from the distribution: Within each stratum, we randomly assigned a specified fraction f of the genes (for example, 25%) to be ASE true positives, and the rest of the genes were assigned to be ASE true negatives.\n",
      "__________\n",
      "The SNP array data for lung cancer cell lines is available from NCBI GEO [50] under accession number GSE40908. All 18 lung cancer cell lines and 3 paired tumor-normal NSCLC tissue samples have been previously published [37], and the sequencing data (WGS and RNA-Seq) are available from the NCBI database of Genotypes and Phenotypes (dbGaP) [49] under accession number phs000299.\n",
      "__________\n",
      "A common simplifying assumption is that a TFBS regulates its closest gene. Furthermore, relating a TFBS to the gene(s) it regulates presents additional challenges in predicting cis-regulatory mutations impacting gene expression.\n",
      "__________\n",
      "In this study, we propose that direct measurements of cis-regulatory mutations and gene expression in the same tumor samples will optimally identify mutations in TFBSs impacting the gene expression program in cancer cells. This first approximation does not consider distal regulation; however, recent analyses of chromatin immunoprecipitation coupled to high-throughput sequencing data sets [22] (the so-called chromatin immunoprecipitation sequencing or ChIP-seq procedure) showed there was accurate prediction of TF gene targets using this approach [23].\n",
      "__________\n",
      "We identified cancer-specific somatic mutations across the genome, considering single nucleotide variants (SNVs) and small insertions and deletions (indels) and centered our analysis on cis-regulatory elements corresponding to TFBSs predicted within TF-bound regions delineated as ChIP-seq peaks. We focused on two cohorts of patients with B-cell lymphomas (BCLs) [25,26], for which 84 trios (the cancer genomes, matched patient normal genomes and RNA expression from RNA-sequencing (RNA-seq)) were analyzed.\n",
      "__________\n",
      "Mutations in cis-regulatory elements were frequent, and high-quality candidates in the regulatory set were observed to target genes mutated in the coding space in other samples. Integrative analysis of the mutations and gene expression data from RNA-seq highlighted candidate regulatory-disrupting variations as potentially altering expression of genes involved in cancer development.\n",
      "__________\n",
      "The distribution of mutations and mutation types over the samples followed a similar pattern in the data sets from the two cohorts including the maximum number of mutations, >30,000 (Figure 1 and Additional file 1: Figure S1). In aggregate, we observed 406,611 SNVs (from 146 to 31,874 per sample; mean=10,165, median=7,821 and standard deviation (sd)=6,995) and 15,739 indels (from 65 to 4,810 per sample; mean=393, median=222 and sd=735) in samples from cohort 1 and 282,636 SNVs (from 1,242 to 37,987 per sample; mean=6,424, median=3,577 and sd=7,165), and 8,080 indels (from 67 to 871 per sample; mean=184, median=136 and sd=142) in samples from cohort 2 (Figure 1).\n",
      "__________\n",
      "Namely, Burkitt lymphomas harbored fewer mutations than follicular lymphomas, while DLBCLs harbored the highest number of mutations, consistent with the number of mutations observed within cohort 1 (Figure 1). Histological types from cohort 2 clustered by the number of mutations.\n",
      "__________\n",
      "Sample names on the x-axis are color-coded by tumor subtype: Burkitt lymphomas (green), diffuse large B-cell lymphomas (DLBCLs, black), primary mediastinal large B-cell lymphomas (PMBCLs, gray) and follicular lymphomas (FLs, red). (B) The same type of distribution for the samples in cohort 2.\n",
      "__________\n",
      "__________\n",
      "Local mutation rates in TFBSs and exons were found to be similar to their flanking regions for indels (Additional file 1: Figure S3). The difference observed for cohort 2 is consistent with the above stated comparison of TFBS and exon SNV mutation rates.\n",
      "__________\n",
      "Namely, 135 mutations in frequently targeted regions were ≤2 kb away from a protein-coding gene’s transcription start site (TSS) using the samples from cohort 1 (representing approximately 49% of all 273 mutations found in frequently targeted regions, P=1.16×10−75, hypergeometric test with 680 mutations overlapping TFBSs in promoters out of 8,185 in TFBSs). Frequently mutated regions are significantly enriched for promoters of protein-coding genes (Figure 4).\n",
      "__________\n",
      "Our data indicated for the first time that ID3 (recurrently mutated in Burkitt lymphomas [26]) can be targeted through TFBS mutations in its promoter region. Six of these genes (ARID2, BCL2L11, EPS15, IL2R1, NEDD9 and ZNF860) were exclusively mutated in their promoters (that is, no mutations in exons were observed).\n",
      "__________\n",
      "Four of the enhancers targeted in cohort 1 are intronic enhancers for the genes BCL2, BCL7A, BIRC3 and ST6GAL1 while the fifth is located in the intergenic region between BCL6 and LPP. Mutations in frequently targeted regions overlapped five enhancers in cohort 1 and five enhancers in cohort 2 (there were two enhancers in common: intronic enhancers of BIRC3 and ST6GAL1).\n",
      "__________\n",
      "We identified enrichment (adjusted P<0.05) for apoptotic processes (Figure 5 and Additional file 2) including apoptosis, regulation of the B-cell apoptotic process and cell-type-specific apoptotic processes. Both cohorts were analyzed separately (genes from Figure 4A,B) and combined (genes from Figure 4C).\n",
      "__________\n",
      "We used a novel probabilistic model, called xseq [32], to relate specific mutations to expression disruption in pathways (see ‘Materials and methods’). We next assessed the impact of cis-regulatory mutations on gene expression.\n",
      "__________\n",
      "The approach assesses the likely association of the presence of mutations with observed deviations from neutral expression measurements taken from the same tumor. We used a novel probabilistic model, called xseq [32], to relate specific mutations to expression disruption in pathways (see ‘Materials and methods’).\n",
      "__________\n",
      "xseq was originally developed for genes harboring mutations in their protein-coding exons only. The method takes as input a patient-gene expression matrix and a binary patient-gene mutation matrix and outputs the probabilities that: (a) a mutated gene (over the whole patient population) impacts gene expression and (b) a patient-specific mutated gene impacts expression in the patient.\n",
      "__________\n",
      "Here, we extended xseq to highlight cis-regulatory mutations potentially deregulating transcriptional regulation. xseq was originally developed for genes harboring mutations in their protein-coding exons only.\n",
      "__________\n",
      "We encoded a gene as mutated in the patient-gene mutation matrix when it was the closest gene to a cis-regulatory mutation and it was up- or down-regulated in the mutated sample compared to other samples. Here, we extended xseq to highlight cis-regulatory mutations potentially deregulating transcriptional regulation.\n",
      "__________\n",
      "With the applied criteria, a TFBS was associated with a single gene but a gene might be associated with several TFBSs. We encoded a gene as mutated in the patient-gene mutation matrix when it was the closest gene to a cis-regulatory mutation and it was up- or down-regulated in the mutated sample compared to other samples.\n",
      "__________\n",
      "To provide xseq with a complete view of mutated genes, we incorporated both genes mutated in their protein-coding regions and genes showing altered expression associated with mutations in their regulatory regions (Additional file 1: Figure S4 and ‘Materials and methods’). With the applied criteria, a TFBS was associated with a single gene but a gene might be associated with several TFBSs.\n",
      "__________\n",
      "By combining these tagged genes with expression data from RNA-seq, we used xseq to predict candidate mutated genes associated with altered expression and linked to genes in biological networks harboring altered expression in the same samples. To provide xseq with a complete view of mutated genes, we incorporated both genes mutated in their protein-coding regions and genes showing altered expression associated with mutations in their regulatory regions (Additional file 1: Figure S4 and ‘Materials and methods’).\n",
      "__________\n",
      "The sets of genes captured by xseq along with their deregulated neighbors were enriched for pathways related to cancer and cancer development (Figure 7A,B,C,D and Additional file 2). The same analysis applied to cohort 2 samples led to 1,533 deregulated biological network genes connected to the 52 xseq-predicted genes with altered expression associated with mutations (Figure 6B).\n",
      "__________\n",
      "__________\n",
      "xseq-predicted genes along with their neighbors in biological pathways showing altered expression were derived from the xseq analyses (see ‘Materials and methods’ and Additional file 2). Functional enrichment analyses of disrupted pathways.\n",
      "__________\n",
      "Ranking the predicted genes by the number of samples in which they were dysregulated highlighted known cancer driver genes such as MYC, TP53, ID3 and BCL6 (Figure 6). In all of the 11 samples, MYC up-regulation was observed (Additional file 1: Figure S5), in agreement with the oncogene function of MYC in cancers [33].\n",
      "__________\n",
      "Burkitt lymphomas tended to be segregated from the other types of BCLs where MYC was predicted as a mutated gene with altered expression. Ranking the predicted genes by the number of samples in which they were dysregulated highlighted known cancer driver genes such as MYC, TP53, ID3 and BCL6 (Figure 6).\n",
      "__________\n",
      "For ID3, gene expression alteration was associated with a mutation in a TFBS in the SA320932 sample whereas it was associated with mutations in the exons in the two other samples (SA321012 and SA320818) (Figure 6B). For instance, HAS2 and ZFP36L1 in the cohort 1 data set and MYC and BCL6 in the cohort 2 data set were associated with mutations either in the cis-regulatory or the protein-coding spaces.\n",
      "__________\n",
      "These results demonstrated that interpretation of mutations in cancer genomes will be substantially enhanced by consideration of mutations impacting cis-regulatory regions and with joint analysis of gene expression data acquired from the same tumor tissue. Whole-genome sequencing data from lymphoma samples indicated somatic mutations impacting TFBSs and events associated with alteration in transcription.\n",
      "__________\n",
      "We used manually curated TF binding profiles from the JASPAR database to predict TFBSs within regions bound by ChIP’ed TFs. Our approach relied on high-quality annotations of the cis-regulatory space, capitalizing on the availability of a large volume of experimentally derived TF-DNA interactions from ChIP-sequencing.\n",
      "__________\n",
      "However, we can expect that the robustly annotated regulatory space of the human genome will grow over the coming years with the availability of more antibodies, decreasing costs and broader coverage of cell types. The set of predicted TFBSs covered approximately 2% of the human genome, a similar proportion to the coding regions, and harbored lower SNV mutation rates than their surrounding regions.\n",
      "__________\n",
      "The mutation might then provide an advantage for STAT5 binding at this location. A hypothesis is that competition between STAT3 and STAT5 occurs at this binding site, since they recognize similar motifs and a previous study highlighted that STAT5 outcompetes STAT3 for repressing the expression of BCL6 [38].\n",
      "__________\n",
      "We took a naive approach in this study to associate mutations/cis-regulatory elements with a gene. We showed that some genes have been predicted in multiple samples using different mechanisms of dysregulation through either protein-coding or TFBS alterations.\n",
      "__________\n"
     ]
    }
   ],
   "source": [
    "res = es.search(index=\"twosent\", body={\"query\": {\"match_all\": {}}}, size = 100)\n",
    "print(\"Got %d Hits:\" % res['hits']['total'])\n",
    "for hit in res['hits']['hits']:\n",
    "    if 'the' in hit['_source']['content.chapter.sentpositive']:\n",
    "        print(hit['_source']['content.chapter.sentpositive'])\n",
    "    print('_'*10)"
   ]
  },
  {
   "cell_type": "code",
   "execution_count": 14,
   "metadata": {},
   "outputs": [
    {
     "name": "stdout",
     "output_type": "stream",
     "text": [
      "Got 0 Hits:\n"
     ]
    }
   ],
   "source": [
    "res = es.search(index = \"ir\", body = {\"query\": {\"match\": {\"_id\" : \"PMC4303232\"}}}, size = 200)\n",
    "\n",
    "print(\"Got %d Hits:\" % res['hits']['total'])\n",
    "for hit in res['hits']['hits']:\n",
    "    print(hit[\"_id\"])"
   ]
  },
  {
   "cell_type": "code",
   "execution_count": 24,
   "metadata": {},
   "outputs": [
    {
     "name": "stdout",
     "output_type": "stream",
     "text": [
      "Got 7 Hits:\n",
      "PMC_1851393 Risk of second primary cancer in men with breast cancer 3.4148667\n",
      "PMC_4165366 MBASED: allele-specific expression detection in cancer tissues and cell lines 2.2526138\n",
      "PMC_4681452 Erratum to: The UBC-40 Urothelial Bladder Cancer Cell Line Index: a genomic resource for functional studies 1.5718848\n",
      "PMC_1175056 Relationship of patients' age to histopathological features of breast tumours in  BRCA1  and  BRCA2  and mutation-negative breast cancer families 1.4536651\n",
      "PMC_5387009 Prognosis of residual axillary disease after neoadjuvant chemotherapy in clinically node-positive breast cancer patients: isolated tumor cells and micrometastases carry a better prognosis than macrometastases 1.3517907\n"
     ]
    }
   ],
   "source": [
    "res = es.search(index = \"ir\", body = {\"query\": {\"match\": {\"title\" : \"cancer\"}}}, size = 5)\n",
    "\n",
    "print(\"Got %d Hits:\" % res['hits']['total'])\n",
    "for hit in res['hits']['hits']:\n",
    "    print(hit[\"_id\"], hit['_source']['title'], hit['_score'])"
   ]
  },
  {
   "cell_type": "code",
   "execution_count": 17,
   "metadata": {},
   "outputs": [
    {
     "name": "stdout",
     "output_type": "stream",
     "text": [
      "Got 1 Hits:\n",
      "PMC_3492105 Extreme genetic diversity in the lizard  Atlantolacerta andreanskyi  (Werner, 1929): A montane cryptic species complex\n"
     ]
    }
   ],
   "source": [
    "res = es.search(index = \"ir\", body = {\"query\": {\"match\": {\"title\" : \"genetic\"}}}, size = 5)\n",
    "\n",
    "print(\"Got %d Hits:\" % res['hits']['total'])\n",
    "for hit in res['hits']['hits']:\n",
    "    print(hit['_id'], hit['_source']['title'])"
   ]
  },
  {
   "cell_type": "code",
   "execution_count": 18,
   "metadata": {
    "scrolled": true
   },
   "outputs": [
    {
     "name": "stdout",
     "output_type": "stream",
     "text": [
      "Got 1 Hits:\n",
      "PMC_3078863 Rapid obtention of stable, bioluminescent tumor cell lines using a tCD2-luciferase chimeric construct\n",
      "____________________________________________________________________________________________________\n"
     ]
    }
   ],
   "source": [
    "res = es.search(index = \"ir\", body = {\"query\": {'query_string' : {\n",
    "                                        'query': '*onstruct*',\n",
    "                                        'fields': ['title']}}}, size = 20)\n",
    "\n",
    "print(\"Got %d Hits:\" % res['hits']['total'])\n",
    "for hit in res['hits']['hits']:\n",
    "    print(hit['_id'], hit['_source']['title'])\n",
    "    print('_'*100)"
   ]
  },
  {
   "cell_type": "markdown",
   "metadata": {
    "heading_collapsed": true
   },
   "source": [
    "# 5 Doc2vec Indexing"
   ]
  },
  {
   "cell_type": "code",
   "execution_count": 33,
   "metadata": {
    "hidden": true,
    "scrolled": true
   },
   "outputs": [],
   "source": [
    "from pymongo import MongoClient\n",
    "from elasticsearch import Elasticsearch\n",
    "from elasticsearch import helpers\n",
    "import nltk\n",
    "from nltk import tokenize\n",
    "import config as cfg\n",
    "\n",
    "sent_detector = nltk.data.load('tokenizers/punkt/english.pickle')\n",
    "client = MongoClient('localhost:' + str(cfg.mongoDB_Port))\n",
    "pub = client.pub.publications\n",
    "db=client.pub\n",
    "\n",
    "es = Elasticsearch([{'host': 'localhost', 'port': 9200}],timeout=30, max_retries=10, retry_on_timeout=True)\n",
    "\n",
    "# es.cluster.health(wait_for_status='yellow', request_timeout=1)"
   ]
  },
  {
   "cell_type": "code",
   "execution_count": null,
   "metadata": {
    "hidden": true
   },
   "outputs": [],
   "source": [
    "papernames=[]\n",
    "###############################\n",
    "file = open(cfg.ROOTPATH + '/data/allcorpus_papers.txt','r')\n",
    "text = file.read()\n",
    "sentences = tokenize.sent_tokenize(text)\n",
    "count = 0\n",
    "docLabels = []\n",
    "actions = []\n",
    "\n",
    "for i, sent in enumerate(sentences):\n",
    "    try:\n",
    "        neighbors = sentences[i + 1]\n",
    "        neighbor_count = count + 1\n",
    "        \n",
    "    except:\n",
    "        neighbors = sentences[i -1]\n",
    "        neighbor_count = count - 1\n",
    "\n",
    "    docLabels.append(count)\n",
    "\n",
    "    actions.append({\n",
    "       \"_index\": \"devtwosentnew\",\n",
    "       \"_type\": \"devtwosentnorulesnew\",\n",
    "       \"_id\":count,\n",
    "\n",
    "       \"_source\" : {\n",
    "           \"content.chapter.sentpositive\" : sent,\n",
    "           \"content.chapter.sentnegtive\": neighbors,\n",
    "           \"neighborcount\":neighbor_count\n",
    "       }})\n",
    "    count = count + 1\n",
    "\n",
    "print(len(sentences))\n",
    "print(len(docLabels))\n",
    "\n",
    "res = helpers.bulk(es, actions)\n",
    "print(res)"
   ]
  },
  {
   "cell_type": "markdown",
   "metadata": {
    "heading_collapsed": true
   },
   "source": [
    "# 5 Preparing doc2vec"
   ]
  },
  {
   "cell_type": "code",
   "execution_count": 112,
   "metadata": {
    "hidden": true
   },
   "outputs": [],
   "source": [
    "from pymongo import MongoClient\n",
    "from elasticsearch import Elasticsearch\n",
    "from elasticsearch import helpers\n",
    "import math\n",
    "import nltk\n",
    "import string\n",
    "import config as cfg\n",
    "sent_detector = nltk.data.load('tokenizers/punkt/english.pickle')\n",
    "\n",
    "###############################\n",
    "\n",
    "client = MongoClient('localhost:' + str(cfg.mongoDB_Port))\n",
    "db = client.pub\n",
    "pub = client.pub.publications\n",
    "es = Elasticsearch(\n",
    "    [{'host': 'localhost', 'port': 9200}], timeout=30, max_retries=10, retry_on_timeout=True\n",
    ")\n",
    "es.cluster.health(wait_for_status='yellow', request_timeout=1)\n",
    "\n",
    "list_of_pubs=[]\n",
    "\n",
    "def returnnames(mongo_string_search, db):\n",
    "    # mongo_string_search = {\"dblpkey\": \"{}\".format(dblkey)}\n",
    "    results = db.publications.find(mongo_string_search)\n",
    "    chapters = list()\n",
    "    chapter_nums = list()\n",
    "    list_of_docs = list()\n",
    "    # list_of_abstracts = list()\n",
    "    merged_chapters = list()\n",
    "    my_dict = {\n",
    "        \"_id\": \"\",\n",
    "\n",
    "    }\n",
    "    for i, r in enumerate(results):\n",
    "        # try:\n",
    "        # list_of_sections = list()\n",
    "        my_dict['_id'] = r['_id']\n",
    "        list_of_docs.append((my_dict))\n",
    "\n",
    "        my_dict = {\n",
    "            \"_id\": \"\",\n",
    "\n",
    "        }\n",
    "\n",
    "    return list_of_docs"
   ]
  },
  {
   "cell_type": "code",
   "execution_count": 113,
   "metadata": {
    "hidden": true
   },
   "outputs": [],
   "source": [
    "filter_conference = [\"WWW\", \"ICSE\", \"VLDB\", \"PVLDB\", \"JCDL\", \"TREC\",  \"SIGIR\", \"ICWSM\", \"ECDL\", \"ESWC\"]\n",
    "\n",
    "for booktitle in filter_conference:\n",
    "    mongo_string_search = {'$and': [{'booktitle': booktitle}, {'content.fulltext': {'$exists': True}}]}\n",
    "    list_of_pubs.append(returnnames(mongo_string_search, db))"
   ]
  },
  {
   "cell_type": "code",
   "execution_count": 114,
   "metadata": {
    "hidden": true
   },
   "outputs": [],
   "source": [
    "mongo_string_search = {'$and': [{'domain': 'Biomedical'}, {'content.fulltext': {'$exists': True}}]}\n",
    "list_of_pubs.append(returnnames(mongo_string_search, db))"
   ]
  },
  {
   "cell_type": "code",
   "execution_count": null,
   "metadata": {
    "hidden": true,
    "scrolled": true
   },
   "outputs": [],
   "source": [
    "papersText = []\n",
    "\n",
    "for pubs in list_of_pubs:\n",
    "\n",
    "    for cur in pubs:\n",
    "\n",
    "        query = {\"query\":\n",
    "            {\"match\": {\n",
    "                \"_id\": {\n",
    "                    \"query\": cur['_id'],\n",
    "                    \"operator\": \"and\"\n",
    "                }\n",
    "            }\n",
    "            }\n",
    "        }\n",
    "\n",
    "        res = es.search(index = \"ir\", body = query, size = 200)\n",
    "\n",
    "        for doc in res['hits']['hits']:\n",
    "            # sentence = doc[\"_source\"][\"text\"].replace(',', ' ')\n",
    "            fulltext = doc[\"_source\"][\"text\"]\n",
    "\n",
    "            fulltext = fulltext.translate(str.maketrans('', '', string.punctuation))\n",
    "            \n",
    "            papersText.append(fulltext.lower())\n",
    "            \n",
    "papersText = \" \".join(papersText)\n",
    "\n",
    "f1 = open(\"data/word2vecData.txt\", \"w\")\n",
    "f1.write(papersText)\n",
    "f1.close()"
   ]
  },
  {
   "cell_type": "code",
   "execution_count": null,
   "metadata": {
    "hidden": true
   },
   "outputs": [],
   "source": []
  }
 ],
 "metadata": {
  "kernelspec": {
   "display_name": "Python 3",
   "language": "python",
   "name": "python3"
  },
  "language_info": {
   "codemirror_mode": {
    "name": "ipython",
    "version": 3
   },
   "file_extension": ".py",
   "mimetype": "text/x-python",
   "name": "python",
   "nbconvert_exporter": "python",
   "pygments_lexer": "ipython3",
   "version": "3.5.2"
  }
 },
 "nbformat": 4,
 "nbformat_minor": 2
}
