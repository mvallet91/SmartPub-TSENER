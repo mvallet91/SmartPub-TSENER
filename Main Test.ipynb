{
 "cells": [
  {
   "cell_type": "code",
   "execution_count": 3,
   "metadata": {},
   "outputs": [],
   "source": [
    "%load_ext autoreload \n",
    "%autoreload 2"
   ]
  },
  {
   "cell_type": "code",
   "execution_count": 2,
   "metadata": {},
   "outputs": [],
   "source": [
    "from preprocessing import ner_training, expansion, training_data_extraction\n",
    "from postprocessing import trainingdata_generation, extract_new_entities, filtering\n",
    "from config import ROOTPATH\n",
    "from gensim.models import Doc2Vec\n",
    "from elasticsearch import Elasticsearch\n",
    "\n",
    "modeldoc2vec = Doc2Vec.load(ROOTPATH + '/models/doc2vec.model')\n",
    "es = Elasticsearch([{'host': 'localhost', 'port': 9200}])"
   ]
  },
  {
   "cell_type": "markdown",
   "metadata": {
    "heading_collapsed": true
   },
   "source": [
    "#  training_data_extraction.extract(seed)"
   ]
  },
  {
   "cell_type": "code",
   "execution_count": 85,
   "metadata": {
    "collapsed": true,
    "hidden": true
   },
   "outputs": [
    {
     "name": "stdout",
     "output_type": "stream",
     "text": [
      "Started training data extraction\n",
      "['polycomb protein eed', 'von willebrand factor', 'coagulation factor ix', 'retinol-binding protein 3', 'hepatocyte nuclear factor 3-beta', 'signal transducer and activator of transcription 5b', 'double-strand break repair protein mre11a', 'ccaat/enhancer-binding protein gamma', 'bmp4', 'bmp receptor type-1a', 'myc protein', 'transcription factor sox-5 isoform 2', 'myoblast determination protein 1', 'apolipoprotein b-100', 'interferon gamma', 'caveolin-1', 'low affinity immunoglobulin gamma fc region receptor ii-b', 'tissue-type plasminogen activator', 'vascular endothelial growth factor receptor 2', 'ccaat/enhancer-binding protein delta', 'glucose-6-phosphate 1-dehydrogenase', 'a disintegrin and metalloproteinase with thrombospondin motifs 3', 'lethalmalignant brain tumor-like protein mbt protein, h-lmbt, l3mbtl1, lmbt protein homolog, lmbt-like', 'transcription factor e2f7', 'c-reactive protein', 'lactoylglutathione lyase', 'platelet glycoprotein 4', 'neurotrophin-3', 'taste receptor type 2 member 116', 'fibronectin', 'interferon beta', 'cell cycle checkpoint protein rad17', 'collagen alpha-1 chain', 'proto-oncogene tyrosine-protein kinase mer', 'kh domain-containing, rna-binding, signal transduction-associated protein 3', 'bmp2', 'g protein-coupled receptor kinase 6', 'kit ligand', 'regulator of g-protein signaling 12', 'adenomatous polyposis coli protein', 'macrophage scavenger receptor types i and ii', 'renin-1', 'protein disulfide-isomerase', 'pendrin', 'hexokinase-2', 'nodal protein', 'glucokinase', 'visual system homeobox 1', 'cyclin-dependent kinase 5 activator 1', 'pulmonary surfactant-associated protein d', 'synaptotagmin-4', 'doublesex- and mab-3-related transcription factor 2', 'oxysterols receptor lxr-alpha', 'ets translocation variant 5', 'lactadherin', 'low affinity immunoglobulin gamma fc region receptor iii', 'interleukin-22', 'retinal pigment epithelium-specific 65 kda protein', 'carboxypeptidase z', 'aquaporin-3', 'aquaporin-5', 'lim/homeobox protein lhx2', 'myelin proteolipid protein', 'dna replication licensing factor mcm4', 'paired box protein pax-2', 'calcipressin-1', 'cyclin-h', 'twist-related protein 1', 'transcription factor sp7', 'stromelysin-1', 'glial fibrillary acidic protein', 'cone-rod homeobox protein', 'beta-1 adrenergic receptor', 'integrin beta-4', 'metallothionein-2', 'stress-70 protein, mitochondrial', 'myelin basic protein', 'aryl hydrocarbon receptor nuclear translocator', 'disintegrin and metalloproteinase domain-containing protein 22', 'lymphotactin', 'protein wnt-7a', 'eukaryotic translation initiation factor 4e', 'er lumen protein retaining receptor 2', 'calmegin', 'troponin i, fast skeletal muscle', 'villin-1', 'toll-like receptor 5', 'kh domain-containing, rna-binding, signal transduction-associated protein 1', 'tgf-beta 1', 'filensin', 'insulin-like growth factor 1 receptor', 'signal transducer and transcription activator stat', 'p-selectin', 'vesicular glutamate transporter 1 -dependent inorganic phosphate cotransporter', 'synaptotagmin-1', 'visual system homeobox 2', 'dna -methyltransferase 1', 'histone-lysine n-methyltransferase, h3 lysine-36 and h4 lysine-20 specific', 'prostaglandin g/h synthase 2', 'hepatocyte growth factor-regulated tyrosine kinase substrate', 'atp-binding cassette sub-family a member 1', 'x-linked retinitis pigmentosa gtpase regulator-interacting protein 1', 'lysozyme c-2', 'ecotropic virus integration site 1 protein', 'battenin', 'tgf-beta receptor-regulated smad protein', 'general transcription factor iih subunit 4', 'glutathione peroxidase 3', 'multidrug resistance protein 1', 'cytohesin-1', 'fatty acid synthase', 'glia-activating factor', 'dna replication licensing factor mcm8', 'tyrosine-protein phosphatase non-receptor type 22', 'h-2 class i histocompatibility antigen, q10 alpha chain', 'annexin a2', 'bmp', 'nuclear pore complex protein nup153', 'hydroxyacid oxidase 2 -2-hydroxy-acid oxidase, peroxisomal, medium-chain l-2-hydroxy acid oxidase, medium chain alpha-hydroxy acid oxidase, long-chain l-2-hydroxy acid oxidase, long chain alpha-hydroxy acid oxidase, haox2', 'signal transducer and activator of transcription 1', 'nuclear pore glycoprotein p62', 'mitogen-activated protein kinase 14', 'myoglobin', 'junction plakoglobin', 'collagen type i alpha chain', 'lamin-b2', 'branched-chain-amino-acid aminotransferase, mitochondrial', 'growth/differentiation factor 11', 'sperm-associated antigen 17', 'plasma membrane calcium-transporting atpase 1', 'cgmp-gated cation channel alpha-1', 'bdnf/nt-3 growth factors receptor', 'monocyte differentiation antigen cd14', 'transcription factor e2f4', 't-box transcription factor tbx15', 'nuclear pore complex protein nup98-nup96', 'plasminogen', 'achaete-scute 1', 'cell division protein kinase 5', 'calpain small subunit 1', 'axin-2', 'microtubule-associated protein 4', 'dna mismatch repair protein mlh3', 'galectin-3', 'annexin a5', 'serine/threonine-protein kinase 6', 'bag family molecular chaperone regulator 3', 'pygopus 2', 't-box transcription factor tbx18', 'homeobox protein rhox5', 'transcription factor e2f5', 'homeobox expressed in es cells 1', 'disintegrin and metalloproteinase domain-containing protein 9', 'matrix metalloproteinase-9', 'peroxisome proliferator-activated receptor gamma coactivator 1-alpha', 'renin-2', 'complement receptor type 1', 're1-silencing transcription factor', 'solute carrier organic anion transporter family member 1a4', 'calpain-2 catalytic subunit', 'urokinase-type plasminogen activator', 'brain-derived neurotrophic factor', 'taste receptor type 2 member 114', 'slam family member 1', 'signal transducer and activator of transcription 4', 'transcription factor sp1', 'red-sensitive opsin', 'meiotic recombination protein dmc1/lim15', 'coagulation factor xii', 'high affinity nerve growth factor receptor', 'diacylglycerol o-acyltransferase 1', 'bmp6', 'transcription factor sox-2', 'deleted in malignant brain tumors 1 protein', 'serine/threonine-protein kinase 13', 'microtubule-associated protein 2', 'maltose-binding periplasmic protein', 'chromatin assembly factor 1 subunit b', 'glycogen synthase kinase-3 beta', 'cadherin-3', 'ran-specific gtpase-activating protein', 'pr-domain zinc finger protein 1', 'ets translocation variant 4', 'sodium/glucose cotransporter 2 /glucose cotransporter 2, solute carrier family 5 member 2, low affinity sodium-glucose cotransporter', 'keratin, type i cytoskeletal 18', 'ribonuclease pancreatic', 'alkaline phosphatase, placental type', 'uracil-dna glycosylase', 'yeats domain-containing protein 4', 'synaptophysin', 'low-density lipoprotein receptor-related protein 1', 'erythroid transcription factor', 'transthyretin', 'cytotoxic t-lymphocyte protein 4', 'dna repair endonuclease xpf', 'dna repair protein xrcc2', 'golgin subfamily a member 2', 'c-x-c motif chemokine 13', 'insulin receptor', 'transcription factor gata-4', 'annexin a11', 'calbindin', 'transcription factor dp-1', 'amyloid beta a4 protein', 'placenta growth factor', 'smoothened', 'vesicular acetylcholine transporter', 'nuclear pore complex protein nup107', 'desert hedgehog protein', 'histone-binding protein rbbp4', 'vitamin k-dependent protein s', 'protein ndrg1', 'dystroglycan', 'transcription factor etv6', 'amyloid-like protein 2', 'bmp receptor-regulated smad protein', 'coagulation factor vii', 'single-strand selective monofunctional uracil dna glycosylase', 'cadherin', 'interleukin-8', 'beta-amyloid protein 42', 'nestin', 'maleylacetoacetate isomerase', 'high affinity immunoglobulin epsilon receptor subunit gamma', 'cathepsin d', 'presenilin-1', 'smad9', 'dihydrolipoyl dehydrogenase, mitochondrial', 'zinc finger protein gli3', 'dickkopf-related protein 1', 'tumor necrosis factor, tnf-like', 'peripherin-2', '3 beta-hydroxysteroid dehydrogenase/delta 5-->4-isomerase type 1', 'glycogen phosphorylase, muscle form', 'apoptosis regulator bcl-2', 'lefty 1', 'methylmalonyl-coa mutase, mitochondrial', 'growth/differentiation factor 9', 'keratin, type ii cytoskeletal 1', 'death domain-containing protein cradd', 'macrophage colony-stimulating factor 1', 'vimentin', 'transcription intermediary factor 1-beta', 'taste receptor type 2 member 103', '3-hydroxy-3-methylglutaryl-coenzyme a reductase', 'rac-alpha serine/threonine-protein kinase', 'keratin, type ii cytoskeletal 8', 'aggrecan core protein', 'glutathione reductase, mitochondrial', 'beta-3 adrenergic receptor', 'homeobox protein nkx-2.5', 'tumor protein 63', 'apoptosis regulator bax', 'cofilin-1', 'endothelial transcription factor gata-2', 'heat shock protein beta-2', 'keratin, type i cytoskeletal 14', 'beta-2 adrenergic receptor', 'collagenase 3', 'protein wnt-3a', 'retinoblastoma-like protein 1', 'transcription factor e2f6', 'otopetrin-3', 'apoptotic protease-activating factor 1', 'vj recombination-activating protein 1', 'd-like dopamine receptor', 't-box transcription factor tbx22', 'caspase-3 complex', 'suppressor of cytokine signaling 3', 'crumbs 1', 'fibroblast growth factor 8', 'cd4', 'argininosuccinate lyase', 'tartrate-resistant acid phosphatase type 5', 'dna replication licensing factor mcm7', 'calnexin', 'h/aca ribonucleoprotein complex subunit 4', 'interleukin-6', 'acyl-coa desaturase 1 -desaturase 1, stearoyl-coa desaturase 1', '3 beta-hydroxysteroid dehydrogenase/delta 5-->4-isomerase type 6', 'tissue factor', 'growth/differentiation factor 8', 'calretinin', 'glutamate receptor 1', 'syntaxin-18', 'ccaat/enhancer-binding protein epsilon', 'tgf-beta superfamily receptor type-1 )', 'transcription factor e2f1', 'fibroblast growth factor receptor 4', 'glutamate--cysteine ligase catalytic subunit', 'integrin beta-3', 'anti-muellerian hormone', 'motor neuron and pancreas homeobox protein 1', 'importin subunit beta-1', 'presenilin-2', 'caspase-3 proteolytic cleavage product', 'actin, alpha skeletal muscle', 'alpha-fetoprotein', 'protein timeless', 'tripeptidyl-peptidase 1', 'tumor necrosis factor receptor superfamily member 16', 'doublesex- and mab-3-related transcription factor c2', 'dna repair protein complementing xp-g cells', 'protein quaking', 'signal transducer and activator of transcription 2', 'brachyury protein', 'leukemia inhibitory factor', 'annexin a4', 'carnitine o-palmitoyltransferase 1, liver isoform', 'proliferating cell nuclear antigen', 'disks large-associated protein 1', 'proto-oncogene c-crk', 'complement receptor type 2', 'neural retina-specific leucine zipper protein', 'protein s100-a6', 'peroxisome proliferator-activated receptor alpha', 'proto-oncogene protein wnt-1', 'methylenetetrahydrofolate reductase', 'early endosome antigen 1', 'prolactin-3d1', 'bmp receptor type-1b', 'podoplanin', 'dna -methyltransferase 3b', 'peroxisome proliferator-activated receptor gamma coactivator 1-beta', 'fibroblast growth factor receptor 3', 'homeobox protein nanog', 'recoverin', 'smad3', 't-box transcription factor tbx1', 'cyclin-a2', 'transcription factor gata-6', 'collagen type ii alpha chain', 'intercellular adhesion molecule 1', 'medium-chain specific acyl-coa dehydrogenase, mitochondrial', 'cholecystokinin', 'cdc45-related protein', 'alpha-2-antiplasmin', 'tumor necrosis factor ligand superfamily member 4', 'g protein-activated inward rectifier potassium channel 3  channel kir3.3, potassium channel, inwardly rectifying subfamily j member 9, girk-3', 'bile salt export pump', 'heparin-binding growth factor 1', 'cbp/p300-interacting transactivator 1', 'peroxisome proliferator-activated receptor gamma', 'tgf-beta receptor type-1', 'plasminogen activator inhibitor 1', 'cell division protein kinase 4', 'ubiquitin', 'muts protein 4', 'smad1', 'transcription intermediary factor 1-alpha', 'transforming acidic coiled-coil-containing protein 1', 'transcription factor hes-1', 'short-chain specific acyl-coa dehydrogenase, mitochondrial', 'adam 10 endopeptidase', 'macrosialin', 'metal transporter cnnm1', 'thy-1 membrane glycoprotein', 'general transcription factor iih subunit 5', 'probable transcription factor pml', 'taste receptor type 2 member 117', 'cathepsin d, full-length form', 'complement decay-accelerating factor', 'protransforming growth factor alpha', 'vasopressin receptor 2', 'neural cell adhesion molecule ncam', 'protein-glutamine gamma-glutamyltransferase 2 , transglutaminase-2, transglutaminase h, tissue transglutaminase, transglutaminase c, tgc, tgase-2, tgase c', 'cytochrome b', 'tfiih basal transcription factor complex helicase xpb subunit', 'taste receptor type 2 member 120', 'nt-3 growth factor receptor', 'hypoxanthine-guanine phosphoribosyltransferase', 'prolactin', 'transcription factor e2f2', 'serum amyloid a-3 protein', 'matrilysin', 'taste receptor type 2 member 105', 'amyloid beta a4 protein sequence variant appv717f', 'homeobox even-skipped protein 1', 'dedicator of cytokinesis protein 1', 'calcium/calmodulin-dependent protein kinase type ii alpha chain', 'hexokinase-1', 's-arrestin', 'taste receptor type 2 member 106', '24-dehydrocholesterol reductase', 'pro-epidermal growth factor', 'tfiih basal transcription factor complex helicase subunit', 'apolipoprotein e', 'pou domain, class 3, transcription factor 2', 'kinesin-like protein kif3b', 'bmp receptor type-2', 'proto-oncogene protein wnt-3', 'integrin alpha-v', 'telomeric repeat-binding factor 2', 'meiotic recombination protein rec8', 'growth/differentiation factor 6', 'homeobox protein goosecoid', 'oxidized low-density lipoprotein receptor 1', 'rna-binding protein ews', 'metallothionein-4', 'crumbs protein 3', 'cysteine-rich pdz-binding protein', 'dna repair and recombination protein rad54-like', 'voltage-gated potassium channel kcnc2', 'protein wnt-4', 'neurogenin-2', 'heat shock 70 kda protein 1a', 'nitric oxide synthase, brain', 'mucin-2', 'interleukin-2 receptor subunit alpha', 'erythrocyte band 7 integral membrane protein', 'tenascin', 'homeobox protein cdx-2', 'rab proteins geranylgeranyltransferase component a 1', 'parvalbumin alpha', 'kinesin-associated protein 3', 'tgf-beta receptor type-2', 'breast cancer type 2 susceptibility protein', 'glutamate [nmda] receptor subunit epsilon-3', 'high affinity immunoglobulin epsilon receptor subunit alpha', 'beta-amyloid protein 40', 'acetylcholinesterase', 'serum albumin', 'b-cell cll/lymphoma 9 protein', 'neurogenic locus notch protein 1', 'amyloid beta a4 protein proteolytic cleavage product', 'kh domain-containing, rna-binding, signal transduction-associated protein 2', 'voltage-gated potassium channel subunit kcnq1', 'growth arrest-specific protein 6', 'connective tissue growth factor', 'c-x-c motif chemokine 11', 'dna repair protein rad51 3', 'coagulation factor xi', 'insulin-like growth factor ii', 'hexokinase-3', 'sonic hedgehog protein, full-length form', 'cdk-activating kinase assembly factor mat1', 'growth/differentiation factor 7', 'alpha-1 adrenergic receptor', 'nuclear pore complex protein nup160', 'tripartite motif-containing protein 11', 'death domain-associated protein 6', 'dynein light chain 1, cytoplasmic', 'synaptonemal complex protein 3', 'myosin-va', 'endothelin-converting enzyme 1', 'tubulin beta-3 chain', 'bmp7', 'catenin beta-1', 'bloom syndrome protein', 'prothrombin', 'superoxide dismutase [cu-zn]', 'cyclin-dependent kinase 4 inhibitor d', 'humanin', 'glycerol-3-phosphate acyltransferase 1, mitochondrial', 'hspb protein', 'dna nucleotidylexotransferase', 'long-chain specific acyl-coa dehydrogenase, mitochondrial', 'low-density lipoprotein receptor-related protein 2', 'potassium voltage-gated channel subfamily e member 1', 'ccaat/enhancer-binding protein beta', 'furin', 'pou domain, class 5, transcription factor 1', 'zinc finger protein snai1', 'peroxisome proliferator-activated receptor gamma coactivator-related protein 1', 'integrin alpha-6', 'atp synthase subunit beta, mitochondrial', 'beta adrenergic receptor', 'agouti-signaling protein', 'exportin-1', 'sterile alpha motif domain-containing protein 11', 'dna replication licensing factor mcm2', 'sorcin', 'fc receptor-like protein 3', 'calreticulin', 'synaptosomal-associated protein 25', 'apolipoprotein a-ii', 'zyxin', 'neurotrophin', '2-oxoisovalerate dehydrogenase subunit beta, mitochondrial', 'protein ajuba', 'smad5', 'dna excision repair protein ercc-1', 'lim homeobox transcription factor 1-beta', 'u6 snrna-associated sm-like protein lsm7', \"primosomal protein n'\", 'aldehyde dehydrogenase, cytosolic 1', 'smad2', 'aryl-hydrocarbon-interacting protein-like 1', 'zinc transporter 1', 'protein lin-37', 'small ubiquitin-related modifier 1', 'gastrin', 'developmental pluripotency-associated protein 5a', 'sterol regulatory element-binding protein 1', 'myocilin', 'beta-nerve growth factor', 'protein wnt-9a', 'taste receptor type 2 member 124', 'myelin-oligodendrocyte glycoprotein', 'transcription factor a, mitochondrial', 'rho guanine nucleotide exchange factor 4', 'g protein-activated inward rectifier potassium channel 4  channel kir3.4, katp-1, cardiac inward rectifier, heart katp channel, girk-4, potassium channel, inwardly rectifying subfamily j member 5, cir', 'transcription factor sox-6', 'insulin receptor-related protein', 'taste receptor type 2 member 110', 'glial cell line-derived neurotrophic factor', 'adam 8 endopeptidase', 'synaptonemal complex protein 1', 'protein wnt-9b', 'mediator of rna polymerase ii transcription subunit 31', 'heart- and neural crest derivatives-expressed protein 1', 'methyl-cpg-binding protein 2', 'nitric oxide synthase, endothelial', 'wilms tumor protein', 'thioredoxin reductase 1, cytoplasmic', 'calpastatin', 'carbonic anhydrase 2', 'huntingtin', 'e-selectin', 'bile acid receptor', 'tyrosine-protein phosphatase non-receptor type substrate 1', 'lysosome-associated membrane glycoprotein 1', 'selenoprotein w', 'zinc finger protein zfpm2', 'histone-lysine n-methyltransferase, h3 lysine-79 specific', 'ring finger protein 37', 'e3 ubiquitin-protein ligase trim33', 'c-c motif chemokine 2', 'hepatocyte nuclear factor 4-alpha', 'galactose-1-phosphate uridylyltransferase', 'paired box protein pax-3', 'ellis-van creveld syndrome protein', 'aquaporin-2', 'regulator of g-protein signaling 9', 'homeobox protein hox-b6', 'atp-dependent clp protease atp-binding subunit clpa', 'filaggrin', 'd dopamine receptor', 'metal transporter cnnm4', 'kinesin-1 heavy chain', 'disintegrin and metalloproteinase domain-containing protein 23', 'class 2 cytokine, il-10 type', 'hemoglobin subunit beta', 'trk receptor', 'lysosome-associated membrane glycoprotein 2', 'guanylyl cyclase gc-e', 'caspase-3', 'hyaluronan mediated motility receptor', 'serine/threonine-protein kinase atr', 'activin/inhibin beta a chain', 'tgf-beta 2', 'cytosolic endo-beta-n-acetylglucosaminidase', 'zinc finger protein snai2', 'guanine nucleotide-binding protein g/g/g subunit beta-3', 'microtubule-associated protein rp/eb family member 1', 'kallikrein-5', 'breast cancer type 1 susceptibility protein', 'taste receptor type 2 member 104', 'pou domain, class 4, transcription factor 3', 'tumor necrosis factor ligand superfamily member 11', 'smad protein', 'guanine nucleotide-binding protein subunit alpha-12', 'apolipoprotein a-i', 'c-jun-amino-terminal kinase-interacting protein 3', 'chromobox protein 1', 'gtpase nras', 'tryptophanyl-trna synthetase, mitochondrial trprswars2)', 'glutamate receptor 2', 'thyroid hormone receptor beta', 'general control of amino acid synthesis protein 5-like 2', 'solute carrier family 12 member 2 -chloride cotransporter 1', 'atp-binding cassette sub-family g member 8', 'microtubule-associated protein tau', 'metal transporter cnnm3', 'laminin subunit gamma-1', 'somatostatin', 'catalase', 'protein wnt-11', 'cellular tumor antigen p53', 'tumor necrosis factor receptor superfamily member 6', 'protein fosb', 'transcription factor hes-5', 'cell division protein kinase 7', 'alpha-crystallin b chain -crystallin, heat shock protein beta-5, p23', 'actin, aortic smooth muscle', 'dna repair protein xrcc1', 'carnitine o-palmitoyltransferase 2, mitochondrial', 'tropomyosin alpha-1 chain', 'sulfatase-modifying factor 1', 'ccaat/enhancer-binding protein alpha', 'coup transcription factor 2', 'protein hira', 'coagulation factor viii', 'guanylate kinase', 'crk-like protein', 'd dopamine receptor  dopamine receptor', 'uv excision repair protein rad23 b', 'insulin gene enhancer protein isl-1', 'mast cell protease 2', 'glutamate receptor 4', 'paired box protein pax-6', 'metal regulatory transcription factor 1', 'magnesium transport protein cora', 'glucokinase regulatory protein', 'wnt1-inducible-signaling pathway protein 1', 'integrin beta-1', 'serine-protein kinase atm', 'lymphoid enhancer-binding factor 1', 'calcium-binding protein 5', 'magnesium and cobalt efflux protein corc', 'involucrin', 'l-selectin', 'dna repair protein rad51 1', 'elongation of very long chain fatty acids protein 2', 'runt-related transcription factor 3', 'sonic hedgehog protein', 'dna -methyltransferase 3a', 'myogenin', '60s acidic ribosomal protein p0', 'blue-sensitive opsin', 'major prion protein', 'alpha-crystallin a chain', 'mitotic checkpoint serine/threonine-protein kinase bub1 beta', 'disintegrin and metalloproteinase domain-containing protein 12', 'troponin i, slow skeletal muscle', 'cytochrome c oxidase subunit 2', 'paired box protein pax-5', 'gtp-binding nuclear protein ran', 'beta-2-glycoprotein 1 gpi, b2gpi, anticardiolipin cofactor, activated protein c-binding protein, apo-h, apc inhibitor, beta-2-glycoprotein i, apolipoprotein h', 'pulmonary surfactant-associated protein a', 'rod outer segment membrane protein 1', 'protein-arginine deiminase type-4', 'map kinase p38', 'amyloid beta a4 protein sequence variant appkm670/671nl', 'muts protein 5', \"rod cgmp-specific 3',5'-cyclic phosphodiesterase subunit alpha\", 'parathyroid hormone-related protein', 'calmodulin', 'sumo-conjugating enzyme ubc9', 'metallothionein-1', 'nuclear receptor subfamily 0 group b member 1', 'annexin a1', 'protein unc-119 a', 'green-sensitive opsin', 'sperm protamine-p1', 'cyclin-dependent kinase inhibitor 1', 'carnitine o-palmitoyltransferase 1, muscle isoform', 'rhombotin-2', 'janus kinase', 'transferrin receptor protein 1', 'loricrin', 'neuropathy target esterase', 'hepatocyte growth factor receptor', 'early growth response protein 3', 'actin, cytoplasmic 1', 'ras-related c3 botulinum toxin substrate 1', 'cytochrome c oxidase subunit 4 isoform 1, mitochondrial', 'antigen ki-67', 'myb proto-oncogene protein', 'thyroid receptor-interacting protein 13', 'parathyroid hormone', 'nuclear respiratory factor 1', 'glucagon', 'lathosterol oxidase -sterol 5-desaturase', 'rhodopsin', 'steroid hormone receptor err1', 'histone h2a.x', 'kinesin-like protein kif15', 'animal opsins', 'adam 17 endopeptidase', 'protein wnt-7b', 'wd repeat-containing protein 1', 'fragile x mental retardation 1 protein', 'transforming acidic coiled-coil-containing protein 3', 'dna mismatch repair protein mlh1', '7-dehydrocholesterol reductase -reductase, putative sterol reductase sr-2', 'matrilin-4', 'phakinin', 'cysteine and glycine-rich protein 1', 'tight junction protein zo-1', 'keratin, type ii cytoskeletal 5', 'brca1-associated ring domain protein 1', 'gap junction beta-2 protein', 'atp synthase subunit c  sector subunit c, f-type atpase subunit c, f-atpase subunit c', \"2'-5'-oligoadenylate synthetase 1a oligo synthetase 1a, p42 oas\", 'dna-binding protein ikaros', 'annexin a7', 'somatotropin', 'myosin-viia', 'metal transporter cnnm2', 'serum amyloid p-component', 'disintegrin and metalloproteinase domain-containing protein 2', 'growth/differentiation factor 15', 'synaptic vesicle glycoprotein 2c', 'cathepsin b', 'hepatocyte growth factor', 'bifunctional polynucleotide phosphatase/kinase', 'fibroblast growth factor receptor', 'eomesodermin', '40s ribosomal protein s16', 'dna topoisomerase 2-binding protein 1', 'synaptic vesicle glycoprotein 2a', 'myosin-vi', 'general transcription factor iih subunit 2', 'bmp5', 'nuclear receptor subfamily 6 group a member 1', 'retinoic acid receptor rxr-beta', 'dna repair protein rad51 4', 'protocadherin-21', 'zona pellucida sperm-binding protein 3', 'voltage-gated potassium channel subunit kcnq4', 'peroxisome proliferator-activated receptor delta', 'transcription factor pu.1', 'homer protein 3', 'fatty acid-binding protein, brain', 'suppressor of cytokine signaling 2', 'g protein-coupled receptor kinase 4', 'cytochrome p450 7a1', 'slit 2 protein', 'tyrosinase', 'sodium/nucleoside cotransporter 2 /nucleoside cotransporter 2, solute carrier family 28 member 2, sodium/purine nucleoside co-transporter, sodium-coupled nucleoside transporter 2, hcnt2', 'dna replication licensing factor mcm3', 'osteopontin', 'neprilysin', 'small nuclear ribonucleoprotein g', 'fibroblast growth factor receptor-like 1', 'cytochrome c protein', 'transforming acidic coiled-coil-containing protein 2', 'estrogen receptor', 'glutamate [nmda] receptor subunit epsilon-1', 'pou domain, class 4, transcription factor 2', 'complement c5', 'cytochrome c oxidase assembly protein cox11, mitochondrial', 'insulin', 'disintegrin and metalloproteinase domain-containing protein 19', 'leucine-rich alpha-2-glycoprotein', 'bcl2-like apoptosis inhibitor', '3 beta-hydroxysteroid dehydrogenase/delta 5-->4-isomerase type 3', 'bcl-2-like protein 1', 'protein s100-a10', 'homeobox protein aristaless-like 4', 'egf-like module-containing mucin-like hormone receptor-like 1', 'leptin receptor', 'choline o-acetyltransferase', 'atp synthase subunit alpha, mitochondrial', 'histone arginine demethylase jmjd6', 'growth factor receptor-bound protein 2', 'insulin-like growth factor i', 'retinal guanylyl cyclase 1', 'activin receptor type-1', 'interleukin-1', 'doublesex- and mab-3-related transcription factor a1', 'very long-chain specific acyl-coa dehydrogenase, mitochondrial', 'replicative dna helicase', 'signal transducer and activator of transcription 5a', 'peptide-n-asparagine amidase', 'glutathione s-transferase mu 1', 'histone acetyltransferase pcaf', 'delta-like protein 1', 'paired mesoderm homeobox protein 1', 'carbonic anhydrase 4', 'chromobox protein 5', \"orotidine 5'-phosphate decarboxylase\", 'leptin', 'tyrosine-protein kinase 6', 'vascular endothelial growth factor receptor 1', 'retinoblastoma-associated protein', 'dna repair protein complementing xp-c cells', 'beta-secretase 1', 'kallikrein-6', 'tumor protein p73', 'mhc class ii histocompatibility antigen beta chain hla-drb4', 'cystic fibrosis transmembrane conductance regulator', 'disintegrin and metalloproteinase domain-containing protein 15', 'pygopus 1', 'zinc transporter zip10', 'calpain-1 catalytic subunit', 'disks large 1', '3 beta-hydroxysteroid dehydrogenase/delta 5-->4-isomerase type 2', 'amyloid beta a4 protein isoform app695', 'signal transducer and activator of transcription 3', 'krueppel-like factor 5', 'transcription factor sox-9', 'g1/s-specific cyclin-d1', 'c-myc protein', 'methyl-cpg-binding domain protein 1', 'chromatin assembly factor 1 subunit a', 'voltage-gated potassium channel kcnc1 isoform 2', 'disintegrin and metalloproteinase domain-containing protein 11', 'epithelial cadherin', 'activin receptor type-2b', 'cytoskeleton-associated protein 5', 'lipoamide acyltransferase component of branched-chain alpha-keto acid dehydrogenase complex, mitochondrial transferase, bckad-e2, bckade2, dihydrolipoamide acetyltransferase component of branched-chain alpha-keto acid dehydrogenase complex, branched-chain alpha-keto acid dehydrogenase complex component e2, dihydrolipoamide branched chain transacylase', 'transcription factor e2f3', 'pulmonary surfactant-associated protein c , sp5, sp-c', 'apolipoprotein a-iv', 'aquaporin-1', 'transcriptional regulator atrx', 'interferon-induced gtp-binding protein mx1', 'collagen alpha chain', 'neurofilament medium polypeptide', 'pulmonary surfactant-associated protein b , 6 kda protein, 18 kda pulmonary-surfactant protein', 'atp-binding cassette sub-family g member 5', 'ephrin type-b receptor 2', 'mucolipin-1', 'serotransferrin', 'ephrin type-a receptor 4', 'cyclic nucleotide-gated cation channel alpha-3', 'inositol 1,4,5-trisphosphate receptor type 1', 'tumor necrosis factor alpha', 'zinc finger protein gli1', 'somatostatin receptor 5', 'kinesin-like protein kif3a', 'proheparin-binding egf-like growth factor', 'homeobox protein aristaless-like 3', '2-oxoisovalerate dehydrogenase subunit alpha, mitochondrial', 'glutathione s-transferase', 'polyhomeotic-like protein 1', 'metastasis-associated protein mta1', 'ets translocation variant 1', 'dna repair protein rad51 2', 'low-density lipoprotein receptor', 'swi/snf-related matrix-associated actin-dependent regulator of chromatin subfamily b member 1', 'homeobox protein otx2', 'noggin protein', 'laminin subunit beta-2', 'n-myc proto-oncogene protein', 'ephrin receptor', 'kinesin heavy chain isoform 5c', 't-box transcription factor tbx6', 'histone-lysine n-methyltransferase hrx', 'transcription factor sox-5', 'androgen receptor', 'e3 ubiquitin-protein ligase parkin', 'semaphorin-3a', 'interleukin-10', 'emerin', 'cyclin-dependent kinase inhibitor 1b', 'sex-determining region y protein', 'homeobox protein engrailed-1', 'meiotic recombination protein spo11', 'photoreceptor-specific nuclear receptor', 'doublesex- and mab-3-related transcription factor 1', 'proteinase-activated receptor 4', 'glyceraldehyde-3-phosphate dehydrogenase', 't-cell leukemia translocation-altered gene protein', 'sterol regulatory element-binding protein 2', 'dna replication licensing factor mcm6', 'tar dna-binding protein 43', 'coagulation factor x', 'dna repair protein xrcc3', 'protein reca', 'pou domain, class 4, transcription factor 1', 'platelet endothelial cell adhesion molecule', 'mitochondrial brown fat uncoupling protein 1', 'homeobox protein msx-2', 'transcription initiation factor iib', 'activin receptor type-2a', 'e3 sumo-protein ligase ranbp2', 'mhc class ii histocompatibility antigen beta chain', 'ras-related protein rab-7a', 'runt-related transcription factor 2', 't-cell acute lymphocytic leukemia protein 1', 'atp-sensitive inward rectifier potassium channel 10  channel kir1.2, inward rectifier k channel kir4.1', 'homeobox protein msx-1', 'glutathione peroxidase 1', 'low affinity immunoglobulin gamma fc region receptor ii', 'deoxyribonuclease-1', 'neuromedin-k receptor', 'general transcription factor iih subunit 1', 'ran gtpase-activating protein 1', 'general transcription factor iih subunit 3', 'cell division cycle 7-related protein kinase', 'protein dj-1', 'cohesin subunit sa-3', 'tgf-beta', 'growth/differentiation factor 5', 'taste receptor type 1 member 3', 'e3 ubiquitin-protein ligase ubr1', 'protein kinase c alpha type', 'ephrin']\n",
      "['Genes encoding the green fluorescent protein gfp of Aequorea aequorea78  , the arylsulfatase ars gene of V. carteri77  , the hexose/H+ symporter hup1 gene of Chlorella kessleri75  , and the luciferases of Renilla reniformis rluc 79 ,80 and Gaussia princeps gluc 17 ,81 ,82 have been used successfully in volvocine algae mainly C. reinhardtii and V. carteri. Research with transgenic organisms also requires reporter genes.', 'For experiments in Eudorina  , a codon-adapted version of the G. princeps luciferase gene seemed suitable because luciferase exhibits a very high enzymatic activity even when expressed at low levels 82. Genes encoding the green fluorescent protein gfp of Aequorea aequorea78  , the arylsulfatase ars gene of V. carteri77  , the hexose/H+ symporter hup1 gene of Chlorella kessleri75  , and the luciferases of Renilla reniformis rluc 79 ,80 and Gaussia princeps gluc 17 ,81 ,82 have been used successfully in volvocine algae mainly C. reinhardtii and V. carteri.']\n",
      "[]\n",
      "[]\n",
      "['This highest scoring path yields two complete gene structures  , shown as an EVM tier at top  , corresponding to the known rice genes left LOC_Os03g15860 peroxisomal membrane carrier protein and right LOC_Os03g15870 50S ribosomal protein L4  , chloroplast precursor. The selection of exons  , introns  , and intergenic regions that define the highest scoring path is shown by the connections between exon features within the six-frame feature partition.', 'Consensus Gene Structure Prediction by EVM. This highest scoring path yields two complete gene structures  , shown as an EVM tier at top  , corresponding to the known rice genes left LOC_Os03g15860 peroxisomal membrane carrier protein and right LOC_Os03g15870 50S ribosomal protein L4  , chloroplast precursor.']\n",
      "['In contrast  , inhibition of Nodal signaling is required for the specification of human embryonic stem cells into neuroectoderm  , including the NC 30  , 31. Nicalin NCLN is a key component of a protein complex that antagonizes Nodal signaling 28  , which in vertebrates is involved in induction of the mesoderm and endoderm 29.', \"The bars from left to right correspond to the following genes: vasa  , 60S ribosomal protein L13  , vigilin  , heat shock cognate 71kda protein  , mitochondrial COI  , heat shock protein HSP-90 beta  , ADP/ATP translocase 3  , cytoplasmic actin 2  , 40S ribosomal protein 3A  , ribosomal protein L10  , 60S ribosomal protein L8  , adult-type muscle actin 2  , 60S ribosomal protein L6  , 60S fester B1-type East Coast  , fester A-type West Coast  , fester C-type East Coast  , and fester A-type East Coast. Mean Fu and Li's F* values for housekeeping genes were obtained by averaging across all six populations Falmouth  , MA  , Quissett  , MA  , Sandwich  , MA  , Monterey  , CA  , Santa Barbara  , CA and Seattle  , WA.\", 'We amplified 13 housekeeping genes 12 nuclear genes and mitochondrial cytochrome oxidase I to determine whether the pattern of population structure and the values of polymorphism statistics were specific to the fester locus. Two of the 12 nuclear loci were found in GenBank adult-type muscle actin 2  , Accession #FN178504.1 and vasa  , Accession #FJ890989.1 and the other 10 were located in our B. schlosseri EST database 40S ribosomal protein 3A  , 60S ribosomal protein L6  , 60S ribosomal protein L8  , 60S ribosomal protein L10  , 60S ribosomal protein L13  , heat shock cognate 71kda protein  , cytoplasmic actin 2  , ADP/ATP translocase 3  , heat shock protein HSP-90 beta  , and vigilin.', 'Given that certain importins the importin-β/importin-7 heterodimer and importin-9 were shown to counteract the aggregation of mammalian rpL4 in the presence of polyanions 18  , it is reasonable to speculate that these importins may fulfil a dual role as dedicated chaperone and transport receptor of rpL4 in mammalian cells. This observation suggests that Acl4 might have arisen due to the necessity to shield the more positively charged  , eukaryotic surface during transport of Rpl4 to its nuclear pre-60S assembly site.', 'Two of the 12 nuclear loci were found in GenBank adult-type muscle actin 2  , Accession #FN178504.1 and vasa  , Accession #FJ890989.1 and the other 10 were located in our B. schlosseri EST database 40S ribosomal protein 3A  , 60S ribosomal protein L6  , 60S ribosomal protein L8  , 60S ribosomal protein L10  , 60S ribosomal protein L13  , heat shock cognate 71kda protein  , cytoplasmic actin 2  , ADP/ATP translocase 3  , heat shock protein HSP-90 beta  , and vigilin. mtCOI is a gene commonly used for population structure analyses in B. schlosseri e.g.34 ,60 ,61.', 'The housekeeping genes show a pattern that contrasts with fester. The housekeeping genes are as follows: mitochondrial COI  , 40S ribosomal protein 3A  , 60S ribosomal protein L6  , 60S ribosomal protein L8  , 60S ribosomal protein L10  , 60S ribosomal protein L13  , adult-type muscle actin 2  , heat shock cognate 71kda protein  , cytoplasmic actin 2  , ADP/ATP translocase 3  , heat shock protein HSP-90 beta  , vasa  , and vigilin.', 'Sequences were edited  , trimmed and aligned with Aligner CodonCode Corporation  , Dedham  , MA. All sequences have been submitted to GenBank 40S ribosomal protein 3A: JQ596880-JQ596936  , 60S ribosomal protein L6: JQ596937-JQ597084  , 60S ribosomal protein L8: JQ597085-JQ597174  , 60S ribosomal protein L10: JQ597175-JQ597294  , 60S ribosomal protein L13: JQ597595-JQ597716  , heat shock cognate 71kda protein: JQ597295-JQ597430  , cytoplasmic actin 2: JQ597431-JQ597548  , ADP/ATP translocase 3: JQ597549-JQ597594  , heat shock protein HSP-90 beta: JQ597717-JQ597826  , adult-type muscle actin 2: JQ597827-JQ597974  , mtCOI: JN083237-JN083303  , vasa: JN083304-JN083376  , vigilin: JQ597975-JQ598070.', 'Members of the importin-β super-family have rather low overall sequence similarity but they all have a conserved N-terminal RAN-binding domain 7  , 8. The largest group of nuclear import receptors belong to the importin-β super-family.', \"Comparison of mean Fu and Li's F* between and housekeeping genes. The bars from left to right correspond to the following genes: vasa  , 60S ribosomal protein L13  , vigilin  , heat shock cognate 71kda protein  , mitochondrial COI  , heat shock protein HSP-90 beta  , ADP/ATP translocase 3  , cytoplasmic actin 2  , 40S ribosomal protein 3A  , ribosomal protein L10  , 60S ribosomal protein L8  , adult-type muscle actin 2  , 60S ribosomal protein L6  , 60S fester B1-type East Coast  , fester A-type West Coast  , fester C-type East Coast  , and fester A-type East Coast.\", 'The housekeeping genes are as follows: mitochondrial COI  , 40S ribosomal protein 3A  , 60S ribosomal protein L6  , 60S ribosomal protein L8  , 60S ribosomal protein L10  , 60S ribosomal protein L13  , adult-type muscle actin 2  , heat shock cognate 71kda protein  , cytoplasmic actin 2  , ADP/ATP translocase 3  , heat shock protein HSP-90 beta  , vasa  , and vigilin. Significant differentiation exists among populations among groups: overall Fst is significant for all loci  , and a majority of pairwise Fst values are significant.', \"Comparison of mean Tajima's D between and housekeeping genes. The bars from left to right correspond to the following genes: 60S ribosomal protein L13  , vasa  , heat shock cognate 71kda protein  , vigilin  , 60S ribosomal protein L10  , ADP/ATP translocase 3  , heat shock protein HSP-90 beta  , cytoplasmic actin 2  , 60S ribosomal protein L8  , mitochondrial COI  , 40S ribosomal protein 3A  , adult-type muscle actin 2  , 60S ribosomal protein L6  , fester B1-type East Coast  , fester A-type West Coast  , fester C-type East Coast  , and fester A-type East Coast.\", \"The bars from left to right correspond to the following genes: 60S ribosomal protein L13  , vasa  , heat shock cognate 71kda protein  , vigilin  , 60S ribosomal protein L10  , ADP/ATP translocase 3  , heat shock protein HSP-90 beta  , cytoplasmic actin 2  , 60S ribosomal protein L8  , mitochondrial COI  , 40S ribosomal protein 3A  , adult-type muscle actin 2  , 60S ribosomal protein L6  , fester B1-type East Coast  , fester A-type West Coast  , fester C-type East Coast  , and fester A-type East Coast. Mean Tajima's D values for housekeeping genes were obtained by averaging across all six populations Falmouth  , MA  , Quissett  , MA  , Sandwich  , MA  , Monterey  , CA  , Santa Barbara  , CA and Seattle  , WA.\", '60S ribosomal protein L13 shows a pattern of positive values across populations for all three statistics. Heat shock cognate 71kda protein and vasa have no pattern for Tajima’s D  , but a majority of populations have positive values for D* and F*.', \"The bars from left to right correspond to the following genes: vasa  , 60S ribosomal protein L13  , vigilin  , heat shock cognate 71kda protein  , heat shock protein HSP-90 beta  , mitochondrial COI  , ADP/ATP translocase 3  , cytoplasmic actin 2  , 40S ribosomal protein 3A  , adult-type muscle actin 2  , 60S ribosomal protein L6  , 60S ribosomal protein L10  , 60S ribosomal protein L8  , fester B1-type East Coast  , fester A-type West Coast  , fester C-type East Coast  , and fester A-type East Coast. Mean Fu and Li's D* values for housekeeping genes were obtained by averaging across all six populations Falmouth  , MA  , Quissett  , MA  , Sandwich  , MA  , Monterey  , CA  , Santa Barbara  , CA and Seattle  , WA.\", \"Comparison of mean Fu and Li's D* between and housekeeping genes. The bars from left to right correspond to the following genes: vasa  , 60S ribosomal protein L13  , vigilin  , heat shock cognate 71kda protein  , heat shock protein HSP-90 beta  , mitochondrial COI  , ADP/ATP translocase 3  , cytoplasmic actin 2  , 40S ribosomal protein 3A  , adult-type muscle actin 2  , 60S ribosomal protein L6  , 60S ribosomal protein L10  , 60S ribosomal protein L8  , fester B1-type East Coast  , fester A-type West Coast  , fester C-type East Coast  , and fester A-type East Coast.\", 'The dose-response relation was indistinguishable for purified human and nematode genomic DNA data not shown. Additionally  , purified human and nematode genomic DNA were exposed to 5  , 10  , and 20 J/m2 UVC  , and damage quantified by QPCR using either previously described human primers DNA polymerase beta 21 or nematode DNA polymerase epsilon primers.', 'The import receptors recognize the nuclear localization sequence NLS of target proteins to facilitate their transport through the NPC. Members of the importin-β super-family have rather low overall sequence similarity but they all have a conserved N-terminal RAN-binding domain 7  , 8.', 'All sequences have been submitted to GenBank 40S ribosomal protein 3A: JQ596880-JQ596936  , 60S ribosomal protein L6: JQ596937-JQ597084  , 60S ribosomal protein L8: JQ597085-JQ597174  , 60S ribosomal protein L10: JQ597175-JQ597294  , 60S ribosomal protein L13: JQ597595-JQ597716  , heat shock cognate 71kda protein: JQ597295-JQ597430  , cytoplasmic actin 2: JQ597431-JQ597548  , ADP/ATP translocase 3: JQ597549-JQ597594  , heat shock protein HSP-90 beta: JQ597717-JQ597826  , adult-type muscle actin 2: JQ597827-JQ597974  , mtCOI: JN083237-JN083303  , vasa: JN083304-JN083376  , vigilin: JQ597975-JQ598070. Sequences that were obtained by direct sequencing of PCR products all nuclear sequences minus vasa were phased in DnaSP 5.10.01\\n62.', 'An interesting  , yet puzzling observation is that the eukaryote-specific Acl4  , despite its almost essential function in yeast  , is not conserved in all evolutionary more advanced classes  , including mammals  , and also conspicuously absent from certain early evolutionary branches; thus  , indicating that other proteins may relatively easily replace Acl4. Given that certain importins the importin-β/importin-7 heterodimer and importin-9 were shown to counteract the aggregation of mammalian rpL4 in the presence of polyanions 18  , it is reasonable to speculate that these importins may fulfil a dual role as dedicated chaperone and transport receptor of rpL4 in mammalian cells.', 'The bars from left to right correspond to the following genes: fester B1-type  , fester C-type  , fester A-type  , cytoplasmic actin 2  , 60S ribosomal protein L10  , 60S ribosomal protein L13  , mitochondrial COI  , 60S ribosomal protein L8  , 60S ribosomal protein L6  , 40S ribosomal protein 3A  , ADP/ATP translocase 3  , adult-type muscle actin 2  , vigilin  , heat shock cognate 71 kda protein  , heat shock protein HSP-90 beta  , and vasa. These numbers were derived from AMOVA analyses of molecular variance  , which are presented in their entirety in Additional file\\n2.', 'Nicalin NCLN is a key component of a protein complex that antagonizes Nodal signaling 28  , which in vertebrates is involved in induction of the mesoderm and endoderm 29. The antagonizing function of Nicalin on Nodal signaling is therefore consistent with the NC specification required for ENS development.', 'Additionally  , purified human and nematode genomic DNA were exposed to 5  , 10  , and 20 J/m2 UVC  , and damage quantified by QPCR using either previously described human primers DNA polymerase beta 21 or nematode DNA polymerase epsilon primers. The nuclear target used was the DNA polymerase epsilon gene region; the mitochondrial target comprises the majority of the mitochondrial genome see Materials and methods  , below.', 'The antagonizing function of Nicalin on Nodal signaling is therefore consistent with the NC specification required for ENS development. In contrast  , inhibition of Nodal signaling is required for the specification of human embryonic stem cells into neuroectoderm  , including the NC 30  , 31.', 'Comparison of percentage of variation found within populations between and housekeeping genes.Fester types are labeled \"F\"  , and housekeeping genes are labeled \"H\". The bars from left to right correspond to the following genes: fester B1-type  , fester C-type  , fester A-type  , cytoplasmic actin 2  , 60S ribosomal protein L10  , 60S ribosomal protein L13  , mitochondrial COI  , 60S ribosomal protein L8  , 60S ribosomal protein L6  , 40S ribosomal protein 3A  , ADP/ATP translocase 3  , adult-type muscle actin 2  , vigilin  , heat shock cognate 71 kda protein  , heat shock protein HSP-90 beta  , and vasa.']\n"
     ]
    },
    {
     "name": "stdout",
     "output_type": "stream",
     "text": [
      "['PARP polyADP-ribose polymerase  , C Casp 3 cleaved caspase 3 b Lysates were harvested 2\\xa0h after lapatinib treatment and were analyzed by immunoblot with the indicated antibodies.', 'The presence of these potential anticoagulant molecules may seem at odds with the proposed coagulation effects of some of the putative platypus venom serine proteases identified above  , but there are examples in snakes where one venom contains multiple proteases with coagulant and anticoagulant effects  , or where one protease has both effects; it is thought that in these cases the concentration of toxins determines the type of effect on the victim reviewed in 28. Many snake venoms also contain serine protease inhibitors  , which affect hemostasis and produce inflammation 40; toxin kunitz-type protease inhibitors called kalicludines are also found in sea anemones 41.', 'The function of protease inhibitors in platypus venom gland is unclear  , but it is suggested that perhaps these act to inhibit the catalytic activity of proteases 29 in the venom gland  , so that their effects are only released once the venom is injected into the victim. The presence of these potential anticoagulant molecules may seem at odds with the proposed coagulation effects of some of the putative platypus venom serine proteases identified above  , but there are examples in snakes where one venom contains multiple proteases with coagulant and anticoagulant effects  , or where one protease has both effects; it is thought that in these cases the concentration of toxins determines the type of effect on the victim reviewed in 28.', 'Reduction of INa by CQ and NEM could result from interference with the trafficking of either Na+ channels or melanocortin receptors. Both CQ n\\u200a=\\u200a4 and NEM n\\u200a=\\u200a4 prevented the PKA-induced INa increase unpublished data  , supporting our conclusion that these compounds act downstream of the ACTH receptor  , i.e.  , on Na+ channels.', 'However  , the messenger RNA level of the enzyme responsible for synthesis of monounsaturated fatty acids  , stearoyl-CoA desaturase 1 SCD1  , was markedly lower in Decr mice Figure 8C. The expression level of acetyl-CoA carboxylase Acaca  , which catalyzes the first step in the fatty acid synthesis pathway  , was lower in Decr mice  , although it was not significant Figure 8C.', 'C Dose-dependent analysis of CIP2A  , p-Akt and cleaved polyADP-ribose polymerase PARP. Columns  , Mean n = 3; bars  , SD.', 'For the HSP70 data set with a fixed tree  , the BLAS and non-BLAS versions took 49 minutes and 2 hours 28 minutes  , respectively. For Acetyl-CoA carboxylase  , with the BLAS implementation  , it took 22 minutes to finish parameter optimization and obtain the final log-likelihood score whereas the non-BLAS version took 1 hour 42 minutes for the same analysis.', 'This study aims to compare the sequence of two protein-coding genes Acc1 encoding plastid acetyl-CoA carboxylase and CEN the floral developmental identity-determining gene centroradialis  , also known as terminal flower 1 obtained from all three tall fescue morphotypes  , along with some other species of section Schedonorus  , and taxa previously identified as putative diploid progenitors. As compared to the sequences that have been traditionally used for molecular evolutionary studies  , nuclear genes provide sequence evolution rates elevated in comparison to chloroplast DNA cpDNA and rDNA 55 ,56  , are biparentally inherited in contrast to cpDNA and are less frequently subjected to concerted evolution than rDNA 57.', 'E Section immunofluorescence for cilia acetylated α-tubulin and the podocyte lineage podocalyxin shows normal cilia in Bowman’s capsule cells visualized with DAPI. C-D Immunofluorescence staining for podocyte markers Wt1  , Synaptopodin and structural markers phalloidin  , laminin show no obvious misorganization in Arhgap35 glomeruli  , either pre- or post-cyst formation arrowheads.', 'PARP  , polyADP-ribose polymerase; BiP  , binding protein; ATF3  , activating transcription factor 3; LC3B  , autophagy marker light chain 3B. The indicated four breast cancer cell lines were incubated with or without 15 μg/ml nelfinavir NFV for 48 hours and were analysed by Western blots for the expression and modification of cell survival-related proteins and pathways.', 'Treatment of breast cancer cells with nelfinavir activates pleiotropic pathways. PARP  , polyADP-ribose polymerase; BiP  , binding protein; ATF3  , activating transcription factor 3; LC3B  , autophagy marker light chain 3B.', 'It has been previously shown that SERPIN inhibits KLK activity by interacting with the reactive loop  , causing an irreversible protein conformational change of KLK 27  , 28. Human KLK activity can be effectively inhibited by endogenous protease inhibitors such as serine protease inhibitors SERPINs  , serine protease inhibitors  , Kazal type SPINKs  , elafin  , and α1-antitrypsin 25  , 26.', 'Prolongation of Hand1 expression prevented the postnatal increase in expression of MCD  , ACC  , FABP  , HSL  , and CPT1a but not CPT1b or CPT2. We found that at birth  , expression of several genes encoding enzymes involved in lipid and acylcarnitine metabolism are up-regulated in the wild-type heart at p0.5  , including ACC acetyl coA carboxylase  , MCD malonyl coA decarboxylase  , and CPT isoforms carnitine palmitoyl transferase as previously reported 21–24  , along with FABP fatty acid binding protein  , FATP fatty acid transport protein  , ACSL acyl coA synthase long chain 1  , HSL hormone sensitive lipase  , and ATGL adipose triglyceride lipase Figure 3A ,B.', 'Simultaneous reduction of p110α and Vps34 reduces proliferation and sensitizes human epidermal growth factor receptor-2 positive HER2+ cells to lapatinib. PARP polyADP-ribose polymerase  , C Casp 3 cleaved caspase 3', 'Prominently upregulated members of the extracellular space class included serine protease inhibitors and cytokines. 9  , shows enrichment of regulated genes classified as belonging to the extracellular space 121 genes and lysosome 28 genes.', 'Those included kappa KOR and mu MOR opioid receptors  , dynorphin DYN  , proopiomelanocortin POMC  , melanocortin receptor-4 MC4R and melanin concentrating hormone MCH. In the three aforementioned models  , changes in expression of other reference genes known for their involvement in food intake control could be detected.', 'The E. aphyllum plastome is predicted to contain 27 unique genes  , including 17 protein-coding genes ribosomal proteins  , a subunit of a chloroplast protease clpP  , acetyl-CoA carboxylase accD  , a translation initiation factor infA  , 4 ribosomal RNA genes as well as 6 transfer RNAs. 1.', 'Amazingly  , overexpression of Flo-2 can even inhibit the global activation of the Ddc .47 and ple-WE1 wound reporters that are induced by the serine protease trypsin  , or by hydrogen peroxide. In this respect  , Flo-2 resembles the stit receptor tyrosine kinase gene  , which is both transcriptionally activated by Grh  , as well as required for grh-dependent activation of other downstream wound genes 28.', 'We found that at birth  , expression of several genes encoding enzymes involved in lipid and acylcarnitine metabolism are up-regulated in the wild-type heart at p0.5  , including ACC acetyl coA carboxylase  , MCD malonyl coA decarboxylase  , and CPT isoforms carnitine palmitoyl transferase as previously reported 21–24  , along with FABP fatty acid binding protein  , FATP fatty acid transport protein  , ACSL acyl coA synthase long chain 1  , HSL hormone sensitive lipase  , and ATGL adipose triglyceride lipase Figure 3A ,B. Using RT-PCR  , we found that XMLC2-Hand1 hearts failed to up-regulate a subset of these genes.', 'AGRP  , Agouti-related protein; DYN  , dynorphin; MC4R  , melanocortin receptor-4; NPY  , neuropeptide Y; ORX  , orexin; POMC  , proopiomelanocortin; KOR  , kappa opioid receptor; MOR mu receptor; MCH  , melanin concentrating hormone. F. Mice were deprived of food for 16 h preceding decapitation n = 8/group.', 'Exposure to palatable  , isocaloric sucrose or Intralipid for 48 h did not affect FTO expression Fig. Those included kappa KOR and mu MOR opioid receptors  , dynorphin DYN  , proopiomelanocortin POMC  , melanocortin receptor-4 MC4R and melanin concentrating hormone MCH.', 'Caspases are responsible for many of the biochemical and morphological changes that occur during apoptosis. The effector caspases 3 and 7 proteolytically cleave and activate several other caspases as well as several other apoptotic proteins  , including the DNA fragmentation protein poly-ADP-ribose polymerase PARP  , which is one of the primary activators of DNA fragmentation and cell death 32-34.', 'C-D Immunofluorescence staining for podocyte markers Wt1  , Synaptopodin and structural markers phalloidin  , laminin show no obvious misorganization in Arhgap35 glomeruli  , either pre- or post-cyst formation arrowheads. B Quantification of the average density of H&E-stained glomeruli normalized to kidney area shows no difference between control and Arhgap35 animals unpaired  , two-tailed Student’s t-test.', 'Although not common in the marine environment  , T. candoliense has also been isolated from the anoxic zone in the Arabian Sea 29 and others have been isolated from Australian coastal waters 30. T. album limber is a producer of serine protease 27  , 28.', 'Western blotting further showed upregulation of BiP and activating transcription factor 3 ATF3 in nelfinavir-treated breast cancer cells  , indicating induction of endoplasmic reticulum stress. Using the cleavage of polyADP-ribose polymerase as an indicator of apoptosis  , the specific induction of apoptosis in breast cancer cells by high nelfinavir concentrations 15 μg/ml could be confirmed Figure 4.', 'ACC  , acetyl coA carboxylase; MCD  , malonyl coA decarboxylase; FABP  , fatty acid binding protein; FATP  , fatty acid transport protein; ACSL  , acyl coA synthase long chain 1; HSL  , hormone sensitive lipase; ATGL  , adipose triglyceride lipase; ACBP  , acylcoA binding protein; CPT  , Carnitine Palmitoyl Transferase. Genes whose expression is reduced in Hand1 overexpressing hearts are in red in A.', 'The Acc1 gene is present as a single copy in Triticum wheat species on the homoeologous group 2 chromosomes 58 and has been used to achieve high phylogenetic resolution and identify the hybrid origins of a number of polyploid species 59-61. This study aims to compare the sequence of two protein-coding genes Acc1 encoding plastid acetyl-CoA carboxylase and CEN the floral developmental identity-determining gene centroradialis  , also known as terminal flower 1 obtained from all three tall fescue morphotypes  , along with some other species of section Schedonorus  , and taxa previously identified as putative diploid progenitors.', 'C RTPCR of mRNA from 2-mo-old adult XMLC2-Hand1 mice following doxycycline induction for 2 wk  , showing changes in expression of RNA encoding fatty acid metabolising proteins relative to control non-up-regulating mice *p<0.05  , **p<0.005  , two-tailed t test  , n\\u200a=\\u200a4 each group. ACC  , acetyl coA carboxylase; MCD  , malonyl coA decarboxylase; FABP  , fatty acid binding protein; FATP  , fatty acid transport protein; ACSL  , acyl coA synthase long chain 1; HSL  , hormone sensitive lipase; ATGL  , adipose triglyceride lipase; ACBP  , acylcoA binding protein; CPT  , Carnitine Palmitoyl Transferase.', 'The effector caspases 3 and 7 proteolytically cleave and activate several other caspases as well as several other apoptotic proteins  , including the DNA fragmentation protein poly-ADP-ribose polymerase PARP  , which is one of the primary activators of DNA fragmentation and cell death 32-34. Most apoptotic signals induce intracellular cleavage of caspases 3 and 7 from an inactive precursor p32–p35 to the active forms p17 and p12; hence  , these proteins are the most extensively studied apoptotic proteins.', 'For Acetyl-CoA carboxylase  , with the BLAS implementation  , it took 22 minutes to finish parameter optimization and obtain the final log-likelihood score whereas the non-BLAS version took 1 hour 42 minutes for the same analysis. To compare the speedup of PROCOV with the BLAS implementation versus the non-BLAS implementation  , we tested two protein datasets Acetyl-CoA carboxylase with 36 taxa and 212 sites and Heat shock protein 70 HSP70 with 34 taxa and 432 sites for fixed topologies  , previously inferred with PHYML 41 under JTT + Gamma  , and optimized the parameters with JTT + the general covarion model with PROCOV.', 'Antibodies against BiP H-129  , activating transcription factor 3 C-19 and β-actin C4 were from SantaCruz Biotech Heidelberg  , Germany. Antibodies against polyADP-ribose polymerase  , phospho-ERK1/2 pp44/pp42  , AKT  , phospho-AKT  , mcl-1  , IκB  , and autophagy marker light chain 3B were all purchased from Cell Signaling Technology NEB  , Frankfurt  , Germany.']\n",
      "['We examined this more closely in parental MCF-7 cells and those expressing V5-tagged HSPC111 by indirect immunofluorescence using antibodies against endogenous HSPC111 protein and the V5 tag. HSPC111 has been identified as a nucleolar protein of undefined function 26 ,27.']\n",
      "[]\n",
      "['CR performed the GFP reporter assays. TJN performed the Netrin-1 experiments.', 'For example  , locally applied nerve growth factor NGF or Netrin-1 induce de novo interstitial branch formation in cultured cortical neurons 2  , 3. In addition  , diffusible  , secreted cues also regulate neurite branching.', \"We find that the 3'UTR of β-catenin mRNA is sufficient to direct protein expression to the axon. We find that Netrin-1 induces β-catenin mediated transcriptional activity in thalamic cells and induces rapid changes in the growth cone levels of β-catenin protein.\", 'Od-netrin was first detected in a few notochord precursors at the neurula stage Additional file 5  , panel H; at the mid-tailbud/early hatchling stage and Stage 1  , notochord expression was distinctively discontinuous Figure. Proteins of the Netrin family are diffusible chemoattractants required for axon guidance in a wide variety of animals 53.', 'The development of the thalamus and its connections relies on intercellular communication mediated by secreted signalling proteins including Wnt  , Slit  , and Netrin proteins 8-19. In mice axons grow from the thalamus into the ventral telencephalon at around embryonic day E12-13 and then on to the cerebral cortex which they first reach at around E13-14 1-7.', 'For Netrin-1 free cultures  , 40% of the culture medium was replaced with fresh medium. Cultures were then exposed to Netrin-1 by replacing 40% of the culture medium with fresh culture medium supplemented with Netrin-1 R&D Systems to give a final concentration of 400 ng/ml.', 'Neurite branching is also patterned by inhibitory signals. For example  , locally applied nerve growth factor NGF or Netrin-1 induce de novo interstitial branch formation in cultured cortical neurons 2  , 3.', \"A key finding in this study is the rapid increase in the levels of β-catenin protein in thalamic growth cones in response to the axon guidance cue Netrin-1. Therefore  , while we have not directly addressed whether or not β-catenin is locally translated in thalamic growth cones in the present study  , our finding that β-catenin mRNA is present in thalamic axons and that elements in its 3'UTR assist protein expression in the thalamic axonal compartment make it a strong possibility.\", 'In contrast  , unc-5  , unc-40 and clr-1 are not elevated in larval VA motor neurons  , which consequently innervate muscles on the ventral side. The dorsal trajectory of DA motor neuron outgrowth depends on the UNC-6/netrin receptor genes  , unc-5 and unc-40  , and the receptor protein tyrosine phosphatase RPTP clr-1 gene 90 ,91  , all three of which are enriched in the embryonic A-class dataset Figure 12.', 'In order to monitor the response of thalamic cells to Netrin-1 we employed a culture system in which thalamic explants were cultured on glass coverslips and allowed to extend axons. We next asked whether Netrin-1 treatment affects growth cone β-catenin.', 'Within tunicates  , a similarly irregular pattern in notochord cells has been reported for Ciona multidom  , a Ci-Bra-downstream notochord gene that does not have counterparts in Oikopleura Additional file 1. However  , the Od-netrin pattern cannot be perfectly superimposed to the pattern seen for either of the two Od-Hox genes  , suggesting that other transcription factors and/or additional regulatory mechanisms might be modulating this peculiar expression.', \"Local translation of mRNAs in growth cones is a well established mechanism to facilitate rapid changes in growth cone protein levels in response to guidance cues including Netrin-1 so we hypothesised that thalamic axons might contain β-catenin mRNA 44-56. While the relationship between the Wnt response and β-catenin is well established  , β-catenin's relationship with Netrin-1 is not  , so we next used in vitro assays to show that Netrin-1 treatment causes an increase in levels of β-catenin protein in thalamic growth cones and induces β-catenin dependent gene expression in thalamic cells.\", 'An example of a cultured thalamic explant  , immunostained with β-catenin  , is shown in Figure 2D. In order to monitor the response of thalamic cells to Netrin-1 we employed a culture system in which thalamic explants were cultured on glass coverslips and allowed to extend axons.', 'Netrin-1 is known to be a key regulator of thalamocortical development 14 ,15. First we use in situ hybridisation  , immunohistochemistry  , and a BAT-gal reporter transgene to show that β-catenin is expressed at high levels both in cell bodies and in axons in the developing thalamus and that β-catenin mediated transcription is very active in thalamic cells at this time.', 'We used qRT-PCR to measure levels of LacZ mRNA in thalamic cultures prepared from BAT-gal embryos. First  , we hypothesised that the high levels of β-catenin mediated transcription we observed in the thalamus of BAT-gal embryos Figure 1G are contributed to by Netrin-1.', 'A In situ hybridisation for Netrin-1 mRNA purple signal on a coronal E14.5 forebrain section. Effect of Netrin-1 on thalamic cells and axons.', 'We find that Netrin-1 induces β-catenin mediated transcriptional activity in thalamic cells and induces rapid changes in the growth cone levels of β-catenin protein. We provide evidence that β-catenin mRNA and protein are expressed at high levels in mouse embryonic thalamic cells and their axons at the time connections are being formed with the cerebral cortex.', 'Our new finding that Netrin-1 can activate TCF/LEF transcription adds to these options. While a component of thalamic TCF/LEF transcription is likely a response to Wnt signalling  , Slit proteins which are also abundant in the thalamus and tissues encountered by its axons can turn on TCF/LEF transcription when sensed by their Robo receptor 8 ,25.', 'The rapid changes in β-catenin protein levels in growth cones exposed to Netrin-1 suggest rapid β-catenin protein synthesis  , perhaps followed by its degradation or movement away from the growth cone  , in response to guidance cues. Our data so far suggest a possible role for β-catenin in thalamic axon navigation.', 'First  , we hypothesised that the high levels of β-catenin mediated transcription we observed in the thalamus of BAT-gal embryos Figure 1G are contributed to by Netrin-1. We found significant increases in the thalamic levels of β-actin and L1 mRNAs but not Epha4 mRNA following Netrin-1 treatment for 90 minutes Figure 2C.', 'TJN performed the Netrin-1 experiments. JWD performed the qRT-PCR and in situ hybridisation and participated in the design of the study.', 'In addition  , Netrin promotes branch growth ventrally  , orthogonal to the A-P positioning of the branch that depends on Wnts. VANG-1- and arrestin-dependent Frizzled endocytosis transduces Wnt signals to polarize F-actin distribution  , which precedes and correlates with collateral branch formation.', 'We performed an unbiased screen for mRNAs present in thalamic axons  , recovered β-catenin transcripts at high frequency and identified other transcripts in thalamic axons. Local translation of mRNAs in growth cones is a well established mechanism to facilitate rapid changes in growth cone protein levels in response to guidance cues including Netrin-1 so we hypothesised that thalamic axons might contain β-catenin mRNA 44-56.', 'B ,C mRNA levels measured after 90 minutes exposure to Netrin-1 expressed relative to untreated controls. A In situ hybridisation for Netrin-1 mRNA purple signal on a coronal E14.5 forebrain section.', 'DA axons are steered dorsally by interaction of the repulsive cue UNC-6 netrin with receptors  , UNC-40 DCC and UNC-5  , and the CLR-1 receptor tyrosine phosphatase 90 ,91. Embryonic DA motor neurons extend commissures to innervate muscles on the dorsal side whereas larval VA motor axons are retained in the ventral nerve cord.', 'L1 regulates thalamocortical axon fasciculation in the internal capsule and L1 mRNA is upregulated in response to β-catenin signalling in other systems  , expression of β-actin can be regulated by Netrin-1 in Xenopus retinal growth cones  , and Epha4 is required for ordered thalamocortcial axon navigation in the internal capsule and has not been linked with either β-catenin or Netrin-1 function 58-61. As shown in Figure 2B there was a significant increase in LacZ mRNA in cultures exposed to Netrin-1 for 90 minutes compared to untreated controls  , showing that Netrin-1 can induce β-catenin mediated transcription in thalamic cells.', 'As thalamic axons extend towards the cerebral cortex their growth cones become increasingly distant from the cell body posing a potential logistical problem if all new protein must be translocated from the cell body. A key finding in this study is the rapid increase in the levels of β-catenin protein in thalamic growth cones in response to the axon guidance cue Netrin-1.', 'Ten minutes of exposure to Netrin-1 caused a 22% increase in β-catenin signal. The total pixel intensity of β-catenin indirect immunofluorescence was measured for each growth cone and values for growth cones treated with Netrin-1 were then normalised against untreated control growth cones to show fold changes in the β-catenin signal Figure 2F.', 'To test this  , we first analyzed mig-1; unc-6 animals  , and found that they showed comparable penetrance of missing and misplaced PLM branch to that in the unc-6 and mig-1 single mutants  , respectively Fig 7A and 7D. This observation suggests that Wnts and ventrally-derived Netrin act orthogonally to pattern the PLM branch  , with Wnts instructing the A-P position of the branch and Netrin promoting its growth along the D-V axis.', 'VAs do not express these receptors and project ventrally directed axons. DA axons are steered dorsally by interaction of the repulsive cue UNC-6 netrin with receptors  , UNC-40 DCC and UNC-5  , and the CLR-1 receptor tyrosine phosphatase 90 ,91.', 'B LacZ mRNA levels in cultured BAT-gal thalamic explants. B ,C mRNA levels measured after 90 minutes exposure to Netrin-1 expressed relative to untreated controls.', 'Together these experiments support the model that Wnts along the A-P axis and Netrin along the D-V axis interact orthogonally to pattern branch outgrowth in the PLM neuron Fig 8. When unc-6 was expressed dorsally in the mig-1 mutant  , we found that dorsally-routed PLM branches developed at ectopic locations along the A-P axis Fig 7D.', 'K-M Microphotographs of Oikopleura embryos at the mid-tailbud/early hatchling K  , Stage 1 L  , and Stage 2 M  , hybridized in situ with a digoxigenin-labeled Od-laminin α1 antisense probe. J Schematic representation of the Oikopleura notochord cells 20 numbered red squares  , followed  , for comparison purposes  , by a delineation of the Od-Hox4 green  , Od-Hox11 purple 29  , and Od-netrin blue expression patterns.', 'Thalamic axons were exposed to Netrin-1 for various time intervals 10 minutes  , 1 hour  , or 24 hours and processed for β-catenin immunofluorescence. Cultures were exposed to Netrin-1 400 ng/ml  , a concentration that has previously been shown to stimulate thalamic axon growth 14.', 'Cultures were exposed to Netrin-1 400 ng/ml  , a concentration that has previously been shown to stimulate thalamic axon growth 14. An example of a cultured thalamic explant  , immunostained with β-catenin  , is shown in Figure 2D.', 'For each condition values represent means for n = 84-95 growth cones randomly selected from 3 independent cultures each including thalamic tissue from several embryos Students t-test p values for ± Netrin-1 comparion indicated above histogram bars at each time-point. F Growth cone β-catenin staining pixel intensity measured after 10 minutes  , 1 hour  , or 24 hours exposure to Netrin-1 expressed relative to untreated controls.', 'The total pixel intensity of β-catenin indirect immunofluorescence was measured for each growth cone and values for growth cones treated with Netrin-1 were then normalised against untreated control growth cones to show fold changes in the β-catenin signal Figure 2F. An example of a growth cone stained for β-catenin is shown in Figure 2E.', 'RhoA pathway downregulation by pharmacological means enhances morphological development of OL-lineage cells 25  , 73  , 74  , even in the presence of OL-inhibitory factors 75  , 76. Other proteins such as Netrin-1  , Slit2 and NG2 mediate OPC migration through modulation of RhoA signaling 70–72.', 'The dorsal trajectory of DA motor neuron outgrowth depends on the UNC-6/netrin receptor genes  , unc-5 and unc-40  , and the receptor protein tyrosine phosphatase RPTP clr-1 gene 90 ,91  , all three of which are enriched in the embryonic A-class dataset Figure 12. During embryonic development  , DA motor neurons extend commissures that circumnavigate the body wall to innervate dorsal muscles.', 'We next asked whether Netrin-1 treatment affects growth cone β-catenin. This experiment demonstrates rapid and dynamic fluctuations in growth cone β-catenin concentration in response to the thalamocortical guidance cue Netrin-1.', 'We found significant increases in the thalamic levels of β-actin and L1 mRNAs but not Epha4 mRNA following Netrin-1 treatment for 90 minutes Figure 2C. L1 regulates thalamocortical axon fasciculation in the internal capsule and L1 mRNA is upregulated in response to β-catenin signalling in other systems  , expression of β-actin can be regulated by Netrin-1 in Xenopus retinal growth cones  , and Epha4 is required for ordered thalamocortcial axon navigation in the internal capsule and has not been linked with either β-catenin or Netrin-1 function 58-61.', 'The conserved expression of netrin in Ciona 54 and in Oikopleura suggests that the tunicate notochord  , in addition to its structural role  , is able to provide some essential positional cues to the developing nervous system. In higher chordates  , the notochord is known to serve a dual function: providing structural support to the developing embryo  , and secreting patterning signals required for tissue specification and organogenesis 1.', 'Cultures were then either processed for β-catenin immunofluorescence or RNA extracted from the whole culture explant + axons for qRT-PCR analysis. For Netrin-1 free cultures  , 40% of the culture medium was replaced with fresh medium.', 'Secreted Wnt glycoproteins CWN-1  , EGL-20 and CWN-2 are marked in orange and purple  , respectively  , which form discrete graded distribution along the anterior-posterior axis to regulate the stereotyped PLM branching pattern. Schematic diagram depicting that Wnt and Netrin pathways orthogonally regulate PLM neurite branching.', \"While the relationship between the Wnt response and β-catenin is well established  , β-catenin's relationship with Netrin-1 is not  , so we next used in vitro assays to show that Netrin-1 treatment causes an increase in levels of β-catenin protein in thalamic growth cones and induces β-catenin dependent gene expression in thalamic cells. Netrin-1 is known to be a key regulator of thalamocortical development 14 ,15.\", 'After 1-hour exposure to Netrin-1  , the β-catenin signal in the growth cones was reduced by 19%. Ten minutes of exposure to Netrin-1 caused a 22% increase in β-catenin signal.', 'As shown in Figure 2B there was a significant increase in LacZ mRNA in cultures exposed to Netrin-1 for 90 minutes compared to untreated controls  , showing that Netrin-1 can induce β-catenin mediated transcription in thalamic cells. We used qRT-PCR to measure levels of LacZ mRNA in thalamic cultures prepared from BAT-gal embryos.', 'Other proteins such as Netrin-1  , Slit2 and NG2 mediate OPC migration through modulation of RhoA signaling 70–72. The RhoA signaling axis is becoming of increasing interest with regard to MS therapeutics.', 'All embryos are oriented with anterior to the left. A-I Microphotographs of Oikopleura embryos at the mid-tailbud/early hatchling A  , late tailbud B  , Stage 1 C ,E-I  , and Stage 2 D  , hybridized in situ with a digoxigenin-labeled Od-netrin antisense probe.', 'This experiment demonstrates rapid and dynamic fluctuations in growth cone β-catenin concentration in response to the thalamocortical guidance cue Netrin-1. One day after adding Netrin-1 values were similar to those in untreated growth cones.', 'F Growth cone β-catenin staining pixel intensity measured after 10 minutes  , 1 hour  , or 24 hours exposure to Netrin-1 expressed relative to untreated controls. D Cultured thalamic explant immunostained for β-catenin with higher magnification of a growth cone in box shown in E.', 'One day after adding Netrin-1 values were similar to those in untreated growth cones. After 1-hour exposure to Netrin-1  , the β-catenin signal in the growth cones was reduced by 19%.', 'We next turned our attention to the distribution of β-catenin mRNA in the thalamocortical system  , particularly in the axons and growth cones where mRNAs might be locally translated. The rapid changes in β-catenin protein levels in growth cones exposed to Netrin-1 suggest rapid β-catenin protein synthesis  , perhaps followed by its degradation or movement away from the growth cone  , in response to guidance cues.']\n"
     ]
    },
    {
     "name": "stdout",
     "output_type": "stream",
     "text": [
      "['These results suggest that endogenous BCAR3 inhibits Smad signaling. In addition  , we did not observe remarkable effects of BCAR3 siRNA on p130Cas protein levels or TGFβ-induced p38 phosphorylation Figure\\xa02b.', 'Our findings define a novel positive regulatory feedback loop through which TGFβ signaling further induces its effects by blocking expression of the Smad inhibitor BCAR3. We also found BCAR3 protein levels in breast cancer cells to be controlled by TGFβ  , as TGFβ treatment decreases BCAR3 expression in a Smad-dependent and proteasome-dependent manner.', 'For example  , EGL-4 likely functions upstream of the TGF-β pathway SMAD transcription factors DAF-3 and DAF-5  , as mutations in DAF-3 and DAF-5 suppress several egl-4 mutant phenotypes  , including chemosensory  , dauer formation  , egg laying and body size defects 47. Similar to PKGI and PKGII in mammalian systems  , whose targets include components of G protein-coupled signaling 39–42  , the c-Jun N-terminal kinases JNK pathway 80 and the anti-apoptotic pathway that includes Bad and Akt 81  , EGL-4 appears to function in or regulate multiple signal transduction pathways in C. elegans.', 'Whether the Sp-box is directly involved in recruitment of Sp2 remains to be established. This region contains the Sp-box 33-SPLALLAATCSKIG-46  , a hallmark of the Sp transcription factor family members 1.', 'JMJD6 expression affects SMAD phosphorylation. denotes non-specific bands from the blots which indicate equal loading of the protein lysates', 'This region contains the Sp-box 33-SPLALLAATCSKIG-46  , a hallmark of the Sp transcription factor family members 1. We conclude that the Sp2 sequence between amino acids 28 and 93 is essential for binding of Sp2 in vivo.', 'IL12RB2 is involved in IL12 dependent signaling  , is upregulated by gamma interferon in Th1 cells and plays a role in Th1 differentiation29. SNP rs12131065 lies downstream from IL23R 63 kb from rs11209026 and 4.041 kb upstream from the gene for interleukin 12 receptor B2 IL12RB2 Figure 3.', 'Two different antibodies for each factor that do not cross-react with other Sp family members were used 8 ,18 and S1–S2 Figs. To identify the binding sites for the related transcription factors Sp1 and Sp3  , and to elucidate the potential overlap with Sp2  , we performed ChIP-seq analysis with the same cells.', 'Innate defences with direct activities against microbes  , that may be expressed constitutively or inducibly following the stimulation of innate cells  , were represented by the antimicrobial peptide beta defensin defbl2 , 34  , 35 and the bacteriolytic enzyme lysozyme C lyz 36. 28  , the pro-inflammatory T-helper cell type 1 cytokine interleukin 12 il12ba 29  , the pro-inflammatory T-helper cell type 17 cytokine interleukin 17 30  , the T-helper cell type 2 cytokine interleukin 4 il4  , see Ohtani et al.  , 2008 31  , the regulatory T-cell transcription factor forkhead box P3 foxp3b 32 and a gene encoding a calcium channel known to be necessary for T-cell activation and proliferation in mammals orai1 33.', 'By immunostaining  , this antibody detected asymmetrical nuclear phospho-Smad staining in roughly one half of the embryo starting at the onset of ingression of the primary mesenchyme cells Figure 5Bi  , ii  , v. On Western blot of P. lividus protein extracts  , this antibody recognized predominantly one protein  , the abundance of which increased abruptly at the mesenchyme blastula stage Figure 5A.', 'Moreover  , the stimulatory effects appeared to be specific to TGF-β2  , since they were abrogated either by heat inactivation of the TGF-β2 protein or by mutation of a putative SMAD binding element located about 1.8 kb 5′ from the Snail transcription start site Figure 5D. The kinetics of Snail promoter activity closely paralleled those observed for Snail protein induction.', 'GO categories are: ST-signal transducer  , R-receptor  , H-hormone  , SP-structural protein  , T-transporter  , IC-ion channel  , VGIC-voltage-gated ion channel  , CC-cation channel  , TR-transcription  , TRR-transcription regulation  , SR-stress response  , IR-immune response  , GF-growth factor  , MIT-metal ions transport. Cellular role categories are: AAB-amino acid biosynthesis  , BOC-biosynthesis of cofactors  , CE-cell envelope  , CP-cellular processes  , CIM-central intermediary metabolism  , EM-energy metabolism  , FAM-fatty acid metabolism  , PP-purines and pyrimidines  , RF-regulatory functions  , RAT-replication and transcription  , T-translation  , TAB-transport and binding.', 'Taken together  , these results suggest a positive feedback loop mechanism by which TGFβ/Smad signaling represses expression of its own inhibitory molecule  , BCAR3  , further leading to enhanced TGFβ/Smad signaling in breast cancer cells Figure\\xa08g. TGFβ’s effect of decreasing BCAR3 protein levels may involve the proteasome pathway  , as treating MDA-MB-231 cells with MG-132 for 1\\xa0hour  , a proteasome inhibitor  , abolished this effect Figure\\xa08f.', 'Interestingly  , Cripto protein is an obligatory co-receptor for some TGF-β family members such as Nodal  , enabling them to bind to Activin receptorial complexes and activate Smad cascade and is also able to antagonize the signaling of other members of the TGF-β family  , i.e.  , Activins and TGF-β  , inhibiting their antioncogenic effect 34 ,35 ,40. The effect of TGF-β ligands and Cripto on tumorigenesis is also dependent on the cellular context 33 ,39.', 'SH3 = Src homology 3 domain  , SH2 = Src homology 2 domain  , PTB = protein tyrosine binding  , PH = pleckstrin homology domain  , BPS = binding phosphorylated substrate  , PLC = phospholipase C  , β = beta subunit. Shc binding site on TrkB Y490 is also noted TrkBShc-.', 'We initially examined the relative protein expression levels of BCAR3 and p130Cas in a panel of breast cancer cell lines representing different molecular subtypes and phenotypes of breast tumors. As the TGFβ/Smad signaling pathway plays a prominent role in breast cancer progression and tumor metastasis  , we investigated whether BCAR3 could regulate TGFβ/Smad signal transduction.', 'Functional categorization of lineage-specific genes within zebrafish. GO categories are: ST-signal transducer  , R-receptor  , H-hormone  , SP-structural protein  , T-transporter  , IC-ion channel  , VGIC-voltage-gated ion channel  , CC-cation channel  , TR-transcription  , TRR-transcription regulation  , SR-stress response  , IR-immune response  , GF-growth factor  , MIT-metal ions transport.']\n"
     ]
    }
   ],
   "source": [
    "seeds = [10]#, 10, 25, 50, 100]\n",
    "\n",
    "\"\"\"\n",
    "Extract training data for different number of seeds\n",
    "\"\"\"\n",
    "for seed in seeds:\n",
    "    training_data_extraction.extract(seed)"
   ]
  },
  {
   "cell_type": "code",
   "execution_count": 150,
   "metadata": {
    "hidden": true
   },
   "outputs": [
    {
     "name": "stdout",
     "output_type": "stream",
     "text": [
      "Started training data extraction\n"
     ]
    }
   ],
   "source": [
    "import random\n",
    "from elasticsearch import Elasticsearch\n",
    "import nltk\n",
    "import re\n",
    "from sklearn.model_selection import train_test_split\n",
    "from nltk import tokenize\n",
    "import config as cfg\n",
    "\n",
    "numberOfSeeds = 10\n",
    "    \n",
    "es = Elasticsearch([{'host': 'localhost', 'port': 9200}])    \n",
    "print('Started training data extraction')\n",
    "\n",
    "# First we get the dataset names which have been used in the testing set (TestB) to exclude them from the training sentences\n",
    "X_testB = []\n",
    "with open('data/protein-names-test.txt', 'r') as file:\n",
    "    for row in file.readlines():\n",
    "        X_testB.append(row.strip())\n",
    "# lowercase the names\n",
    "X_testB = [ds.lower() for ds in X_testB]\n",
    "X_testB = list(set(X_testB))"
   ]
  },
  {
   "cell_type": "code",
   "execution_count": 153,
   "metadata": {
    "hidden": true
   },
   "outputs": [],
   "source": [
    "# List of seed names\n",
    "dsnames = []\n",
    "corpuspath = \"data/protein-names-train.txt\"\n",
    "with open(corpuspath, \"r\") as file:\n",
    "    for row in file.readlines():\n",
    "        dsnames.append(row.strip())\n",
    "dsnames = [x.lower() for x in dsnames]\n",
    "dsnames = list(set(dsnames))"
   ]
  },
  {
   "cell_type": "code",
   "execution_count": 161,
   "metadata": {
    "hidden": true,
    "scrolled": true
   },
   "outputs": [
    {
     "name": "stdout",
     "output_type": "stream",
     "text": [
      "n-cym protein\n",
      "Got 0 Hits:\n",
      "histidinol-phosphate aminotransferase\n",
      "Got 0 Hits:\n",
      "chordin\n",
      "Got 203 Hits:\n",
      "annexin a8\n",
      "Got 0 Hits:\n",
      "protein yipf4\n",
      "Got 0 Hits:\n",
      "nociceptin\n",
      "Got 2 Hits:\n",
      "malate dehydrogenase\n",
      "Got 37 Hits:\n",
      "d-galactonate dehydratase\n",
      "Got 0 Hits:\n",
      "tgf-beta 1\n",
      "Got 20 Hits:\n",
      "dipeptidase 1\n",
      "Got 1 Hits:\n"
     ]
    }
   ],
   "source": [
    "# shuffle the list\n",
    "X_train = random.sample(dsnames, numberOfSeeds)\n",
    "\n",
    "paragraph = []\n",
    "\n",
    "# using the seeds, extract the sentences from the publications using the query in elastic search\n",
    "for dataset in X_train:\n",
    "    datasetname = re.sub(r'\\([^)]*\\)', '', dataset)\n",
    "\n",
    "    # Matching\n",
    "    query = {\"query\":\n",
    "        {\"match\": {\n",
    "            \"content.chapter.sentpositive\": {\n",
    "                \"query\": datasetname,\n",
    "                \"operator\": \"and\"\n",
    "            }\n",
    "        }\n",
    "        }\n",
    "    }\n",
    "\n",
    "    res = es.search(index=\"twosent\", doc_type=\"twosentnorules\",\n",
    "                    body=query, size=10000)\n",
    "\n",
    "    print(datasetname)\n",
    "    print(\"Got %d Hits:\" % res['hits']['total'])\n",
    "    # clean up the sentences and if they dont contain the names of the testB then add them as the training data\n",
    "    for doc in res['hits']['hits']:\n",
    "\n",
    "        sentence = doc[\"_source\"][\"content.chapter.sentpositive\"]\n",
    "\n",
    "        words = nltk.word_tokenize(doc[\"_source\"][\"content.chapter.sentpositive\"])\n",
    "        lengths = [len(x) for x in words]\n",
    "        average = sum(lengths) / len(lengths)\n",
    "\n",
    "        if average < 3:\n",
    "            continue\n",
    "\n",
    "        sentence = sentence.replace(\"@ BULLET\", \"\")\n",
    "        sentence = sentence.replace(\"@BULLET\", \"\")\n",
    "        sentence = sentence.replace(\", \", \" , \")\n",
    "        sentence = sentence.replace('(', '')\n",
    "        sentence = sentence.replace(')', '')\n",
    "        sentence = sentence.replace('[', '')\n",
    "        sentence = sentence.replace(']', '')\n",
    "        sentence = sentence.replace(',', ' ,')\n",
    "        sentence = sentence.replace('?', ' ?')\n",
    "        sentence = sentence.replace('..', '.')\n",
    "\n",
    "        if any(ext in sentence.lower() for ext in X_testB):\n",
    "            continue\n",
    "\n",
    "        else:\n",
    "            paragraph.append(sentence)\n",
    "\n",
    "paragraph = list(set(paragraph))"
   ]
  },
  {
   "cell_type": "code",
   "execution_count": 162,
   "metadata": {
    "hidden": true
   },
   "outputs": [],
   "source": [
    "# Split the data into training and testing and keep the sentences and also the seed names for annotation that will be used later\n",
    "\n",
    "f1 = open(cfg.ROOTPATH + '/evaluation_files_prot/X_train_' + str(numberOfSeeds) + '_' + str(0) + '.txt', 'w')\n",
    "for item in paragraph:\n",
    "    f1.write(item)\n",
    "f1.close()\n",
    "\n",
    "f1 = open(cfg.ROOTPATH + '/evaluation_files_prot/X_Seeds_' + str(numberOfSeeds) + '_' + str(0) + '.txt', 'w')\n",
    "for item in X_train:\n",
    "    f1.write(item + '\\n')\n",
    "f1.close()"
   ]
  },
  {
   "cell_type": "markdown",
   "metadata": {
    "heading_collapsed": true
   },
   "source": [
    "#  expansion.term_expansion_proteins"
   ]
  },
  {
   "cell_type": "code",
   "execution_count": 163,
   "metadata": {
    "hidden": true
   },
   "outputs": [],
   "source": [
    "from numbers import Number\n",
    "from sklearn.preprocessing import StandardScaler\n",
    "import codecs, numpy\n",
    "from sklearn.metrics import silhouette_score\n",
    "import string\n",
    "from preprocessing.Extract_NE import preprocess_NE\n",
    "from sklearn.cluster import KMeans\n",
    "from config import ROOTPATH\n",
    "import nltk\n",
    "from nltk.corpus import stopwords\n",
    "from nltk.corpus import wordnet\n",
    "\n",
    "numberOfSeeds, name, numberOfIteration, iteration = 10, 'term_expansion', str(0), str(0)"
   ]
  },
  {
   "cell_type": "code",
   "execution_count": 164,
   "metadata": {
    "hidden": true
   },
   "outputs": [],
   "source": [
    "class autovivify_list(dict):\n",
    "    '''Pickleable class to replicate the functionality of collections.defaultdict'''\n",
    "\n",
    "    def __missing__(self, key):\n",
    "        value = self[key] = []\n",
    "        return value\n",
    "\n",
    "    def __add__(self, x):\n",
    "        '''Override addition for numeric types when self is empty'''\n",
    "        if not self and isinstance(x, Number):\n",
    "            return x\n",
    "        raise ValueError\n",
    "\n",
    "    def __sub__(self, x):\n",
    "        '''Also provide subtraction method'''\n",
    "        if not self and isinstance(x, Number):\n",
    "            return -1 * x\n",
    "        raise ValueError\n",
    "\n",
    "\n",
    "def build_word_vector_matrix(vector_file, propernouns):\n",
    "    '''Read a GloVe array from sys.argv[1] and return its vectors and labels as arrays'''\n",
    "    numpy_arrays = []\n",
    "    labels_array = []\n",
    "    with codecs.open(vector_file, 'r', 'utf-8') as f:\n",
    "        for c, r in enumerate(f):\n",
    "            sr = r.split()\n",
    "            try:\n",
    "                if sr[0] in propernouns and not wordnet.synsets(sr[0]) and sr[0].lower() not in stopwords.words('english') and 'protein' not in sr[0].lower():\n",
    "                    labels_array.append(sr[0])\n",
    "                    numpy_arrays.append(numpy.array([float(i) for i in sr[1:]]))\n",
    "            except:\n",
    "                continue\n",
    "\n",
    "    return numpy.array(numpy_arrays), labels_array\n",
    "\n",
    "def find_word_clusters(labels_array, cluster_labels):\n",
    "    '''Read the labels array and clusters label and return the set of words in each cluster'''\n",
    "    cluster_to_words = autovivify_list()\n",
    "    for c, i in enumerate(cluster_labels):\n",
    "        cluster_to_words[i].append(labels_array[c])\n",
    "    return cluster_to_words"
   ]
  },
  {
   "cell_type": "code",
   "execution_count": 93,
   "metadata": {
    "collapsed": true,
    "hidden": true
   },
   "outputs": [
    {
     "name": "stdout",
     "output_type": "stream",
     "text": [
      "started to extract general NE from text....\n",
      "started to extract general NE from text....\n"
     ]
    },
    {
     "ename": "KeyboardInterrupt",
     "evalue": "",
     "output_type": "error",
     "traceback": [
      "\u001b[0;31m---------------------------------------------------------------------------\u001b[0m",
      "\u001b[0;31mKeyboardInterrupt\u001b[0m                         Traceback (most recent call last)",
      "\u001b[0;32m<ipython-input-93-b81521d74ab1>\u001b[0m in \u001b[0;36m<module>\u001b[0;34m()\u001b[0m\n\u001b[1;32m      4\u001b[0m \u001b[0;31m# perform term expansion on the text of the training data using different number of seeds (i.e. 5,10,25,50,100)\u001b[0m\u001b[0;34m\u001b[0m\u001b[0;34m\u001b[0m\u001b[0m\n\u001b[1;32m      5\u001b[0m \u001b[0;32mfor\u001b[0m \u001b[0mnumber\u001b[0m \u001b[0;32min\u001b[0m \u001b[0mrange\u001b[0m\u001b[0;34m(\u001b[0m\u001b[0;36m10\u001b[0m\u001b[0;34m)\u001b[0m\u001b[0;34m:\u001b[0m\u001b[0;34m\u001b[0m\u001b[0m\n\u001b[0;32m----> 6\u001b[0;31m     \u001b[0mexpansion\u001b[0m\u001b[0;34m.\u001b[0m\u001b[0mterm_expansion_proteins\u001b[0m\u001b[0;34m(\u001b[0m\u001b[0;36m10\u001b[0m\u001b[0;34m,\u001b[0m \u001b[0;34m'term_expansion'\u001b[0m\u001b[0;34m,\u001b[0m \u001b[0mstr\u001b[0m\u001b[0;34m(\u001b[0m\u001b[0;36m0\u001b[0m\u001b[0;34m)\u001b[0m\u001b[0;34m,\u001b[0m \u001b[0mstr\u001b[0m\u001b[0;34m(\u001b[0m\u001b[0mnumber\u001b[0m\u001b[0;34m)\u001b[0m\u001b[0;34m)\u001b[0m\u001b[0;34m\u001b[0m\u001b[0m\n\u001b[0m",
      "\u001b[0;32m/data2/SmartPub/preprocessing/expansion.py\u001b[0m in \u001b[0;36mterm_expansion_proteins\u001b[0;34m(numberOfSeeds, name, numberOfIteration, iteration)\u001b[0m\n\u001b[1;32m    117\u001b[0m     \u001b[0;31m# use the word2vec model\u001b[0m\u001b[0;34m\u001b[0m\u001b[0;34m\u001b[0m\u001b[0m\n\u001b[1;32m    118\u001b[0m     df, labels_array = build_word_vector_matrix(\n\u001b[0;32m--> 119\u001b[0;31m         ROOTPATH + \"/models/modelword2vecbigram.vec\", sentences_split)\n\u001b[0m\u001b[1;32m    120\u001b[0m \u001b[0;34m\u001b[0m\u001b[0m\n\u001b[1;32m    121\u001b[0m     '''We cluster all terms extracted from the sentences with respect to their embedding vectors using K-means. \n",
      "\u001b[0;32m/data2/SmartPub/preprocessing/expansion.py\u001b[0m in \u001b[0;36mbuild_word_vector_matrix\u001b[0;34m(vector_file, propernouns)\u001b[0m\n\u001b[1;32m     45\u001b[0m     \u001b[0mlabels_array\u001b[0m \u001b[0;34m=\u001b[0m \u001b[0;34m[\u001b[0m\u001b[0;34m]\u001b[0m\u001b[0;34m\u001b[0m\u001b[0m\n\u001b[1;32m     46\u001b[0m     \u001b[0;32mwith\u001b[0m \u001b[0mcodecs\u001b[0m\u001b[0;34m.\u001b[0m\u001b[0mopen\u001b[0m\u001b[0;34m(\u001b[0m\u001b[0mvector_file\u001b[0m\u001b[0;34m,\u001b[0m \u001b[0;34m'r'\u001b[0m\u001b[0;34m,\u001b[0m \u001b[0;34m'utf-8'\u001b[0m\u001b[0;34m)\u001b[0m \u001b[0;32mas\u001b[0m \u001b[0mf\u001b[0m\u001b[0;34m:\u001b[0m\u001b[0;34m\u001b[0m\u001b[0m\n\u001b[0;32m---> 47\u001b[0;31m         \u001b[0;32mfor\u001b[0m \u001b[0mc\u001b[0m\u001b[0;34m,\u001b[0m \u001b[0mr\u001b[0m \u001b[0;32min\u001b[0m \u001b[0menumerate\u001b[0m\u001b[0;34m(\u001b[0m\u001b[0mf\u001b[0m\u001b[0;34m)\u001b[0m\u001b[0;34m:\u001b[0m\u001b[0;34m\u001b[0m\u001b[0m\n\u001b[0m\u001b[1;32m     48\u001b[0m             \u001b[0msr\u001b[0m \u001b[0;34m=\u001b[0m \u001b[0mr\u001b[0m\u001b[0;34m.\u001b[0m\u001b[0msplit\u001b[0m\u001b[0;34m(\u001b[0m\u001b[0;34m)\u001b[0m\u001b[0;34m\u001b[0m\u001b[0m\n\u001b[1;32m     49\u001b[0m             \u001b[0;32mtry\u001b[0m\u001b[0;34m:\u001b[0m\u001b[0;34m\u001b[0m\u001b[0m\n",
      "\u001b[0;32m/usr/lib/python3.5/codecs.py\u001b[0m in \u001b[0;36m__next__\u001b[0;34m(self)\u001b[0m\n\u001b[1;32m    709\u001b[0m \u001b[0;34m\u001b[0m\u001b[0m\n\u001b[1;32m    710\u001b[0m         \u001b[0;34m\"\"\" Return the next decoded line from the input stream.\"\"\"\u001b[0m\u001b[0;34m\u001b[0m\u001b[0m\n\u001b[0;32m--> 711\u001b[0;31m         \u001b[0;32mreturn\u001b[0m \u001b[0mnext\u001b[0m\u001b[0;34m(\u001b[0m\u001b[0mself\u001b[0m\u001b[0;34m.\u001b[0m\u001b[0mreader\u001b[0m\u001b[0;34m)\u001b[0m\u001b[0;34m\u001b[0m\u001b[0m\n\u001b[0m\u001b[1;32m    712\u001b[0m \u001b[0;34m\u001b[0m\u001b[0m\n\u001b[1;32m    713\u001b[0m     \u001b[0;32mdef\u001b[0m \u001b[0m__iter__\u001b[0m\u001b[0;34m(\u001b[0m\u001b[0mself\u001b[0m\u001b[0;34m)\u001b[0m\u001b[0;34m:\u001b[0m\u001b[0;34m\u001b[0m\u001b[0m\n",
      "\u001b[0;32m/usr/lib/python3.5/codecs.py\u001b[0m in \u001b[0;36m__next__\u001b[0;34m(self)\u001b[0m\n\u001b[1;32m    640\u001b[0m \u001b[0;34m\u001b[0m\u001b[0m\n\u001b[1;32m    641\u001b[0m         \u001b[0;34m\"\"\" Return the next decoded line from the input stream.\"\"\"\u001b[0m\u001b[0;34m\u001b[0m\u001b[0m\n\u001b[0;32m--> 642\u001b[0;31m         \u001b[0mline\u001b[0m \u001b[0;34m=\u001b[0m \u001b[0mself\u001b[0m\u001b[0;34m.\u001b[0m\u001b[0mreadline\u001b[0m\u001b[0;34m(\u001b[0m\u001b[0;34m)\u001b[0m\u001b[0;34m\u001b[0m\u001b[0m\n\u001b[0m\u001b[1;32m    643\u001b[0m         \u001b[0;32mif\u001b[0m \u001b[0mline\u001b[0m\u001b[0;34m:\u001b[0m\u001b[0;34m\u001b[0m\u001b[0m\n\u001b[1;32m    644\u001b[0m             \u001b[0;32mreturn\u001b[0m \u001b[0mline\u001b[0m\u001b[0;34m\u001b[0m\u001b[0m\n",
      "\u001b[0;32m/usr/lib/python3.5/codecs.py\u001b[0m in \u001b[0;36mreadline\u001b[0;34m(self, size, keepends)\u001b[0m\n\u001b[1;32m    582\u001b[0m                     \u001b[0;32mbreak\u001b[0m\u001b[0;34m\u001b[0m\u001b[0m\n\u001b[1;32m    583\u001b[0m                 \u001b[0mline0withend\u001b[0m \u001b[0;34m=\u001b[0m \u001b[0mlines\u001b[0m\u001b[0;34m[\u001b[0m\u001b[0;36m0\u001b[0m\u001b[0;34m]\u001b[0m\u001b[0;34m\u001b[0m\u001b[0m\n\u001b[0;32m--> 584\u001b[0;31m                 \u001b[0mline0withoutend\u001b[0m \u001b[0;34m=\u001b[0m \u001b[0mlines\u001b[0m\u001b[0;34m[\u001b[0m\u001b[0;36m0\u001b[0m\u001b[0;34m]\u001b[0m\u001b[0;34m.\u001b[0m\u001b[0msplitlines\u001b[0m\u001b[0;34m(\u001b[0m\u001b[0mkeepends\u001b[0m\u001b[0;34m=\u001b[0m\u001b[0;32mFalse\u001b[0m\u001b[0;34m)\u001b[0m\u001b[0;34m[\u001b[0m\u001b[0;36m0\u001b[0m\u001b[0;34m]\u001b[0m\u001b[0;34m\u001b[0m\u001b[0m\n\u001b[0m\u001b[1;32m    585\u001b[0m                 \u001b[0;32mif\u001b[0m \u001b[0mline0withend\u001b[0m \u001b[0;34m!=\u001b[0m \u001b[0mline0withoutend\u001b[0m\u001b[0;34m:\u001b[0m \u001b[0;31m# We really have a line end\u001b[0m\u001b[0;34m\u001b[0m\u001b[0m\n\u001b[1;32m    586\u001b[0m                     \u001b[0;31m# Put the rest back together and keep it until the next call\u001b[0m\u001b[0;34m\u001b[0m\u001b[0;34m\u001b[0m\u001b[0m\n",
      "\u001b[0;31mKeyboardInterrupt\u001b[0m: "
     ]
    }
   ],
   "source": [
    "\"\"\"\n",
    "Term expansion approach for the first iteration\n",
    "\"\"\"\n",
    "# perform term expansion on the text of the training data using different number of seeds (i.e. 5,10,25,50,100)\n",
    "for number in range(10):\n",
    "    expansion.term_expansion_proteins(10, 'term_expansion', str(0), str(number))"
   ]
  },
  {
   "cell_type": "code",
   "execution_count": 165,
   "metadata": {
    "hidden": true
   },
   "outputs": [
    {
     "name": "stdout",
     "output_type": "stream",
     "text": [
      "started to extract general NE from text....\n"
     ]
    }
   ],
   "source": [
    "# in the first iteration use the initial text extracted using the seeds\n",
    "if int(numberOfIteration) == 0:\n",
    "    fileUnlabelled = ROOTPATH + '/evaluation_files_prot/X_train_' + str(numberOfSeeds) + '_' + str(iteration) + '.txt'\n",
    "\n",
    "# in the next iterations use the text extracted using the new set of seeds\n",
    "else:\n",
    "    fileUnlabelled = ROOTPATH + '/evaluation_files_prot/' + name + 'text_Iteration' + numberOfIteration + str(\n",
    "                     numberOfSeeds) + '_' + str(iteration) + '.txt'\n",
    "\n",
    "'''Extract All the entities from the text'''\n",
    "propernouns = preprocess_NE(fileUnlabelled)"
   ]
  },
  {
   "cell_type": "code",
   "execution_count": 172,
   "metadata": {
    "hidden": true
   },
   "outputs": [],
   "source": [
    "dsnames = []\n",
    "\n",
    "'''Extract All the seed names'''\n",
    "corpuspath = ROOTPATH + '/evaluation_files_prot/X_Seeds_' + str(numberOfSeeds) + '_' + str(iteration) + '.txt'\n",
    "with open(corpuspath, \"r\") as file:\n",
    "    for row in file.readlines():\n",
    "        dsnames.append(row.strip())\n",
    "        propernouns.append(row.strip())\n",
    "\n",
    "        # this step is used for the iterations >1\n",
    "# for i in range(1, int(numberOfIteration)+1):\n",
    "#     with open(ROOTHPATH+'/evaluation_files/' + name + '_Iteration' + str(\n",
    "#             i) + '_POS_' + str(\n",
    "#         numberOfSeeds) + '_' + str(iteration) + '.txt', 'r') as file:\n",
    "#         for row in file.readlines():\n",
    "#             dsnames.append(row.strip())\n",
    "#             propernouns.append(row.strip())\n",
    "\n",
    "'''replace the space between the bigram words with _ (for the word2vec embedding)'''\n",
    "newpropernouns = []\n",
    "for pp in propernouns:\n",
    "    temp = pp.split(' ')\n",
    "    if len(temp) > 1:\n",
    "        bigram = list(nltk.bigrams(pp.split()))\n",
    "        for bi in bigram:\n",
    "            bi = bi[0].lower() + '_' + bi[1].lower()\n",
    "            # print(bi)\n",
    "            newpropernouns.append(bi)\n",
    "    else:\n",
    "        newpropernouns.append(pp)\n",
    "\n",
    "dsnames = [x.lower() for x in dsnames]\n",
    "\n",
    "#dsnames = [s.translate(str.maketrans('', '', string.punctuation)) for s in dsnames]\n",
    "\n",
    "sentences_split = [s.lower() for s in newpropernouns]"
   ]
  },
  {
   "cell_type": "code",
   "execution_count": 169,
   "metadata": {
    "hidden": true
   },
   "outputs": [],
   "source": [
    "# use the word2vec model\n",
    "df, labels_array = build_word_vector_matrix(\n",
    "    ROOTPATH + \"/models/modelword2vecbigram.vec\", sentences_split)"
   ]
  },
  {
   "cell_type": "code",
   "execution_count": 173,
   "metadata": {
    "hidden": true,
    "scrolled": true
   },
   "outputs": [
    {
     "name": "stdout",
     "output_type": "stream",
     "text": [
      "{0: ['figure_s1', 'figure_s4', 'nacl', 'arg', 'kcl', 'nodal', 'fgf', 'nematostella', 'pma', 'tca', 'hepes', 'pgm', 'nadph', 'ipa', 'tunel', 'dataset_s2', 'opn', 'asc', 'sdh', 'aox', 'w303', 'u0126', 'malate', 'idh', 'caf', 'formate', 'fumarate', 'pdh', 'icl', 'low_pi', 'rt_pcr', 'fermentative', 'msxb', 'mdh', 'sb431542', 'ja122', 'not1', 'pcs2', 'ogdc', 'aco', 'blattabacterium', 'mdh1', 'mo2', 'iclr', 'fox2', 'acea', 'dlat', 'genetools', 'acek', 'psmad', 'udpg', 'de_robertis', 'aceb', 'orl1', 'pepk', 'torsv', 'cy110', 'bcne', 'fluoresceinated_dextran', 'idp2'], 1: ['pcr', 'atg', 'ppv', 'pyruvate', 'chordin', 'ppi', 'search_tool', 'nadh', 'coa', 'mgso4', 'mtl', 'otx', 'pepck', 'delta2', 'bge', 'sp6', 'elisa_kit', 'psgs', 'texas_red', 'dmrt1', 'malate_dehydrogenase', 'tgfb', 'isocitrate', 'mo1', 'phosphoenolpyruvate', 'g6pdh', 'poxb', 'pyc', 'fum', 'drosophila_sog', 'fks', 'tetramethyl_rhodamine', 'kuroda', 'fdh', 'mmachine', 'fox3']}\n",
      "pcr\n",
      "atg\n",
      "ppv\n",
      "pyruvate\n",
      "chordin\n",
      "ppi\n",
      "search tool\n",
      "nadh\n",
      "coa\n",
      "mgso4\n",
      "mtl\n",
      "otx\n",
      "pepck\n",
      "delta2\n",
      "bge\n",
      "sp6\n",
      "elisa kit\n",
      "psgs\n",
      "texas red\n",
      "dmrt1\n",
      "malate dehydrogenase\n",
      "tgfb\n",
      "isocitrate\n",
      "mo1\n",
      "phosphoenolpyruvate\n",
      "g6pdh\n",
      "poxb\n",
      "pyc\n",
      "fum\n",
      "drosophila sog\n",
      "fks\n",
      "tetramethyl rhodamine\n",
      "kuroda\n",
      "fdh\n",
      "mmachine\n",
      "fox3\n",
      "{0: ['pcr', 'figure_s1', 'figure_s4', 'atg', 'pma', 'chordin', 'search_tool', 'hepes', 'nadh', 'ipa', 'dataset_s2', 'bge', 'formate', 'pdh', 'icl', 'rt_pcr', 'psgs', 'dmrt1', 'malate_dehydrogenase', 'tgfb', 'isocitrate', 'pcs2', 'mo1', 'aco', 'blattabacterium', 'mdh1', 'phosphoenolpyruvate', 'g6pdh', 'poxb', 'pyc', 'drosophila_sog', 'acea', 'dlat', 'genetools', 'de_robertis', 'aceb', 'torsv', 'bcne', 'idp2'], 1: ['nacl', 'kcl', 'nodal', 'fgf', 'nematostella', 'tca', 'otx', 'opn', 'asc', 'u0126', 'idh', 'caf', 'fumarate', 'low_pi', 'msxb', 'mdh', 'ogdc', 'psmad', 'udpg', 'orl1', 'pepk', 'cy110', 'fluoresceinated_dextran'], 2: ['arg', 'ppv', 'pyruvate', 'ppi', 'pgm', 'nadph', 'tunel', 'coa', 'mgso4', 'mtl', 'pepck', 'sdh', 'aox', 'w303', 'malate', 'delta2', 'sp6', 'elisa_kit', 'fermentative', 'texas_red', 'sb431542', 'ja122', 'not1', 'mo2', 'iclr', 'fox2', 'fum', 'fks', 'acek', 'tetramethyl_rhodamine', 'kuroda', 'fdh', 'mmachine', 'fox3']}\n",
      "{0: ['nacl', 'atg', 'chordin', 'nadh', 'otx', 'asc', 'sdh', 'u0126', 'idh', 'caf', 'ja122', 'pcs2', 'aco', 'phosphoenolpyruvate', 'fum', 'udpg', 'de_robertis', 'orl1', 'pepk', 'cy110', 'fox3', 'fluoresceinated_dextran'], 1: ['kcl', 'nematostella', 'pma', 'tca', 'search_tool', 'hepes', 'ipa', 'coa', 'dataset_s2', 'bge', 'fumarate', 'pdh', 'icl', 'msxb', 'mdh', 'dmrt1', 'mdh1', 'g6pdh', 'poxb', 'pyc', 'acea', 'dlat', 'genetools', 'acek', 'aceb', 'mmachine', 'torsv'], 2: ['pcr', 'nodal', 'fgf', 'ppv', 'pyruvate', 'ppi', 'nadph', 'mgso4', 'pepck', 'aox', 'delta2', 'sp6', 'elisa_kit', 'psgs', 'texas_red', 'malate_dehydrogenase', 'not1', 'tgfb', 'isocitrate', 'mo1', 'iclr', 'fks', 'tetramethyl_rhodamine', 'kuroda', 'fdh'], 3: ['figure_s1', 'figure_s4', 'arg', 'pgm', 'tunel', 'mtl', 'opn', 'w303', 'malate', 'formate', 'low_pi', 'rt_pcr', 'fermentative', 'sb431542', 'ogdc', 'blattabacterium', 'mo2', 'fox2', 'drosophila_sog', 'psmad', 'bcne', 'idp2']}\n",
      "{0: ['pcr', 'ppv', 'pyruvate', 'hepes', 'pgm', 'coa', 'pdh', 'elisa_kit', 'fermentative', 'sb431542', 'malate_dehydrogenase', 'mo1', 'mdh1', 'mo2', 'drosophila_sog', 'acea', 'aceb', 'mmachine', 'torsv', 'fluoresceinated_dextran'], 1: ['figure_s4', 'nacl', 'malate', 'icl', 'texas_red', 'ja122', 'aco', 'kuroda', 'de_robertis', 'idp2'], 2: ['kcl', 'nodal', 'nematostella', 'pma', 'tca', 'ppi', 'search_tool', 'otx', 'opn', 'asc', 'delta2', 'idh', 'bge', 'fumarate', 'low_pi', 'mdh', 'pcs2', 'ogdc', 'genetools', 'psmad', 'orl1', 'pepk', 'cy110'], 3: ['figure_s1', 'atg', 'fgf', 'chordin', 'nadh', 'ipa', 'mtl', 'formate', 'rt_pcr', 'psgs', 'dmrt1', 'tgfb', 'isocitrate', 'iclr', 'g6pdh', 'pyc', 'dlat', 'fox3', 'bcne'], 4: ['arg', 'nadph', 'tunel', 'mgso4', 'dataset_s2', 'pepck', 'sdh', 'aox', 'w303', 'u0126', 'caf', 'sp6', 'msxb', 'not1', 'blattabacterium', 'phosphoenolpyruvate', 'poxb', 'fox2', 'fum', 'fks', 'acek', 'tetramethyl_rhodamine', 'udpg', 'fdh']}\n",
      "{0: ['kcl', 'malate', 'ogdc', 'g6pdh', 'drosophila_sog', 'udpg', 'pepk'], 1: ['pcr', 'pyruvate', 'tca', 'ppi', 'hepes', 'coa', 'mgso4', 'pepck', 'delta2', 'sp6', 'elisa_kit', 'psgs', 'texas_red', 'malate_dehydrogenase', 'iclr', 'fks', 'tetramethyl_rhodamine', 'mmachine'], 2: ['figure_s4', 'nacl', 'nodal', 'atg', 'fgf', 'ppv', 'nematostella', 'search_tool', 'ipa', 'mtl', 'dataset_s2', 'aox', 'idh', 'bge', 'formate', 'fumarate', 'icl', 'rt_pcr', 'msxb', 'isocitrate', 'pcs2', 'blattabacterium', 'mdh1', 'phosphoenolpyruvate', 'pyc', 'acea', 'dlat', 'fdh', 'orl1', 'fox3', 'bcne'], 3: ['arg', 'pgm', 'nadph', 'tunel', 'opn', 'w303', 'pdh', 'fermentative', 'mdh', 'sb431542', 'not1', 'mo1', 'mo2', 'fox2', 'acek', 'psmad', 'aceb', 'torsv', 'idp2'], 4: ['figure_s1', 'chordin', 'otx', 'low_pi', 'dmrt1', 'tgfb', 'kuroda'], 5: ['pma', 'nadh', 'asc', 'sdh', 'u0126', 'caf', 'ja122', 'aco', 'poxb', 'fum', 'genetools', 'de_robertis', 'cy110', 'fluoresceinated_dextran']}\n",
      "{0: ['tca', 'nadph', 'mdh1', 'bcne', 'fluoresceinated_dextran'], 1: ['figure_s4', 'chordin', 'w303', 'pdh', 'rt_pcr', 'elisa_kit', 'fermentative', 'not1', 'fox2', 'drosophila_sog', 'idp2'], 2: ['nacl', 'nodal', 'search_tool', 'nadh', 'mgso4', 'dataset_s2', 'msxb', 'texas_red', 'ja122', 'pcs2', 'ogdc', 'blattabacterium', 'udpg', 'fox3'], 3: ['figure_s1', 'atg', 'hepes', 'ipa', 'mtl', 'bge', 'formate', 'fumarate', 'icl', 'psgs', 'dmrt1', 'tgfb', 'isocitrate', 'aco', 'acea', 'genetools', 'de_robertis', 'cy110'], 4: ['fgf', 'ppv', 'pma', 'ppi', 'pepck', 'sdh', 'aox', 'u0126', 'delta2', 'sp6', 'mdh', 'malate_dehydrogenase', 'phosphoenolpyruvate', 'iclr', 'g6pdh', 'poxb', 'pyc', 'fum', 'fks', 'acek', 'tetramethyl_rhodamine', 'kuroda', 'fdh', 'orl1'], 5: ['arg', 'pgm', 'tunel', 'opn', 'asc', 'malate', 'caf', 'low_pi', 'sb431542', 'mo1', 'mo2', 'psmad', 'aceb', 'mmachine', 'torsv'], 6: ['pcr', 'kcl', 'pyruvate', 'nematostella', 'coa', 'otx', 'idh', 'dlat', 'pepk']}\n",
      "{0: ['arg', 'pgm', 'ogdc', 'drosophila_sog', 'tetramethyl_rhodamine', 'aceb', 'pepk', 'torsv'], 1: ['pyruvate', 'pma', 'ppi', 'search_tool', 'hepes', 'coa', 'dataset_s2', 'delta2', 'bge', 'fumarate', 'sp6', 'malate_dehydrogenase', 'g6pdh', 'poxb', 'pyc', 'acea', 'acek', 'mmachine'], 2: ['pcr', 'pepck', 'texas_red', 'tgfb', 'iclr', 'kuroda', 'fdh'], 3: ['ppv', 'nadph', 'tunel', 'mtl', 'opn', 'sdh', 'w303', 'u0126', 'sb431542', 'mo1', 'fum'], 4: ['kcl', 'chordin', 'mgso4', 'asc', 'icl', 'phosphoenolpyruvate', 'dlat', 'fox3', 'fluoresceinated_dextran'], 5: ['nacl', 'nodal', 'fgf', 'nematostella', 'tca', 'nadh', 'otx', 'aox', 'idh', 'caf', 'low_pi', 'elisa_kit', 'msxb', 'mdh', 'ja122', 'not1', 'pcs2', 'blattabacterium', 'mdh1', 'mo2', 'fox2', 'fks', 'genetools', 'udpg', 'orl1'], 6: ['figure_s4', 'malate', 'pdh', 'rt_pcr', 'fermentative', 'psmad', 'bcne', 'idp2'], 7: ['figure_s1', 'atg', 'ipa', 'formate', 'psgs', 'dmrt1', 'isocitrate', 'aco', 'de_robertis', 'cy110']}\n",
      "{0: ['hepes', 'pgm', 'mgso4', 'bge', 'caf', 'fumarate', 'icl', 'texas_red', 'ja122', 'aco', 'mo2', 'poxb', 'genetools', 'acek', 'psmad', 'udpg', 'mmachine'], 1: ['figure_s4', 'arg', 'tca', 'chordin', 'tunel', 'coa', 'mtl', 'delta2', 'formate', 'rt_pcr', 'elisa_kit', 'fermentative', 'mdh', 'tgfb', 'blattabacterium', 'iclr', 'pyc', 'acea', 'dlat', 'idp2'], 2: ['pcr', 'ppv', 'pyruvate', 'ppi', 'pdh', 'not1', 'aceb'], 3: ['figure_s1', 'ipa', 'otx', 'dmrt1'], 4: ['atg', 'search_tool', 'nadh', 'u0126', 'psgs', 'isocitrate', 'cy110'], 5: ['fgf', 'pma', 'pepck', 'aox', 'sp6', 'malate_dehydrogenase', 'phosphoenolpyruvate', 'fks', 'kuroda', 'orl1', 'fox3'], 6: ['nacl', 'nodal', 'nadph', 'dataset_s2', 'opn', 'sdh', 'low_pi', 'msxb', 'sb431542', 'mo1', 'fum', 'tetramethyl_rhodamine', 'fdh', 'fluoresceinated_dextran'], 7: ['nematostella', 'w303', 'mdh1', 'drosophila_sog', 'de_robertis', 'torsv', 'bcne'], 8: ['kcl', 'asc', 'malate', 'idh', 'pcs2', 'ogdc', 'g6pdh', 'fox2', 'pepk']}\n"
     ]
    }
   ],
   "source": [
    "'''We cluster all terms extracted from the sentences with respect to their embedding vectors using K-means. \n",
    "Silhouette analysis is used to find the optimal number k of clusters. Finally, clusters that contain \n",
    "at least one of the seed terms are considered to (only) contain entities the same type (e.g Protein). '''\n",
    "\n",
    "maxcluster=0\n",
    "if len(df) >= 9:\n",
    "    for n_clusters in range(2, 10):\n",
    "\n",
    "        df = StandardScaler().fit_transform(df)\n",
    "        kmeans_model = KMeans(n_clusters=n_clusters, max_iter=300, n_init=100)\n",
    "        kmeans_model.fit(df)\n",
    "        cluster_labels = kmeans_model.labels_\n",
    "\n",
    "        cluster_to_words = find_word_clusters(labels_array, cluster_labels)\n",
    "        print(cluster_to_words)\n",
    "        cluster_labelss = kmeans_model.fit_predict(df)\n",
    "\n",
    "        finallist = []\n",
    "        for c in cluster_to_words:\n",
    "            counter = dict()\n",
    "\n",
    "            for word in cluster_to_words[c]:\n",
    "                counter[word] = 0\n",
    "\n",
    "            for word in cluster_to_words[c]:\n",
    "                if word in dsnames:\n",
    "\n",
    "                    for ww in cluster_to_words[c]:\n",
    "                        finallist.append(ww.replace('_', ' '))\n",
    "\n",
    "        try:\n",
    "            silhouette_avg = silhouette_score(df, cluster_labelss)\n",
    "            if silhouette_avg > maxcluster:\n",
    "                maxcluster = silhouette_avg\n",
    "#                 thefile = open(ROOTPATH + \"/evaluation_files_prot/\" + name + \"Pre_Iteration\" + numberOfIteration + \"_POS_\" + str(\n",
    "#                         numberOfSeeds) + \"_\" + str(iteration) + \".txt\", 'w')\n",
    "#                 for item in finallist:\n",
    "#                     thefile.write(\"%s\\n\" % item)\n",
    "                for item in finallist:\n",
    "                    print(item)\n",
    "        except:\n",
    "            continue"
   ]
  },
  {
   "cell_type": "code",
   "execution_count": 174,
   "metadata": {
    "hidden": true
   },
   "outputs": [
    {
     "data": {
      "text/plain": [
       "['n-cym protein',\n",
       " 'histidinol-phosphate aminotransferase',\n",
       " 'chordin',\n",
       " 'annexin a8',\n",
       " 'protein yipf4',\n",
       " 'nociceptin',\n",
       " 'malate dehydrogenase',\n",
       " 'd-galactonate dehydratase',\n",
       " 'tgf-beta 1',\n",
       " 'dipeptidase 1']"
      ]
     },
     "execution_count": 174,
     "metadata": {},
     "output_type": "execute_result"
    }
   ],
   "source": [
    "dsnames"
   ]
  },
  {
   "cell_type": "markdown",
   "metadata": {},
   "source": [
    "# trainingdata_generation.generate_trainingTE(5, 'term_expansion', str(0), str(number))"
   ]
  },
  {
   "cell_type": "code",
   "execution_count": 175,
   "metadata": {},
   "outputs": [],
   "source": [
    "# training data generation\n",
    "# for number in range(10):\n",
    "#     trainingdata_generation.generate_trainingTE(10, 'term_expansion', str(0), str(number))"
   ]
  },
  {
   "cell_type": "code",
   "execution_count": null,
   "metadata": {},
   "outputs": [],
   "source": []
  },
  {
   "cell_type": "code",
   "execution_count": null,
   "metadata": {},
   "outputs": [],
   "source": [
    "# training the NER model which will be saved in the crf_trained_files folder\n",
    "ner_training.create_austenprop(5, 'term_expansion', str(0))\n",
    "\n",
    "#\n",
    "ner_training.train(5, 'term_expansion', str(0))"
   ]
  },
  {
   "cell_type": "code",
   "execution_count": null,
   "metadata": {},
   "outputs": [],
   "source": []
  },
  {
   "cell_type": "markdown",
   "metadata": {},
   "source": [
    "# ner_training.create_austenprop"
   ]
  },
  {
   "cell_type": "code",
   "execution_count": 11,
   "metadata": {
    "scrolled": false
   },
   "outputs": [
    {
     "name": "stdout",
     "output_type": "stream",
     "text": [
      "# location of the training file\n",
      "\n",
      "\n",
      "\n",
      "trainFile=/Users/sepidehmesbah/PycharmProjects/NERDetector/evaluation_filesMet/embeddingClusteringAll1MET_text_iteration0_splitted5_0.txt\n",
      "testFile=/Users/sepidehmesbah/PycharmProjects/NERDetector/evaluation_filesMet/embeddingClusteringAll1MET_text_iteration0test_splitted5_0.txt\n",
      "\n",
      "serializeTo=/Users/sepidehmesbah/PycharmProjects/NERDetector/crf_trained_filesMet/embeddingClusteringAll1MET_text_iteration0_splitted5_0.ser.gz\n",
      "\n",
      "\n",
      "\n",
      "\n",
      "# structure of your training file; this tells the classifier that\n",
      "# the word is in column 0 and the correct answer is in column 1\n",
      "#map = word=0,pos=1,answer=3\n",
      "map = word=0,answer=1\n",
      "\n",
      "# This specifies the order of the CRF: order 1 means that features\n",
      "# apply at most to a class pair of previous class and current class\n",
      "# or current class and next class.\n",
      "maxLeft=1\n",
      "\n",
      "# these are the features we'd like to train with\n",
      "# some are discussed below, the rest can be\n",
      "# understood by looking at NERFeatureFactory\n",
      "useClassFeature=true\n",
      "useWord=true\n",
      "useAbbr=true\n",
      "\n",
      "# word character ngrams will be included up to length 6 as prefixes\n",
      "# and suffixes only\n",
      "useNGrams=true\n",
      "#noMidNGrams=true\n",
      "#maxNGramLeng=2\n",
      "usePrev=true\n",
      "useNext=true\n",
      "#useDisjunctive=true\n",
      "#useSequences=true\n",
      "#\n",
      "#usePrevSequences=true\n",
      "useLemmas=true\n",
      "normalize=true\n",
      "useOccurrencePatterns=true\n",
      "useLastRealWord=true\n",
      "useNextRealWord=true\n",
      "lowercaseNGrams=true\n",
      "\n",
      "\n",
      "# the last 4 properties deal with word shape features\n",
      "useTypeSeqs=true\n",
      "useTypeSeqs2=true\n",
      "useTypeySequences=true\n",
      "wordShape=chris2useLC\n",
      "#featureDiffThresh=0.05\n",
      "\n",
      "# location of the training file\n",
      "\n",
      "\n",
      "\n",
      "trainFile=/data2/SmartPub-TSENER/evaluation_files_prot/term_expansion_text_iteration33_splitted33_33.txt\n",
      "testFile=/data2/SmartPub-TSENER/evaluation_files_prot/term_expansion_text_iteration33test_splitted33_33.txt\n",
      "\n",
      "serializeTo=/data2/SmartPub-TSENER/crf_trained_files/term_expansion_text_iteration33_splitted33_33.ser.gz\n",
      "\n",
      "\n",
      "\n",
      "\n",
      "# structure of your training file; this tells the classifier that\n",
      "# the word is in column 0 and the correct answer is in column 1\n",
      "#map = word=0,pos=1,answer=3\n",
      "map = word=0,answer=1\n",
      "\n",
      "# This specifies the order of the CRF: order 1 means that features\n",
      "# apply at most to a class pair of previous class and current class\n",
      "# or current class and next class.\n",
      "maxLeft=1\n",
      "\n",
      "# these are the features we'd like to train with\n",
      "# some are discussed below, the rest can be\n",
      "# understood by looking at NERFeatureFactory\n",
      "useClassFeature=true\n",
      "useWord=true\n",
      "useAbbr=true\n",
      "\n",
      "# word character ngrams will be included up to length 6 as prefixes\n",
      "# and suffixes only\n",
      "useNGrams=true\n",
      "#noMidNGrams=true\n",
      "#maxNGramLeng=2\n",
      "usePrev=true\n",
      "useNext=true\n",
      "#useDisjunctive=true\n",
      "#useSequences=true\n",
      "#\n",
      "#usePrevSequences=true\n",
      "useLemmas=true\n",
      "normalize=true\n",
      "useOccurrencePatterns=true\n",
      "useLastRealWord=true\n",
      "useNextRealWord=true\n",
      "lowercaseNGrams=true\n",
      "\n",
      "\n",
      "# the last 4 properties deal with word shape features\n",
      "useTypeSeqs=true\n",
      "useTypeSeqs2=true\n",
      "useTypeySequences=true\n",
      "wordShape=chris2useLC\n",
      "#featureDiffThresh=0.05\n",
      "\n"
     ]
    }
   ],
   "source": [
    "import re\n",
    "\n",
    "outputfile = open(ROOTPATH + '/data/austen.prop', 'r')\n",
    "text = outputfile.read()\n",
    "print(text)\n",
    "name, numberOfIteration, numberOfSeeds, iteration = 'term_expansion', str(33), str(33), str(33)\n",
    "\n",
    "modifiedpath = ('trainFile=' + ROOTPATH + '/evaluation_files_prot/' + name + '_text_iteration' + numberOfIteration + \n",
    "                '_splitted' + str(numberOfSeeds) + '_' + str(iteration) + '.txt')\n",
    "modifiedpathtest = ('testFile=' + ROOTPATH + '/evaluation_files_prot/' + name + '_text_iteration' + numberOfIteration +\n",
    "                    'test_splitted' + str(numberOfSeeds) + '_' + str(iteration) + '.txt')\n",
    "serializeTo = ('serializeTo=' + ROOTPATH + '/crf_trained_files/' + name + '_text_iteration' + numberOfIteration + \n",
    "                '_splitted' + str(numberOfSeeds) + '_' + str(iteration) + '.ser.gz')\n",
    "\n",
    "edited = re.sub(r'trainFile.*?txt', modifiedpath, text, flags=re.DOTALL)\n",
    "edited = re.sub(r'testFile.*?txt', modifiedpathtest, edited, flags=re.DOTALL)\n",
    "edited = re.sub(r'serializeTo.*?gz', serializeTo, edited, flags=re.DOTALL)\n",
    "print(edited)"
   ]
  }
 ],
 "metadata": {
  "kernelspec": {
   "display_name": "Python 3",
   "language": "python",
   "name": "python3"
  },
  "language_info": {
   "codemirror_mode": {
    "name": "ipython",
    "version": 3
   },
   "file_extension": ".py",
   "mimetype": "text/x-python",
   "name": "python",
   "nbconvert_exporter": "python",
   "pygments_lexer": "ipython3",
   "version": "3.5.2"
  }
 },
 "nbformat": 4,
 "nbformat_minor": 2
}
