{
 "cells": [
  {
   "cell_type": "code",
   "execution_count": 1,
   "metadata": {
    "collapsed": true
   },
   "outputs": [],
   "source": [
    "%load_ext autoreload \n",
    "%autoreload 2"
   ]
  },
  {
   "cell_type": "code",
   "execution_count": 36,
   "metadata": {},
   "outputs": [],
   "source": [
    "from preprocessing import ner_training, expansion, seed_data_extraction\n",
    "from postprocessing import trainingdata_generation#, extract_new_entities, filtering\n",
    "import config as cfg\n",
    "import gensim\n",
    "import elasticsearch"
   ]
  },
  {
   "cell_type": "code",
   "execution_count": 3,
   "metadata": {
    "collapsed": true
   },
   "outputs": [],
   "source": [
    "es = elasticsearch.Elasticsearch([{'host': 'localhost', 'port': 9200}])"
   ]
  },
  {
   "cell_type": "markdown",
   "metadata": {
    "heading_collapsed": true
   },
   "source": [
    "#  seed_data_extraction.sentence_extraction(seeds)"
   ]
  },
  {
   "cell_type": "code",
   "execution_count": 32,
   "metadata": {
    "hidden": true
   },
   "outputs": [
    {
     "name": "stdout",
     "output_type": "stream",
     "text": [
      "Started training data extraction\n",
      "Selected seed terms ['imdb', 'imagenet', 'flickr', 'webkb', 'netflix', 'clueweb']\n",
      "imdb\n",
      "Got 448 hits in ES\n",
      "imagenet\n",
      "Got 41 hits in ES\n",
      "flickr\n",
      "Got 2521 hits in ES\n",
      "webkb\n",
      "Got 124 hits in ES\n",
      "netflix\n",
      "Got 548 hits in ES\n",
      "clueweb\n",
      "Got 393 hits in ES\n",
      "2546 sentences added for training in iteration\n",
      "\n",
      "Process finished with 6 seeds\n"
     ]
    }
   ],
   "source": [
    "seeds = ['clueweb', 'imagenet', 'flickr', 'webkb', 'netflix', 'imdb']\n",
    "seed_data_extraction.sentence_extraction(seeds)"
   ]
  },
  {
   "cell_type": "markdown",
   "metadata": {
    "heading_collapsed": true
   },
   "source": [
    "#  expansion.term_expansion_proteins"
   ]
  },
  {
   "cell_type": "code",
   "execution_count": 31,
   "metadata": {},
   "outputs": [
    {
     "name": "stdout",
     "output_type": "stream",
     "text": [
      "Started to extract generic named entity from sentences...\n",
      "Finished processing sentences with 5257 new possible entities\n",
      "started clustering\n",
      "......added 1533 expanded terms\n",
      ".........................................."
     ]
    }
   ],
   "source": [
    "expansion.term_expansion(0, 'dataset')"
   ]
  },
  {
   "cell_type": "markdown",
   "metadata": {},
   "source": [
    "# trainingdata_generation.generate_training_term_expansion_only"
   ]
  },
  {
   "cell_type": "code",
   "execution_count": 43,
   "metadata": {},
   "outputs": [
    {
     "name": "stdout",
     "output_type": "stream",
     "text": [
      "Labelling\n",
      "4095 lines labelled\n"
     ]
    }
   ],
   "source": [
    "trainingdata_generation.generate_training_term_expansion_only(model_name, 0)"
   ]
  },
  {
   "cell_type": "markdown",
   "metadata": {},
   "source": [
    "# trainingdata_generation.label_sentences_term_sentence_expansion"
   ]
  },
  {
   "cell_type": "code",
   "execution_count": 47,
   "metadata": {},
   "outputs": [],
   "source": [
    "model_doc2vec = gensim.models.Doc2Vec.load(cfg.ROOTPATH + '/models/doc2vec.model')"
   ]
  },
  {
   "cell_type": "code",
   "execution_count": 59,
   "metadata": {},
   "outputs": [
    {
     "name": "stdout",
     "output_type": "stream",
     "text": [
      "Expanding sentences\n",
      "...............................................................................................................................................................................................................................................................................................................................................................................................................................................................................................................................................................................................................................................................................................................................................................................................................................................................................................................................................................................................................................................................................................................................................................................................................................................................................................................................................................................................................................................................................................................................................................................................................................................................................................................................................................................................................................................................................................................................................................................................................................................................................................................................................................................................................................................................................................................................................................................................................................................................................................................................................................................................................................................................................................................................................................................................................................................................................................................................................................................................................................................................................................................................................................................................................................................................................................................................................................................................................................................................................................................................................................................................................................................................................................................................................................................................................................................................................................................................................................................................................................................................................................................................................................................................................................................................Added 2521 expanded sentences to the 4095 original\n",
      "Labelling\n",
      "6586 lines labelled\n"
     ]
    }
   ],
   "source": [
    "trainingdata_generation.label_sentences_term_sentence_expansion(model_name, 0, model_doc2vec)"
   ]
  },
  {
   "cell_type": "markdown",
   "metadata": {},
   "source": [
    "# ner_training.create_austenprop"
   ]
  },
  {
   "cell_type": "code",
   "execution_count": null,
   "metadata": {
    "collapsed": true
   },
   "outputs": [],
   "source": []
  }
 ],
 "metadata": {
  "kernelspec": {
   "display_name": "Python 3",
   "language": "python",
   "name": "python3"
  },
  "language_info": {
   "codemirror_mode": {
    "name": "ipython",
    "version": 3
   },
   "file_extension": ".py",
   "mimetype": "text/x-python",
   "name": "python",
   "nbconvert_exporter": "python",
   "pygments_lexer": "ipython3",
   "version": "3.6.1"
  }
 },
 "nbformat": 4,
 "nbformat_minor": 2
}
