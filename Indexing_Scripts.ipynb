{
 "cells": [
  {
   "cell_type": "code",
   "execution_count": 95,
   "metadata": {},
   "outputs": [],
   "source": [
    "from elasticsearch import Elasticsearch\n",
    "import nltk\n",
    "es = Elasticsearch([{'host': 'localhost', 'port': 9200}])"
   ]
  },
  {
   "cell_type": "code",
   "execution_count": 138,
   "metadata": {
    "scrolled": false
   },
   "outputs": [
    {
     "data": {
      "text/plain": [
       "{'active_primary_shards': 30,\n",
       " 'active_shards': 30,\n",
       " 'active_shards_percent_as_number': 100.0,\n",
       " 'cluster_name': 'smartpub',\n",
       " 'delayed_unassigned_shards': 0,\n",
       " 'initializing_shards': 0,\n",
       " 'number_of_data_nodes': 1,\n",
       " 'number_of_in_flight_fetch': 0,\n",
       " 'number_of_nodes': 1,\n",
       " 'number_of_pending_tasks': 0,\n",
       " 'relocating_shards': 0,\n",
       " 'status': 'green',\n",
       " 'task_max_waiting_in_queue_millis': 0,\n",
       " 'timed_out': False,\n",
       " 'unassigned_shards': 0}"
      ]
     },
     "execution_count": 138,
     "metadata": {},
     "output_type": "execute_result"
    }
   ],
   "source": [
    "es.cluster.health()"
   ]
  },
  {
   "cell_type": "code",
   "execution_count": 89,
   "metadata": {
    "scrolled": true
   },
   "outputs": [
    {
     "data": {
      "text/plain": [
       "{'_nodes': {'failed': 0, 'successful': 1, 'total': 1},\n",
       " 'cluster_name': 'smartpub',\n",
       " 'nodes': {'ebADX0twTlqxi_hYrNewow': {'adaptive_selection': {'ebADX0twTlqxi_hYrNewow': {'avg_queue_size': 0,\n",
       "     'avg_response_time_ns': 120065,\n",
       "     'avg_service_time_ns': 64326,\n",
       "     'outgoing_searches': 0,\n",
       "     'rank': '0.1'}},\n",
       "   'breakers': {'accounting': {'estimated_size': '1.8mb',\n",
       "     'estimated_size_in_bytes': 1888034,\n",
       "     'limit_size': '990.7mb',\n",
       "     'limit_size_in_bytes': 1038876672,\n",
       "     'overhead': 1.0,\n",
       "     'tripped': 0},\n",
       "    'fielddata': {'estimated_size': '0b',\n",
       "     'estimated_size_in_bytes': 0,\n",
       "     'limit_size': '594.4mb',\n",
       "     'limit_size_in_bytes': 623326003,\n",
       "     'overhead': 1.03,\n",
       "     'tripped': 0},\n",
       "    'in_flight_requests': {'estimated_size': '78.8kb',\n",
       "     'estimated_size_in_bytes': 80692,\n",
       "     'limit_size': '990.7mb',\n",
       "     'limit_size_in_bytes': 1038876672,\n",
       "     'overhead': 1.0,\n",
       "     'tripped': 0},\n",
       "    'parent': {'estimated_size': '1.8mb',\n",
       "     'estimated_size_in_bytes': 1968726,\n",
       "     'limit_size': '693.5mb',\n",
       "     'limit_size_in_bytes': 727213670,\n",
       "     'overhead': 1.0,\n",
       "     'tripped': 0},\n",
       "    'request': {'estimated_size': '0b',\n",
       "     'estimated_size_in_bytes': 0,\n",
       "     'limit_size': '594.4mb',\n",
       "     'limit_size_in_bytes': 623326003,\n",
       "     'overhead': 1.0,\n",
       "     'tripped': 0}},\n",
       "   'discovery': {'cluster_state_queue': {'committed': 0,\n",
       "     'pending': 0,\n",
       "     'total': 0},\n",
       "    'published_cluster_states': {'compatible_diffs': 0,\n",
       "     'full_states': 0,\n",
       "     'incompatible_diffs': 0}},\n",
       "   'fs': {'data': [{'available_in_bytes': 220183314432,\n",
       "      'free_in_bytes': 220183314432,\n",
       "      'mount': '/data2 (/dev/vdb)',\n",
       "      'path': '/data2/SmartPub/elasticsearch/data/nodes/0',\n",
       "      'total_in_bytes': 268304384000,\n",
       "      'type': 'xfs'}],\n",
       "    'io_stats': {'devices': [{'device_name': 'vdb',\n",
       "       'operations': 532779,\n",
       "       'read_kilobytes': 0,\n",
       "       'read_operations': 0,\n",
       "       'write_kilobytes': 30606888,\n",
       "       'write_operations': 532779}],\n",
       "     'total': {'operations': 532779,\n",
       "      'read_kilobytes': 0,\n",
       "      'read_operations': 0,\n",
       "      'write_kilobytes': 30606888,\n",
       "      'write_operations': 532779}},\n",
       "    'least_usage_estimate': {'available_in_bytes': 220183355392,\n",
       "     'path': '/data2/SmartPub/elasticsearch/data/nodes/0',\n",
       "     'total_in_bytes': 268304384000,\n",
       "     'used_disk_percent': 17.935237542745483},\n",
       "    'most_usage_estimate': {'available_in_bytes': 220183355392,\n",
       "     'path': '/data2/SmartPub/elasticsearch/data/nodes/0',\n",
       "     'total_in_bytes': 268304384000,\n",
       "     'used_disk_percent': 17.935237542745483},\n",
       "    'timestamp': 1522150033932,\n",
       "    'total': {'available_in_bytes': 220183314432,\n",
       "     'free_in_bytes': 220183314432,\n",
       "     'total_in_bytes': 268304384000}},\n",
       "   'host': '127.0.0.1',\n",
       "   'http': {'current_open': 3, 'total_opened': 123},\n",
       "   'indices': {'completion': {'size_in_bytes': 0},\n",
       "    'docs': {'count': 1380237, 'deleted': 2632},\n",
       "    'fielddata': {'evictions': 0, 'memory_size_in_bytes': 0},\n",
       "    'flush': {'total': 90, 'total_time_in_millis': 10388},\n",
       "    'get': {'current': 0,\n",
       "     'exists_time_in_millis': 0,\n",
       "     'exists_total': 0,\n",
       "     'missing_time_in_millis': 0,\n",
       "     'missing_total': 0,\n",
       "     'time_in_millis': 0,\n",
       "     'total': 0},\n",
       "    'indexing': {'delete_current': 0,\n",
       "     'delete_time_in_millis': 0,\n",
       "     'delete_total': 0,\n",
       "     'index_current': 0,\n",
       "     'index_failed': 0,\n",
       "     'index_time_in_millis': 398746,\n",
       "     'index_total': 3595594,\n",
       "     'is_throttled': False,\n",
       "     'noop_update_total': 0,\n",
       "     'throttle_time_in_millis': 0},\n",
       "    'merges': {'current': 0,\n",
       "     'current_docs': 0,\n",
       "     'current_size_in_bytes': 0,\n",
       "     'total': 1092,\n",
       "     'total_auto_throttle_in_bytes': 1020845060,\n",
       "     'total_docs': 12867314,\n",
       "     'total_size_in_bytes': 7389122662,\n",
       "     'total_stopped_time_in_millis': 0,\n",
       "     'total_throttled_time_in_millis': 47705,\n",
       "     'total_time_in_millis': 233532},\n",
       "    'query_cache': {'cache_count': 0,\n",
       "     'cache_size': 0,\n",
       "     'evictions': 0,\n",
       "     'hit_count': 0,\n",
       "     'memory_size_in_bytes': 0,\n",
       "     'miss_count': 0,\n",
       "     'total_count': 0},\n",
       "    'recovery': {'current_as_source': 0,\n",
       "     'current_as_target': 0,\n",
       "     'throttle_time_in_millis': 0},\n",
       "    'refresh': {'listeners': 0,\n",
       "     'total': 11189,\n",
       "     'total_time_in_millis': 147307},\n",
       "    'request_cache': {'evictions': 0,\n",
       "     'hit_count': 0,\n",
       "     'memory_size_in_bytes': 0,\n",
       "     'miss_count': 0},\n",
       "    'search': {'fetch_current': 0,\n",
       "     'fetch_time_in_millis': 3023,\n",
       "     'fetch_total': 36925,\n",
       "     'open_contexts': 0,\n",
       "     'query_current': 0,\n",
       "     'query_time_in_millis': 5685,\n",
       "     'query_total': 290830,\n",
       "     'scroll_current': 0,\n",
       "     'scroll_time_in_millis': 0,\n",
       "     'scroll_total': 0,\n",
       "     'suggest_current': 0,\n",
       "     'suggest_time_in_millis': 0,\n",
       "     'suggest_total': 0},\n",
       "    'segments': {'count': 90,\n",
       "     'doc_values_memory_in_bytes': 6360,\n",
       "     'file_sizes': {},\n",
       "     'fixed_bit_set_memory_in_bytes': 0,\n",
       "     'index_writer_memory_in_bytes': 0,\n",
       "     'max_unsafe_auto_id_timestamp': -1,\n",
       "     'memory_in_bytes': 1888034,\n",
       "     'norms_memory_in_bytes': 15104,\n",
       "     'points_memory_in_bytes': 6911,\n",
       "     'stored_fields_memory_in_bytes': 182272,\n",
       "     'term_vectors_memory_in_bytes': 0,\n",
       "     'terms_memory_in_bytes': 1677387,\n",
       "     'version_map_memory_in_bytes': 0},\n",
       "    'store': {'size_in_bytes': 1050335879},\n",
       "    'translog': {'operations': 1403693,\n",
       "     'size_in_bytes': 1042254645,\n",
       "     'uncommitted_operations': 1348537,\n",
       "     'uncommitted_size_in_bytes': 675687275},\n",
       "    'warmer': {'current': 0, 'total': 4442, 'total_time_in_millis': 30}},\n",
       "   'ingest': {'pipelines': {},\n",
       "    'total': {'count': 0, 'current': 0, 'failed': 0, 'time_in_millis': 0}},\n",
       "   'ip': '127.0.0.1:9300',\n",
       "   'jvm': {'buffer_pools': {'direct': {'count': 41,\n",
       "      'total_capacity_in_bytes': 134882521,\n",
       "      'used_in_bytes': 134882522},\n",
       "     'mapped': {'count': 246,\n",
       "      'total_capacity_in_bytes': 1033497227,\n",
       "      'used_in_bytes': 1033497227}},\n",
       "    'classes': {'current_loaded_count': 11373,\n",
       "     'total_loaded_count': 11451,\n",
       "     'total_unloaded_count': 78},\n",
       "    'gc': {'collectors': {'old': {'collection_count': 4,\n",
       "       'collection_time_in_millis': 155},\n",
       "      'young': {'collection_count': 870, 'collection_time_in_millis': 5484}}},\n",
       "    'mem': {'heap_committed_in_bytes': 1038876672,\n",
       "     'heap_max_in_bytes': 1038876672,\n",
       "     'heap_used_in_bytes': 341412616,\n",
       "     'heap_used_percent': 32,\n",
       "     'non_heap_committed_in_bytes': 117493760,\n",
       "     'non_heap_used_in_bytes': 110545256,\n",
       "     'pools': {'old': {'max_in_bytes': 724828160,\n",
       "       'peak_max_in_bytes': 724828160,\n",
       "       'peak_used_in_bytes': 549015224,\n",
       "       'used_in_bytes': 210644688},\n",
       "      'survivor': {'max_in_bytes': 34865152,\n",
       "       'peak_max_in_bytes': 34865152,\n",
       "       'peak_used_in_bytes': 34865152,\n",
       "       'used_in_bytes': 2921632},\n",
       "      'young': {'max_in_bytes': 279183360,\n",
       "       'peak_max_in_bytes': 279183360,\n",
       "       'peak_used_in_bytes': 279183360,\n",
       "       'used_in_bytes': 127846296}}},\n",
       "    'threads': {'count': 52, 'peak_count': 57},\n",
       "    'timestamp': 1522150033932,\n",
       "    'uptime_in_millis': 679869926},\n",
       "   'name': 'ebADX0t',\n",
       "   'os': {'cgroup': {'cpu': {'cfs_period_micros': 100000,\n",
       "      'cfs_quota_micros': -1,\n",
       "      'control_group': '/system.slice/elasticsearch.service',\n",
       "      'stat': {'number_of_elapsed_periods': 0,\n",
       "       'number_of_times_throttled': 0,\n",
       "       'time_throttled_nanos': 0}},\n",
       "     'cpuacct': {'control_group': '/system.slice/elasticsearch.service',\n",
       "      'usage_nanos': 1844817450940},\n",
       "     'memory': {'control_group': '/system.slice/elasticsearch.service',\n",
       "      'limit_in_bytes': '9223372036854771712',\n",
       "      'usage_in_bytes': '3602161664'}},\n",
       "    'cpu': {'load_average': {'15m': 1.63, '1m': 2.03, '5m': 2.05},\n",
       "     'percent': 0},\n",
       "    'mem': {'free_in_bytes': 24493150208,\n",
       "     'free_percent': 36,\n",
       "     'total_in_bytes': 67560984576,\n",
       "     'used_in_bytes': 43067834368,\n",
       "     'used_percent': 64},\n",
       "    'swap': {'free_in_bytes': 534769664,\n",
       "     'total_in_bytes': 534769664,\n",
       "     'used_in_bytes': 0},\n",
       "    'timestamp': 1522150033932},\n",
       "   'process': {'cpu': {'percent': 0, 'total_in_millis': 1843420},\n",
       "    'max_file_descriptors': 65536,\n",
       "    'mem': {'total_virtual_in_bytes': 5916110848},\n",
       "    'open_file_descriptors': 237,\n",
       "    'timestamp': 1522150033932},\n",
       "   'roles': ['master', 'data', 'ingest'],\n",
       "   'script': {'cache_evictions': 0, 'compilations': 0},\n",
       "   'thread_pool': {'bulk': {'active': 1,\n",
       "     'completed': 124426,\n",
       "     'largest': 4,\n",
       "     'queue': 0,\n",
       "     'rejected': 0,\n",
       "     'threads': 4},\n",
       "    'fetch_shard_started': {'active': 0,\n",
       "     'completed': 5,\n",
       "     'largest': 5,\n",
       "     'queue': 0,\n",
       "     'rejected': 0,\n",
       "     'threads': 1},\n",
       "    'fetch_shard_store': {'active': 0,\n",
       "     'completed': 0,\n",
       "     'largest': 0,\n",
       "     'queue': 0,\n",
       "     'rejected': 0,\n",
       "     'threads': 0},\n",
       "    'flush': {'active': 0,\n",
       "     'completed': 219,\n",
       "     'largest': 2,\n",
       "     'queue': 0,\n",
       "     'rejected': 0,\n",
       "     'threads': 2},\n",
       "    'force_merge': {'active': 0,\n",
       "     'completed': 0,\n",
       "     'largest': 0,\n",
       "     'queue': 0,\n",
       "     'rejected': 0,\n",
       "     'threads': 0},\n",
       "    'generic': {'active': 0,\n",
       "     'completed': 108524,\n",
       "     'largest': 4,\n",
       "     'queue': 0,\n",
       "     'rejected': 0,\n",
       "     'threads': 4},\n",
       "    'get': {'active': 0,\n",
       "     'completed': 0,\n",
       "     'largest': 0,\n",
       "     'queue': 0,\n",
       "     'rejected': 0,\n",
       "     'threads': 0},\n",
       "    'index': {'active': 0,\n",
       "     'completed': 0,\n",
       "     'largest': 0,\n",
       "     'queue': 0,\n",
       "     'rejected': 0,\n",
       "     'threads': 0},\n",
       "    'listener': {'active': 0,\n",
       "     'completed': 0,\n",
       "     'largest': 0,\n",
       "     'queue': 0,\n",
       "     'rejected': 0,\n",
       "     'threads': 0},\n",
       "    'management': {'active': 1,\n",
       "     'completed': 90569,\n",
       "     'largest': 4,\n",
       "     'queue': 0,\n",
       "     'rejected': 0,\n",
       "     'threads': 4},\n",
       "    'refresh': {'active': 0,\n",
       "     'completed': 1156331,\n",
       "     'largest': 2,\n",
       "     'queue': 0,\n",
       "     'rejected': 0,\n",
       "     'threads': 2},\n",
       "    'search': {'active': 0,\n",
       "     'completed': 385931,\n",
       "     'largest': 7,\n",
       "     'queue': 0,\n",
       "     'rejected': 0,\n",
       "     'threads': 7},\n",
       "    'snapshot': {'active': 0,\n",
       "     'completed': 0,\n",
       "     'largest': 0,\n",
       "     'queue': 0,\n",
       "     'rejected': 0,\n",
       "     'threads': 0},\n",
       "    'warmer': {'active': 0,\n",
       "     'completed': 0,\n",
       "     'largest': 0,\n",
       "     'queue': 0,\n",
       "     'rejected': 0,\n",
       "     'threads': 0}},\n",
       "   'timestamp': 1522150033929,\n",
       "   'transport': {'rx_count': 0,\n",
       "    'rx_size_in_bytes': 0,\n",
       "    'server_open': 0,\n",
       "    'tx_count': 0,\n",
       "    'tx_size_in_bytes': 0},\n",
       "   'transport_address': '127.0.0.1:9300'}}}"
      ]
     },
     "execution_count": 89,
     "metadata": {},
     "output_type": "execute_result"
    }
   ],
   "source": [
    "es.nodes.stats()"
   ]
  },
  {
   "cell_type": "raw",
   "metadata": {},
   "source": [
    "Command for ES replicas per node\n",
    "\n",
    "curl -XPUT 'localhost:9200/ir/_settings' -H 'Content-Type: application/json' -d '{\"number_of_replicas\": 0}'\n",
    "\n",
    "curl -XPUT 'localhost:9200/twosent/_settings' -H 'Content-Type: application/json' -d '{\"number_of_replicas\": 0}'"
   ]
  },
  {
   "cell_type": "raw",
   "metadata": {},
   "source": [
    "curl -XPUT 'localhost:9200/_cluster/settings?pretty' -H 'Content-Type: application/json' -d'\n",
    "{\n",
    "    \"persistent\":\n",
    "  { \"cluster.routing.allocation.enable\" : \"all\"\n",
    "  }\n",
    "}\n",
    "'"
   ]
  },
  {
   "cell_type": "markdown",
   "metadata": {
    "heading_collapsed": true
   },
   "source": [
    "# Analysis"
   ]
  },
  {
   "cell_type": "code",
   "execution_count": 4,
   "metadata": {
    "hidden": true
   },
   "outputs": [
    {
     "ename": "TypeError",
     "evalue": "object of type 'Cursor' has no len()",
     "output_type": "error",
     "traceback": [
      "\u001b[0;31m---------------------------------------------------------------------------\u001b[0m",
      "\u001b[0;31mTypeError\u001b[0m                                 Traceback (most recent call last)",
      "\u001b[0;32m<ipython-input-4-a5dc67dd7b74>\u001b[0m in \u001b[0;36m<module>\u001b[0;34m()\u001b[0m\n\u001b[1;32m     12\u001b[0m     \u001b[0mresults\u001b[0m \u001b[0;34m=\u001b[0m \u001b[0mdb\u001b[0m\u001b[0;34m.\u001b[0m\u001b[0mpublications\u001b[0m\u001b[0;34m.\u001b[0m\u001b[0mfind\u001b[0m\u001b[0;34m(\u001b[0m\u001b[0mmongo_string_search\u001b[0m\u001b[0;34m)\u001b[0m\u001b[0;34m\u001b[0m\u001b[0m\n\u001b[1;32m     13\u001b[0m \u001b[0;34m\u001b[0m\u001b[0m\n\u001b[0;32m---> 14\u001b[0;31m     \u001b[0mlist_of_pubs\u001b[0m\u001b[0;34m[\u001b[0m\u001b[0mbooktitle\u001b[0m\u001b[0;34m]\u001b[0m \u001b[0;34m=\u001b[0m \u001b[0mlen\u001b[0m\u001b[0;34m(\u001b[0m\u001b[0mresults\u001b[0m\u001b[0;34m)\u001b[0m\u001b[0;34m\u001b[0m\u001b[0m\n\u001b[0m",
      "\u001b[0;31mTypeError\u001b[0m: object of type 'Cursor' has no len()"
     ]
    }
   ],
   "source": [
    "filter_publications = [\"WWW\", \"ICSE\", \"VLDB\", \"JCDL\", \"TREC\",  \"SIGIR\", \"ICWSM\", \"ECDL\", #\"ESWC\", \"TPDL\", \n",
    "                         \"PLoS Biology\", \"Breast Cancer Research\", \"BMC Evolutionary Biology\", \"BMC Genomics\", \"BMC Biotechnology\",\n",
    "                        \"BMC Neuroscience\", \"Genome Biology\", \"PLoS Genetics\", \"Breast Cancer Research : BCR\", \n",
    "                       \"Genome Biology and Evolution\", \"Breast Cancer Research and Treatment\"]\n",
    "\n",
    "list_of_pubs = {}\n",
    "\n",
    "for booktitle in filter_publications:\n",
    "    mongo_string_search = {'$or': [{'$and': [{'booktitle': booktitle}, {'content.fulltext': {'$exists': True}}]} ,\n",
    "                                   {'$and': [{'journal': booktitle},   {'content.fulltext': {'$exists': True}}]} ]}\n",
    "    \n",
    "    results = db.publications.find(mongo_string_search)\n",
    "\n",
    "    list_of_pubs[booktitle] = len(results)"
   ]
  },
  {
   "cell_type": "code",
   "execution_count": null,
   "metadata": {
    "hidden": true
   },
   "outputs": [],
   "source": []
  },
  {
   "cell_type": "markdown",
   "metadata": {},
   "source": [
    "# 2 Full Index"
   ]
  },
  {
   "cell_type": "code",
   "execution_count": 3,
   "metadata": {},
   "outputs": [],
   "source": [
    "from pymongo import MongoClient\n",
    "from elasticsearch import Elasticsearch\n",
    "from elasticsearch import helpers\n",
    "import nltk\n",
    "import config as cfg\n",
    "\n",
    "sent_detector = nltk.data.load('tokenizers/punkt/english.pickle')"
   ]
  },
  {
   "cell_type": "code",
   "execution_count": 4,
   "metadata": {},
   "outputs": [
    {
     "data": {
      "text/plain": [
       "{'active_primary_shards': 15,\n",
       " 'active_shards': 15,\n",
       " 'active_shards_percent_as_number': 100.0,\n",
       " 'cluster_name': 'smartpub',\n",
       " 'delayed_unassigned_shards': 0,\n",
       " 'initializing_shards': 0,\n",
       " 'number_of_data_nodes': 1,\n",
       " 'number_of_in_flight_fetch': 0,\n",
       " 'number_of_nodes': 1,\n",
       " 'number_of_pending_tasks': 0,\n",
       " 'relocating_shards': 0,\n",
       " 'status': 'green',\n",
       " 'task_max_waiting_in_queue_millis': 0,\n",
       " 'timed_out': False,\n",
       " 'unassigned_shards': 0}"
      ]
     },
     "execution_count": 4,
     "metadata": {},
     "output_type": "execute_result"
    }
   ],
   "source": [
    "client = MongoClient('localhost:' + str(cfg.mongoDB_Port))\n",
    "db = client.pub\n",
    "pub = client.pub.publications\n",
    "es = Elasticsearch(\n",
    "    [{'host': 'localhost', 'port': 9200}], timeout=30, max_retries=10, retry_on_timeout=True\n",
    ")\n",
    "es.cluster.health(wait_for_status='yellow', request_timeout=1)"
   ]
  },
  {
   "cell_type": "code",
   "execution_count": 5,
   "metadata": {},
   "outputs": [],
   "source": [
    "def return_chapters(mongo_string_search, db):\n",
    "    results = db.publications.find(mongo_string_search)\n",
    "    chapters = list()\n",
    "    chapter_nums = list()\n",
    "    list_of_docs = list()\n",
    "    merged_chapters = list()\n",
    "    \n",
    "    my_dict = {\n",
    "        \"_id\": \"\",\n",
    "        \"title\": \"\",\n",
    "        \"content\": \"\",\n",
    "        \"journal\": \"\",\n",
    "        \"year\":\"\"\n",
    "    }\n",
    "    for i, r in enumerate(results):\n",
    "        # try:\n",
    "        # list_of_sections = list()\n",
    "        my_dict['_id'] = r['_id']\n",
    "        my_dict['title'] = r['title']\n",
    "        try:\n",
    "            my_dict['journal'] = r['booktitle']\n",
    "        except: \n",
    "            pass\n",
    "        try:\n",
    "            my_dict['journal'] = r['journal']\n",
    "        except: \n",
    "            pass\n",
    "        try:\n",
    "            my_dict['year'] = r['year']\n",
    "        except: \n",
    "            pass\n",
    "        try:\n",
    "            my_dict['content'] = r['content']['fulltext']\n",
    "        except:\n",
    "            my_dict['content'] = \"\"\n",
    "            # print(my_dict)\n",
    "            # sys.exit(1)\n",
    "\n",
    "        list_of_docs.append(my_dict)\n",
    "\n",
    "        my_dict = {\n",
    "            \"_id\": \"\",\n",
    "            \"title\": \"\",\n",
    "            \"content\": \"\",\n",
    "            \"journal\": \"\",\n",
    "            \"year\": \"\"\n",
    "        }\n",
    "\n",
    "    return list_of_docs"
   ]
  },
  {
   "cell_type": "code",
   "execution_count": 22,
   "metadata": {},
   "outputs": [],
   "source": [
    "filter_conference = [\"WWW\", #\"ICSE\", \"VLDB\", \"JCDL\", \"TREC\",  \"SIGIR\", \"ICWSM\", \"ECDL\",  \"ESWC\", \"TPDL\", \n",
    "#                          \"PLoS Biology\", \"Breast Cancer Research\", \"BMC Evolutionary Biology\", \"BMC Genomics\", \"BMC Biotechnology\",\n",
    "#                         \"BMC Neuroscience\", \"Genome Biology\", \"PLoS Genetics\", \"Breast Cancer Research : BCR\", \n",
    "                       \"Genome Biology and Evolution\", \"Breast Cancer Research and Treatment\"]\n",
    "\n",
    "list_of_pubs = []\n",
    "publications = {}\n",
    "\n",
    "for booktitle in filter_conference:\n",
    "    mongo_string_search = {'$or': [{'$and': [{'booktitle': booktitle}, {'content.fulltext': {'$exists': True}}]} ,\n",
    "                                   {'$and': [{'journal': booktitle},   {'content.fulltext': {'$exists': True}}]} ]}\n",
    "    list_of_pubs.append(return_chapters(mongo_string_search, db))\n",
    "    publications[booktitle] = return_chapters(mongo_string_search, db)"
   ]
  },
  {
   "cell_type": "code",
   "execution_count": 23,
   "metadata": {},
   "outputs": [
    {
     "name": "stdout",
     "output_type": "stream",
     "text": [
      "(WWW - 2106 papers from 2001 to 2016); (Genome Biology and Evolution - 130 papers from 2012 to 2018); (Breast Cancer Research and Treatment - 23 papers from 2016 to 2018); 2259\n"
     ]
    }
   ],
   "source": [
    "filter_conference = [\"WWW\",# \"ICSE\", \"VLDB\", \"JCDL\", \"TREC\",  \"SIGIR\", \"ICWSM\", \"ECDL\", \"ESWC\", \"TPDL\",\n",
    "#                          \"PLoS Biology\", \"Breast Cancer Research\", \"BMC Evolutionary Biology\", \"BMC Genomics\", \"BMC Biotechnology\",\n",
    "#                         \"BMC Neuroscience\", \"Genome Biology\", \"PLoS Genetics\", \"Breast Cancer Research : BCR\", \n",
    "                       \"Genome Biology and Evolution\", \"Breast Cancer Research and Treatment\"]\n",
    "total = 0\n",
    "titles = []\n",
    "for key in filter_conference:\n",
    "    titles.append(key)\n",
    "    years = []\n",
    "    for pub in publications[key]:\n",
    "        years.append(pub['year'])\n",
    "        titles.append((pub['title'], pub['year']))\n",
    "        \n",
    "    print( '(' + key, '-', str(len(publications[key])), 'papers from', str(min(years)), \n",
    "          'to', str(max(years)) +'); ', end='')\n",
    "    total = total +  len(publications[key])\n",
    "print(total)"
   ]
  },
  {
   "cell_type": "code",
   "execution_count": 37,
   "metadata": {},
   "outputs": [],
   "source": [
    "results = db.publications.find(mongo_string_search)"
   ]
  },
  {
   "cell_type": "code",
   "execution_count": 38,
   "metadata": {},
   "outputs": [
    {
     "data": {
      "text/plain": [
       "{'_id': 'PMC_5847065',\n",
       " 'authors': [['Pezo', 'Rossanna C.', 'Aff1'],\n",
       "  ['Pezo', 'Rossanna C.', 'Aff2'],\n",
       "  ['Pezo', 'Rossanna C.', 'Aff9'],\n",
       "  ['Chen', 'Tom W.', 'Aff3'],\n",
       "  ['Berman', 'Hal K.', 'Aff4'],\n",
       "  ['Berman', 'Hal K.', 'Aff5'],\n",
       "  ['Mulligan', 'Anna M.', 'Aff4'],\n",
       "  ['Mulligan', 'Anna M.', 'Aff5'],\n",
       "  ['Razak', 'Albiruni A.', 'Aff1'],\n",
       "  ['Razak', 'Albiruni A.', 'Aff2'],\n",
       "  ['Siu', 'Lillian L.', 'Aff1'],\n",
       "  ['Siu', 'Lillian L.', 'Aff2'],\n",
       "  ['Siu', 'Lillian L.', 'Aff6'],\n",
       "  ['Cescon', 'David W.', 'Aff1'],\n",
       "  ['Cescon', 'David W.', 'Aff2'],\n",
       "  ['Amir', 'Eitan', 'Aff1'],\n",
       "  ['Amir', 'Eitan', 'Aff2'],\n",
       "  ['Elser', 'Christine', 'Aff1'],\n",
       "  ['Elser', 'Christine', 'Aff2'],\n",
       "  ['Warr', 'David G.', 'Aff1'],\n",
       "  ['Warr', 'David G.', 'Aff2'],\n",
       "  ['Sridhar', 'Srikala S.', 'Aff1'],\n",
       "  ['Sridhar', 'Srikala S.', 'Aff2'],\n",
       "  ['Yu', 'Celeste', 'Aff6'],\n",
       "  ['Wang', 'Lisa', 'Aff7'],\n",
       "  ['Stockley', 'Tracy L.', 'Aff4'],\n",
       "  ['Stockley', 'Tracy L.', 'Aff5'],\n",
       "  ['Stockley', 'Tracy L.', 'Aff6'],\n",
       "  ['Kamel-Reid', 'Suzanne', 'Aff4'],\n",
       "  ['Kamel-Reid', 'Suzanne', 'Aff5'],\n",
       "  ['Kamel-Reid', 'Suzanne', 'Aff6'],\n",
       "  ['Kamel-Reid', 'Suzanne', 'Aff8'],\n",
       "  ['Bedard', 'Philippe L.', 'Aff1'],\n",
       "  ['Bedard', 'Philippe L.', 'Aff2'],\n",
       "  ['Bedard', 'Philippe L.', 'Aff6']],\n",
       " 'content': {'abstract': 'Purpose Next-generation sequencing (NGS) has identified recurrent genomic alterations in metastatic breast cancer (MBC); however, the clinical utility of incorporating routine sequencing to guide treatment decisions in this setting is unclear. We examine the frequency of genomic alterations in MBC patients from academic and community hospitals and correlate with clinical outcomes. Methods MBC patients with good performance status were prospectively recruited at the Princess Margaret Cancer Centre (PM) in Canada. Molecular profiling on DNA extracted from FFPE archival tissues was performed on the Sequenom MassArray platform or the TruSeq Amplicon Cancer Panel (TSACP) on the MiSeq platform. Clinical trial outcomes by RECIST 1.1 and time on treatment were reviewed retrospectively. Results From January 2012 to November 2015, 483 MBC patients were enrolled and 440 were genotyped. At least one somatic mutation was identified in 46% of patients, most commonly in PIK3CA (28%) or TP53 (13%). Of 203 patients with\\xa0≥\\xa01 mutation(s), 15% were treated on genotype-matched and 9% on non-matched trials. There was no significant difference for median time on treatment for patients treated on matched vs. non-matched therapies (3.6 vs. 3.8\\xa0months; p =\\xa00.89). Conclusions This study provides real-world outcomes on hotspot genotyping and small targeted panel sequencing of MBC patients from academic and community settings. Few patients were matched to clinical trials with targeted therapies. More comprehensive profiling and improved access to clinical trials may increase therapeutic options for patients with actionable mutations. Further studies are needed to evaluate if this approach leads to improved clinical outcomes. Electronic supplementary material The online version of this article (10.1007/s10549-017-4580-2) contains supplementary material, which is available to authorized users.',\n",
       "  'chapters': [[{'paragraphs': ['Consort diagram of study schema and genotyping results',\n",
       "      'Baseline characteristics of all patients enrolled in the molecular profiling program',\n",
       "      '\\naOne patient received 18 lines of systemic therapies',\n",
       "      'Overall frequency (percentage) of somatic mutations out of 254 total mutations identified',\n",
       "      'Overall frequency (percentage) of somatic mutations identified in all patients profiled (n\\xa0=\\xa0440) on the Sequenom versus MiSeq/Proton platforms',\n",
       "      'Somatic mutation frequencies by receptor status of archival tissues used for molecular profiling',\n",
       "      'Genotyping results and clinical trial agents for patients on matched trials',\n",
       "      'Best responses according to RECIST 1.1 criteria are listed if available. One patient was enrolled in two different clinical trials with PI3K inhibitors',\n",
       "      '\\nN/A not available, PR partial response, PD progressive disease, SD stable disease, PI3K phosphatidylinositol 3-kinase, mTOR mammalian target of rapamycin, AKT protein kinase B, EGFR epidermal growth factor receptor, TKI tyrosine-kinase inhibitor, FGFR fibroblast growth factor receptor',\n",
       "      'Comparison of best responses for patients on genotype-matched versus non-genotype-matched clinical trials',\n",
       "      'Response data not available for all patients. Includes two patients enrolled in multiple trials',\n",
       "      'Below is the link to the electronic supplementary material.\\n\\n',\n",
       "      'Supplementary material 1 (DOCX 244\\xa0kb)'],\n",
       "     'title': ''}],\n",
       "   [{'paragraphs': ['Radiological responses were defined as complete response (CR), partial response (PR), stable disease (SD), or progressive disease (PD) based on RECIST 1.1 criteria [11]. For comparison of clinical outcomes on matched versus unmatched therapies, therapeutic outcomes were evaluated according to time on treatment, defined as date of trial enrollment until date of discontinuation of investigational treatment.'],\n",
       "     'title': 'Endpoints'}],\n",
       "   [{'paragraphs': ['A total of 80 patients (18%) with sequencing results were enrolled in therapeutic clinical trials at our institution, including 31 on genotype-matched trials and 49 on non-genotype-matched trials (Fig.\\xa01). Of the 203 patients with at least one mutation, 49 (24%) were enrolled in a therapeutic clinical trial after profiling results were reported, with 31/203 (15%) enrolled in a genotype-matched trial and 18/203 (9%) treated on non-matched trials (includes patients with actionable mutations not matched to a genotype-specific trial). Of 237 patients with no mutations identified, 31 (13%) were enrolled in therapeutic trials after the date when molecular profiling results were reported.',\n",
       "      'The most common classes of drugs received on genotype-matched trials were PI3K inhibitors. Table\\xa03 shows the somatic mutations identified and the best responses for patients treated on matched clinical trials. Radiological responses measured by RECIST 1.1 criteria are reported where available for patients treated on genotype-matched trials at our institution (including several patients enrolled in multiple matched trials). There was no significant difference for median time on treatment for patients treated on genotype-matched versus non-genotype-matched clinical trials (3.6 vs. 3.8\\xa0months; p\\xa0=\\xa00.89). Response assessments were compared between genotype-matched and non-genotype-matched patients enrolled in clinical trials as shown in Table\\xa04. There were no significant differences in the best responses for patients enrolled in genotype-matched versus non-matched trials (p\\xa0=\\xa00.51).\\n\\n'],\n",
       "     'title': 'Treatment for patients enrolled in clinical trials'}],\n",
       "   [{'paragraphs': ['DNA was extracted from sections of the most recent FFPE tumor specimens available from biopsies or surgical resections. Optimal tumor regions were identified by clinical breast pathologists (AMM and HKB). Tumors containing a minimum acceptable tumor cellularity of 10% were processed with tumor regions isolated by 1–2\\xa0×\\xa01\\xa0mm punch from FFPE blocks or manual macrodissection of unstained material from 15 to 20 slides. FFPE samples were deparaffinized and treated with proteinase K, followed by DNA extraction using the QIAmp DNA FFPE Tissue Kit (Qiagen, Germantown, MD) and quantification using the Qubit dsDNA Assay kit on the Qubit 2.0 Fluorometer (Thermo Fisher Scientific, Waltham, MA). DNA was extracted from peripheral blood samples for germline testing using either standard manual phenol/chloroform extraction methods or automated extraction (MagAttract DNA Mini M48 kit; Qiagen).'],\n",
       "     'title': 'Tumor samples'}],\n",
       "   [{'paragraphs': ['In this study, we identified one or more somatic mutations in 46% of patients with metastatic breast cancer using Sequenom hotspot or small targeted NGS panels. An important feature of our study is that we included patients receiving treatment in both academic and community settings that were referred for profiling while on standard of care therapies for metastatic disease. Albeit a non-randomized comparison, we did not observe a difference in time on treatment or best responses for profiled MBC patients treated on genotype-matched versus non-matched trials.',\n",
       "      'An earlier study by Von Hoff and colleagues used IHC, FISH, and oligonucleotide microarrays for molecular profiling of tumor tissue from 66 patients (only 18 of whom had MBC) with refractory metastatic disease to match patients to specific therapies and found a longer PFS on matched therapy compared to the patient’s previous regimen [14]. However, the majority of MBC patients on this study received chemotherapy, hormonal or HER2-targeted therapies, not targeted treatments based upon identification of somatic mutations. Tsimberidou and colleagues used standard PCR-based sequencing to detect specific somatic genomic alterations in patients with refractory advanced malignancies and patients were enrolled in clinical trials according to genotype results [15]. Patients matched to targeted therapy had improved response rates, longer time to treatment failure (TTF), and longer survival than non-matched patients. However, only 16 patients in this study had MBC. In breast cancer-specific studies, SAFIR01 study used comparative genomic hybridization (CGH) array and Sanger sequencing to identify molecular alterations and match patients to targeted therapies [16]. Only 9% of patients matched to targeted therapies had objective responses to treatment. In contrast to our study, where we used archival tissues for molecular testing, SAFIR required biopsy of the metastatic site if accessible. Also SAFIR limited enrollment to patients with no more than two prior lines of chemotherapy whereas our study did not have a limit on prior number of lines of chemotherapy.',\n",
       "      'More recent studies have used new technologies, such as NGS, to identify targetable molecular alterations. In the SHIVA trial, Le Tourneau and colleagues established molecular profiles for advanced solid tumors using targeted NGS, analysis of gene copy number alterations, and analysis of hormone receptor expression by IHC to match patients to targeted therapies [17]. This study differs from ours in several important aspects. The targeted agents given to the experimental group in SHIVA were drugs approved for clinical use but outside their approved indications, while in our study we matched patients to investigational drugs available through clinical trials at our institution. SHIVA required mandatory fresh biopsies whereas we tested archival samples.',\n",
       "      'In the MOSCATO 01 Trial, patients with advanced cancers were matched to targeted therapies based on molecular alterations and 33% were shown to have improved PFS outcomes with matched therapies when compared to PFS on prior therapy. Of the entire cohort, 19% of those matched to therapies were MBC patients. Molecular alterations were identified through array comparative genomic hybridization, NGS, and RNA sequencing performed on fresh frozen tumor biopsies [18]. MOSCATO 01 differs from our study in that they required fresh biopsies, which limited the patients enrolling in study to those willing to undergo invasive testing, those with tumors accessible for biopsy, and those willing to wait for the results of their molecular profiling for a decision on subsequent treatment. In our study patients had molecular profiling done on archival tissues while they were on systemic therapy and at the time of progression could be referred back for discussion of available targeted therapies on clinical trials based on identified genomic alterations.',\n",
       "      'In our study, the most common mutation identified among patients with genotyping results (n\\xa0=\\xa0440) was in PIK3CA (n\\xa0=\\xa0123, 28%), which is consistent with other recent molecular profiling studies in MBC [16, 19–22]. Although mutations in PIK3CA are common in breast cancer, they have not been reliably predictive of clinical response to drugs targeting the PI3K/mTOR pathway [4–7]. PIK3CA mutations identified in archival tissues in BOLERO-2 [5], FERGI [23], BELLE-2 [24], and BELLE-3 [25] studies were not predictive of differential benefit with inhibitors of PI3K or mTOR. Thus in our study, where the majority of patients treated on genotype-matched trials were treated with PI3K inhibitors, the lack of significant differences in best responses and time on treatment may be reflective of the limited efficacy of PI3K inhibitors observed in PIK3CA-mutant metastatic breast cancers.',\n",
       "      'As an alternative to tissue biopsies, identifying key mutations in circulating tumor DNA (ctDNA) in peripheral blood samples may provide more actionable information about the molecular profile of metastatic tumors. For example, in the BELLE-2 [24] and BELLE-3 [25] studies with the pan-PI3K inhibitor buparlisib combined with endocrine therapy, there was greater magnitude of effect on progression-free survival in the PIK3CA mutant subgroup identified through cell-free DNA but not in the PIK3CA mutant subgroup identified through archival tissue samples. However, in the BOLERO-2 study which examined the benefit of everolimus, an inhibitor of the PI3K/AKT/mTOR pathway, patients benefited from the addition of everolimus to endocrine therapy regardless of the presence of a PIK3CA mutation in either archival tissues [5] or cell-free DNA [26]. With novel isoform-selective PI3K inhibitors currently in testing clinical trials [27, 28], it remains to be determined whether PIK3CA mutation status tested using archival tissue samples or cell-free DNA is a biomarker of treatment response.',\n",
       "      'It is important to note that FERGI, BELLE-2, and BELLE-3 all involved pan-PI3K inhibitors, while the majority of patients treated on genotype-matched clinical trials at our institution were treated with isoform-selective PI3K inhibitors. More selective, isoform-specific PI3K inhibitors may be more effective and less toxic than pan-PI3K inhibitors, potentially leading to improved therapeutic outcomes [29]. However, the number of patients treated on isoform-selective versus pan-PI3K inhibitors is too small in our study to be able to make any conclusions regarding differential therapeutic outcomes.',\n",
       "      '\\nTP53 was the second most common mutation identified in our breast cohort. The prevalence of TP53 mutations is lower in our cohort compared with other reports because TP53 mutation hotspots were not included in the Sequenom assay and the TSACP panel does not include full sequencing of the TP53 gene. TP53 mutations are associated with aggressive breast cancers and are identified in\\xa0>\\xa080% of basal-like breast cancer. Basho et al. analyzed archival tissues from 500 MBC patients including all subtypes using hotspot mutation testing and found that TP53 mutations were associated with worse clinical outcomes [22]. TP53 mutation is not currently a targetable genomic alteration, although inhibition of the protein kinase WEE1 in TP53-mutated cancers may be a potential future therapeutic approach [30, 31]. Additionally more rare genomic alterations such as AKT1 and ERBB2 mutations, each occurring in 2% of MBC patients in our cohort, are potential targets for AKT and ERBB2 inhibitors [32].',\n",
       "      'There are several important limitations to note in our study. First, we used archival tumor tissue which in some patients was many years removed from the date of study enrollment. Second, although our institution has a broad portfolio of early phase clinical trials, not all classes of targeted drugs were available during the course of the study for patients with actionable mutations. The majority of genotype-matched clinical trials available at our institution during the study period involved a PI3K inhibitor and most trials did not involve alpha isoform-selective/specific PI3K inhibitor that may have greater activity in PIK3CA mutant breast cancers [33, 34]. Access to genotype-matched therapies for patients with actionable mutations was limited, and the clinical outcomes reported in our study may reflect the availability of effective targeted therapies and/or the usefulness of a sequencing-based treatment strategy. Available data do not allow for the exploration of the relative contribution of these limitations on our results. Access to a greater number of drugs targeting specific molecular alterations in basket trials, which enroll patients based on the molecular alteration of the tumor not on specific tumor types, such as the NCI-MATCH program [35], would broaden the availability of targeted drugs for actionable mutations. Unlike some other types of solid tumors, MBC patients have access to many lines of systemic therapy outside of clinical trials and some may have preferred other treatment options when invited to participate in a genotype-matched clinical trial. Only a small number of patients were enrolled in clinical trials following receipt of molecular profiling results and there was significant heterogeneity in the type of matched drug treatments received. There were also limitations in our sequencing approach. We used small hotspot genotyping or targeted sequencing panels for frequent point mutations and insertions/deletions only. While these capture the majority of somatic alterations in breast cancer, we did not assess gene amplifications or fusions which are potential genomic driver or tumor suppressor alterations that are relevant for genotype-matched treatment selection, such FGFR1 amplification or fusions, BRCA1/2 mutations, NTRK fusions, PIK3CA fusions and ERBB2 fusions [36].',\n",
       "      'In conclusion, our data provide “real-world” clinical outcomes for patients with MBC who have undergone molecular profiling with hotspot genotyping or small targeted NGS testing. We found that only a small percentage of patients with MBC profiled using hotspot genotyping or small targeted NGS testing subsequently enrolled in genotype-matched clinical trials. In this non-randomized comparison, we did not observe a difference in time of treatment for patients subsequently enrolled in genotype-matched versus non-genotyped-matched clinical trials. Further studies are required to establish the clinical utility of routine multi-gene mutation testing for patients with MBC.'],\n",
       "     'title': 'Discussion'}],\n",
       "   [{'paragraphs': ['Molecular profiling was performed in a College of American Pathologists (CAP) accredited and Clinical Laboratory Improvement Amendments (CLIA) certified laboratory. Details of the molecular profiling assays have been described in detail elsewhere [8]. Briefly, three molecular profiling assays were used over the study period: the TruSeq Amplicon Cancer Panel (TSACP, Illumina) on the MiSeq sequencer (Illumina) covering hotspot regions of 48 genes; the Ion AmpliSeq Cancer Panel (ASCP, Thermo Fisher Scientific) on the Ion Proton sequencer (Thermo Fisher Scientific) covering hotspot regions of 50 genes; and a custom multiplex genotyping panel on a matrix-assisted laser desorption/ionization time-of-flight (MALDI-TOF) mass-spectrometry platform (MassARRAY, Agena Bioscience, San Diego, CA) to genotype 279 mutations within 23 genes. Specific details of the sequencing panels used are shown in Supplementary Tables\\xa01–3. FFPE samples tested by the TSACP and ASCP panels also had testing of matched blood samples for germline mutations. Sequence alignment, base calling, and variant assessment for the TSACP and ASCP panels were as previously described [8]. The scheme of Sukhai et al. [9] was used for assessment and classification of variants.',\n",
       "      'A subset of patients enrolled had testing for phosphatase and tensin homolog (PTEN) using immunohistochemistry (IHC) with rabbit monoclonal Ab 138G6 (Cell Signaling Technology, Danvers, MA) on a Dako platform using a dilution of 1:50 and Flex\\xa0+\\xa030 protocol. Complete absence of tumor cell staining with positive staining of surrounding tumor stroma fibroblasts/endothelial cells was used to denote PTEN deficiency [10].',\n",
       "      'Molecular profiling results were included in the electronic medical record and returned to the treating oncologist. The clinical significance of profiling results was discussed with PM patients during a routine clinic visit by their treating oncologist and a PM oncologist reviewed the results with patients treated at other hospitals by telephone. Oncologists were provided with regular summary tables of testing results and mutation-specific clinical trial listings available at PM.'],\n",
       "     'title': 'Molecular profiling assays and PTEN testing'}],\n",
       "   [{'paragraphs': ['Patients with histologically confirmed MBC were eligible for IMPACT/COMPACT if they were\\xa0≥\\xa018\\xa0years, had Eastern Cooperative Oncology Group (ECOG) performance status\\xa0≤\\xa01, and had available formalin-fixed paraffin-embedded (FFPE) archival tumor tissue (from either a primary or a metastatic site). This study was approved by the University Health Network Research Ethics Board and was registered on ClinicalTrials.gov [NCT01505400]. Enrollment for IMPACT began in March 2012 and for COMPACT in November 2012 and accrual to IMPACT/COMPACT ended in November 2015. For patients enrolled into clinical trials, the last follow-up was completed in March 2017 for this analysis.'],\n",
       "     'title': 'Study population'}],\n",
       "   [{'paragraphs': ['For each patient, baseline patient and tumor characteristics, treatment regimen(s), time on treatment(s), and survival were retrieved from medical records and updated every 3\\xa0months. Therapeutic clinical trial enrollment was evaluated from the date of reporting molecular profiling results until April 2016. Most recent follow-up for patients enrolled in clinical trial for this analysis was March 2017. Genotype-matched clinical trials were defined as those restricting enrollment to patients with specific somatic mutations, those with a targeted drug with enriched clinical or preclinical activity in a patient’s genotype, or those involving use of a drug that inhibited a pathway directly linked to the somatic mutation. Enrollment on clinical trial was based on trial availability and patient or physician preference and did not follow a pre-specified algorithm.'],\n",
       "     'title': 'Clinical data collection'}],\n",
       "   [{'paragraphs': ['Descriptive statistics were used to summarize patient characteristics, profiling results, and therapeutic activity. A generalized estimating equation model [12] was used to compare patients with profiling results treated on genotype-matched and genotype-unmatched trials. A mixed model was used to compare time on treatment, accounting for individual patients who were included on multiple therapeutic trials [13]. Differences with p values of\\xa0<\\xa00.05 were considered statistically significant.'],\n",
       "     'title': 'Statistical analysis'}],\n",
       "   [{'paragraphs': ['Mutational profiling of advanced solid tumors is an important component of early phase clinical trials testing drugs in molecularly defined patient populations. This approach, which currently involves the application of next-generation sequencing (NGS) technologies, is used to match a specific therapy to the particular somatic molecular alteration within a patient’s tumor [1]. Although there is a variety of approved systemic therapies for metastatic breast cancer (MBC) that prolong progression-free or overall survival, including endocrine therapy, chemotherapy, and HER2-targeted therapy, MBC is an incurable disease and a leading cause of cancer death worldwide. The identification of subsets of breast cancers with overexpression of the HER-2/neu oncogene by IHC or amplification by fluorescence in situ hybridization (FISH) has led to the addition of targeted therapy for this subtype and improved survival [2, 3]. Additional molecular alterations such as somatic PIK3CA mutations, part of the PI3K/AKT/mTOR pathway, are commonly identified in breast cancers but are not yet used in the selection of approved therapies [4–7].',\n",
       "      'Integrated Molecular Profiling in Advanced Cancers Trial (IMPACT) and our community hospital program Community Oncology Molecular Profiling in Advanced Cancers Trial (COMPACT) were studies at Princess Margaret Cancer Centre (PM) to provide molecular profiling data for advanced solid tumor patients treated at PM and local community hospitals [8]. In this current study, we focus on molecular profiling in advanced breast cancers beyond standard estrogen receptor (ER), progesterone receptor (PR), and HER2 testing. We report on clinical characteristics, somatic mutation frequency, and therapeutic outcomes on genotype-matched and unmatched trials for MBC patients undergoing molecular sequencing of archival tumor tissues.'],\n",
       "     'title': 'Introduction'}],\n",
       "   [{'paragraphs': ['A total of 483 patients with MBC were enrolled from January 2012 to November 2015 as outlined in Fig.\\xa01. Fifty-three percent of patients were registered by their treating oncologist at PM and 47% were referred from local community hospitals. Forty-three patients (9%) who signed consent did not undergo profiling because of clinical deterioration before testing was performed or insufficient and/or poor quality tissue or DNA for sequencing analysis.\\n',\n",
       "      'Of the 440 patients with genotyping results, 203 (46%) had at least one mutation identified. The median follow-up time from date of profiling was 12.5\\xa0months (range 2\\xa0days–46\\xa0months). Table\\xa01 lists the characteristics of patients who had molecular profiling performed on their tumors. The median age of all enrolled patients was 53\\xa0years (range 20–83\\xa0years) and median lines of systemic therapy (including endocrine treatment in hormone receptor-positive patients) received before enrolling into the molecular profiling program was 2 (range 1–18). Most patients had their primary tumor profiled (n\\xa0=\\xa0326, 74%). The most common histologies were ductal (n\\xa0=\\xa0338, 70%) and lobular carcinomas (n\\xa0=\\xa024, 5%). Initial stage at diagnosis was either stage I or II in 155 patients (32%), stage III in 76 patients (16%), stage IV in 57 patients (12%). Most tumors were grades 2 or 3 (n\\xa0=\\xa0263, 54%). Receptor status was ER positive/HER-2 negative in 265 patients (55%), HER-2 positive in 62 patients (13%), and triple negative in 91 patients (19%). Characteristics of patients with one or more mutations identified are also listed in Table\\xa01.\\n',\n",
       "      'As shown in Fig.\\xa02, the most common somatic mutations were PIK3CA (n\\xa0=\\xa0134, 53%), TP53 (n\\xa0=\\xa081, 32%), PTEN (n\\xa0=\\xa09, 3.5%), and AKT1 (n\\xa0=\\xa05, 2%). Other genomic alterations were less common, including mutations in KRAS, ERBB2, BRAF, EGFR, SMAD4, FGFR1, FGFR2, FGFR3, HRAS, NRAS, KDR, and CDH1. Details on the specific mutations identified in each patient are provided in Supplementary Table\\xa04. Figure\\xa03 shows mutation frequencies detected by Sequenom versus TSACP/ASCP. Table\\xa02 lists frequencies of mutations by receptor status of the tumor tissue used for molecular profiling. PIK3CA was the most common mutation identified in both ER positive/HER2 negative (31%) and ER positive/HER2 positive (64%) of tumors. TP53 mutations were the most commonly identified molecular alterations in triple-negative breast tissues at 41% and in ER negative/HER2 positive samples at 33%. PTEN expression was tested by IHC and detected in 141 out of 163 patients (87%). Twenty-two patients (14%) had loss of PTEN in their tumors and 2 of these patients with PTEN deficiency (9%) had tumors with somatic mutations in PIK3CA.\\n\\n\\n'],\n",
       "     'title': 'Molecular profiling and PTEN results'}]],\n",
       "  'fulltext': 'Mutational profiling of advanced solid tumors is an important component of early phase clinical trials testing drugs in molecularly defined patient populations. This approach, which currently involves the application of next-generation sequencing (NGS) technologies, is used to match a specific therapy to the particular somatic molecular alteration within a patient’s tumor [1]. Although there is a variety of approved systemic therapies for metastatic breast cancer (MBC) that prolong progression-free or overall survival, including endocrine therapy, chemotherapy, and HER2-targeted therapy, MBC is an incurable disease and a leading cause of cancer death worldwide. The identification of subsets of breast cancers with overexpression of the HER-2/neu oncogene by IHC or amplification by fluorescence in situ hybridization (FISH) has led to the addition of targeted therapy for this subtype and improved survival [2, 3]. Additional molecular alterations such as somatic PIK3CA mutations, part of the PI3K/AKT/mTOR pathway, are commonly identified in breast cancers but are not yet used in the selection of approved therapies [4–7].Integrated Molecular Profiling in Advanced Cancers Trial (IMPACT) and our community hospital program Community Oncology Molecular Profiling in Advanced Cancers Trial (COMPACT) were studies at Princess Margaret Cancer Centre (PM) to provide molecular profiling data for advanced solid tumor patients treated at PM and local community hospitals [8]. In this current study, we focus on molecular profiling in advanced breast cancers beyond standard estrogen receptor (ER), progesterone receptor (PR), and HER2 testing. We report on clinical characteristics, somatic mutation frequency, and therapeutic outcomes on genotype-matched and unmatched trials for MBC patients undergoing molecular sequencing of archival tumor tissues.Patients with histologically confirmed MBC were eligible for IMPACT/COMPACT if they were\\xa0≥\\xa018\\xa0years, had Eastern Cooperative Oncology Group (ECOG) performance status\\xa0≤\\xa01, and had available formalin-fixed paraffin-embedded (FFPE) archival tumor tissue (from either a primary or a metastatic site). This study was approved by the University Health Network Research Ethics Board and was registered on ClinicalTrials.gov [NCT01505400]. Enrollment for IMPACT began in March 2012 and for COMPACT in November 2012 and accrual to IMPACT/COMPACT ended in November 2015. For patients enrolled into clinical trials, the last follow-up was completed in March 2017 for this analysis.DNA was extracted from sections of the most recent FFPE tumor specimens available from biopsies or surgical resections. Optimal tumor regions were identified by clinical breast pathologists (AMM and HKB). Tumors containing a minimum acceptable tumor cellularity of 10% were processed with tumor regions isolated by 1–2\\xa0×\\xa01\\xa0mm punch from FFPE blocks or manual macrodissection of unstained material from 15 to 20 slides. FFPE samples were deparaffinized and treated with proteinase K, followed by DNA extraction using the QIAmp DNA FFPE Tissue Kit (Qiagen, Germantown, MD) and quantification using the Qubit dsDNA Assay kit on the Qubit 2.0 Fluorometer (Thermo Fisher Scientific, Waltham, MA). DNA was extracted from peripheral blood samples for germline testing using either standard manual phenol/chloroform extraction methods or automated extraction (MagAttract DNA Mini M48 kit; Qiagen).Molecular profiling was performed in a College of American Pathologists (CAP) accredited and Clinical Laboratory Improvement Amendments (CLIA) certified laboratory. Details of the molecular profiling assays have been described in detail elsewhere [8]. Briefly, three molecular profiling assays were used over the study period: the TruSeq Amplicon Cancer Panel (TSACP, Illumina) on the MiSeq sequencer (Illumina) covering hotspot regions of 48 genes; the Ion AmpliSeq Cancer Panel (ASCP, Thermo Fisher Scientific) on the Ion Proton sequencer (Thermo Fisher Scientific) covering hotspot regions of 50 genes; and a custom multiplex genotyping panel on a matrix-assisted laser desorption/ionization time-of-flight (MALDI-TOF) mass-spectrometry platform (MassARRAY, Agena Bioscience, San Diego, CA) to genotype 279 mutations within 23 genes. Specific details of the sequencing panels used are shown in Supplementary Tables\\xa01–3. FFPE samples tested by the TSACP and ASCP panels also had testing of matched blood samples for germline mutations. Sequence alignment, base calling, and variant assessment for the TSACP and ASCP panels were as previously described [8]. The scheme of Sukhai et al. [9] was used for assessment and classification of variants.A subset of patients enrolled had testing for phosphatase and tensin homolog (PTEN) using immunohistochemistry (IHC) with rabbit monoclonal Ab 138G6 (Cell Signaling Technology, Danvers, MA) on a Dako platform using a dilution of 1:50 and Flex\\xa0+\\xa030 protocol. Complete absence of tumor cell staining with positive staining of surrounding tumor stroma fibroblasts/endothelial cells was used to denote PTEN deficiency [10].Molecular profiling results were included in the electronic medical record and returned to the treating oncologist. The clinical significance of profiling results was discussed with PM patients during a routine clinic visit by their treating oncologist and a PM oncologist reviewed the results with patients treated at other hospitals by telephone. Oncologists were provided with regular summary tables of testing results and mutation-specific clinical trial listings available at PM.For each patient, baseline patient and tumor characteristics, treatment regimen(s), time on treatment(s), and survival were retrieved from medical records and updated every 3\\xa0months. Therapeutic clinical trial enrollment was evaluated from the date of reporting molecular profiling results until April 2016. Most recent follow-up for patients enrolled in clinical trial for this analysis was March 2017. Genotype-matched clinical trials were defined as those restricting enrollment to patients with specific somatic mutations, those with a targeted drug with enriched clinical or preclinical activity in a patient’s genotype, or those involving use of a drug that inhibited a pathway directly linked to the somatic mutation. Enrollment on clinical trial was based on trial availability and patient or physician preference and did not follow a pre-specified algorithm.Radiological responses were defined as complete response (CR), partial response (PR), stable disease (SD), or progressive disease (PD) based on RECIST 1.1 criteria [11]. For comparison of clinical outcomes on matched versus unmatched therapies, therapeutic outcomes were evaluated according to time on treatment, defined as date of trial enrollment until date of discontinuation of investigational treatment.Descriptive statistics were used to summarize patient characteristics, profiling results, and therapeutic activity. A generalized estimating equation model [12] was used to compare patients with profiling results treated on genotype-matched and genotype-unmatched trials. A mixed model was used to compare time on treatment, accounting for individual patients who were included on multiple therapeutic trials [13]. Differences with p values of\\xa0<\\xa00.05 were considered statistically significant.A total of 483 patients with MBC were enrolled from January 2012 to November 2015 as outlined in Fig.\\xa01. Fifty-three percent of patients were registered by their treating oncologist at PM and 47% were referred from local community hospitals. Forty-three patients (9%) who signed consent did not undergo profiling because of clinical deterioration before testing was performed or insufficient and/or poor quality tissue or DNA for sequencing analysis.\\nConsort diagram of study schema and genotyping resultsOf the 440 patients with genotyping results, 203 (46%) had at least one mutation identified. The median follow-up time from date of profiling was 12.5\\xa0months (range 2\\xa0days–46\\xa0months). Table\\xa01 lists the characteristics of patients who had molecular profiling performed on their tumors. The median age of all enrolled patients was 53\\xa0years (range 20–83\\xa0years) and median lines of systemic therapy (including endocrine treatment in hormone receptor-positive patients) received before enrolling into the molecular profiling program was 2 (range 1–18). Most patients had their primary tumor profiled (n\\xa0=\\xa0326, 74%). The most common histologies were ductal (n\\xa0=\\xa0338, 70%) and lobular carcinomas (n\\xa0=\\xa024, 5%). Initial stage at diagnosis was either stage I or II in 155 patients (32%), stage III in 76 patients (16%), stage IV in 57 patients (12%). Most tumors were grades 2 or 3 (n\\xa0=\\xa0263, 54%). Receptor status was ER positive/HER-2 negative in 265 patients (55%), HER-2 positive in 62 patients (13%), and triple negative in 91 patients (19%). Characteristics of patients with one or more mutations identified are also listed in Table\\xa01.\\nBaseline characteristics of all patients enrolled in the molecular profiling program\\naOne patient received 18 lines of systemic therapiesAs shown in Fig.\\xa02, the most common somatic mutations were PIK3CA (n\\xa0=\\xa0134, 53%), TP53 (n\\xa0=\\xa081, 32%), PTEN (n\\xa0=\\xa09, 3.5%), and AKT1 (n\\xa0=\\xa05, 2%). Other genomic alterations were less common, including mutations in KRAS, ERBB2, BRAF, EGFR, SMAD4, FGFR1, FGFR2, FGFR3, HRAS, NRAS, KDR, and CDH1. Details on the specific mutations identified in each patient are provided in Supplementary Table\\xa04. Figure\\xa03 shows mutation frequencies detected by Sequenom versus TSACP/ASCP. Table\\xa02 lists frequencies of mutations by receptor status of the tumor tissue used for molecular profiling. PIK3CA was the most common mutation identified in both ER positive/HER2 negative (31%) and ER positive/HER2 positive (64%) of tumors. TP53 mutations were the most commonly identified molecular alterations in triple-negative breast tissues at 41% and in ER negative/HER2 positive samples at 33%. PTEN expression was tested by IHC and detected in 141 out of 163 patients (87%). Twenty-two patients (14%) had loss of PTEN in their tumors and 2 of these patients with PTEN deficiency (9%) had tumors with somatic mutations in PIK3CA.\\n\\n\\nOverall frequency (percentage) of somatic mutations out of 254 total mutations identifiedOverall frequency (percentage) of somatic mutations identified in all patients profiled (n\\xa0=\\xa0440) on the Sequenom versus MiSeq/Proton platformsSomatic mutation frequencies by receptor status of archival tissues used for molecular profilingA total of 80 patients (18%) with sequencing results were enrolled in therapeutic clinical trials at our institution, including 31 on genotype-matched trials and 49 on non-genotype-matched trials (Fig.\\xa01). Of the 203 patients with at least one mutation, 49 (24%) were enrolled in a therapeutic clinical trial after profiling results were reported, with 31/203 (15%) enrolled in a genotype-matched trial and 18/203 (9%) treated on non-matched trials (includes patients with actionable mutations not matched to a genotype-specific trial). Of 237 patients with no mutations identified, 31 (13%) were enrolled in therapeutic trials after the date when molecular profiling results were reported.The most common classes of drugs received on genotype-matched trials were PI3K inhibitors. Table\\xa03 shows the somatic mutations identified and the best responses for patients treated on matched clinical trials. Radiological responses measured by RECIST 1.1 criteria are reported where available for patients treated on genotype-matched trials at our institution (including several patients enrolled in multiple matched trials). There was no significant difference for median time on treatment for patients treated on genotype-matched versus non-genotype-matched clinical trials (3.6 vs. 3.8\\xa0months; p\\xa0=\\xa00.89). Response assessments were compared between genotype-matched and non-genotype-matched patients enrolled in clinical trials as shown in Table\\xa04. There were no significant differences in the best responses for patients enrolled in genotype-matched versus non-matched trials (p\\xa0=\\xa00.51).\\n\\nGenotyping results and clinical trial agents for patients on matched trialsBest responses according to RECIST 1.1 criteria are listed if available. One patient was enrolled in two different clinical trials with PI3K inhibitors\\nN/A not available, PR partial response, PD progressive disease, SD stable disease, PI3K phosphatidylinositol 3-kinase, mTOR mammalian target of rapamycin, AKT protein kinase B, EGFR epidermal growth factor receptor, TKI tyrosine-kinase inhibitor, FGFR fibroblast growth factor receptorComparison of best responses for patients on genotype-matched versus non-genotype-matched clinical trialsResponse data not available for all patients. Includes two patients enrolled in multiple trialsIn this study, we identified one or more somatic mutations in 46% of patients with metastatic breast cancer using Sequenom hotspot or small targeted NGS panels. An important feature of our study is that we included patients receiving treatment in both academic and community settings that were referred for profiling while on standard of care therapies for metastatic disease. Albeit a non-randomized comparison, we did not observe a difference in time on treatment or best responses for profiled MBC patients treated on genotype-matched versus non-matched trials.An earlier study by Von Hoff and colleagues used IHC, FISH, and oligonucleotide microarrays for molecular profiling of tumor tissue from 66 patients (only 18 of whom had MBC) with refractory metastatic disease to match patients to specific therapies and found a longer PFS on matched therapy compared to the patient’s previous regimen [14]. However, the majority of MBC patients on this study received chemotherapy, hormonal or HER2-targeted therapies, not targeted treatments based upon identification of somatic mutations. Tsimberidou and colleagues used standard PCR-based sequencing to detect specific somatic genomic alterations in patients with refractory advanced malignancies and patients were enrolled in clinical trials according to genotype results [15]. Patients matched to targeted therapy had improved response rates, longer time to treatment failure (TTF), and longer survival than non-matched patients. However, only 16 patients in this study had MBC. In breast cancer-specific studies, SAFIR01 study used comparative genomic hybridization (CGH) array and Sanger sequencing to identify molecular alterations and match patients to targeted therapies [16]. Only 9% of patients matched to targeted therapies had objective responses to treatment. In contrast to our study, where we used archival tissues for molecular testing, SAFIR required biopsy of the metastatic site if accessible. Also SAFIR limited enrollment to patients with no more than two prior lines of chemotherapy whereas our study did not have a limit on prior number of lines of chemotherapy.More recent studies have used new technologies, such as NGS, to identify targetable molecular alterations. In the SHIVA trial, Le Tourneau and colleagues established molecular profiles for advanced solid tumors using targeted NGS, analysis of gene copy number alterations, and analysis of hormone receptor expression by IHC to match patients to targeted therapies [17]. This study differs from ours in several important aspects. The targeted agents given to the experimental group in SHIVA were drugs approved for clinical use but outside their approved indications, while in our study we matched patients to investigational drugs available through clinical trials at our institution. SHIVA required mandatory fresh biopsies whereas we tested archival samples.In the MOSCATO 01 Trial, patients with advanced cancers were matched to targeted therapies based on molecular alterations and 33% were shown to have improved PFS outcomes with matched therapies when compared to PFS on prior therapy. Of the entire cohort, 19% of those matched to therapies were MBC patients. Molecular alterations were identified through array comparative genomic hybridization, NGS, and RNA sequencing performed on fresh frozen tumor biopsies [18]. MOSCATO 01 differs from our study in that they required fresh biopsies, which limited the patients enrolling in study to those willing to undergo invasive testing, those with tumors accessible for biopsy, and those willing to wait for the results of their molecular profiling for a decision on subsequent treatment. In our study patients had molecular profiling done on archival tissues while they were on systemic therapy and at the time of progression could be referred back for discussion of available targeted therapies on clinical trials based on identified genomic alterations.In our study, the most common mutation identified among patients with genotyping results (n\\xa0=\\xa0440) was in PIK3CA (n\\xa0=\\xa0123, 28%), which is consistent with other recent molecular profiling studies in MBC [16, 19–22]. Although mutations in PIK3CA are common in breast cancer, they have not been reliably predictive of clinical response to drugs targeting the PI3K/mTOR pathway [4–7]. PIK3CA mutations identified in archival tissues in BOLERO-2 [5], FERGI [23], BELLE-2 [24], and BELLE-3 [25] studies were not predictive of differential benefit with inhibitors of PI3K or mTOR. Thus in our study, where the majority of patients treated on genotype-matched trials were treated with PI3K inhibitors, the lack of significant differences in best responses and time on treatment may be reflective of the limited efficacy of PI3K inhibitors observed in PIK3CA-mutant metastatic breast cancers.As an alternative to tissue biopsies, identifying key mutations in circulating tumor DNA (ctDNA) in peripheral blood samples may provide more actionable information about the molecular profile of metastatic tumors. For example, in the BELLE-2 [24] and BELLE-3 [25] studies with the pan-PI3K inhibitor buparlisib combined with endocrine therapy, there was greater magnitude of effect on progression-free survival in the PIK3CA mutant subgroup identified through cell-free DNA but not in the PIK3CA mutant subgroup identified through archival tissue samples. However, in the BOLERO-2 study which examined the benefit of everolimus, an inhibitor of the PI3K/AKT/mTOR pathway, patients benefited from the addition of everolimus to endocrine therapy regardless of the presence of a PIK3CA mutation in either archival tissues [5] or cell-free DNA [26]. With novel isoform-selective PI3K inhibitors currently in testing clinical trials [27, 28], it remains to be determined whether PIK3CA mutation status tested using archival tissue samples or cell-free DNA is a biomarker of treatment response.It is important to note that FERGI, BELLE-2, and BELLE-3 all involved pan-PI3K inhibitors, while the majority of patients treated on genotype-matched clinical trials at our institution were treated with isoform-selective PI3K inhibitors. More selective, isoform-specific PI3K inhibitors may be more effective and less toxic than pan-PI3K inhibitors, potentially leading to improved therapeutic outcomes [29]. However, the number of patients treated on isoform-selective versus pan-PI3K inhibitors is too small in our study to be able to make any conclusions regarding differential therapeutic outcomes.\\nTP53 was the second most common mutation identified in our breast cohort. The prevalence of TP53 mutations is lower in our cohort compared with other reports because TP53 mutation hotspots were not included in the Sequenom assay and the TSACP panel does not include full sequencing of the TP53 gene. TP53 mutations are associated with aggressive breast cancers and are identified in\\xa0>\\xa080% of basal-like breast cancer. Basho et al. analyzed archival tissues from 500 MBC patients including all subtypes using hotspot mutation testing and found that TP53 mutations were associated with worse clinical outcomes [22]. TP53 mutation is not currently a targetable genomic alteration, although inhibition of the protein kinase WEE1 in TP53-mutated cancers may be a potential future therapeutic approach [30, 31]. Additionally more rare genomic alterations such as AKT1 and ERBB2 mutations, each occurring in 2% of MBC patients in our cohort, are potential targets for AKT and ERBB2 inhibitors [32].There are several important limitations to note in our study. First, we used archival tumor tissue which in some patients was many years removed from the date of study enrollment. Second, although our institution has a broad portfolio of early phase clinical trials, not all classes of targeted drugs were available during the course of the study for patients with actionable mutations. The majority of genotype-matched clinical trials available at our institution during the study period involved a PI3K inhibitor and most trials did not involve alpha isoform-selective/specific PI3K inhibitor that may have greater activity in PIK3CA mutant breast cancers [33, 34]. Access to genotype-matched therapies for patients with actionable mutations was limited, and the clinical outcomes reported in our study may reflect the availability of effective targeted therapies and/or the usefulness of a sequencing-based treatment strategy. Available data do not allow for the exploration of the relative contribution of these limitations on our results. Access to a greater number of drugs targeting specific molecular alterations in basket trials, which enroll patients based on the molecular alteration of the tumor not on specific tumor types, such as the NCI-MATCH program [35], would broaden the availability of targeted drugs for actionable mutations. Unlike some other types of solid tumors, MBC patients have access to many lines of systemic therapy outside of clinical trials and some may have preferred other treatment options when invited to participate in a genotype-matched clinical trial. Only a small number of patients were enrolled in clinical trials following receipt of molecular profiling results and there was significant heterogeneity in the type of matched drug treatments received. There were also limitations in our sequencing approach. We used small hotspot genotyping or targeted sequencing panels for frequent point mutations and insertions/deletions only. While these capture the majority of somatic alterations in breast cancer, we did not assess gene amplifications or fusions which are potential genomic driver or tumor suppressor alterations that are relevant for genotype-matched treatment selection, such FGFR1 amplification or fusions, BRCA1/2 mutations, NTRK fusions, PIK3CA fusions and ERBB2 fusions [36].In conclusion, our data provide “real-world” clinical outcomes for patients with MBC who have undergone molecular profiling with hotspot genotyping or small targeted NGS testing. We found that only a small percentage of patients with MBC profiled using hotspot genotyping or small targeted NGS testing subsequently enrolled in genotype-matched clinical trials. In this non-randomized comparison, we did not observe a difference in time of treatment for patients subsequently enrolled in genotype-matched versus non-genotyped-matched clinical trials. Further studies are required to establish the clinical utility of routine multi-gene mutation testing for patients with MBC.Below is the link to the electronic supplementary material.\\n\\nSupplementary material 1 (DOCX 244\\xa0kb)',\n",
       "  'keywords': ['Molecular profiling',\n",
       "   'Metastatic breast cancer',\n",
       "   'Targeted therapies',\n",
       "   'PIK3CA'],\n",
       "  'references': [{'article_title': 'Feasibility of large-scale genomic testing to facilitate enrollment onto genomically matched clinical trials',\n",
       "    'doi_cited': '',\n",
       "    'journal': 'J Clin Oncol',\n",
       "    'journal_type': 'journal',\n",
       "    'name': 'F Meric-Bernstam; L Brusco; K Shaw; ',\n",
       "    'pmc': '5847065',\n",
       "    'pmid': '29177603',\n",
       "    'pmid_cited': '26014291',\n",
       "    'ref_id': 'CR1'},\n",
       "   {'article_title': 'Use of chemotherapy plus a monoclonal antibody against HER2 for metastatic breast cancer that overexpresses HER2',\n",
       "    'doi_cited': '',\n",
       "    'journal': 'N Engl J Med',\n",
       "    'journal_type': 'journal',\n",
       "    'name': 'DJ Slamon; B Leyland-Jones; S Shak; ',\n",
       "    'pmc': '5847065',\n",
       "    'pmid': '29177603',\n",
       "    'pmid_cited': '11248153',\n",
       "    'ref_id': 'CR2'},\n",
       "   {'article_title': 'Pertuzumab, trastuzumab, and docetaxel in HER2-positive metastatic breast cancer',\n",
       "    'doi_cited': '',\n",
       "    'journal': 'N Engl J Med',\n",
       "    'journal_type': 'journal',\n",
       "    'name': 'SM Swain; J Baselga; SB Kim; ',\n",
       "    'pmc': '5847065',\n",
       "    'pmid': '29177603',\n",
       "    'pmid_cited': '25693012',\n",
       "    'ref_id': 'CR3'},\n",
       "   {'article_title': 'Tumor genetic testing for patient selection in phase I clinical trials: the case of PI3K inhibitors',\n",
       "    'doi_cited': '',\n",
       "    'journal': 'J Clin Oncol',\n",
       "    'journal_type': 'journal',\n",
       "    'name': 'D Juric; J Baselga',\n",
       "    'pmc': '5847065',\n",
       "    'pmid': '29177603',\n",
       "    'pmid_cited': '22271482',\n",
       "    'ref_id': 'CR4'},\n",
       "   {'article_title': 'Correlative analysis of genetic alterations and everolimus benefit in hormone receptor-positive, human epidermal growth factor receptor 2-negative advanced breast cancer: results from BOLERO-2',\n",
       "    'doi_cited': '',\n",
       "    'journal': 'J Clin Oncol',\n",
       "    'journal_type': 'journal',\n",
       "    'name': 'GN Hortobagyi; D Chen; M Piccart; ',\n",
       "    'pmc': '5847065',\n",
       "    'pmid': '29177603',\n",
       "    'pmid_cited': '26503204',\n",
       "    'ref_id': 'CR5'},\n",
       "   {'article_title': 'Defining the prognostic and predictive role of PIK3CA mutations: shifting through the conflicting data',\n",
       "    'doi_cited': '10.1007/s12609-016-0215-6',\n",
       "    'journal': 'Curr Breast Cancer Rep',\n",
       "    'journal_type': 'journal',\n",
       "    'name': 'S Al-Suksun; I Lataifeh; R Al-Sukhun',\n",
       "    'pmc': '5847065',\n",
       "    'pmid': '29177603',\n",
       "    'pmid_cited': '',\n",
       "    'ref_id': 'CR6'},\n",
       "   {'article_title': 'PI3\\xa0K mutations in breast cancer: prognostic and therapeutic implications',\n",
       "    'doi_cited': '',\n",
       "    'journal': 'Breast Cancer (Dove Med Press)',\n",
       "    'journal_type': 'journal',\n",
       "    'name': 'T Mukohara',\n",
       "    'pmc': '5847065',\n",
       "    'pmid': '29177603',\n",
       "    'pmid_cited': '26028978',\n",
       "    'ref_id': 'CR7'},\n",
       "   {'article_title': 'Molecular profiling of advanced solid tumors and patient outcomes with genotype-matched clinical trials: the princess margaret IMPACT/COMPACT trial',\n",
       "    'doi_cited': '',\n",
       "    'journal': 'Genomics Med',\n",
       "    'journal_type': 'journal',\n",
       "    'name': 'TL Stockley; AM Oza; HK Berman; ',\n",
       "    'pmc': '5847065',\n",
       "    'pmid': '29177603',\n",
       "    'pmid_cited': '',\n",
       "    'ref_id': 'CR8'},\n",
       "   {'article_title': 'A classification system for clinical relevance of somatic variants identified in molecular profiling of cancer',\n",
       "    'doi_cited': '',\n",
       "    'journal': 'Genet Med',\n",
       "    'journal_type': 'journal',\n",
       "    'name': 'MA Sukhai; KJ Craddock; M Thomas; ',\n",
       "    'pmc': '5847065',\n",
       "    'pmid': '29177603',\n",
       "    'pmid_cited': '25880439',\n",
       "    'ref_id': 'CR9'},\n",
       "   {'article_title': 'Loss of phosphatase and tensin homolog protein expression is an independent poor prognostic marker in lung adenocarcinoma',\n",
       "    'doi_cited': '',\n",
       "    'journal': 'J Thorac Oncol',\n",
       "    'journal_type': 'journal',\n",
       "    'name': 'N Yanagawa; C Leduc; D Kohler; ',\n",
       "    'pmc': '5847065',\n",
       "    'pmid': '29177603',\n",
       "    'pmid_cited': '22982652',\n",
       "    'ref_id': 'CR10'},\n",
       "   {'article_title': 'New response evaluation criteria in solid tumours: revised RECIST guideline (version 1.1)',\n",
       "    'doi_cited': '',\n",
       "    'journal': 'Eur J Cancer',\n",
       "    'journal_type': 'journal',\n",
       "    'name': 'EA Eisenhauer; P Therasse; J Bogaerts; ',\n",
       "    'pmc': '5847065',\n",
       "    'pmid': '29177603',\n",
       "    'pmid_cited': '19097774',\n",
       "    'ref_id': 'CR11'},\n",
       "   {'article_title': 'GEE for multinomial responses using a local odds ratios parameterization',\n",
       "    'doi_cited': '',\n",
       "    'journal': 'Biometrics',\n",
       "    'journal_type': 'journal',\n",
       "    'name': 'A Touloumis; A Agresti; M Kateri; ',\n",
       "    'pmc': '5847065',\n",
       "    'pmid': '29177603',\n",
       "    'pmid_cited': '23724948',\n",
       "    'ref_id': 'CR12'},\n",
       "   {'article_title': '',\n",
       "    'doi_cited': '',\n",
       "    'journal': 'Modeling survival data: extending the Cox model',\n",
       "    'journal_type': 'book',\n",
       "    'name': 'TM Therneau; PM Grambsch',\n",
       "    'pmc': '5847065',\n",
       "    'pmid': '29177603',\n",
       "    'pmid_cited': '',\n",
       "    'ref_id': 'CR13'},\n",
       "   {'article_title': 'Pilot study using molecular profiling of patients’ tumors to find potential targets and select treatments for their refractory cancers',\n",
       "    'doi_cited': '',\n",
       "    'journal': 'J Clin Oncol',\n",
       "    'journal_type': 'journal',\n",
       "    'name': 'DD Von Hoff; JJ Stephenson; P Rosen; ',\n",
       "    'pmc': '5847065',\n",
       "    'pmid': '29177603',\n",
       "    'pmid_cited': '20921468',\n",
       "    'ref_id': 'CR14'},\n",
       "   {'article_title': 'Personalized medicine in a phase I clinical trials program: the MD Anderson Cancer Center initiative',\n",
       "    'doi_cited': '',\n",
       "    'journal': 'Clin Cancer Res',\n",
       "    'journal_type': 'journal',\n",
       "    'name': 'AM Tsimberidou; NG Iskander; DS Hong; ',\n",
       "    'pmc': '5847065',\n",
       "    'pmid': '29177603',\n",
       "    'pmid_cited': '22966018',\n",
       "    'ref_id': 'CR15'},\n",
       "   {'article_title': 'Comparative genomic hybridisation array and DNA sequencing to direct treatment of metastatic breast cancer: a multicentre, prospective trial (SAFIR01/UNICANCER)',\n",
       "    'doi_cited': '',\n",
       "    'journal': 'Lancet Oncol',\n",
       "    'journal_type': 'journal',\n",
       "    'name': 'F Andre; T Bachelot; F Commo; ',\n",
       "    'pmc': '5847065',\n",
       "    'pmid': '29177603',\n",
       "    'pmid_cited': '24508104',\n",
       "    'ref_id': 'CR16'},\n",
       "   {'article_title': 'Molecularly targeted therapy based on tumour molecular profiling versus conventional therapy for advanced cancer (SHIVA): a multicentre, open-label, proof of concept, randomized, controlled phase 2 trial',\n",
       "    'doi_cited': '',\n",
       "    'journal': 'Lancet Oncol',\n",
       "    'journal_type': 'journal',\n",
       "    'name': 'C Le Tourneau; JP Delord; A Goncalves; ',\n",
       "    'pmc': '5847065',\n",
       "    'pmid': '29177603',\n",
       "    'pmid_cited': '26342236',\n",
       "    'ref_id': 'CR17'},\n",
       "   {'article_title': 'High-throughput genomics and clinical outcome in hard-to-treat advanced cancers: results of the MOSCATO 01 trial',\n",
       "    'doi_cited': '10.1158/2159-8290.CD-16-1396',\n",
       "    'journal': 'Cancer Discov',\n",
       "    'journal_type': 'journal',\n",
       "    'name': 'C Massard; S Michiels; C Ferte; ',\n",
       "    'pmc': '5847065',\n",
       "    'pmid': '29177603',\n",
       "    'pmid_cited': '',\n",
       "    'ref_id': 'CR18'},\n",
       "   {'article_title': 'Clinical implications of routine genomic mutation sequencing in PIK3CA/AKT1 and KRAS/NRAS/BRAF in metastatic breast cancer',\n",
       "    'doi_cited': '',\n",
       "    'journal': 'Breast Cancer Res Treat',\n",
       "    'journal_type': 'journal',\n",
       "    'name': 'JM Cejalvo; JA Perez-Fidalgo; G Ribas; ',\n",
       "    'pmc': '5847065',\n",
       "    'pmid': '29177603',\n",
       "    'pmid_cited': '27628192',\n",
       "    'ref_id': 'CR19'},\n",
       "   {'article_title': 'A targeted next-generation sequencing assay detects a high frequency of therapeutically targetable alterations in primary and metastatic breast cancers: implications for clinical practice',\n",
       "    'doi_cited': '',\n",
       "    'journal': 'Oncologist',\n",
       "    'journal_type': 'journal',\n",
       "    'name': 'NR Vasan; R Yelensky; K Wang; ',\n",
       "    'pmc': '5847065',\n",
       "    'pmid': '29177603',\n",
       "    'pmid_cited': '24710307',\n",
       "    'ref_id': 'CR20'},\n",
       "   {'article_title': 'Targeted next-generation sequencing detects a high frequency of potentially actionable mutations in metastatic breast cancers',\n",
       "    'doi_cited': '',\n",
       "    'journal': 'Exp Mol Pathol',\n",
       "    'journal_type': 'journal',\n",
       "    'name': 'KE Muller; JD Marotti; FB de Abreu; ',\n",
       "    'pmc': '5847065',\n",
       "    'pmid': '29177603',\n",
       "    'pmid_cited': '27095739',\n",
       "    'ref_id': 'CR21'},\n",
       "   {'article_title': 'Clinical outcomes based on multigene profiling in metastatic breast cancer patients',\n",
       "    'doi_cited': '',\n",
       "    'journal': 'Oncotarget',\n",
       "    'journal_type': 'journal',\n",
       "    'name': 'RK Basho; DM Gagliato; NT Ueno; ',\n",
       "    'pmc': '5847065',\n",
       "    'pmid': '29177603',\n",
       "    'pmid_cited': '27806348',\n",
       "    'ref_id': 'CR22'},\n",
       "   {'article_title': 'Pictilisib for oestrogen receptor-positive, aromatase inhibitor-resistant, advanced or metastatic breast cancer (FERGI): a randomized, double-blind, placebo-controlled, phase 2 trial',\n",
       "    'doi_cited': '',\n",
       "    'journal': 'Lancet Oncol',\n",
       "    'journal_type': 'journal',\n",
       "    'name': 'IE Krop; I Mayer; V Ganju; ',\n",
       "    'pmc': '5847065',\n",
       "    'pmid': '29177603',\n",
       "    'pmid_cited': '27155741',\n",
       "    'ref_id': 'CR23'},\n",
       "   {'article_title': '',\n",
       "    'doi_cited': '',\n",
       "    'journal': '',\n",
       "    'journal_type': 'other',\n",
       "    'name': '',\n",
       "    'pmc': '5847065',\n",
       "    'pmid': '29177603',\n",
       "    'pmid_cited': '',\n",
       "    'ref_id': 'CR24'},\n",
       "   {'article_title': '',\n",
       "    'doi_cited': '',\n",
       "    'journal': '',\n",
       "    'journal_type': 'other',\n",
       "    'name': '',\n",
       "    'pmc': '5847065',\n",
       "    'pmid': '29177603',\n",
       "    'pmid_cited': '',\n",
       "    'ref_id': 'CR25'},\n",
       "   {'article_title': 'Correlation between PIK3CA mutations in cell-free DNA and everolimus efficacy in HR+, HER2− advanced breast cancer: results from BOLERO-2',\n",
       "    'doi_cited': '',\n",
       "    'journal': 'Br J Cancer',\n",
       "    'journal_type': 'journal',\n",
       "    'name': 'ME Moynahan; D Chen; W He; ',\n",
       "    'pmc': '5847065',\n",
       "    'pmid': '29177603',\n",
       "    'pmid_cited': '28183140',\n",
       "    'ref_id': 'CR26'},\n",
       "   {'article_title': 'Characterization of the novel and specific PI3\\xa0Kα Inhibitor NVP-BYL719 and development of the patient stratification strategy for clinical trials',\n",
       "    'doi_cited': '',\n",
       "    'journal': 'Mol Cancer Ther',\n",
       "    'journal_type': 'journal',\n",
       "    'name': 'C Fritsch; A Huang; C Chatenay-Rivauday; ',\n",
       "    'pmc': '5847065',\n",
       "    'pmid': '29177603',\n",
       "    'pmid_cited': '24608574',\n",
       "    'ref_id': 'CR27'},\n",
       "   {'article_title': 'Discovery of GDC-0032: A beta-sparing PI3K inhibitor active against PIK3CA mutant tumors',\n",
       "    'doi_cited': '10.1158/1538-7445.AM2013-DDT02-01',\n",
       "    'journal': 'Cancer Res',\n",
       "    'journal_type': 'journal',\n",
       "    'name': 'AG Olivero; TP Heffron; M Baumgardner; ',\n",
       "    'pmc': '5847065',\n",
       "    'pmid': '29177603',\n",
       "    'pmid_cited': '',\n",
       "    'ref_id': 'CR28'},\n",
       "   {'article_title': 'PI3\\xa0K in cancer: divergent roles of isoforms, mode of activation and therapeutic targeting',\n",
       "    'doi_cited': '',\n",
       "    'journal': 'Nat Rev Cancer',\n",
       "    'journal_type': 'journal',\n",
       "    'name': 'LM Thorpe; H Yuzugullu; JJ Zhao',\n",
       "    'pmc': '5847065',\n",
       "    'pmid': '29177603',\n",
       "    'pmid_cited': '25533673',\n",
       "    'ref_id': 'CR29'},\n",
       "   {'article_title': 'Forced mitotic entry of S-phase cells as a therapeutic strategy induced by inhibition of WEE1',\n",
       "    'doi_cited': '',\n",
       "    'journal': 'Cancer Discov',\n",
       "    'journal_type': 'journal',\n",
       "    'name': 'M Aarts; R Sharpe; I Garcia-Murillas; ',\n",
       "    'pmc': '5847065',\n",
       "    'pmid': '29177603',\n",
       "    'pmid_cited': '22628408',\n",
       "    'ref_id': 'CR30'},\n",
       "   {'article_title': 'CHK it Out! Blocking WEE kinase routs TP53 mutant cancer',\n",
       "    'doi_cited': '',\n",
       "    'journal': 'Clin Cancer Res',\n",
       "    'journal_type': 'journal',\n",
       "    'name': 'JE Bauman; CH Chung',\n",
       "    'pmc': '5847065',\n",
       "    'pmid': '29177603',\n",
       "    'pmid_cited': '25125257',\n",
       "    'ref_id': 'CR31'},\n",
       "   {'article_title': 'AKT signaling in ERBB2-amplified breast cancer',\n",
       "    'doi_cited': '',\n",
       "    'journal': 'Pharmacol Ther',\n",
       "    'journal_type': 'journal',\n",
       "    'name': 'FJ Carmona; F Montemurro; S Kannan; ',\n",
       "    'pmc': '5847065',\n",
       "    'pmid': '29177603',\n",
       "    'pmid_cited': '26645663',\n",
       "    'ref_id': 'CR32'},\n",
       "   {'article_title': 'A Phase II study of the PI3K inhibitor taselisib (GDC-0032) combined with fulvestrant in patients with HER2−, hormone receptor-positive advanced breast cancer',\n",
       "    'doi_cited': '',\n",
       "    'journal': 'J Clin Oncol',\n",
       "    'journal_type': 'journal',\n",
       "    'name': 'MN Dickler; C Saura; D Richards; ',\n",
       "    'pmc': '5847065',\n",
       "    'pmid': '29177603',\n",
       "    'pmid_cited': '',\n",
       "    'ref_id': 'CR33'},\n",
       "   {'article_title': 'A Phase Ib study of alpelisib (BYL719), a PI3Kα-specific inhibitor, with letrozole in ER+/HER2− metastatic breast cancer',\n",
       "    'doi_cited': '',\n",
       "    'journal': 'Clin Cancer Res',\n",
       "    'journal_type': 'journal',\n",
       "    'name': 'IA Mayer; VG Abramson; L Formisano; ',\n",
       "    'pmc': '5847065',\n",
       "    'pmid': '29177603',\n",
       "    'pmid_cited': '27126994',\n",
       "    'ref_id': 'CR34'},\n",
       "   {'article_title': 'Molecular Analysis for therapy of choice: NCI MATCH',\n",
       "    'doi_cited': '',\n",
       "    'journal': 'Semin Oncol',\n",
       "    'journal_type': 'journal',\n",
       "    'name': 'BA Conley; JH Doroshow',\n",
       "    'pmc': '5847065',\n",
       "    'pmid': '29177603',\n",
       "    'pmid_cited': '25023344',\n",
       "    'ref_id': 'CR35'},\n",
       "   {'article_title': 'Emerging role of genomic rearrangments in breast cancer: applying knowledge from other cancers',\n",
       "    'doi_cited': '',\n",
       "    'journal': 'Biomarkers in Cancer',\n",
       "    'journal_type': 'journal',\n",
       "    'name': 'BS Paratala; SC Dolfi; H Khiabanian; ',\n",
       "    'pmc': '5847065',\n",
       "    'pmid': '29177603',\n",
       "    'pmid_cited': '26917980',\n",
       "    'ref_id': 'CR36'}]},\n",
       " 'domain': 'biomedical',\n",
       " 'journal': 'Breast Cancer Research and Treatment',\n",
       " 'license': 'open_access',\n",
       " 'title': 'Impact of multi-gene mutational profiling on clinical trial outcomes in metastatic breast cancer',\n",
       " 'type': 'Clinical Trial',\n",
       " 'year': '2017'}"
      ]
     },
     "execution_count": 38,
     "metadata": {},
     "output_type": "execute_result"
    }
   ],
   "source": [
    "results[10]"
   ]
  },
  {
   "cell_type": "code",
   "execution_count": 42,
   "metadata": {},
   "outputs": [
    {
     "data": {
      "text/plain": [
       "[['Schoormans', 'Dounya', 'Aff1'],\n",
       " ['van de Poll-Franse', 'Lonneke', 'Aff1'],\n",
       " ['van de Poll-Franse', 'Lonneke', 'Aff2'],\n",
       " ['van de Poll-Franse', 'Lonneke', 'Aff3'],\n",
       " ['van de Poll-Franse', 'Lonneke', 'Aff4'],\n",
       " ['Vissers', 'Pauline', 'Aff2'],\n",
       " ['van Herk-Sukel', 'Myrthe P. P.', 'Aff5'],\n",
       " ['Pedersen', 'Susanne S.', 'Aff3'],\n",
       " ['Pedersen', 'Susanne S.', 'Aff6'],\n",
       " ['Rottmann', 'Nina', 'Aff3'],\n",
       " ['Rottmann', 'Nina', 'Aff7'],\n",
       " ['Horsbøl', 'Trine', 'Aff8'],\n",
       " ['Dalton', 'Susanne', 'Aff8'],\n",
       " ['Denollet', 'Johan', 'Aff1']]"
      ]
     },
     "execution_count": 42,
     "metadata": {},
     "output_type": "execute_result"
    }
   ],
   "source": [
    "results[10]['content']['references']\n",
    "results[1]['authors']"
   ]
  },
  {
   "cell_type": "code",
   "execution_count": 54,
   "metadata": {},
   "outputs": [],
   "source": [
    "titles_file = 'data/titles_years.txt'\n",
    "with open(titles_file, 'w') as f:\n",
    "    for term in titles:\n",
    "        f.write(\"%s\\n\" % str(term))"
   ]
  },
  {
   "cell_type": "code",
   "execution_count": 26,
   "metadata": {},
   "outputs": [
    {
     "name": "stdout",
     "output_type": "stream",
     "text": [
      "min 2016 max 2018\n"
     ]
    }
   ],
   "source": [
    "years = []\n",
    "for pub in publications[\"Breast Cancer Research and Treatment\"]:\n",
    "    years.append(pub['year'])\n",
    "print('min', min(years), 'max', max(years))"
   ]
  },
  {
   "cell_type": "code",
   "execution_count": null,
   "metadata": {},
   "outputs": [],
   "source": [
    "for pubs in list_of_pubs:\n",
    "    actions = []\n",
    "    \n",
    "    for cur in pubs:\n",
    "        text = cur[\"content\"]\n",
    "        \n",
    "        print(cur['_id'])\n",
    "        print(cur['journal'])\n",
    "\n",
    "        actions.append({\n",
    "                    \"_index\": \"ir\",\n",
    "                    \"_type\": \"publications\",\n",
    "                    \"_id\" : cur['_id'],\n",
    "                    \"journal\": cur['journal'],\n",
    "                    \"year\": cur['year'],\n",
    "                    \"_source\" : {\n",
    "                        \"text\" : text,\n",
    "                        \"title\": cur[\"title\"]\n",
    "                    }\n",
    "                })\n",
    "\n",
    "    if len(actions) == 0:\n",
    "            continue\n",
    "\n",
    "    res = helpers.bulk(es, actions)\n",
    "    print(res)"
   ]
  },
  {
   "cell_type": "markdown",
   "metadata": {
    "heading_collapsed": true
   },
   "source": [
    "# 3 Twosent Index"
   ]
  },
  {
   "cell_type": "code",
   "execution_count": 29,
   "metadata": {
    "hidden": true
   },
   "outputs": [
    {
     "data": {
      "text/plain": [
       "{'active_primary_shards': 5,\n",
       " 'active_shards': 5,\n",
       " 'active_shards_percent_as_number': 100.0,\n",
       " 'cluster_name': 'smartpub',\n",
       " 'delayed_unassigned_shards': 0,\n",
       " 'initializing_shards': 0,\n",
       " 'number_of_data_nodes': 1,\n",
       " 'number_of_in_flight_fetch': 0,\n",
       " 'number_of_nodes': 1,\n",
       " 'number_of_pending_tasks': 0,\n",
       " 'relocating_shards': 0,\n",
       " 'status': 'green',\n",
       " 'task_max_waiting_in_queue_millis': 0,\n",
       " 'timed_out': False,\n",
       " 'unassigned_shards': 0}"
      ]
     },
     "execution_count": 29,
     "metadata": {},
     "output_type": "execute_result"
    }
   ],
   "source": [
    "from pymongo import MongoClient\n",
    "from elasticsearch import Elasticsearch\n",
    "from elasticsearch import helpers\n",
    "import math\n",
    "import requests\n",
    "import nltk\n",
    "import _pickle as cPickle\n",
    "import config as cfg\n",
    "import logging\n",
    "\n",
    "###############################\n",
    "sent_detector = nltk.data.load('tokenizers/punkt/english.pickle')\n",
    "client = MongoClient('localhost:' + str(cfg.mongoDB_Port))\n",
    "pub = client.pub.publications\n",
    "db = client.pub\n",
    "es = Elasticsearch([{'host': 'localhost', 'port': 9200}],\n",
    "                   timeout=30, max_retries=10, retry_on_timeout=True)\n",
    "es.cluster.health(wait_for_status='yellow', request_timeout=1)"
   ]
  },
  {
   "cell_type": "code",
   "execution_count": 30,
   "metadata": {
    "hidden": true
   },
   "outputs": [],
   "source": [
    "def return_paragraphs(mongo_string_search, db):\n",
    "    # mongo_string_search = {\"dblpkey\": \"{}\".format(dblkey)}\n",
    "    results = db.publications.find(mongo_string_search)\n",
    "    chapters = list()\n",
    "    chapter_nums = list()\n",
    "    list_of_docs = list()\n",
    "    # list_of_abstracts = list()\n",
    "    merged_chapters = list()\n",
    "    \n",
    "    my_dict = {\n",
    "        \"_id\": \"\",\n",
    "        \"paragraphs\": list(),\n",
    "        \"title\": \"\"\n",
    "    }\n",
    "    \n",
    "    for i, r in enumerate(results):\n",
    "        # try:\n",
    "        # list_of_sections = list()\n",
    "        my_dict['_id'] = r['_id']\n",
    "        my_dict['title'] = r['title']\n",
    "        paragraphs = []\n",
    "        \n",
    "#         ########################################################\n",
    "        try:\n",
    "            for chapter in r['content']['chapters']:\n",
    "                if (chapter == {}):\n",
    "                    continue\n",
    "\n",
    "                    # remove the filter that removes related works\n",
    "                    # elif str(chapter['title']).lower() in filter_chapters:\n",
    "                    # print(chapter['title'])\n",
    "\n",
    "                # print(chapter['title'])\n",
    "                for paragraph in chapter['paragraphs']:\n",
    "                    if paragraph == {}:\n",
    "                        continue\n",
    "                    paragraphs.append(paragraph)\n",
    "\n",
    "            my_dict['paragraphs'] = paragraphs\n",
    "\n",
    "        except:\n",
    "            logging.exception('No chapters in ' + r['_id'], exc_info=True)\n",
    "            \n",
    "                \n",
    "#         try:\n",
    "#             for paragraph in r['content']['paragraphs']:\n",
    "#                 if paragraph == {}:\n",
    "#                     continue\n",
    "#                 paragraphs.append(paragraph['text'])\n",
    "#             my_dict['paragraphs'] = paragraphs\n",
    "        \n",
    "#         except:\n",
    "#             logging.exception('No paragraphs in ' + r['_id'], exc_info=True)\n",
    "#             continue\n",
    "#         ########################################################    \n",
    "\n",
    "        list_of_docs.append(my_dict)\n",
    "        my_dict = {\n",
    "            \"_id\": \"\",\n",
    "            \"paragraphs\": list(),\n",
    "            \"title\": \"\"\n",
    "        }\n",
    "\n",
    "    return list_of_docs"
   ]
  },
  {
   "cell_type": "code",
   "execution_count": 38,
   "metadata": {
    "hidden": true
   },
   "outputs": [],
   "source": [
    "results = db.publications.find(mongo_string_search)\n",
    "mongo_string_search = {'$or': [{'$and': [{'booktitle': publication}, {'content.fulltext': {'$exists': True}}]} ,\n",
    "                                   {'$and': [{'journal': publication},   {'content.fulltext': {'$exists': True}}]} ]}"
   ]
  },
  {
   "cell_type": "code",
   "execution_count": 39,
   "metadata": {
    "hidden": true
   },
   "outputs": [],
   "source": [
    "my_dict = {\n",
    "    \"_id\": \"\",\n",
    "    \"paragraphs\": list(),\n",
    "    \"title\": \"\"\n",
    "}\n",
    "for i, r in enumerate(results):\n",
    "    # try:\n",
    "    # list_of_sections = list()\n",
    "    my_dict['_id'] = r['_id']\n",
    "    my_dict['title'] = r['title']\n",
    "    paragraphs = []"
   ]
  },
  {
   "cell_type": "code",
   "execution_count": 60,
   "metadata": {
    "hidden": true
   },
   "outputs": [
    {
     "name": "stdout",
     "output_type": "stream",
     "text": [
      "Eukaryotic cells utilize intricate mechanisms for the uptake and intracellular sorting of various macromolecules, such as membrane components and extracellular proteins. Microscopic imaging studies have helped considerably to describe and define important steps of the uptake process. It has been shown that the cytosolic face of the plasma membrane is studded with small, domed assemblages of peripheral membrane proteins. These constitute transitory sorting stations that dynamically remodel the composition of the cell surface in response to both intracellular and extracellular stimuli. Typically, within a minute of forming, these assemblages invaginate to generate “buds” that then detach, generating small (∼60 nm), membrane-bound transport vesicles that deliver their contents (often receptors) to specific intracellular compartments—namely acceptor early endosomes—for further dissemination within the cell (Figure 1). This invagination and sorting process is called endocytosis, and although several morphologically and structurally distinct endocytic sorting assemblies occur at the surface of most cells [1], perhaps the most recognizable are polyhedral clathrin-coated structures. First identified to be cargo-selective transport carriers during yolk uptake and storage within oocytes of blood-fed mosquitoes [2], clathrin-coated vesicles are now known to support many vital cellular processes, ranging from nutrient uptake, cellular locomotion, and transcriptional regulation and proliferation to complex developmental morphogenetic events. Clathrin-mediated endocytosis also seems important for the efficacy of anti-receptor monoclonal antibody-based tumor therapy [3] and for susceptibility to double-stranded RNA–mediated gene silencing [4].\n",
      "\n",
      "Schematic depiction of a deeply invaginated clathrin-coated bud and a flat clathrin-coated plaque undergoing endocytic uptake and the resultant uncoated vesicles. Both transmembrane cargo (green and blue receptors) that are selectively sorted into clathrin-coated vesicles and bulk membrane-associated cell surface proteins (orange and magenta) that are perhaps nonselectively incorporated into plaques are shown.\n",
      "\n",
      "Clathrin assembles at discrete patches on the plasma membrane through cooperative interactions involving a large set of endocytic proteins [5]. Chief among these are adaptor proteins, which, as the name suggests, link membrane components with the outer layer of the vesicle coat, which is composed of clathrin trimers (Figure 1, inset). While the principal role of clathrin-coated buds is to gather appropriate transmembrane proteins, generically designated “cargo,” for selective delivery to the cell interior, cargo capture is not the driving force for the deposition of coat components at a nascent bud site. AP-2, a major adaptor complex within clathrin-coated structures, has two separate cargo-binding surfaces that are probably both inaccessible when AP-2 first docks onto the plasma membrane [6],[7]. This means that although cargo depends on a sorting signal(s) for its incorporation into clathrin-coated vesicles, recognition of these signals is unlikely to be the event that recruits adaptors and thus allows clathrin coats to form on bare membrane. Instead, the rare and spatially restricted phospholipid phosphatidylinositol 4,5-bisphosphate (PtdIns(4,5)P2) seems to play a major role in placing coat protomers on the plasma membrane to begin clathrin assembly [8]–[11]; AP-2 and several other important coat and accessory proteins bind physically to PtdIns(4,5)P2\n",
      "[5]. Perturbing PtdIns(4,5)P2 production in cultured cells leads to an almost immediate dissolution of preexisting clathrin-coated structures at the cell surface [8],[10],[11].\n",
      "\n",
      "Because transmission electron microscope (EM) images typically reveal isolated, invaginating coated buds all along the cell surface, and clathrin immunolabeling often shows a profusion of small, separated puncta apparently randomly scattered over the surface membrane (Figure 2), it seems reasonable to suspect that clathrin-coated vesicles might form de novo for each internalization cycle. There is indeed evidence for this from live-cell imaging. In the unicellular yeast Saccharomyces cerevisiae, the predictable kinetic behavior of coat components has led to a thorough cataloging of temporally resolved protein entry and exit at single-turnover endocytic sites [12]. In BS-C-1 cells, an African green monkey–derived cell line, clathrin coats at the surface are similarly uniform. The stereotyped behavior of these structures has allowed the definition of coat lifetimes and revealed different types of failure events [13],[14] for these canonical constructions, which are known as clathrin-coated pits. Most importantly, insufficient (or perhaps inappropriate) cargo packaging appears to presage nonproductive collapse of an incipient bud [13],[14]. So, while cargo clearly does not actively recruit coat machinery to the membrane, it plays an important role in driving the process forward to the next step: the budding of vesicles.\n",
      "\n",
      "Yet, in other cell lines [15]–[19] and isolated primary cells [20], the size distribution of clathrin-coated structures on the cell surface is far less regular than in BS-C-1 cells. For example, in HeLa cells, in addition to transient diffraction-limited objects (<200 nm), large, long-lived and rather sedentary clathrin spots (>500 nm) are observed (Figure 2). Both EM [21],[22] and time-resolved fluorescence imaging techniques, like total internal reflection fluorescence microscopy (TIR-FM) [17],[18],[23],[24], have been used to visualize the bulky clathrin structures on the basal adherent surface, but EM-based visualization of isolated dorsal plasma membrane also shows regions of extensive flat clathrin lattice [25],[26]. Why are there different clathrin assemblies at the plasma membrane and what, if any, is the functional significance of this dichotomy? The variability in position, size, and dynamic behavior of diverse clathrin structures has made global computational analysis of large data sets of time-resolved events very challenging. For one thing, the kinetic inconsistency makes modeling difficult and much depends upon whether, despite morphological and temporal plasticity, the sorting and functional properties of the different patches is basically the same.\n",
      "\n",
      "In this issue of PLoS Biology, the Kirchhausen laboratory delves into this issue by utilizing quantitative live-cell imaging of several distinct cell types [27]. Their overarching conclusion is that two mechanistically distinct modes of clathrin assembly and internalization occur at the ventral plasma membrane of different cells. They deduce that rounded buds correspond to de novo–forming, canonical clathrin-coated pits on naked membrane, while clathrin-coated “plaques” are equivalent to the persistent, flat clathrin sheets, and are found only on the basal adherent surface. A pivotal finding is that plaques apparently remain roughly planar throughout, including when an abrupt inward trajectory signifies entry into the cell interior. In curved coated pits, the distribution of AP-2 and epsin, another adaptor, relative to the clathrin coat appears asymmetric, but not in plaques [27]. This again suggests that the underlying plasma membrane is not deformed into a spherical vesicle, typical of most coat-mediated transport events; plaques seemingly maintain a constant arrangement throughout their functional lifetime.\n",
      "\n",
      "Saffarian et al. provocatively argue that their characterization of general plaque behavior rationalizes a rather discrepant literature, yet the work also raises several fundamental questions. Foremost is whether the plaques they catalog are generally equivalent to the extensive, long-lived, and immobile clathrin patches seen by others. In contrasting ultrastructural studies from other laboratories, the flat patches can be considerably larger [21],[25],[26],[28],[29], and internalization en masse could possibly generate a large puncture in the basal membrane unless much circumferential uncoated membrane is also incorporated into the incoming vesicle, with concomitant reorganization of the underlying surface bilayer (Figure 3). Do plaques invariably enter as intact structures? And, if so, how mechanistically does this occur without compromising the bulk membrane structure? Curiously, despite being plentiful at the adherent surface, thin-section EM images of plaques captured precisely at the instant of internalization are not available. Saffarian et al. assert that the slow relative rate of plaque internalization makes this visualization unlikely. Still, a striking feature of clathrin structures in freeze-etch images of the adherent cell surface is the frequent close proximity of emerging rounded buds to adjacent flat arrays (Figure 2). Corroborating thin-section EM images have been published previously in which buds within, or immediately adjacent to, plaques are plainly seen [21]. One interpretation of this juxtaposed positioning is that flat clathrin arrays could operate as staging scaffolds for spherical bud production. This idea is in accord with observed fluctuations in TIR-FM fluorescence intensity within the persistent lattice population [20], which are compatible with loss of (peripheral) subregions of an extended patch, leaving portions remaining at the plasma membrane [15]. Labeled cargo molecules also have been seen emerging from stationary clathrin patches [20],[26].\n",
      "\n",
      "Next, we do not understand clearly how, when compared with pits, flat arrays are differentially nucleated and apparently restricted to the adherent surface of the cell. The requirement for a very large excess of hexagonal facets to construct a planar lattice differs obviously from de novo–nucleated buds. Yet, flat lattices must require PtdIns(4,5)P2 for assembly, as consumption of this lipid leads to prompt loss of most clathrin structures and adaptors at the ventral surface [10],[11]. Fluorescence recovery after photobleaching (FRAP) experiments indicate that during assembly, clathrin and AP-2 molecules rapidly enter and exit small and large structures alike [16],[30]. That both structures are dynamic at the microscopic level suggests similar overall apparatus and assembly mechanisms. And if cargo is needed to stabilize coats [13],[14], then long-lived plaques must contain and sequester cargo, just as pits do. This is borne out experimentally: fluorescently tagged transferrin (a serum iron transporter that engages the transmembrane transferrin receptor for clathrin-dependent import of iron into the cell interior) labels essentially all surface clathrin structures in HeLa and other cells [17],[19],[20],[30]. The density of transferrin receptor in flat lattice is proportional to receptor concentration [26], and the rate and quantitative nature of transferrin uptake makes it highly unlikely that cargo concentrated within plaques fails to internalize rapidly. Thus, morphologically discernible clathrin structures do appear to cluster the same constitutively internalized cargo.\n",
      "\n",
      "Another (possibly related) issue is, what prevents the flat clathrin arrays from forming invaginated buds? Perhaps information can be gleaned from comparison with another membrane compartment where flat clathrin arrays also form with no evidence of rounded bud production: on early endosomes maturing into multivesicular bodies (Figure 1). Originally discovered in 1964 [31], we now know that these endosomal clathrin assemblies operate by sequestering cargo, just like clathrin-coated structures at the plasma membrane [32]. However, these so-called bilayered clathrin coats do not contain AP-2 and have an unusual EM morphology that is not seen at plasma membrane plaques. The odd appearance of bilayered clathrin coats could indicate inclusion of structural components that preclude lattice curvature. In canonical, de novo–forming rounded buds, it is thought that the force to sculpt the plasma membrane may come from assembling clathrin, which has inherent curvature when pentagonal facets are incorporated into the lattice [22],[27],[33]; or, instead of inducing curvature itself, clathrin may stabilize curvature resulting from thermal fluctuation–driven membrane rearrangements [34]. Do plasma membrane plaques then, like bilayered clathrin coats on early endosomes, incorporate some additional structural component(s) that blocks clathrin-mediated induction or stabilization of membrane curvature?\n",
      "\n",
      "An alternative model for what prevents the basally located, flat clathrin arrays from forming invaginated buds is that it is due to a unique role for the actin cytoskeleton in plaque formation, coupled with the strength of adhesion of the basal cell surface to the underlying substrate on which cells are growing. Saffarian et al. find that actin nucleation is unnecessary for the budding of spherical coats, although it is worth noting that at the apical surface of polarized epithelial cells, where clathrin buds are incontestably spherical, actin does regulate vesicle internalization [35] and also drives entry of rounded clathrin-coated structures housing vesicular stomatitis virus [36]. In contrast to what Saffarian et al. observe for bud formation, nucleation of branched actin microfilaments appears to drive plaque movement into the cell [27] (Figure 3). This conclusion is based on the observations that depolymerization of the actin cytoskeleton with the sponge toxin latrunculin A arrests development and internalization of extant plaques and that the branched actin regulators cortactin and Arp2/3 build up at plaques just prior to movement away from the cell cortex [27]. Because latrunculin A application also prevents the formation of new plaques [27], an additional activity of the actin cytoskeleton may be to maintain the planar topology of plaques, perhaps in concert with resistance to deformation caused by tight cell adhesion to the underlying substrate. These observations of actin contributions to plaque formation in particular are intriguing, as the closest mechanistic parallels to the behavior of plaques seem to come from cortical actin patches in S. cerevisiae, the sites of clathrin-mediated endocytosis [12]. While absolutely actin-dependent, cortical patches remodel the plasma membrane into tubulovesicular profiles upon internalization [37], quite unlike what is suggested for higher eukaryotic plaques.\n",
      "\n",
      "Irrespective of mechanism, the current schematic depiction suggests that uptake of a flat clathrin sheet leads to extraneous (noncoated) membrane around the perimeter of the plaque also being internalized (Figure 3). Superficially, this seemingly defies the whole elegant selectivity of coat-mediated sorting. Two important questions arise from this model: how can this membrane excess prevent endocytosis of inappropriate plasma membrane segments, and how is scission regulated at the molecular level?\n",
      "\n",
      "But perhaps the most important lingering question is what the functional significance of the flat clathrin arrays is, if they have no operative relationship to buds. Two different types of clathrin assemblies could be a physical manifestation of compositionally discrete sorting stations operating in parallel to presort cargo at the cell surface. Data to support the idea of cargo-selective clathrin coats are accumulating [38]–[41], but do not seem to strictly reflect selective partitioning of different membrane-embedded proteins into either pits or plaques. There are, in fact, suggestions that even in BS-C-1 cells, which lack plaques, different types of clathrin sorting structures occur [40]. Doubtless, more work is needed to establish the precise functional interrelationships between different types of clathrin-coated structures, but, unarguably, the new results from Saffarian et al. have given cell biologists much to ponder.\n",
      "\n",
      "Schematic illustration of a cultured cell showing surface-positioned clathrin-coated buds, ventrally located large, flat clathrin “plaques,” and the major internal endosomal sorting stations. After clathrin coat uncoating, transport vesicles quickly fuse with the peripheral early endosome compartment, mingling incoming cargo molecules in this initial sorting endosome. Transmembrane cargo can return either directly to the plasma membrane from the early endosome, or be sorted into tubules that are delivered to the juxtanuclear recycling endosome compartment, from which cargo can also be directed back to the cell surface. The bulbous vacuolar portion of the early endosome, containing a flat, bilayered clathrin coat, matures into a multivesicular body for delivery of selected components to lysosomes for degradation. The inset shows the basic composition and organization of a clathrin-coated vesicle, with the three major layers: the inner membrane vesicle with various embedded transmembrane cargo (blue and green), an intermediate layer of adaptors including AP-2 (gray), and the outer clathrin polyhedral lattice (red).\n",
      "\n",
      "(A) Confocal optical section of a HeLa cell immunolabeled with antibodies to AP-2 to reveal clathrin-coated structures on the adherent plasma membrane. Selected examples of diffraction-limited spots (arrowheads) and large clathrin assemblies (arrows) are shown. (B) Freeze-etch EM image of the adherent surface of a cultured cell, showing both flat and rounded, budding polygonal clathrin structures (pseudocolored in red) on the plasma membrane and the proximity of budding vesicles to the planar sheets.\n",
      "\n"
     ]
    }
   ],
   "source": [
    "for chapter in r['content']['chapters']:\n",
    "    for paragraph in chapter[0]['paragraphs']:\n",
    "        print(paragraph)\n",
    "        print('')"
   ]
  },
  {
   "cell_type": "code",
   "execution_count": 12,
   "metadata": {
    "hidden": true
   },
   "outputs": [
    {
     "name": "stderr",
     "output_type": "stream",
     "text": [
      "ERROR:root:No chapters in PMC_3472976\n",
      "Traceback (most recent call last):\n",
      "  File \"<ipython-input-11-ddacd84d4e65>\", line 34, in return_paragraphs\n",
      "    for paragraph in chapter['paragraphs']:\n",
      "TypeError: string indices must be integers\n",
      "ERROR:root:No chapters in PMC_521730\n",
      "Traceback (most recent call last):\n",
      "  File \"<ipython-input-11-ddacd84d4e65>\", line 34, in return_paragraphs\n",
      "    for paragraph in chapter['paragraphs']:\n",
      "TypeError: string indices must be integers\n",
      "ERROR:root:No chapters in PMC_1084337\n",
      "Traceback (most recent call last):\n",
      "  File \"<ipython-input-11-ddacd84d4e65>\", line 34, in return_paragraphs\n",
      "    for paragraph in chapter['paragraphs']:\n",
      "TypeError: string indices must be integers\n",
      "ERROR:root:No chapters in PMC_4917243\n",
      "Traceback (most recent call last):\n",
      "  File \"<ipython-input-11-ddacd84d4e65>\", line 34, in return_paragraphs\n",
      "    for paragraph in chapter['paragraphs']:\n",
      "TypeError: string indices must be integers\n",
      "ERROR:root:No chapters in PMC_3075230\n",
      "Traceback (most recent call last):\n",
      "  File \"<ipython-input-11-ddacd84d4e65>\", line 34, in return_paragraphs\n",
      "    for paragraph in chapter['paragraphs']:\n",
      "TypeError: string indices must be integers\n",
      "ERROR:root:No chapters in PMC_2930862\n",
      "Traceback (most recent call last):\n",
      "  File \"<ipython-input-11-ddacd84d4e65>\", line 34, in return_paragraphs\n",
      "    for paragraph in chapter['paragraphs']:\n",
      "TypeError: string indices must be integers\n",
      "ERROR:root:No chapters in PMC_2730035\n",
      "Traceback (most recent call last):\n",
      "  File \"<ipython-input-11-ddacd84d4e65>\", line 34, in return_paragraphs\n",
      "    for paragraph in chapter['paragraphs']:\n",
      "TypeError: string indices must be integers\n"
     ]
    },
    {
     "name": "stdout",
     "output_type": "stream",
     "text": [
      "Total journals: 1\n"
     ]
    }
   ],
   "source": [
    "# filter_publications = [\"WWW\", \"ICSE\", \"VLDB\", \"JCDL\", \"TREC\",  \"SIGIR\", \"ICWSM\", \"ECDL\", \"ESWC\", \"TPDL\", \n",
    "filter_publications = [ \"PLoS Biology\"]#, \"Breast Cancer Research\", \"BMC Evolutionary Biology\", \"BMC Genomics\", \"BMC Biotechnology\",\n",
    "#                         \"BMC Neuroscience\", \"Genome Biology\", \"PLoS Genetics\", \"Breast Cancer Research : BCR\", \n",
    "#                        \"Genome Biology and Evolution\", \"Breast Cancer Research and Treatment\"]\n",
    "\n",
    "list_of_pubs = []\n",
    "\n",
    "for publication in filter_publications:\n",
    "    mongo_string_search = {'$or': [{'$and': [{'booktitle': publication}, {'content.fulltext': {'$exists': True}}]} ,\n",
    "                                   {'$and': [{'journal': publication},   {'content.fulltext': {'$exists': True}}]} ]}\n",
    "    list_of_pubs.append(return_paragraphs(mongo_string_search, db))\n",
    "\n",
    "print(\"Total journals:\", len(list_of_pubs))\n"
   ]
  },
  {
   "cell_type": "code",
   "execution_count": null,
   "metadata": {
    "hidden": true
   },
   "outputs": [],
   "source": [
    "for pubs in list_of_pubs:\n",
    "    for paper in pubs:\n",
    "        actions = []\n",
    "        cleaned = []\n",
    "        datasetsent = []\n",
    "        othersent = []\n",
    "        \n",
    "        for paragraph in paper['paragraphs']:\n",
    "            if paragraph == {}:\n",
    "                continue\n",
    "            lines = (sent_detector.tokenize(paragraph.strip()))\n",
    "            \n",
    "            if len(lines) < 3:\n",
    "                continue\n",
    "\n",
    "            for i in range(len(lines)):\n",
    "                words = nltk.word_tokenize(lines[i])\n",
    "                lengths = [len(x) for x in words]\n",
    "                average = sum(lengths) / len(lengths)\n",
    "                if average < 4:\n",
    "                    continue\n",
    "                    \n",
    "                twosentences = ''\n",
    "                try:\n",
    "                    twosentences = lines[i] + ' ' + lines[i-1]\n",
    "\n",
    "                except:\n",
    "                    twosentences = lines[i] + ' ' + lines[i+1]\n",
    "                    \n",
    "                datasetsent.append(twosentences)\n",
    "\n",
    "            #cleaned.append(paragraph)\n",
    "\n",
    "        for num, parag in enumerate(datasetsent):\n",
    "            actions.append({\n",
    "                \"_index\": \"twosent\",\n",
    "                \"_type\": \"twosentnorules\",\n",
    "                \"_id\": paper['_id'] + str(num),\n",
    "\n",
    "                \"_source\" : {\n",
    "                    \"title\" : paper['title'],\n",
    "                    \"content.chapter.sentpositive\" : parag,\n",
    "                    \"paper_id\":paper['_id']\n",
    "                }})\n",
    "            \n",
    "        if len(actions) == 0:\n",
    "            continue\n",
    "\n",
    "#         res = helpers.bulk(es, actions)\n",
    "#         print(res)"
   ]
  },
  {
   "cell_type": "markdown",
   "metadata": {},
   "source": [
    "# 4 Using ES "
   ]
  },
  {
   "cell_type": "code",
   "execution_count": 24,
   "metadata": {},
   "outputs": [],
   "source": [
    "X_testB = []\n",
    "with open('data/protein-names-test.txt', 'r') as file:\n",
    "    for row in file.readlines():\n",
    "        X_testB.append(row.strip())\n",
    "# lowercase the names\n",
    "X_testB = [ds.lower() for ds in X_testB]\n",
    "X_testB = list(set(X_testB))"
   ]
  },
  {
   "cell_type": "code",
   "execution_count": 25,
   "metadata": {
    "scrolled": false
   },
   "outputs": [
    {
     "name": "stdout",
     "output_type": "stream",
     "text": [
      "Got 1 Hits:\n",
      "__________\n",
      "Got 0 Hits:\n",
      "__________\n",
      "Got 25 Hits:\n",
      "__________\n",
      "Got 14 Hits:\n",
      "__________\n",
      "Got 312 Hits:\n",
      "__________\n"
     ]
    }
   ],
   "source": [
    "names = ['contactin-5', 'chitotriosidase-1', 'calponin-1', 'interleukin-7', 'caspase-7']\n",
    "for name in names:\n",
    "    query = {\"query\":\n",
    "        {\"match\": {\n",
    "            \"content.chapter.sentpositive\": {\n",
    "                \"query\": name,\n",
    "                \"operator\": \"and\"\n",
    "\n",
    "            }\n",
    "        }\n",
    "        }\n",
    "    }\n",
    "\n",
    "    res = es.search(index=\"twosent\", doc_type=\"twosentnorules\",\n",
    "                    body=query, size=100)\n",
    "\n",
    "    print(\"Got %d Hits:\" % res['hits']['total'])\n",
    "#     for hit in res['hits']['hits']:\n",
    "#         print(hit['_source']['title'])\n",
    "#         print(hit['_source']['content.chapter.sentpositive'])\n",
    "    print('_'*10)"
   ]
  },
  {
   "cell_type": "code",
   "execution_count": 35,
   "metadata": {},
   "outputs": [
    {
     "name": "stdout",
     "output_type": "stream",
     "text": [
      "sentence removed\n",
      "sentence removed\n",
      "sentence removed\n",
      "sentence removed\n",
      "sentence removed\n",
      "sentence removed\n",
      "sentence removed\n",
      "sentence removed\n",
      "sentence removed\n",
      "sentence removed\n",
      "sentence removed\n",
      "sentence removed\n"
     ]
    }
   ],
   "source": [
    "for doc in res['hits']['hits']:\n",
    "\n",
    "    sentence = doc[\"_source\"][\"content.chapter.sentpositive\"]\n",
    "\n",
    "    words = nltk.word_tokenize(doc[\"_source\"][\"content.chapter.sentpositive\"])\n",
    "    lengths = [len(x) for x in words]\n",
    "    average = sum(lengths) / len(lengths)\n",
    "\n",
    "    if average < 3:\n",
    "        continue\n",
    "\n",
    "    sentence = sentence.replace(\"@ BULLET\", \"\")\n",
    "    sentence = sentence.replace(\"@BULLET\", \"\")\n",
    "    sentence = sentence.replace(\", \", \" , \")\n",
    "    sentence = sentence.replace('(', '')\n",
    "    sentence = sentence.replace(')', '')\n",
    "    sentence = sentence.replace('[', '')\n",
    "    sentence = sentence.replace(']', '')\n",
    "    sentence = sentence.replace(',', ' ,')\n",
    "    sentence = sentence.replace('?', ' ?')\n",
    "    sentence = sentence.replace('..', '.')\n",
    "#     print(sentence)\n",
    "#     for word in X_testB:\n",
    "#         if word in words:\n",
    "#             print(word)\n",
    "            \n",
    "    if any(ext in words for ext in X_testB):\n",
    "        print('sentence removed')\n",
    "        continue"
   ]
  },
  {
   "cell_type": "code",
   "execution_count": 31,
   "metadata": {
    "scrolled": false
   },
   "outputs": [],
   "source": [
    "for word in X_testB:\n",
    "    if word in sentence.lower():\n",
    "        print(word)"
   ]
  },
  {
   "cell_type": "code",
   "execution_count": 1,
   "metadata": {
    "scrolled": true
   },
   "outputs": [
    {
     "ename": "NameError",
     "evalue": "name 'es' is not defined",
     "output_type": "error",
     "traceback": [
      "\u001b[0;31m---------------------------------------------------------------------------\u001b[0m",
      "\u001b[0;31mNameError\u001b[0m                                 Traceback (most recent call last)",
      "\u001b[0;32m<ipython-input-1-336df16f5a0b>\u001b[0m in \u001b[0;36m<module>\u001b[0;34m()\u001b[0m\n\u001b[0;32m----> 1\u001b[0;31m \u001b[0mres\u001b[0m \u001b[0;34m=\u001b[0m \u001b[0mes\u001b[0m\u001b[0;34m.\u001b[0m\u001b[0msearch\u001b[0m\u001b[0;34m(\u001b[0m\u001b[0mindex\u001b[0m\u001b[0;34m=\u001b[0m\u001b[0;34m\"ir\"\u001b[0m\u001b[0;34m,\u001b[0m \u001b[0mbody\u001b[0m\u001b[0;34m=\u001b[0m\u001b[0;34m{\u001b[0m\u001b[0;34m\"query\"\u001b[0m\u001b[0;34m:\u001b[0m \u001b[0;34m{\u001b[0m\u001b[0;34m\"match_all\"\u001b[0m\u001b[0;34m:\u001b[0m \u001b[0;34m{\u001b[0m\u001b[0;34m}\u001b[0m\u001b[0;34m}\u001b[0m\u001b[0;34m}\u001b[0m\u001b[0;34m,\u001b[0m \u001b[0msize\u001b[0m \u001b[0;34m=\u001b[0m \u001b[0;36m10000\u001b[0m\u001b[0;34m)\u001b[0m\u001b[0;34m\u001b[0m\u001b[0m\n\u001b[0m\u001b[1;32m      2\u001b[0m \u001b[0mpubs\u001b[0m \u001b[0;34m=\u001b[0m \u001b[0;34m[\u001b[0m\u001b[0;34m]\u001b[0m\u001b[0;34m\u001b[0m\u001b[0m\n\u001b[1;32m      3\u001b[0m \u001b[0mprint\u001b[0m\u001b[0;34m(\u001b[0m\u001b[0;34m\"Got %d Hits:\"\u001b[0m \u001b[0;34m%\u001b[0m \u001b[0mres\u001b[0m\u001b[0;34m[\u001b[0m\u001b[0;34m'hits'\u001b[0m\u001b[0;34m]\u001b[0m\u001b[0;34m[\u001b[0m\u001b[0;34m'total'\u001b[0m\u001b[0;34m]\u001b[0m\u001b[0;34m)\u001b[0m\u001b[0;34m\u001b[0m\u001b[0m\n\u001b[1;32m      4\u001b[0m \u001b[0;32mfor\u001b[0m \u001b[0mhit\u001b[0m \u001b[0;32min\u001b[0m \u001b[0mres\u001b[0m\u001b[0;34m[\u001b[0m\u001b[0;34m'hits'\u001b[0m\u001b[0;34m]\u001b[0m\u001b[0;34m[\u001b[0m\u001b[0;34m'hits'\u001b[0m\u001b[0;34m]\u001b[0m\u001b[0;34m:\u001b[0m\u001b[0;34m\u001b[0m\u001b[0m\n\u001b[1;32m      5\u001b[0m \u001b[0;31m#     print(hit['_source']['title'])\u001b[0m\u001b[0;34m\u001b[0m\u001b[0;34m\u001b[0m\u001b[0m\n",
      "\u001b[0;31mNameError\u001b[0m: name 'es' is not defined"
     ]
    }
   ],
   "source": [
    "res = es.search(index=\"ir\", body={\"query\": {\"match_all\": {}}}, size = 10000)\n",
    "pubs = []\n",
    "print(\"Got %d Hits:\" % res['hits']['total'])\n",
    "for hit in res['hits']['hits']:\n",
    "#     print(hit['_source']['title'])\n",
    "#     print(hit['_source']['publication'])\n",
    "    pubs.append(hit['_source']['publication'])\n",
    "\n",
    "#     print('_'*10)"
   ]
  },
  {
   "cell_type": "code",
   "execution_count": 64,
   "metadata": {},
   "outputs": [
    {
     "data": {
      "text/plain": [
       "Counter({'ICSE': 420, 'JCDL': 288, 'TREC': 279, 'VLDB': 351})"
      ]
     },
     "execution_count": 64,
     "metadata": {},
     "output_type": "execute_result"
    }
   ],
   "source": [
    "from collections import Counter\n",
    "Counter(pubs)"
   ]
  },
  {
   "cell_type": "code",
   "execution_count": 61,
   "metadata": {},
   "outputs": [
    {
     "data": {
      "text/plain": [
       "{'_id': 'PMC_1175056',\n",
       " '_index': 'ir',\n",
       " '_score': 1.0,\n",
       " '_source': {'text': \"Distinct pathological features among BRCA1-associated tumours have been found when such tumours are compared with sporadic cancers; these features include high tumour grade, negativity for oestrogen receptor (ER), overexpression of p53, negativity for progesterone receptor (PR), and a higher proportion of medullary and atypical medullary carcinomas [1-3]. Recently, cDNA expression analyses have suggested a basal epithelial phenotype for BRCA1 tumors [4] and expression of cytokeratins 5/6 have been associated with BRCA1 tumours [5]. Among BRCA2-associated tumours, findings have been inconsistent, and in most cases no significant difference has been found between BRCA2-associated and sporadic cancers [1,2,6,7].In our previous report [8], we have shown, consistent with earlier studies, that BRCA1-associated cancers were diagnosed younger and were more ER- and progesterone-receptor-negative (PR-), more p53+, and of higher grade than unselected breast tumours or tumours from non-BRCA1/2 breast cancer families. However, in multivariate analysis the independent factors, as compared with non-BRCA1/2 tumours, were age of diagnosis, grade, and PR-negativity. BRCA2 cases did not have such distinctive features compared with non-BRCA1/2 cases.In large studies on sporadic breast cancer tumours, tumours from premenopausal patients have been shown to differ from those of postmenopausal patients [9-11], but this has been little studied among familial patients. In this study, we had an excellent opportunity to study familial cases without age restriction and to evaluate whether the histology and immunohistochemistry differ in the different age groups (according to whether age of diagnosis is below or over 50 years, with age being used as a surrogate for menopause status) among BRCA1, BRCA2, and non-BRCA1/2 families.Family history of cancer was screened for among breast cancer patients in the Department of Oncology, Helsinki University Central Hospital [12]. Families were collected with a simple criterion of at least three first- or second-degree relatives with breast or ovarian cancer, with no restriction regarding age. All the families were tested for BRCA1 and BRCA2 mutations by mutation analysis of the whole coding sequences and exon/intron boundaries of the genes as described elsewhere [13,14], or were tested for all 18 previously reported Finnish BRCA1 and BRCA2 mutations [13-16]. In this study, as previously described [8], we collected all the available paraffin-wax blocks of the primary breast cancers (n = 262) from 119 breast cancer families. Altogether, 51 cancers from the 25 BRCA1 families, 59 cancers from the 20 BRCA2 families, and 152 cancers from the 74 non-BRCA1/2 families were obtained.The patients' median age at diagnosis of the tumours was 44 years for BRCA1, 47 years for BRCA2, and 55 years for non-BRCA1/2. For comparison of tumours from premenopausal and postmenopausal patients, the age of 50 years was chosen as a surrogate for menopause. Among the BRCA1 patients, 34 (66.7%) were diagnosed when they were below 50 years of age (median age 39) and 17 (33.3%) when they were 50 or more (median age 55); the respective numbers among BRCA2 patients were 35 (59.3%) and 24 (40.7%) (median ages 39 and 56.5, respectively), and among non-BRCA1/2 patients, 58 (38.2%) and 94 (61.8%) (median ages 44 and 65, respectively).The most representative area of the tumour was punched to produce a hereditary breast cancer tissue microarray including two cores (diameter 0.6 mm) from all the original blocks as described elsewhere [8,17]. The use of microarray tissue blocks makes it possible to stain all the samples at the same time and in the same conditions. Subgroups of the material are therefore very well comparable, and a highly significant correlation between this kind of multicore system and studying the whole sections of the original blocks has also been shown [18,19].All the tissue microarray slides were stained with routine methods used for pathological diagnostics with ER, PR, ERBB2, and p53 antibodies in the same laboratory [8]. Briefly, five-micrometer sections were cut from paraffin-embedded blocks, dewaxed in xylene, and dehydrated in a series of graded alcohols. The sections were pretreated in a microwave oven and incubated with antibody overnight. ER antibody (1:50) and ERBB2 antibody (NCL-CB11, 1:400) were purchased from Novocastra (Newcastle upon Tyne, UK), and PR (1:250) and p53 antibodies (1:100) were from Dako (Copenhagen, Denmark). The evaluation of the staining results was similar to that used in routine diagnostics, and samples were considered positive when 10%, 10%, and 20% of the cells were stained with ER, PR, and p53, respectively. Samples having a moderate or intense staining of the entire membrane in more than 10% of the tumour cells (immunohistochemical scores of 2+ and 3+) were considered to be ERBB2+. Other staining patterns (0 and 1+) were considered to be negative. We studied the haematoxylin-and-eosin sections of the original blocks to achieve histological diagnosis and grading (all by the same pathologist (PH)). Statistical analysis was done with SPSS version 8.0 for Windows. We tested the differences in dichotomous variables with a χ2 or Fisher's exact test. All P values are two-tailed.Permissions for this study were obtained from the ethics committees of the Department of Oncology and the Department of Obstetrics and Gynaecology, Helsinki University Central Hospital, and of the Ministry of Social Affairs and Health in Finland. Blood and tumour samples were used in this study with the informed consent of the probands and of the family members.In BRCA1 families, patients whose cancer was diagnosed when they were under 50 years of age differed significantly from those diagnosed at 50 years or older in the presence of grade 3 tumours (84.4% vs 47.1%, P = 0.009), ER-negativity (83.3% vs 25%, P = 0,001), and p53-positivity (50.0% vs 7.7%, P = 0.014) (Table 1). All of the five cancers with medullary histology were also detected in patients under 50 years old. Patients who were BRCA1+ and were under 50 years old at diagnosis differed significantly in all of these factors from familial non-BRCA1/2 patients (proportion of grade 3 tumours, 84.4% vs 17.3%, respectively, P ≤ 0.0005; of ER-negativity, 83.3% vs 29.3%, P ≤ 0.0005; of PR-negativity, 90.3% vs 31.0%, P ≤ 0.0005; and of p53-positivity, 50.0% vs 25.9%, P = 0.024). However, patients from BRCA1 families diagnosed at age 50 years or older differed significantly only for grade from the non-BRCA1/2 patients in the same age group (47.1% vs 23.3, P = 0.044).In BRCA2 families, tumours of patients diagnosed at less than 50 years of age differed significantly from those of the older patients for ER-negativity (20.6% vs 52.6%, respectively, P = 0.017) and PR-receptor negativity (35.3% vs 80.0%, P = 0.001) (Table 1). In contrast to BRCA1 tumours, the BRCA2 tumours diagnosed in patients 50 years or older were more often ER- (52.6% vs 25.6%, P = 0.02) and PR- (80.0% vs 54.4%, P = 0.036) than non-BRCA1/2 cancers among the same age group. Tumours of patients diagnosed at less than 50 years of age were very similar to non-BRCA1/2 tumours in the same age group (Table 1).Pathological features of non-BRCA1/2 tumours did not vary significantly between the two age groups.In this study, we have evaluated whether tumour histology and immunohistochemistry are influenced by age of onset (menopause status) among families with BRCA1, BRCA2, or non-BRCA1/2 tumours. Most of the earlier studies of the characteristics of tumours in BRCA1 and BRCA2 carriers have been based on young patients only. Because there was no age restriction in our selection criterion, we had an excellent opportunity to study patients within the whole age distribution.In BRCA1 families, tumours from patients diagnosed at over 50 years of age were surprisingly different from those in BRCA1 carriers diagnosed at under 50 years. Only tumours from the younger patients exhibited the distinctive characteristics that have been found to be typical of BRCA1 tumours, with higher grade, negativity for ER and PR, and positivity for p53 distinguishing them from familial non-BRCA1/2 tumours. However, tumours from the older patients in BRCA1 families differed significantly only in grade from tumours in non-BRCA1/2 patients. There were only five cases among this older group of patients, for which the BRCA1 mutation status was unknown. If these patients are excluded from the analysis, the observed frequencies remain ; therefore those do not account for the result.Previously, Vaziri and colleagues [20] have reported that the tumour immunophenotype of BRCA1-carriers is influenced by the age of diagnosis. As a control group, those authors used age-matched breast cancer patients unselected for family history, whereas in our study we included familial non-BRCA1/2 cancer cases. Vaziri and colleagues observed no differences in ER or PR staining of tumours between BRCA1 carriers diagnosed at 50 years or older and controls with sporadic cancers [20]. Foulkes and colleagues [21] also recently reported that the proportion of ER+ tumours increased with patients' age among the BRCA1 patients included in their study (diagnosed at less than 65 years of age), although they found a strong relationship between BRCA1 carrier status and ER-negativity of tumours in the age group 55 to 65 years. Vaziri and colleagues also studied the expression of markers Ki-67, Cyclin D1, p53, and ERBB2. None of these markers differed significantly in the patients 50 years or older between BRCA1-associated cancers and control cancers, although tumours from the younger BRCA1 age group presented less frequent ER, PR, and cyclin D1 staining and more frequent Ki-67 and B-catenin staining than those from control cancers. p53 expression did not differ in their study in different age groups, nor was p53 more frequently overexpressed among young BRCA1 patients than in controls.We did not find the BRCA2-associated tumours to differ significantly from familial non-BRCA1/2 tumours among the younger age group. However, tumours of BRCA2 carrier patients diagnosed at 50 years or older had more distinctive features, and were more ER- and PR-, than tumours of younger patients or tumours of the same age group of BRCA1 patients or non-BRCA1/2 patients.The specific features of BRCA1-associated tumours among the younger age group, and lack of such features among the BRCA2-associated tumours, are consistent with the overall characteristics reported previously among BRCA1 and BRCA2 patients [1,2]. Such features characterise to a large extent the BRCA1 and BRCA2 tumours overall, as a large majority (63% in this study) of all breast tumours in the BRCA1 and BRCA2 families are diagnosed before patients reach 50 years of age.However, among both BRCA1 and BRCA2 families, tumours from older patients form subgroups that are distinctly different from those of the younger patients. Tumours from the older BRCA1 patients resemble more those among the mutation-negative families, or sporadic tumours. The highest incidence rates and relative breast cancer risk among BRCA1 carriers are seen before age 50 [22], and some tumours from older BRCA1 mutation carriers could also be 'sporadic' cancers. However, the breast tumours from older BRCA1 patients also differed from mutation-negative ones by their higher grade. Furthermore, tumours from the older BRCA2 carriers exhibited distinctly different characteristics from the younger ones or from BRCA1 carrier tumours and mutation-negative ones, suggesting a strong impact of the germline mutation on tumour development among the older patients. It is interesting that the BRCA1 and BRCA2 tumours appear to be opposites with respect to their characteristics in the age groups of younger and older patients.There are now many models and computer programs to test the probability of BRCA1 or BRCA2 mutations [23-28]. We have also documented previously that efficient predictors for BRCA1 and BRCA2 mutations are early age of breast cancer onset and number of ovarian cancer cases in the family [27]. Simple family history criteria of the strongest predictors (onset of breast cancer under age 40 and presence of ovarian cancer) for a mutation may also provide a rough estimate of a high likelihood of carrying a mutation [27].However, it would be useful if, besides family history, histopathological markers could also be used to distinguish patients and families likely to carry a BRCA1/2 germline mutation from mutation-negative families and breast cancer patients in general. The use of morphologic and immunohistochemical data has been previously suggested to provide a helpful and cost-effective tool for predicting BRCA1 mutation among young breast cancer patients [2,29,30]. The findings here provide further information specifically with respect to older BRCA1 and BRCA2 patients and warrant further studies for evaluating the probability of mutation by combining information on family history and tumour characteristics in the various age groups.These findings may reflect different biological behaviour and pathway of tumour development among the older and the younger BRCA1 and BRCA2 patients, with impact also on prognosis and survival. So far, results on survival among BRCA1 and BRCA2 patients have been inconclusive or contradictory, and large meta-analyses specifically according to age groups could shed further light on this. Finally, in the context of genetic counselling, specific tumour characteristics may help evaluate the possibility of a BRCA1 or BRCA2 mutation and the need for mutation testing in a family with a history of breast cancer. It appears crucial, however, to consider such features specifically with respect to the age of the patients.ER = oestrogen receptor; PR = progesterone receptor.The author(s) declare that they have no competing interests.HE drafted the manuscript, participated in the design of the study and data collection, and performed the statistical analysis. PH carried out the immunohistochemistry. AT carried out the molecular genetic studies. KA participated in patient collection and did the genetic counselling of the patients and participated in drafting the manuscript. CB participated in the design of the study and drafting of the manuscript. HN participated in the design of the study, data collection, and drafting of the manuscript. All authors read and approved the final manuscript.\",\n",
       "  'title': \"Relationship of patients' age to histopathological features of breast tumours in  BRCA1  and  BRCA2  and mutation-negative breast cancer families\"},\n",
       " '_type': 'publications'}"
      ]
     },
     "execution_count": 61,
     "metadata": {},
     "output_type": "execute_result"
    }
   ],
   "source": [
    "hit"
   ]
  },
  {
   "cell_type": "code",
   "execution_count": 12,
   "metadata": {
    "scrolled": false
   },
   "outputs": [
    {
     "name": "stdout",
     "output_type": "stream",
     "text": [
      "Got 2683879 Hits:\n",
      "In Section 3, we describe the experimental procedure that we followed to collect the raw data on which the analyses are based. In Section 2, we review related work.\n",
      "__________________________________________________ 0\n",
      "In Section 4, we describe the statistical analysis of the data, the results of the analysis, and the cross-validation procedures and their outcomes. In Section 3, we describe the experimental procedure that we followed to collect the raw data on which the analyses are based.\n",
      "__________________________________________________ 1\n",
      "In Section 5, we offer discussion of the experiment and its results. In Section 4, we describe the statistical analysis of the data, the results of the analysis, and the cross-validation procedures and their outcomes.\n",
      "__________________________________________________ 2\n",
      "There are three main differences between this previous work and our work. They showed that on their subject programs, the final sufficient set determined a higher AM than the Offutt that they also have few complex data structures, making it unclear whether the results of their experiments would carry over to complex C programs and object-oriented programs.\n",
      "__________________________________________________ 3\n",
      "These are the values that we used in the subsequent analysis. The data collection therefore yielded, for each of the seven programs , and for each of the 100 subject test suites, values for AM and for Ami for each i, 1 ≤ i ≤ 108.\n",
      "__________________________________________________ 4\n",
      "In Section 4.2, we describe the results of the model selection procedure on the data from all seven subject programs. In this section, the main section of the paper, we first (Section 4.1) describe alternative approaches to the model selection problem , including the method (cost-based LARS) that we adopted.\n",
      "__________________________________________________ 5\n",
      "This in turn implies that our procedure for applying CBLARS, when applied to the data from all seven subject programs, would yield an accurate prediction of AM scores for test suites of some other, arbitrary eighth program. Our cross-validation indicates that the procedure for applying CBLARS described in Section 4.2, when applied to a set of data from six of our subject programs, yields an accurate prediction of AM scores for test suites of the seventh subject program.\n",
      "__________________________________________________ 6\n",
      "However, larger programs may have more complex control and data flow patterns, which may lead to different results. This threat is mitigated by the facts that the C programs are large and complex enough to include a broad range of control and data structures, and that the three dominant languages in programming today (C, C++ and Java) all use very similar syntax in their non-OO constructs.\n",
      "__________________________________________________ 7\n",
      "We also note that we have not attempted to handle object-oriented constructs. However, larger programs may have more complex control and data flow patterns, which may lead to different results.\n",
      "__________________________________________________ 8\n"
     ]
    }
   ],
   "source": [
    "x = 0\n",
    "res = es.search(index=\"twosent\", body={\"query\": {\"match_all\": {}}}, size = 100)\n",
    "print(\"Got %d Hits:\" % res['hits']['total'])\n",
    "for hit in res['hits']['hits']:\n",
    "    if 'data' in hit['_source']['content.chapter.sentpositive']:\n",
    "        print(hit['_source']['content.chapter.sentpositive'])\n",
    "        print('_'*50,x)\n",
    "        x = x + 1"
   ]
  },
  {
   "cell_type": "code",
   "execution_count": 24,
   "metadata": {
    "scrolled": true
   },
   "outputs": [
    {
     "name": "stdout",
     "output_type": "stream",
     "text": [
      "Got 2261716 Hits:\n",
      "Remember that this Is only one use of the data structurel it is accessed in at least four other places in the program.\n",
      "__________________________________________________ 0\n",
      "Also, the cost includes the space as well as time costs, so the calculation must take into account the (sometimes changing) sizes of the data structures extant during the algorithm.\n",
      "__________________________________________________ 1\n",
      "Thus, if we knew the properties of the program totally, it might be reasonable to assl~ne that the failure process would be purely random, reflecting the fluctuations of the input data stream.\n",
      "__________________________________________________ 2\n",
      "We attempted to mitigate this threat by sharing both the \" raw \" data collected during the interviews and the resulting report (this paper) with the participants of the study for their validation.\n",
      "__________________________________________________ 3\n",
      "Amazon would tell you that 'yes, you can use the Elastic MapReduce on healthcare data'.\n",
      "__________________________________________________ 4\n",
      "The information is unstructured and difficult to navigate: \" If you want to know 'I have data with these characteristics, or a system that has these needs, what third party tool should I use?\n",
      "__________________________________________________ 5\n"
     ]
    }
   ],
   "source": [
    "x = 0\n",
    "res = es.search(index=\"devtwosentnew\", body={\"query\": {\"match_all\": {}}}, size = 100)\n",
    "print(\"Got %d Hits:\" % res['hits']['total'])\n",
    "for hit in res['hits']['hits']:\n",
    "    if 'data' in hit['_source']['content.chapter.sentpositive']:\n",
    "        print(hit['_source']['content.chapter.sentpositive'])\n",
    "        print('_'*50,x)\n",
    "        x = x + 1"
   ]
  },
  {
   "cell_type": "code",
   "execution_count": 14,
   "metadata": {},
   "outputs": [
    {
     "name": "stdout",
     "output_type": "stream",
     "text": [
      "Got 3134 Hits:\n",
      "PMC_3415320 Inclusion of Residual Tissue in Biobanks: Opt-In or Opt-Out?\n",
      "PMC_2782105 Lawrence B. Slobodkin (1928–2009): Integrating Theory, Models, and Experiments in Ecology\n",
      "PMC_2797597 Origin of Irreversibility of Cell Cycle Start in Budding Yeast\n",
      "PMC_2570423 High Rate of Recent Transposable Element–Induced Adaptation in  Drosophila melanogaster\n",
      "PMC_509406 Emerin Caps the Pointed End of Actin Filaments: Evidence for an Actin Cortical Network at the Nuclear Inner Membrane\n",
      "PMC_2043050 Semantic Associations between Signs and Numerical Categories in the Prefrontal Cortex\n",
      "PMC_5336201 The mechanism of sirtuin 2–mediated exacerbation of alpha-synuclein toxicity in models of Parkinson disease\n",
      "PMC_3934830 Ping-Pong Positioning: Alternating Protein Interactions at Actin Filament Barbed Ends Helps Establish Polarity in Mammalian Oocytes\n",
      "PMC_2486311 Multivariate Patterns in Object-Selective Cortex Dissociate Perceptual and Physical Shape Similarity\n",
      "PMC_1618418 Too Long, Too Short, or Just Right: Glycosphingolipid–Protein Binding Varies with Acyl Chain Length\n",
      "PMC_2864297 Sex and the Single Cell. II. There Is a Time and Place for Sex\n",
      "PMC_4574155 Extremely High Mutation Rate of HIV-1 In Vivo\n",
      "PMC_3260311 Rise and Fall, and Rise Again: Phagosome Maturation Is Controlled by Two Kinases and One Phosphatase\n",
      "PMC_5268430 Lung Basal Stem Cells Rapidly Repair DNA Damage Using the Error-Prone Nonhomologous End-Joining Pathway\n",
      "PMC_3614513 Monoaminergic Orchestration of Motor Programs in a Complex  C. elegans  Behavior\n",
      "PMC_1877819 Setting the Tempo in Development: An Investigation of the Zebrafish Somite Clock Mechanism\n",
      "PMC_2760774 Heterochromatin: A Rapidly Evolving Species Barrier\n",
      "PMC_1187857 Comment on “Recent Origin and Cultural Reversion of a Hunter–Gatherer Group”\n",
      "PMC_5746207 Arabidopsis  choline transporter-like 1 (CTL1) regulates secretory trafficking of auxin transporters to control seedling growth\n",
      "PMC_1661681 How Behavioral Constraints May Determine Optimal Sensory Representations\n"
     ]
    }
   ],
   "source": [
    "res = es.search(index = \"ir\", body = {\"query\": {\"match\": {\"publication\" : \"PLoS Biology\"}}}, size = 20)\n",
    "\n",
    "print(\"Got %d Hits:\" % res['hits']['total'])\n",
    "for hit in res['hits']['hits']:\n",
    "    print(hit['_id'], hit['_source']['title'])"
   ]
  },
  {
   "cell_type": "code",
   "execution_count": 5,
   "metadata": {
    "scrolled": true
   },
   "outputs": [
    {
     "name": "stdout",
     "output_type": "stream",
     "text": [
      "Got 0 Hits:\n"
     ]
    }
   ],
   "source": [
    "res = es.search(index = \"twosent\", body = {\"query\": {\"match\": {\"paper_id\" : \"PMC_4075597\"}}}, size = 200)\n",
    "\n",
    "print(\"Got %d Hits:\" % res['hits']['total'])\n",
    "for hit in res['hits']['hits']:\n",
    "    print(hit['_id'], hit['_source'])"
   ]
  },
  {
   "cell_type": "code",
   "execution_count": 4,
   "metadata": {},
   "outputs": [
    {
     "name": "stdout",
     "output_type": "stream",
     "text": [
      "Got 377 Hits:\n",
      "PMC_1851393 Risk of second primary cancer in men with breast cancer 5.460385\n",
      "PMC_4579663 An ecological measure of immune-cancer colocalization as a prognostic factor for breast cancer 4.976323\n",
      "PMC_340959 A New Breast Cancer Model 4.824152\n",
      "PMC_4940926 Systemic therapy for breast cancer and risk of subsequent contralateral breast cancer in the WECARE Study 4.7360334\n",
      "PMC_3720249 Vav Proteins' Role in Skin Cancer 4.702413\n"
     ]
    }
   ],
   "source": [
    "res = es.search(index = \"ir\", body = {\"query\": {\"match\": {\"title\" : \"cancer\"}}}, size = 5)\n",
    "\n",
    "print(\"Got %d Hits:\" % res['hits']['total'])\n",
    "for hit in res['hits']['hits']:\n",
    "    print(hit[\"_id\"], hit['_source']['title'], hit['_score'])"
   ]
  },
  {
   "cell_type": "code",
   "execution_count": 9,
   "metadata": {},
   "outputs": [
    {
     "name": "stdout",
     "output_type": "stream",
     "text": [
      "Got 2213 Hits:\n",
      "PMC_4122943 Evolutionary Dynamics of the Mitochondrial Genome in the Evaniomorpha (Hymenoptera)—A Group with an Intermediate Rate of Gene Rearrangement 8.587403\n",
      "PMC_4122925 Pangenome Evidence for Extensive Interdomain Horizontal Transfer Affecting Lineage Core and Shell Genes in Uncultured Planktonic Thaumarchaeota and Euryarchaeota 8.587403\n",
      "PMC_4558866 Chemoreceptor Evolution in Hymenoptera and Its Implications for the Evolution of Eusociality 8.587403\n",
      "PMC_4494066 Distinctive Genome Reduction Rates Revealed by Genomic Analyses of Two  Coxiella- Like Endosymbionts in Ticks 8.587403\n",
      "PMC_4231633 Three Classes of Plasmid (47–63 kb) Carry the Type B Neurotoxin Gene Cluster of Group II  Clostridium botulinum 8.587403\n"
     ]
    }
   ],
   "source": [
    "res = es.search(index = \"ir\", body = {\"query\": {\"match\": {\"publication\" : \"Genome Biology and Evolution\"}}}, size = 5)\n",
    "\n",
    "print(\"Got %d Hits:\" % res['hits']['total'])\n",
    "for hit in res['hits']['hits']:\n",
    "    print(hit[\"_id\"], hit['_source']['title'], hit['_score'])"
   ]
  },
  {
   "cell_type": "code",
   "execution_count": 77,
   "metadata": {},
   "outputs": [
    {
     "name": "stdout",
     "output_type": "stream",
     "text": [
      "Got 202 Hits:\n",
      "PMC_2211537 The Genetic Structure of Pacific Islanders\n",
      "PMC_4858160 Exploiting Genetic Interference for Antiviral Therapy\n",
      "PMC_3185286 Find the weakest link. A comparison between demographic, genetic and demo-genetic metapopulation extinction times\n",
      "conf_icse_WeimerNGF09 Automatically finding patches using genetic programming.\n",
      "PMC_3341339 A Genetic Basis for Mechanosensory Traits in Humans\n"
     ]
    }
   ],
   "source": [
    "res = es.search(index = \"ir\", body = {\"query\": {\"match\": {\"title\" : \"genetic\"}}}, size = 5)\n",
    "\n",
    "print(\"Got %d Hits:\" % res['hits']['total'])\n",
    "for hit in res['hits']['hits']:\n",
    "    print(hit['_id'], hit['_source']['title'])"
   ]
  },
  {
   "cell_type": "code",
   "execution_count": 123,
   "metadata": {
    "scrolled": true
   },
   "outputs": [
    {
     "name": "stdout",
     "output_type": "stream",
     "text": [
      "Got 8003 Hits:\n",
      "PMC_2408596 Gene Structure Evolution of the Na + -Ca 2+  Exchanger ( NCX ) Family\n",
      "____________________________________________________________________________________________________\n",
      "PMC_4712596 Genomic and metagenomic analysis of microbes in a soil environment affected by the 2011 Great East Japan Earthquake tsunami\n",
      "____________________________________________________________________________________________________\n",
      "conf_trec_BreckBFHLM99 A Sys Called Qanda.\n",
      "____________________________________________________________________________________________________\n",
      "conf_trec_Westerveld06 Correlating Topic Rankings and Person Rankings to Find Experts.\n",
      "____________________________________________________________________________________________________\n",
      "conf_trec_MoulahiTMY14 IRIT at TREC 2014 Contextual Suggestion Track.\n",
      "____________________________________________________________________________________________________\n",
      "conf_trec_SutcliffeGMW03 Question Answering using the DLT System at TREC 2003.\n",
      "____________________________________________________________________________________________________\n",
      "conf_trec_RodeH04 Conceptual Language Models for Context-Aware Text Retrieval.\n",
      "____________________________________________________________________________________________________\n",
      "conf_trec_BrownDH03 IBM Research and the University of Colorado - TREC 2003 Genomics Track.\n",
      "____________________________________________________________________________________________________\n",
      "conf_trec_KimYC12 Overcoming Vocabulary Limitations in Twitter Microblogs.\n",
      "____________________________________________________________________________________________________\n",
      "conf_trec_BuccioMN10 Evaluation of a Methodology for Modeling Term Relationship through Geometry: Experiments at TREC 2010 Relevance Feedback Track.\n",
      "____________________________________________________________________________________________________\n",
      "conf_trec_ChangXB03 TREC 2003 Question Answering Track at CAS-ICT.\n",
      "____________________________________________________________________________________________________\n",
      "conf_trec_SinghalABCHP99 AT&T at TREC-8.\n",
      "____________________________________________________________________________________________________\n",
      "conf_trec_VtyurinaDSC15 WaterlooClarke: TREC 2015 LiveQA Track.\n",
      "____________________________________________________________________________________________________\n",
      "conf_trec_WuZDLS03 Questioning Answering By Pattern Matching, Web-Proofing, Semantic Form Proofing.\n",
      "____________________________________________________________________________________________________\n",
      "conf_trec_Zimmermann11 Chemical Structure Reconstruction with chemoCR.\n",
      "____________________________________________________________________________________________________\n",
      "conf_trec_AvulaOA13 A Nearest Neighbor Approach to Contextual Suggestion.\n",
      "____________________________________________________________________________________________________\n",
      "conf_trec_CaporasoBCJPH05 Concept Recognition and the TREC Genomics Tasks.\n",
      "____________________________________________________________________________________________________\n",
      "conf_trec_Mishne06 Multiple Ranking Strategies for Opinion Retrieval in Blogs - The University of Amsterdam at the 2006 TREC Blog Track.\n",
      "____________________________________________________________________________________________________\n",
      "conf_trec_SutcliffeWGM06 Question Answering Using the DLT System at TREC 2006.\n",
      "____________________________________________________________________________________________________\n",
      "conf_trec_DayanikNO03 Partioning a Graph of Sequences, Structures and Abstracts for Information Retrieval.\n",
      "____________________________________________________________________________________________________\n"
     ]
    }
   ],
   "source": [
    "res = es.search(index = \"ir\", body = {\"query\": {'query_string' : {\n",
    "                                        'query': '*onstruct*',\n",
    "                                        'fields': ['text']}}}, size = 20)\n",
    "\n",
    "print(\"Got %d Hits:\" % res['hits']['total'])\n",
    "for hit in res['hits']['hits']:\n",
    "    print(hit['_id'], hit['_source']['title'])\n",
    "    print('_'*100)"
   ]
  },
  {
   "cell_type": "code",
   "execution_count": 119,
   "metadata": {},
   "outputs": [
    {
     "name": "stdout",
     "output_type": "stream",
     "text": [
      "Got 1 Hits:\n",
      "conf_icdm_ZhouQK14 Predicting the Geographical Origin of Music.\n"
     ]
    }
   ],
   "source": [
    "res = es.search(index = \"ir_full\", doc_type = 'publications', \n",
    "                body = {\"query\": {\"match_phrase\": {\"title\" : \"origin of music\"}}}, size = 10)\n",
    "\n",
    "print(\"Got %d Hits:\" % res['hits']['total'])\n",
    "for hit in res['hits']['hits']:\n",
    "    print(hit['_id'], hit['_source']['title'])"
   ]
  },
  {
   "cell_type": "code",
   "execution_count": 120,
   "metadata": {},
   "outputs": [
    {
     "data": {
      "text/plain": [
       "str"
      ]
     },
     "execution_count": 120,
     "metadata": {},
     "output_type": "execute_result"
    }
   ],
   "source": [
    "type(hit['_source']['authors'][0])"
   ]
  },
  {
   "cell_type": "code",
   "execution_count": 121,
   "metadata": {
    "scrolled": true
   },
   "outputs": [
    {
     "data": {
      "text/plain": [
       "['Fang Zhou', 'Claire Q', 'Ross D. King']"
      ]
     },
     "execution_count": 121,
     "metadata": {},
     "output_type": "execute_result"
    }
   ],
   "source": [
    "authors = []\n",
    "if type(hit['_source']['authors'][0]) == list and len(hit['_source']['authors']) > 0:\n",
    "    for name in hit['_source']['authors']:\n",
    "        authors.append(', '.join([name[1], name[0]]))\n",
    "    authors = list(set(authors))\n",
    "else:\n",
    "    authors = hit['_source']['authors']\n",
    "    \n",
    "authors"
   ]
  },
  {
   "cell_type": "code",
   "execution_count": 166,
   "metadata": {
    "scrolled": true
   },
   "outputs": [
    {
     "name": "stdout",
     "output_type": "stream",
     "text": [
      "Got 1 Hits:\n",
      "AutoAdapt undefined\n"
     ]
    }
   ],
   "source": [
    "res = es.search(index = \"surfall_entities\", doc_type = 'entities', \n",
    "#                 body = {\"query\": {\"match_phrase\": {\"lower\" : \"retealgorithm\"}}}, size = 100)\n",
    "                body = {\"query\": {\"match_phrase\": {'_id': 'conf_trec_AlbakourKNF1044691'}}}, size = 100)\n",
    "\n",
    "print(\"Got %d Hits:\" % res['hits']['total'])\n",
    "for hit in res['hits']['hits']:\n",
    "    print(hit['_source']['word'], hit['_source']['annotator']) #hit['_id'], "
   ]
  },
  {
   "cell_type": "code",
   "execution_count": 165,
   "metadata": {},
   "outputs": [
    {
     "data": {
      "text/plain": [
       "{'_id': 'conf_trec_AlbakourKNF1044691',\n",
       " '_index': 'surfall_entities',\n",
       " '_score': 1.0,\n",
       " '_source': {'PMIdata': 1,\n",
       "  'PMImethod': 1,\n",
       "  'annotator': 'undefined',\n",
       "  'clean': 'autoadapt',\n",
       "  'ds_sim_50': 1,\n",
       "  'ds_sim_60': 1,\n",
       "  'ds_sim_70': 0,\n",
       "  'ds_sim_80': 0,\n",
       "  'ds_sim_90': 0,\n",
       "  'ds_similarity': 0.3556342215200829,\n",
       "  'filteredWord': 'AutoAdapt',\n",
       "  'inwordNet': 0,\n",
       "  'journal': 'TREC',\n",
       "  'label': 'dataset',\n",
       "  'lemma': 'autoadapt',\n",
       "  'lower': 'autoadapt',\n",
       "  'mt_sim_50': 1,\n",
       "  'mt_sim_60': 1,\n",
       "  'mt_sim_70': 0,\n",
       "  'mt_sim_80': 0,\n",
       "  'mt_sim_90': 0,\n",
       "  'mt_similarity': 0.40487336206609004,\n",
       "  'no_punkt': 'autoadapt',\n",
       "  'paper_id': 'conf_trec_AlbakourKNF10',\n",
       "  'stem': 'autoadapt',\n",
       "  'title': 'University of Essex at the TREC 2010 Session Track.',\n",
       "  'word': 'AutoAdapt',\n",
       "  'year': '2010'},\n",
       " '_type': 'entities'}"
      ]
     },
     "execution_count": 165,
     "metadata": {},
     "output_type": "execute_result"
    }
   ],
   "source": [
    "hit"
   ]
  },
  {
   "cell_type": "markdown",
   "metadata": {
    "heading_collapsed": true
   },
   "source": [
    "# 5 Doc2vec Indexing"
   ]
  },
  {
   "cell_type": "code",
   "execution_count": 3,
   "metadata": {
    "hidden": true,
    "scrolled": true
   },
   "outputs": [],
   "source": [
    "from pymongo import MongoClient\n",
    "from elasticsearch import Elasticsearch\n",
    "from elasticsearch import helpers\n",
    "import nltk\n",
    "from nltk import tokenize\n",
    "import config as cfg\n",
    "\n",
    "sent_detector = nltk.data.load('tokenizers/punkt/english.pickle')\n",
    "client = MongoClient('localhost:' + str(cfg.mongoDB_Port))\n",
    "pub = client.pub.publications\n",
    "db=client.pub\n",
    "\n",
    "es = Elasticsearch([{'host': 'localhost', 'port': 9200}],timeout=30, max_retries=10, retry_on_timeout=True)\n",
    "\n",
    "# es.cluster.health(wait_for_status='yellow', request_timeout=1)"
   ]
  },
  {
   "cell_type": "code",
   "execution_count": 7,
   "metadata": {
    "hidden": true
   },
   "outputs": [],
   "source": [
    "file = ' An important difference between citing and co-citation networks, however, is size. Since papers in the biomedical sciences have a median of 30 articles in their reference lists, each citation event can be expected to add multiple papers to an article’s co-citation network (Fig 1D) but only one to its citing network. The latter are therefore highly vulnerable to finite number effects; in other words, for an article of interest with few citations, small changes in the citing network would have a disproportionate effect on how that article’s field was defined. We therefore chose to pursue co-citation networks as a way to describe an individual paper’s field.Having chosen our comparison group, we looked for a way to test how accurately co-citation networks represent an article’s field. One way to characterize groups of documents is to cluster them based on the frequency at which specific terms appear in a particular document relative to the frequency at which they appear in the entire corpus, a method known as term frequency–inverse document frequency (TF-IDF) . This is not a perfect approach, as it is possible to use entirely different words to describe similar concepts, but positive matches can be taken as a strong indication of similarity. Frequency of word occurrence can be converted into vectors so that the cosine of the angle between two vectors is a measurement of how alike the two documents are. To evaluate co-citation networks relative to journal of publication, which is often used as a proxy for field, we selected all papers published from 2002 to 2011 in each of six different journals that received exactly five citations during that same time frame.'"
   ]
  },
  {
   "cell_type": "code",
   "execution_count": 11,
   "metadata": {
    "hidden": true
   },
   "outputs": [],
   "source": [
    "file = 'exposed to increasing volumes of mcf7 and mdamb231 breast cancer cell cm or incubated with control volumes of concentrated serumfree media for 48 h after the 48 h incubation time cells and debris were removed from the thp1 supernatant by centrifugation following incubation the recovered cell number was determined and cell viability established using trypan blue exclusion under the conditions in this study the treatment of thp1 cells with cm did not reduce the viability of the thp1 cellsthe cm protein levels were quantified using a protein assay biorad hercules ca usa and the results were compared with a standard curve of bsa concentrations the protein concentrations were used to normalize the amount of cm loaded onto the gel thus the total protein loaded was equivalent in each lane loading buffer 5 wv sds 0225 m triscl ph 68 50 wv glycerol 005 wv bromophenol blue 025 m dithiothreitol was added to the cm and the mixture was denatured by boiling for 5 minutes samples were loaded onto a 10 sds polyacrylamide gel with 10 μl of a widerange colored protein molecular weight marker invitrogen carlsbad ca usa also loaded onto the gel the proteins were subsequently transferred from the gel onto a nitrocellulose membrane amersham biosciences piscataway nj usa the membrane was incubated with mouse monoclonal antimmp2 '"
   ]
  },
  {
   "cell_type": "code",
   "execution_count": null,
   "metadata": {
    "hidden": true
   },
   "outputs": [],
   "source": [
    "papernames=[]\n",
    "###############################\n",
    "file = open('data/allcorpus_papers.txt', 'r')\n",
    "text = file.read()\n",
    "\n",
    "sentences = tokenize.sent_tokenize(text)\n",
    "count = 0\n",
    "docLabels = []\n",
    "actions = []\n",
    "\n",
    "for i, sent in enumerate(sentences):\n",
    "    try:\n",
    "        neighbors = sentences[i + 1]\n",
    "        neighbor_count = count + 1\n",
    "        \n",
    "    except:\n",
    "        neighbors = sentences[i - 1]\n",
    "        neighbor_count = count - 1\n",
    "\n",
    "    docLabels.append(count)\n",
    "\n",
    "    actions.append({\n",
    "       \"_index\": \"devtwosentnew\",\n",
    "       \"_type\": \"devtwosentnorulesnew\",\n",
    "       \"_id\":count,\n",
    "\n",
    "       \"_source\" : {\n",
    "           \"content.chapter.sentpositive\" : sent,\n",
    "           \"content.chapter.sentnegtive\": neighbors,\n",
    "           \"neighborcount\":neighbor_count\n",
    "       }})\n",
    "    count = count + 1\n",
    "\n",
    "print(len(sentences))\n",
    "print(len(docLabels))\n",
    "\n",
    "res = helpers.bulk(es, actions)\n",
    "print(res)"
   ]
  },
  {
   "cell_type": "markdown",
   "metadata": {
    "heading_collapsed": true
   },
   "source": [
    "# 5 Preparing doc2vec"
   ]
  },
  {
   "cell_type": "code",
   "execution_count": 112,
   "metadata": {
    "hidden": true
   },
   "outputs": [],
   "source": [
    "from pymongo import MongoClient\n",
    "from elasticsearch import Elasticsearch\n",
    "from elasticsearch import helpers\n",
    "import math\n",
    "import nltk\n",
    "import string\n",
    "import config as cfg\n",
    "sent_detector = nltk.data.load('tokenizers/punkt/english.pickle')\n",
    "\n",
    "###############################\n",
    "\n",
    "client = MongoClient('localhost:' + str(cfg.mongoDB_Port))\n",
    "db = client.pub\n",
    "pub = client.pub.publications\n",
    "es = Elasticsearch(\n",
    "    [{'host': 'localhost', 'port': 9200}], timeout=30, max_retries=10, retry_on_timeout=True\n",
    ")\n",
    "es.cluster.health(wait_for_status='yellow', request_timeout=1)\n",
    "\n",
    "list_of_pubs=[]\n",
    "\n",
    "def returnnames(mongo_string_search, db):\n",
    "    # mongo_string_search = {\"dblpkey\": \"{}\".format(dblkey)}\n",
    "    results = db.publications.find(mongo_string_search)\n",
    "    chapters = list()\n",
    "    chapter_nums = list()\n",
    "    list_of_docs = list()\n",
    "    # list_of_abstracts = list()\n",
    "    merged_chapters = list()\n",
    "    my_dict = {\n",
    "        \"_id\": \"\",\n",
    "\n",
    "    }\n",
    "    for i, r in enumerate(results):\n",
    "        # try:\n",
    "        # list_of_sections = list()\n",
    "        my_dict['_id'] = r['_id']\n",
    "        list_of_docs.append((my_dict))\n",
    "\n",
    "        my_dict = {\n",
    "            \"_id\": \"\",\n",
    "\n",
    "        }\n",
    "\n",
    "    return list_of_docs"
   ]
  },
  {
   "cell_type": "code",
   "execution_count": 113,
   "metadata": {
    "hidden": true
   },
   "outputs": [],
   "source": [
    "filter_conference = [\"WWW\", \"ICSE\", \"VLDB\", \"PVLDB\", \"JCDL\", \"TREC\",  \"SIGIR\", \"ICWSM\", \"ECDL\", \"ESWC\"]\n",
    "\n",
    "for booktitle in filter_conference:\n",
    "    mongo_string_search = {'$and': [{'booktitle': booktitle}, {'content.fulltext': {'$exists': True}}]}\n",
    "    list_of_pubs.append(returnnames(mongo_string_search, db))"
   ]
  },
  {
   "cell_type": "code",
   "execution_count": 114,
   "metadata": {
    "hidden": true
   },
   "outputs": [],
   "source": [
    "mongo_string_search = {'$and': [{'domain': 'Biomedical'}, {'content.fulltext': {'$exists': True}}]}\n",
    "list_of_pubs.append(returnnames(mongo_string_search, db))"
   ]
  },
  {
   "cell_type": "code",
   "execution_count": null,
   "metadata": {
    "hidden": true,
    "scrolled": true
   },
   "outputs": [],
   "source": [
    "papersText = []\n",
    "\n",
    "for pubs in list_of_pubs:\n",
    "\n",
    "    for cur in pubs:\n",
    "\n",
    "        query = {\"query\":\n",
    "            {\"match\": {\n",
    "                \"_id\": {\n",
    "                    \"query\": cur['_id'],\n",
    "                    \"operator\": \"and\"\n",
    "                }\n",
    "            }\n",
    "            }\n",
    "        }\n",
    "\n",
    "        res = es.search(index = \"ir\", body = query, size = 200)\n",
    "\n",
    "        for doc in res['hits']['hits']:\n",
    "            # sentence = doc[\"_source\"][\"text\"].replace(',', ' ')\n",
    "            fulltext = doc[\"_source\"][\"text\"]\n",
    "\n",
    "            fulltext = fulltext.translate(str.maketrans('', '', string.punctuation))\n",
    "            \n",
    "            papersText.append(fulltext.lower())\n",
    "            \n",
    "papersText = \" \".join(papersText)\n",
    "\n",
    "f1 = open(\"data/word2vecData.txt\", \"w\")\n",
    "f1.write(papersText)\n",
    "f1.close()"
   ]
  },
  {
   "cell_type": "code",
   "execution_count": null,
   "metadata": {
    "hidden": true
   },
   "outputs": [],
   "source": []
  }
 ],
 "metadata": {
  "kernelspec": {
   "display_name": "Python 3",
   "language": "python",
   "name": "python3"
  },
  "language_info": {
   "codemirror_mode": {
    "name": "ipython",
    "version": 3
   },
   "file_extension": ".py",
   "mimetype": "text/x-python",
   "name": "python",
   "nbconvert_exporter": "python",
   "pygments_lexer": "ipython3",
   "version": "3.5.2"
  }
 },
 "nbformat": 4,
 "nbformat_minor": 2
}
