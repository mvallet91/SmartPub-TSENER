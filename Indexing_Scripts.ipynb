{
 "cells": [
  {
   "cell_type": "code",
   "execution_count": 1,
   "metadata": {},
   "outputs": [],
   "source": [
    "from elasticsearch import Elasticsearch\n",
    "es = Elasticsearch([{'host': 'localhost', 'port': 9200}])"
   ]
  },
  {
   "cell_type": "code",
   "execution_count": 21,
   "metadata": {
    "scrolled": true
   },
   "outputs": [
    {
     "data": {
      "text/plain": [
       "{'active_primary_shards': 15,\n",
       " 'active_shards': 15,\n",
       " 'active_shards_percent_as_number': 100.0,\n",
       " 'cluster_name': 'smartpub',\n",
       " 'delayed_unassigned_shards': 0,\n",
       " 'initializing_shards': 0,\n",
       " 'number_of_data_nodes': 1,\n",
       " 'number_of_in_flight_fetch': 0,\n",
       " 'number_of_nodes': 1,\n",
       " 'number_of_pending_tasks': 0,\n",
       " 'relocating_shards': 0,\n",
       " 'status': 'green',\n",
       " 'task_max_waiting_in_queue_millis': 0,\n",
       " 'timed_out': False,\n",
       " 'unassigned_shards': 0}"
      ]
     },
     "execution_count": 21,
     "metadata": {},
     "output_type": "execute_result"
    }
   ],
   "source": [
    "es.cluster.health()"
   ]
  },
  {
   "cell_type": "code",
   "execution_count": 89,
   "metadata": {
    "scrolled": true
   },
   "outputs": [
    {
     "data": {
      "text/plain": [
       "{'_nodes': {'failed': 0, 'successful': 1, 'total': 1},\n",
       " 'cluster_name': 'smartpub',\n",
       " 'nodes': {'ebADX0twTlqxi_hYrNewow': {'adaptive_selection': {'ebADX0twTlqxi_hYrNewow': {'avg_queue_size': 0,\n",
       "     'avg_response_time_ns': 120065,\n",
       "     'avg_service_time_ns': 64326,\n",
       "     'outgoing_searches': 0,\n",
       "     'rank': '0.1'}},\n",
       "   'breakers': {'accounting': {'estimated_size': '1.8mb',\n",
       "     'estimated_size_in_bytes': 1888034,\n",
       "     'limit_size': '990.7mb',\n",
       "     'limit_size_in_bytes': 1038876672,\n",
       "     'overhead': 1.0,\n",
       "     'tripped': 0},\n",
       "    'fielddata': {'estimated_size': '0b',\n",
       "     'estimated_size_in_bytes': 0,\n",
       "     'limit_size': '594.4mb',\n",
       "     'limit_size_in_bytes': 623326003,\n",
       "     'overhead': 1.03,\n",
       "     'tripped': 0},\n",
       "    'in_flight_requests': {'estimated_size': '78.8kb',\n",
       "     'estimated_size_in_bytes': 80692,\n",
       "     'limit_size': '990.7mb',\n",
       "     'limit_size_in_bytes': 1038876672,\n",
       "     'overhead': 1.0,\n",
       "     'tripped': 0},\n",
       "    'parent': {'estimated_size': '1.8mb',\n",
       "     'estimated_size_in_bytes': 1968726,\n",
       "     'limit_size': '693.5mb',\n",
       "     'limit_size_in_bytes': 727213670,\n",
       "     'overhead': 1.0,\n",
       "     'tripped': 0},\n",
       "    'request': {'estimated_size': '0b',\n",
       "     'estimated_size_in_bytes': 0,\n",
       "     'limit_size': '594.4mb',\n",
       "     'limit_size_in_bytes': 623326003,\n",
       "     'overhead': 1.0,\n",
       "     'tripped': 0}},\n",
       "   'discovery': {'cluster_state_queue': {'committed': 0,\n",
       "     'pending': 0,\n",
       "     'total': 0},\n",
       "    'published_cluster_states': {'compatible_diffs': 0,\n",
       "     'full_states': 0,\n",
       "     'incompatible_diffs': 0}},\n",
       "   'fs': {'data': [{'available_in_bytes': 220183314432,\n",
       "      'free_in_bytes': 220183314432,\n",
       "      'mount': '/data2 (/dev/vdb)',\n",
       "      'path': '/data2/SmartPub/elasticsearch/data/nodes/0',\n",
       "      'total_in_bytes': 268304384000,\n",
       "      'type': 'xfs'}],\n",
       "    'io_stats': {'devices': [{'device_name': 'vdb',\n",
       "       'operations': 532779,\n",
       "       'read_kilobytes': 0,\n",
       "       'read_operations': 0,\n",
       "       'write_kilobytes': 30606888,\n",
       "       'write_operations': 532779}],\n",
       "     'total': {'operations': 532779,\n",
       "      'read_kilobytes': 0,\n",
       "      'read_operations': 0,\n",
       "      'write_kilobytes': 30606888,\n",
       "      'write_operations': 532779}},\n",
       "    'least_usage_estimate': {'available_in_bytes': 220183355392,\n",
       "     'path': '/data2/SmartPub/elasticsearch/data/nodes/0',\n",
       "     'total_in_bytes': 268304384000,\n",
       "     'used_disk_percent': 17.935237542745483},\n",
       "    'most_usage_estimate': {'available_in_bytes': 220183355392,\n",
       "     'path': '/data2/SmartPub/elasticsearch/data/nodes/0',\n",
       "     'total_in_bytes': 268304384000,\n",
       "     'used_disk_percent': 17.935237542745483},\n",
       "    'timestamp': 1522150033932,\n",
       "    'total': {'available_in_bytes': 220183314432,\n",
       "     'free_in_bytes': 220183314432,\n",
       "     'total_in_bytes': 268304384000}},\n",
       "   'host': '127.0.0.1',\n",
       "   'http': {'current_open': 3, 'total_opened': 123},\n",
       "   'indices': {'completion': {'size_in_bytes': 0},\n",
       "    'docs': {'count': 1380237, 'deleted': 2632},\n",
       "    'fielddata': {'evictions': 0, 'memory_size_in_bytes': 0},\n",
       "    'flush': {'total': 90, 'total_time_in_millis': 10388},\n",
       "    'get': {'current': 0,\n",
       "     'exists_time_in_millis': 0,\n",
       "     'exists_total': 0,\n",
       "     'missing_time_in_millis': 0,\n",
       "     'missing_total': 0,\n",
       "     'time_in_millis': 0,\n",
       "     'total': 0},\n",
       "    'indexing': {'delete_current': 0,\n",
       "     'delete_time_in_millis': 0,\n",
       "     'delete_total': 0,\n",
       "     'index_current': 0,\n",
       "     'index_failed': 0,\n",
       "     'index_time_in_millis': 398746,\n",
       "     'index_total': 3595594,\n",
       "     'is_throttled': False,\n",
       "     'noop_update_total': 0,\n",
       "     'throttle_time_in_millis': 0},\n",
       "    'merges': {'current': 0,\n",
       "     'current_docs': 0,\n",
       "     'current_size_in_bytes': 0,\n",
       "     'total': 1092,\n",
       "     'total_auto_throttle_in_bytes': 1020845060,\n",
       "     'total_docs': 12867314,\n",
       "     'total_size_in_bytes': 7389122662,\n",
       "     'total_stopped_time_in_millis': 0,\n",
       "     'total_throttled_time_in_millis': 47705,\n",
       "     'total_time_in_millis': 233532},\n",
       "    'query_cache': {'cache_count': 0,\n",
       "     'cache_size': 0,\n",
       "     'evictions': 0,\n",
       "     'hit_count': 0,\n",
       "     'memory_size_in_bytes': 0,\n",
       "     'miss_count': 0,\n",
       "     'total_count': 0},\n",
       "    'recovery': {'current_as_source': 0,\n",
       "     'current_as_target': 0,\n",
       "     'throttle_time_in_millis': 0},\n",
       "    'refresh': {'listeners': 0,\n",
       "     'total': 11189,\n",
       "     'total_time_in_millis': 147307},\n",
       "    'request_cache': {'evictions': 0,\n",
       "     'hit_count': 0,\n",
       "     'memory_size_in_bytes': 0,\n",
       "     'miss_count': 0},\n",
       "    'search': {'fetch_current': 0,\n",
       "     'fetch_time_in_millis': 3023,\n",
       "     'fetch_total': 36925,\n",
       "     'open_contexts': 0,\n",
       "     'query_current': 0,\n",
       "     'query_time_in_millis': 5685,\n",
       "     'query_total': 290830,\n",
       "     'scroll_current': 0,\n",
       "     'scroll_time_in_millis': 0,\n",
       "     'scroll_total': 0,\n",
       "     'suggest_current': 0,\n",
       "     'suggest_time_in_millis': 0,\n",
       "     'suggest_total': 0},\n",
       "    'segments': {'count': 90,\n",
       "     'doc_values_memory_in_bytes': 6360,\n",
       "     'file_sizes': {},\n",
       "     'fixed_bit_set_memory_in_bytes': 0,\n",
       "     'index_writer_memory_in_bytes': 0,\n",
       "     'max_unsafe_auto_id_timestamp': -1,\n",
       "     'memory_in_bytes': 1888034,\n",
       "     'norms_memory_in_bytes': 15104,\n",
       "     'points_memory_in_bytes': 6911,\n",
       "     'stored_fields_memory_in_bytes': 182272,\n",
       "     'term_vectors_memory_in_bytes': 0,\n",
       "     'terms_memory_in_bytes': 1677387,\n",
       "     'version_map_memory_in_bytes': 0},\n",
       "    'store': {'size_in_bytes': 1050335879},\n",
       "    'translog': {'operations': 1403693,\n",
       "     'size_in_bytes': 1042254645,\n",
       "     'uncommitted_operations': 1348537,\n",
       "     'uncommitted_size_in_bytes': 675687275},\n",
       "    'warmer': {'current': 0, 'total': 4442, 'total_time_in_millis': 30}},\n",
       "   'ingest': {'pipelines': {},\n",
       "    'total': {'count': 0, 'current': 0, 'failed': 0, 'time_in_millis': 0}},\n",
       "   'ip': '127.0.0.1:9300',\n",
       "   'jvm': {'buffer_pools': {'direct': {'count': 41,\n",
       "      'total_capacity_in_bytes': 134882521,\n",
       "      'used_in_bytes': 134882522},\n",
       "     'mapped': {'count': 246,\n",
       "      'total_capacity_in_bytes': 1033497227,\n",
       "      'used_in_bytes': 1033497227}},\n",
       "    'classes': {'current_loaded_count': 11373,\n",
       "     'total_loaded_count': 11451,\n",
       "     'total_unloaded_count': 78},\n",
       "    'gc': {'collectors': {'old': {'collection_count': 4,\n",
       "       'collection_time_in_millis': 155},\n",
       "      'young': {'collection_count': 870, 'collection_time_in_millis': 5484}}},\n",
       "    'mem': {'heap_committed_in_bytes': 1038876672,\n",
       "     'heap_max_in_bytes': 1038876672,\n",
       "     'heap_used_in_bytes': 341412616,\n",
       "     'heap_used_percent': 32,\n",
       "     'non_heap_committed_in_bytes': 117493760,\n",
       "     'non_heap_used_in_bytes': 110545256,\n",
       "     'pools': {'old': {'max_in_bytes': 724828160,\n",
       "       'peak_max_in_bytes': 724828160,\n",
       "       'peak_used_in_bytes': 549015224,\n",
       "       'used_in_bytes': 210644688},\n",
       "      'survivor': {'max_in_bytes': 34865152,\n",
       "       'peak_max_in_bytes': 34865152,\n",
       "       'peak_used_in_bytes': 34865152,\n",
       "       'used_in_bytes': 2921632},\n",
       "      'young': {'max_in_bytes': 279183360,\n",
       "       'peak_max_in_bytes': 279183360,\n",
       "       'peak_used_in_bytes': 279183360,\n",
       "       'used_in_bytes': 127846296}}},\n",
       "    'threads': {'count': 52, 'peak_count': 57},\n",
       "    'timestamp': 1522150033932,\n",
       "    'uptime_in_millis': 679869926},\n",
       "   'name': 'ebADX0t',\n",
       "   'os': {'cgroup': {'cpu': {'cfs_period_micros': 100000,\n",
       "      'cfs_quota_micros': -1,\n",
       "      'control_group': '/system.slice/elasticsearch.service',\n",
       "      'stat': {'number_of_elapsed_periods': 0,\n",
       "       'number_of_times_throttled': 0,\n",
       "       'time_throttled_nanos': 0}},\n",
       "     'cpuacct': {'control_group': '/system.slice/elasticsearch.service',\n",
       "      'usage_nanos': 1844817450940},\n",
       "     'memory': {'control_group': '/system.slice/elasticsearch.service',\n",
       "      'limit_in_bytes': '9223372036854771712',\n",
       "      'usage_in_bytes': '3602161664'}},\n",
       "    'cpu': {'load_average': {'15m': 1.63, '1m': 2.03, '5m': 2.05},\n",
       "     'percent': 0},\n",
       "    'mem': {'free_in_bytes': 24493150208,\n",
       "     'free_percent': 36,\n",
       "     'total_in_bytes': 67560984576,\n",
       "     'used_in_bytes': 43067834368,\n",
       "     'used_percent': 64},\n",
       "    'swap': {'free_in_bytes': 534769664,\n",
       "     'total_in_bytes': 534769664,\n",
       "     'used_in_bytes': 0},\n",
       "    'timestamp': 1522150033932},\n",
       "   'process': {'cpu': {'percent': 0, 'total_in_millis': 1843420},\n",
       "    'max_file_descriptors': 65536,\n",
       "    'mem': {'total_virtual_in_bytes': 5916110848},\n",
       "    'open_file_descriptors': 237,\n",
       "    'timestamp': 1522150033932},\n",
       "   'roles': ['master', 'data', 'ingest'],\n",
       "   'script': {'cache_evictions': 0, 'compilations': 0},\n",
       "   'thread_pool': {'bulk': {'active': 1,\n",
       "     'completed': 124426,\n",
       "     'largest': 4,\n",
       "     'queue': 0,\n",
       "     'rejected': 0,\n",
       "     'threads': 4},\n",
       "    'fetch_shard_started': {'active': 0,\n",
       "     'completed': 5,\n",
       "     'largest': 5,\n",
       "     'queue': 0,\n",
       "     'rejected': 0,\n",
       "     'threads': 1},\n",
       "    'fetch_shard_store': {'active': 0,\n",
       "     'completed': 0,\n",
       "     'largest': 0,\n",
       "     'queue': 0,\n",
       "     'rejected': 0,\n",
       "     'threads': 0},\n",
       "    'flush': {'active': 0,\n",
       "     'completed': 219,\n",
       "     'largest': 2,\n",
       "     'queue': 0,\n",
       "     'rejected': 0,\n",
       "     'threads': 2},\n",
       "    'force_merge': {'active': 0,\n",
       "     'completed': 0,\n",
       "     'largest': 0,\n",
       "     'queue': 0,\n",
       "     'rejected': 0,\n",
       "     'threads': 0},\n",
       "    'generic': {'active': 0,\n",
       "     'completed': 108524,\n",
       "     'largest': 4,\n",
       "     'queue': 0,\n",
       "     'rejected': 0,\n",
       "     'threads': 4},\n",
       "    'get': {'active': 0,\n",
       "     'completed': 0,\n",
       "     'largest': 0,\n",
       "     'queue': 0,\n",
       "     'rejected': 0,\n",
       "     'threads': 0},\n",
       "    'index': {'active': 0,\n",
       "     'completed': 0,\n",
       "     'largest': 0,\n",
       "     'queue': 0,\n",
       "     'rejected': 0,\n",
       "     'threads': 0},\n",
       "    'listener': {'active': 0,\n",
       "     'completed': 0,\n",
       "     'largest': 0,\n",
       "     'queue': 0,\n",
       "     'rejected': 0,\n",
       "     'threads': 0},\n",
       "    'management': {'active': 1,\n",
       "     'completed': 90569,\n",
       "     'largest': 4,\n",
       "     'queue': 0,\n",
       "     'rejected': 0,\n",
       "     'threads': 4},\n",
       "    'refresh': {'active': 0,\n",
       "     'completed': 1156331,\n",
       "     'largest': 2,\n",
       "     'queue': 0,\n",
       "     'rejected': 0,\n",
       "     'threads': 2},\n",
       "    'search': {'active': 0,\n",
       "     'completed': 385931,\n",
       "     'largest': 7,\n",
       "     'queue': 0,\n",
       "     'rejected': 0,\n",
       "     'threads': 7},\n",
       "    'snapshot': {'active': 0,\n",
       "     'completed': 0,\n",
       "     'largest': 0,\n",
       "     'queue': 0,\n",
       "     'rejected': 0,\n",
       "     'threads': 0},\n",
       "    'warmer': {'active': 0,\n",
       "     'completed': 0,\n",
       "     'largest': 0,\n",
       "     'queue': 0,\n",
       "     'rejected': 0,\n",
       "     'threads': 0}},\n",
       "   'timestamp': 1522150033929,\n",
       "   'transport': {'rx_count': 0,\n",
       "    'rx_size_in_bytes': 0,\n",
       "    'server_open': 0,\n",
       "    'tx_count': 0,\n",
       "    'tx_size_in_bytes': 0},\n",
       "   'transport_address': '127.0.0.1:9300'}}}"
      ]
     },
     "execution_count": 89,
     "metadata": {},
     "output_type": "execute_result"
    }
   ],
   "source": [
    "es.nodes.stats()"
   ]
  },
  {
   "cell_type": "raw",
   "metadata": {},
   "source": [
    "Command for ES replicas per node\n",
    "\n",
    "curl -XPUT 'localhost:9200/ir/_settings' -H 'Content-Type: application/json' -d '{\"number_of_replicas\": 0}'\n",
    "\n",
    "curl -XPUT 'localhost:9200/twosent/_settings' -H 'Content-Type: application/json' -d '{\"number_of_replicas\": 0}'"
   ]
  },
  {
   "cell_type": "raw",
   "metadata": {},
   "source": [
    "curl -XPUT 'localhost:9200/_cluster/settings?pretty' -H 'Content-Type: application/json' -d'\n",
    "{\n",
    "    \"persistent\":\n",
    "  { \"cluster.routing.allocation.enable\" : \"all\"\n",
    "  }\n",
    "}\n",
    "'"
   ]
  },
  {
   "cell_type": "markdown",
   "metadata": {
    "heading_collapsed": true
   },
   "source": [
    "# 2 Full Index"
   ]
  },
  {
   "cell_type": "code",
   "execution_count": 4,
   "metadata": {
    "hidden": true
   },
   "outputs": [],
   "source": [
    "from pymongo import MongoClient\n",
    "from elasticsearch import Elasticsearch\n",
    "from elasticsearch import helpers\n",
    "import nltk\n",
    "import config as cfg\n",
    "\n",
    "sent_detector = nltk.data.load('tokenizers/punkt/english.pickle')"
   ]
  },
  {
   "cell_type": "code",
   "execution_count": 5,
   "metadata": {
    "hidden": true
   },
   "outputs": [
    {
     "data": {
      "text/plain": [
       "{'active_primary_shards': 0,\n",
       " 'active_shards': 0,\n",
       " 'active_shards_percent_as_number': 100.0,\n",
       " 'cluster_name': 'smartpub',\n",
       " 'delayed_unassigned_shards': 0,\n",
       " 'initializing_shards': 0,\n",
       " 'number_of_data_nodes': 1,\n",
       " 'number_of_in_flight_fetch': 0,\n",
       " 'number_of_nodes': 1,\n",
       " 'number_of_pending_tasks': 0,\n",
       " 'relocating_shards': 0,\n",
       " 'status': 'green',\n",
       " 'task_max_waiting_in_queue_millis': 0,\n",
       " 'timed_out': False,\n",
       " 'unassigned_shards': 0}"
      ]
     },
     "execution_count": 5,
     "metadata": {},
     "output_type": "execute_result"
    }
   ],
   "source": [
    "client = MongoClient('localhost:' + str(cfg.mongoDB_Port))\n",
    "db = client.pub\n",
    "pub = client.pub.publications\n",
    "es = Elasticsearch(\n",
    "    [{'host': 'localhost', 'port': 9200}], timeout=30, max_retries=10, retry_on_timeout=True\n",
    ")\n",
    "es.cluster.health(wait_for_status='yellow', request_timeout=1)"
   ]
  },
  {
   "cell_type": "code",
   "execution_count": 61,
   "metadata": {
    "hidden": true
   },
   "outputs": [],
   "source": [
    "def return_chapters(mongo_string_search, db):\n",
    "    results = db.publications.find(mongo_string_search)\n",
    "    chapters = list()\n",
    "    chapter_nums = list()\n",
    "    list_of_docs = list()\n",
    "    merged_chapters = list()\n",
    "    \n",
    "    my_dict = {\n",
    "        \"_id\": \"\",\n",
    "        \"title\": \"\",\n",
    "        \"content\": \"\",\n",
    "        \"journal\": \"\",\n",
    "        \"year\":\"\"\n",
    "    }\n",
    "    for i, r in enumerate(results):\n",
    "        # try:\n",
    "        # list_of_sections = list()\n",
    "        my_dict['_id'] = r['_id']\n",
    "        my_dict['title'] = r['title']\n",
    "        try:\n",
    "            my_dict['journal'] = r['booktitle']\n",
    "        except: \n",
    "            pass\n",
    "        try:\n",
    "            my_dict['journal'] = r['journal']\n",
    "        except: \n",
    "            pass\n",
    "        try:\n",
    "            my_dict['year'] = r['year']\n",
    "        except: \n",
    "            pass\n",
    "        try:\n",
    "            my_dict['content'] = r['content']['fulltext']\n",
    "        except:\n",
    "            my_dict['content'] = \"\"\n",
    "            # print(my_dict)\n",
    "            # sys.exit(1)\n",
    "\n",
    "        list_of_docs.append(my_dict)\n",
    "\n",
    "        my_dict = {\n",
    "            \"_id\": \"\",\n",
    "            \"title\": \"\",\n",
    "            \"content\": \"\",\n",
    "            \"journal\": \"\",\n",
    "            \"year\": \"\"\n",
    "        }\n",
    "\n",
    "    return list_of_docs"
   ]
  },
  {
   "cell_type": "code",
   "execution_count": 62,
   "metadata": {
    "hidden": true
   },
   "outputs": [],
   "source": [
    "filter_conference = [\"WWW\", \"ICSE\", \"VLDB\", \"JCDL\", \"TREC\",  \"SIGIR\", \"ICWSM\", \"ECDL\", \"ESWC\", \"TPDL\", \n",
    "                     'pbio', 'pgen', 'bmcgen', 'bmcbiot', 'bmcneur', 'bmceb', 'genbio', 'bcr']\n",
    "\n",
    "list_of_pubs = []\n",
    "\n",
    "for booktitle in filter_conference:\n",
    "    mongo_string_search = {'$or': [{'$and': [{'booktitle': booktitle}, {'content.fulltext': {'$exists': True}}]} ,\n",
    "                                   {'$and': [{'journal': booktitle},   {'content.fulltext': {'$exists': True}}]} ]}\n",
    "    list_of_pubs.append(return_chapters(mongo_string_search, db))"
   ]
  },
  {
   "cell_type": "code",
   "execution_count": 64,
   "metadata": {
    "hidden": true
   },
   "outputs": [
    {
     "data": {
      "text/plain": [
       "18"
      ]
     },
     "execution_count": 64,
     "metadata": {},
     "output_type": "execute_result"
    }
   ],
   "source": [
    "len(list_of_pubs)"
   ]
  },
  {
   "cell_type": "code",
   "execution_count": null,
   "metadata": {
    "hidden": true
   },
   "outputs": [],
   "source": [
    "for pubs in list_of_pubs:\n",
    "    actions = []\n",
    "    \n",
    "    for cur in pubs:\n",
    "        text = cur[\"content\"]\n",
    "        \n",
    "        print(cur['_id'])\n",
    "        print(cur['journal'])\n",
    "\n",
    "        actions.append({\n",
    "                    \"_index\": \"ir\",\n",
    "                    \"_type\": \"publications\",\n",
    "                    \"_id\" : cur['_id'],\n",
    "                    \"journal\": cur['journal'],\n",
    "                    \"year\": cur['year'],\n",
    "                    \"_source\" : {\n",
    "                        \"text\" : text,\n",
    "                        \"title\": cur[\"title\"]\n",
    "                    }\n",
    "                })\n",
    "\n",
    "    if len(actions) == 0:\n",
    "            continue\n",
    "\n",
    "    res = helpers.bulk(es, actions)\n",
    "    print(res)"
   ]
  },
  {
   "cell_type": "markdown",
   "metadata": {
    "heading_collapsed": true
   },
   "source": [
    "# 3 Twosent Index"
   ]
  },
  {
   "cell_type": "code",
   "execution_count": 29,
   "metadata": {
    "hidden": true
   },
   "outputs": [
    {
     "data": {
      "text/plain": [
       "{'active_primary_shards': 5,\n",
       " 'active_shards': 5,\n",
       " 'active_shards_percent_as_number': 100.0,\n",
       " 'cluster_name': 'smartpub',\n",
       " 'delayed_unassigned_shards': 0,\n",
       " 'initializing_shards': 0,\n",
       " 'number_of_data_nodes': 1,\n",
       " 'number_of_in_flight_fetch': 0,\n",
       " 'number_of_nodes': 1,\n",
       " 'number_of_pending_tasks': 0,\n",
       " 'relocating_shards': 0,\n",
       " 'status': 'green',\n",
       " 'task_max_waiting_in_queue_millis': 0,\n",
       " 'timed_out': False,\n",
       " 'unassigned_shards': 0}"
      ]
     },
     "execution_count": 29,
     "metadata": {},
     "output_type": "execute_result"
    }
   ],
   "source": [
    "from pymongo import MongoClient\n",
    "from elasticsearch import Elasticsearch\n",
    "from elasticsearch import helpers\n",
    "import math\n",
    "import requests\n",
    "import nltk\n",
    "import _pickle as cPickle\n",
    "import config as cfg\n",
    "import logging\n",
    "\n",
    "###############################\n",
    "sent_detector = nltk.data.load('tokenizers/punkt/english.pickle')\n",
    "client = MongoClient('localhost:' + str(cfg.mongoDB_Port))\n",
    "pub = client.pub.publications\n",
    "db = client.pub\n",
    "es = Elasticsearch([{'host': 'localhost', 'port': 9200}],\n",
    "                   timeout=30, max_retries=10, retry_on_timeout=True)\n",
    "es.cluster.health(wait_for_status='yellow', request_timeout=1)"
   ]
  },
  {
   "cell_type": "code",
   "execution_count": 30,
   "metadata": {
    "hidden": true
   },
   "outputs": [],
   "source": [
    "def return_paragraphs(mongo_string_search, db):\n",
    "    # mongo_string_search = {\"dblpkey\": \"{}\".format(dblkey)}\n",
    "    results = db.publications.find(mongo_string_search)\n",
    "    chapters = list()\n",
    "    chapter_nums = list()\n",
    "    list_of_docs = list()\n",
    "    # list_of_abstracts = list()\n",
    "    merged_chapters = list()\n",
    "    \n",
    "    my_dict = {\n",
    "        \"_id\": \"\",\n",
    "        \"paragraphs\": list(),\n",
    "        \"title\": \"\"\n",
    "    }\n",
    "    \n",
    "    for i, r in enumerate(results):\n",
    "        # try:\n",
    "        # list_of_sections = list()\n",
    "        my_dict['_id'] = r['_id']\n",
    "        my_dict['title'] = r['title']\n",
    "        paragraphs = []\n",
    "        \n",
    "#         ########################################################\n",
    "        try:\n",
    "            for chapter in r['content']['chapters']:\n",
    "                if (chapter == {}):\n",
    "                    continue\n",
    "\n",
    "                    # remove the filter that removes related works\n",
    "                    # elif str(chapter['title']).lower() in filter_chapters:\n",
    "                    # print(chapter['title'])\n",
    "\n",
    "                # print(chapter['title'])\n",
    "                for paragraph in chapter['paragraphs']:\n",
    "                    if paragraph == {}:\n",
    "                        continue\n",
    "                    paragraphs.append(paragraph)\n",
    "\n",
    "            my_dict['paragraphs'] = paragraphs\n",
    "\n",
    "        except:\n",
    "            logging.exception('No chapters in ' + r['_id'], exc_info=True)\n",
    "            \n",
    "                \n",
    "#         try:\n",
    "#             for paragraph in r['content']['paragraphs']:\n",
    "#                 if paragraph == {}:\n",
    "#                     continue\n",
    "#                 paragraphs.append(paragraph['text'])\n",
    "#             my_dict['paragraphs'] = paragraphs\n",
    "        \n",
    "#         except:\n",
    "#             logging.exception('No paragraphs in ' + r['_id'], exc_info=True)\n",
    "#             continue\n",
    "#         ########################################################    \n",
    "\n",
    "        list_of_docs.append(my_dict)\n",
    "        my_dict = {\n",
    "            \"_id\": \"\",\n",
    "            \"paragraphs\": list(),\n",
    "            \"title\": \"\"\n",
    "        }\n",
    "\n",
    "    return list_of_docs"
   ]
  },
  {
   "cell_type": "code",
   "execution_count": 38,
   "metadata": {
    "hidden": true
   },
   "outputs": [],
   "source": [
    "results = db.publications.find(mongo_string_search)\n",
    "mongo_string_search = {'$or': [{'$and': [{'booktitle': publication}, {'content.fulltext': {'$exists': True}}]} ,\n",
    "                                   {'$and': [{'journal': publication},   {'content.fulltext': {'$exists': True}}]} ]}"
   ]
  },
  {
   "cell_type": "code",
   "execution_count": 39,
   "metadata": {
    "hidden": true
   },
   "outputs": [],
   "source": [
    "my_dict = {\n",
    "    \"_id\": \"\",\n",
    "    \"paragraphs\": list(),\n",
    "    \"title\": \"\"\n",
    "}\n",
    "for i, r in enumerate(results):\n",
    "    # try:\n",
    "    # list_of_sections = list()\n",
    "    my_dict['_id'] = r['_id']\n",
    "    my_dict['title'] = r['title']\n",
    "    paragraphs = []"
   ]
  },
  {
   "cell_type": "code",
   "execution_count": 60,
   "metadata": {
    "hidden": true
   },
   "outputs": [
    {
     "name": "stdout",
     "output_type": "stream",
     "text": [
      "Eukaryotic cells utilize intricate mechanisms for the uptake and intracellular sorting of various macromolecules, such as membrane components and extracellular proteins. Microscopic imaging studies have helped considerably to describe and define important steps of the uptake process. It has been shown that the cytosolic face of the plasma membrane is studded with small, domed assemblages of peripheral membrane proteins. These constitute transitory sorting stations that dynamically remodel the composition of the cell surface in response to both intracellular and extracellular stimuli. Typically, within a minute of forming, these assemblages invaginate to generate “buds” that then detach, generating small (∼60 nm), membrane-bound transport vesicles that deliver their contents (often receptors) to specific intracellular compartments—namely acceptor early endosomes—for further dissemination within the cell (Figure 1). This invagination and sorting process is called endocytosis, and although several morphologically and structurally distinct endocytic sorting assemblies occur at the surface of most cells [1], perhaps the most recognizable are polyhedral clathrin-coated structures. First identified to be cargo-selective transport carriers during yolk uptake and storage within oocytes of blood-fed mosquitoes [2], clathrin-coated vesicles are now known to support many vital cellular processes, ranging from nutrient uptake, cellular locomotion, and transcriptional regulation and proliferation to complex developmental morphogenetic events. Clathrin-mediated endocytosis also seems important for the efficacy of anti-receptor monoclonal antibody-based tumor therapy [3] and for susceptibility to double-stranded RNA–mediated gene silencing [4].\n",
      "\n",
      "Schematic depiction of a deeply invaginated clathrin-coated bud and a flat clathrin-coated plaque undergoing endocytic uptake and the resultant uncoated vesicles. Both transmembrane cargo (green and blue receptors) that are selectively sorted into clathrin-coated vesicles and bulk membrane-associated cell surface proteins (orange and magenta) that are perhaps nonselectively incorporated into plaques are shown.\n",
      "\n",
      "Clathrin assembles at discrete patches on the plasma membrane through cooperative interactions involving a large set of endocytic proteins [5]. Chief among these are adaptor proteins, which, as the name suggests, link membrane components with the outer layer of the vesicle coat, which is composed of clathrin trimers (Figure 1, inset). While the principal role of clathrin-coated buds is to gather appropriate transmembrane proteins, generically designated “cargo,” for selective delivery to the cell interior, cargo capture is not the driving force for the deposition of coat components at a nascent bud site. AP-2, a major adaptor complex within clathrin-coated structures, has two separate cargo-binding surfaces that are probably both inaccessible when AP-2 first docks onto the plasma membrane [6],[7]. This means that although cargo depends on a sorting signal(s) for its incorporation into clathrin-coated vesicles, recognition of these signals is unlikely to be the event that recruits adaptors and thus allows clathrin coats to form on bare membrane. Instead, the rare and spatially restricted phospholipid phosphatidylinositol 4,5-bisphosphate (PtdIns(4,5)P2) seems to play a major role in placing coat protomers on the plasma membrane to begin clathrin assembly [8]–[11]; AP-2 and several other important coat and accessory proteins bind physically to PtdIns(4,5)P2\n",
      "[5]. Perturbing PtdIns(4,5)P2 production in cultured cells leads to an almost immediate dissolution of preexisting clathrin-coated structures at the cell surface [8],[10],[11].\n",
      "\n",
      "Because transmission electron microscope (EM) images typically reveal isolated, invaginating coated buds all along the cell surface, and clathrin immunolabeling often shows a profusion of small, separated puncta apparently randomly scattered over the surface membrane (Figure 2), it seems reasonable to suspect that clathrin-coated vesicles might form de novo for each internalization cycle. There is indeed evidence for this from live-cell imaging. In the unicellular yeast Saccharomyces cerevisiae, the predictable kinetic behavior of coat components has led to a thorough cataloging of temporally resolved protein entry and exit at single-turnover endocytic sites [12]. In BS-C-1 cells, an African green monkey–derived cell line, clathrin coats at the surface are similarly uniform. The stereotyped behavior of these structures has allowed the definition of coat lifetimes and revealed different types of failure events [13],[14] for these canonical constructions, which are known as clathrin-coated pits. Most importantly, insufficient (or perhaps inappropriate) cargo packaging appears to presage nonproductive collapse of an incipient bud [13],[14]. So, while cargo clearly does not actively recruit coat machinery to the membrane, it plays an important role in driving the process forward to the next step: the budding of vesicles.\n",
      "\n",
      "Yet, in other cell lines [15]–[19] and isolated primary cells [20], the size distribution of clathrin-coated structures on the cell surface is far less regular than in BS-C-1 cells. For example, in HeLa cells, in addition to transient diffraction-limited objects (<200 nm), large, long-lived and rather sedentary clathrin spots (>500 nm) are observed (Figure 2). Both EM [21],[22] and time-resolved fluorescence imaging techniques, like total internal reflection fluorescence microscopy (TIR-FM) [17],[18],[23],[24], have been used to visualize the bulky clathrin structures on the basal adherent surface, but EM-based visualization of isolated dorsal plasma membrane also shows regions of extensive flat clathrin lattice [25],[26]. Why are there different clathrin assemblies at the plasma membrane and what, if any, is the functional significance of this dichotomy? The variability in position, size, and dynamic behavior of diverse clathrin structures has made global computational analysis of large data sets of time-resolved events very challenging. For one thing, the kinetic inconsistency makes modeling difficult and much depends upon whether, despite morphological and temporal plasticity, the sorting and functional properties of the different patches is basically the same.\n",
      "\n",
      "In this issue of PLoS Biology, the Kirchhausen laboratory delves into this issue by utilizing quantitative live-cell imaging of several distinct cell types [27]. Their overarching conclusion is that two mechanistically distinct modes of clathrin assembly and internalization occur at the ventral plasma membrane of different cells. They deduce that rounded buds correspond to de novo–forming, canonical clathrin-coated pits on naked membrane, while clathrin-coated “plaques” are equivalent to the persistent, flat clathrin sheets, and are found only on the basal adherent surface. A pivotal finding is that plaques apparently remain roughly planar throughout, including when an abrupt inward trajectory signifies entry into the cell interior. In curved coated pits, the distribution of AP-2 and epsin, another adaptor, relative to the clathrin coat appears asymmetric, but not in plaques [27]. This again suggests that the underlying plasma membrane is not deformed into a spherical vesicle, typical of most coat-mediated transport events; plaques seemingly maintain a constant arrangement throughout their functional lifetime.\n",
      "\n",
      "Saffarian et al. provocatively argue that their characterization of general plaque behavior rationalizes a rather discrepant literature, yet the work also raises several fundamental questions. Foremost is whether the plaques they catalog are generally equivalent to the extensive, long-lived, and immobile clathrin patches seen by others. In contrasting ultrastructural studies from other laboratories, the flat patches can be considerably larger [21],[25],[26],[28],[29], and internalization en masse could possibly generate a large puncture in the basal membrane unless much circumferential uncoated membrane is also incorporated into the incoming vesicle, with concomitant reorganization of the underlying surface bilayer (Figure 3). Do plaques invariably enter as intact structures? And, if so, how mechanistically does this occur without compromising the bulk membrane structure? Curiously, despite being plentiful at the adherent surface, thin-section EM images of plaques captured precisely at the instant of internalization are not available. Saffarian et al. assert that the slow relative rate of plaque internalization makes this visualization unlikely. Still, a striking feature of clathrin structures in freeze-etch images of the adherent cell surface is the frequent close proximity of emerging rounded buds to adjacent flat arrays (Figure 2). Corroborating thin-section EM images have been published previously in which buds within, or immediately adjacent to, plaques are plainly seen [21]. One interpretation of this juxtaposed positioning is that flat clathrin arrays could operate as staging scaffolds for spherical bud production. This idea is in accord with observed fluctuations in TIR-FM fluorescence intensity within the persistent lattice population [20], which are compatible with loss of (peripheral) subregions of an extended patch, leaving portions remaining at the plasma membrane [15]. Labeled cargo molecules also have been seen emerging from stationary clathrin patches [20],[26].\n",
      "\n",
      "Next, we do not understand clearly how, when compared with pits, flat arrays are differentially nucleated and apparently restricted to the adherent surface of the cell. The requirement for a very large excess of hexagonal facets to construct a planar lattice differs obviously from de novo–nucleated buds. Yet, flat lattices must require PtdIns(4,5)P2 for assembly, as consumption of this lipid leads to prompt loss of most clathrin structures and adaptors at the ventral surface [10],[11]. Fluorescence recovery after photobleaching (FRAP) experiments indicate that during assembly, clathrin and AP-2 molecules rapidly enter and exit small and large structures alike [16],[30]. That both structures are dynamic at the microscopic level suggests similar overall apparatus and assembly mechanisms. And if cargo is needed to stabilize coats [13],[14], then long-lived plaques must contain and sequester cargo, just as pits do. This is borne out experimentally: fluorescently tagged transferrin (a serum iron transporter that engages the transmembrane transferrin receptor for clathrin-dependent import of iron into the cell interior) labels essentially all surface clathrin structures in HeLa and other cells [17],[19],[20],[30]. The density of transferrin receptor in flat lattice is proportional to receptor concentration [26], and the rate and quantitative nature of transferrin uptake makes it highly unlikely that cargo concentrated within plaques fails to internalize rapidly. Thus, morphologically discernible clathrin structures do appear to cluster the same constitutively internalized cargo.\n",
      "\n",
      "Another (possibly related) issue is, what prevents the flat clathrin arrays from forming invaginated buds? Perhaps information can be gleaned from comparison with another membrane compartment where flat clathrin arrays also form with no evidence of rounded bud production: on early endosomes maturing into multivesicular bodies (Figure 1). Originally discovered in 1964 [31], we now know that these endosomal clathrin assemblies operate by sequestering cargo, just like clathrin-coated structures at the plasma membrane [32]. However, these so-called bilayered clathrin coats do not contain AP-2 and have an unusual EM morphology that is not seen at plasma membrane plaques. The odd appearance of bilayered clathrin coats could indicate inclusion of structural components that preclude lattice curvature. In canonical, de novo–forming rounded buds, it is thought that the force to sculpt the plasma membrane may come from assembling clathrin, which has inherent curvature when pentagonal facets are incorporated into the lattice [22],[27],[33]; or, instead of inducing curvature itself, clathrin may stabilize curvature resulting from thermal fluctuation–driven membrane rearrangements [34]. Do plasma membrane plaques then, like bilayered clathrin coats on early endosomes, incorporate some additional structural component(s) that blocks clathrin-mediated induction or stabilization of membrane curvature?\n",
      "\n",
      "An alternative model for what prevents the basally located, flat clathrin arrays from forming invaginated buds is that it is due to a unique role for the actin cytoskeleton in plaque formation, coupled with the strength of adhesion of the basal cell surface to the underlying substrate on which cells are growing. Saffarian et al. find that actin nucleation is unnecessary for the budding of spherical coats, although it is worth noting that at the apical surface of polarized epithelial cells, where clathrin buds are incontestably spherical, actin does regulate vesicle internalization [35] and also drives entry of rounded clathrin-coated structures housing vesicular stomatitis virus [36]. In contrast to what Saffarian et al. observe for bud formation, nucleation of branched actin microfilaments appears to drive plaque movement into the cell [27] (Figure 3). This conclusion is based on the observations that depolymerization of the actin cytoskeleton with the sponge toxin latrunculin A arrests development and internalization of extant plaques and that the branched actin regulators cortactin and Arp2/3 build up at plaques just prior to movement away from the cell cortex [27]. Because latrunculin A application also prevents the formation of new plaques [27], an additional activity of the actin cytoskeleton may be to maintain the planar topology of plaques, perhaps in concert with resistance to deformation caused by tight cell adhesion to the underlying substrate. These observations of actin contributions to plaque formation in particular are intriguing, as the closest mechanistic parallels to the behavior of plaques seem to come from cortical actin patches in S. cerevisiae, the sites of clathrin-mediated endocytosis [12]. While absolutely actin-dependent, cortical patches remodel the plasma membrane into tubulovesicular profiles upon internalization [37], quite unlike what is suggested for higher eukaryotic plaques.\n",
      "\n",
      "Irrespective of mechanism, the current schematic depiction suggests that uptake of a flat clathrin sheet leads to extraneous (noncoated) membrane around the perimeter of the plaque also being internalized (Figure 3). Superficially, this seemingly defies the whole elegant selectivity of coat-mediated sorting. Two important questions arise from this model: how can this membrane excess prevent endocytosis of inappropriate plasma membrane segments, and how is scission regulated at the molecular level?\n",
      "\n",
      "But perhaps the most important lingering question is what the functional significance of the flat clathrin arrays is, if they have no operative relationship to buds. Two different types of clathrin assemblies could be a physical manifestation of compositionally discrete sorting stations operating in parallel to presort cargo at the cell surface. Data to support the idea of cargo-selective clathrin coats are accumulating [38]–[41], but do not seem to strictly reflect selective partitioning of different membrane-embedded proteins into either pits or plaques. There are, in fact, suggestions that even in BS-C-1 cells, which lack plaques, different types of clathrin sorting structures occur [40]. Doubtless, more work is needed to establish the precise functional interrelationships between different types of clathrin-coated structures, but, unarguably, the new results from Saffarian et al. have given cell biologists much to ponder.\n",
      "\n",
      "Schematic illustration of a cultured cell showing surface-positioned clathrin-coated buds, ventrally located large, flat clathrin “plaques,” and the major internal endosomal sorting stations. After clathrin coat uncoating, transport vesicles quickly fuse with the peripheral early endosome compartment, mingling incoming cargo molecules in this initial sorting endosome. Transmembrane cargo can return either directly to the plasma membrane from the early endosome, or be sorted into tubules that are delivered to the juxtanuclear recycling endosome compartment, from which cargo can also be directed back to the cell surface. The bulbous vacuolar portion of the early endosome, containing a flat, bilayered clathrin coat, matures into a multivesicular body for delivery of selected components to lysosomes for degradation. The inset shows the basic composition and organization of a clathrin-coated vesicle, with the three major layers: the inner membrane vesicle with various embedded transmembrane cargo (blue and green), an intermediate layer of adaptors including AP-2 (gray), and the outer clathrin polyhedral lattice (red).\n",
      "\n",
      "(A) Confocal optical section of a HeLa cell immunolabeled with antibodies to AP-2 to reveal clathrin-coated structures on the adherent plasma membrane. Selected examples of diffraction-limited spots (arrowheads) and large clathrin assemblies (arrows) are shown. (B) Freeze-etch EM image of the adherent surface of a cultured cell, showing both flat and rounded, budding polygonal clathrin structures (pseudocolored in red) on the plasma membrane and the proximity of budding vesicles to the planar sheets.\n",
      "\n"
     ]
    }
   ],
   "source": [
    "for chapter in r['content']['chapters']:\n",
    "    for paragraph in chapter[0]['paragraphs']:\n",
    "        print(paragraph)\n",
    "        print('')"
   ]
  },
  {
   "cell_type": "code",
   "execution_count": 12,
   "metadata": {
    "hidden": true
   },
   "outputs": [
    {
     "name": "stderr",
     "output_type": "stream",
     "text": [
      "ERROR:root:No chapters in PMC_3472976\n",
      "Traceback (most recent call last):\n",
      "  File \"<ipython-input-11-ddacd84d4e65>\", line 34, in return_paragraphs\n",
      "    for paragraph in chapter['paragraphs']:\n",
      "TypeError: string indices must be integers\n",
      "ERROR:root:No chapters in PMC_521730\n",
      "Traceback (most recent call last):\n",
      "  File \"<ipython-input-11-ddacd84d4e65>\", line 34, in return_paragraphs\n",
      "    for paragraph in chapter['paragraphs']:\n",
      "TypeError: string indices must be integers\n",
      "ERROR:root:No chapters in PMC_1084337\n",
      "Traceback (most recent call last):\n",
      "  File \"<ipython-input-11-ddacd84d4e65>\", line 34, in return_paragraphs\n",
      "    for paragraph in chapter['paragraphs']:\n",
      "TypeError: string indices must be integers\n",
      "ERROR:root:No chapters in PMC_4917243\n",
      "Traceback (most recent call last):\n",
      "  File \"<ipython-input-11-ddacd84d4e65>\", line 34, in return_paragraphs\n",
      "    for paragraph in chapter['paragraphs']:\n",
      "TypeError: string indices must be integers\n",
      "ERROR:root:No chapters in PMC_3075230\n",
      "Traceback (most recent call last):\n",
      "  File \"<ipython-input-11-ddacd84d4e65>\", line 34, in return_paragraphs\n",
      "    for paragraph in chapter['paragraphs']:\n",
      "TypeError: string indices must be integers\n",
      "ERROR:root:No chapters in PMC_2930862\n",
      "Traceback (most recent call last):\n",
      "  File \"<ipython-input-11-ddacd84d4e65>\", line 34, in return_paragraphs\n",
      "    for paragraph in chapter['paragraphs']:\n",
      "TypeError: string indices must be integers\n",
      "ERROR:root:No chapters in PMC_2730035\n",
      "Traceback (most recent call last):\n",
      "  File \"<ipython-input-11-ddacd84d4e65>\", line 34, in return_paragraphs\n",
      "    for paragraph in chapter['paragraphs']:\n",
      "TypeError: string indices must be integers\n"
     ]
    },
    {
     "name": "stdout",
     "output_type": "stream",
     "text": [
      "Total journals: 1\n"
     ]
    }
   ],
   "source": [
    "# filter_publications = [\"WWW\", \"ICSE\", \"VLDB\", \"JCDL\", \"TREC\",  \"SIGIR\", \"ICWSM\", \"ECDL\", \"ESWC\", \"TPDL\", \n",
    "filter_publications = [ \"PLoS Biology\"]#, \"Breast Cancer Research\", \"BMC Evolutionary Biology\", \"BMC Genomics\", \"BMC Biotechnology\",\n",
    "#                         \"BMC Neuroscience\", \"Genome Biology\", \"PLoS Genetics\", \"Breast Cancer Research : BCR\", \n",
    "#                        \"Genome Biology and Evolution\", \"Breast Cancer Research and Treatment\"]\n",
    "\n",
    "list_of_pubs = []\n",
    "\n",
    "for publication in filter_publications:\n",
    "    mongo_string_search = {'$or': [{'$and': [{'booktitle': publication}, {'content.fulltext': {'$exists': True}}]} ,\n",
    "                                   {'$and': [{'journal': publication},   {'content.fulltext': {'$exists': True}}]} ]}\n",
    "    list_of_pubs.append(return_paragraphs(mongo_string_search, db))\n",
    "\n",
    "print(\"Total journals:\", len(list_of_pubs))\n"
   ]
  },
  {
   "cell_type": "code",
   "execution_count": null,
   "metadata": {
    "hidden": true
   },
   "outputs": [],
   "source": [
    "for pubs in list_of_pubs:\n",
    "    for paper in pubs:\n",
    "        actions = []\n",
    "        cleaned = []\n",
    "        datasetsent = []\n",
    "        othersent = []\n",
    "        \n",
    "        for paragraph in paper['paragraphs']:\n",
    "            if paragraph == {}:\n",
    "                continue\n",
    "            lines = (sent_detector.tokenize(paragraph.strip()))\n",
    "            \n",
    "            if len(lines) < 3:\n",
    "                continue\n",
    "\n",
    "            for i in range(len(lines)):\n",
    "                words = nltk.word_tokenize(lines[i])\n",
    "                lengths = [len(x) for x in words]\n",
    "                average = sum(lengths) / len(lengths)\n",
    "                if average < 4:\n",
    "                    continue\n",
    "                    \n",
    "                twosentences = ''\n",
    "                try:\n",
    "                    twosentences = lines[i] + ' ' + lines[i-1]\n",
    "\n",
    "                except:\n",
    "                    twosentences = lines[i] + ' ' + lines[i+1]\n",
    "                    \n",
    "                datasetsent.append(twosentences)\n",
    "\n",
    "            #cleaned.append(paragraph)\n",
    "\n",
    "        for num, parag in enumerate(datasetsent):\n",
    "            actions.append({\n",
    "                \"_index\": \"twosent\",\n",
    "                \"_type\": \"twosentnorules\",\n",
    "                \"_id\": paper['_id'] + str(num),\n",
    "\n",
    "                \"_source\" : {\n",
    "                    \"title\" : paper['title'],\n",
    "                    \"content.chapter.sentpositive\" : parag,\n",
    "                    \"paper_id\":paper['_id']\n",
    "                }})\n",
    "            \n",
    "        if len(actions) == 0:\n",
    "            continue\n",
    "\n",
    "#         res = helpers.bulk(es, actions)\n",
    "#         print(res)"
   ]
  },
  {
   "cell_type": "markdown",
   "metadata": {},
   "source": [
    "# 4 Using ES "
   ]
  },
  {
   "cell_type": "code",
   "execution_count": null,
   "metadata": {},
   "outputs": [],
   "source": []
  },
  {
   "cell_type": "code",
   "execution_count": 5,
   "metadata": {
    "scrolled": true
   },
   "outputs": [
    {
     "name": "stdout",
     "output_type": "stream",
     "text": [
      "Got 19637 Hits:\n",
      "Relationship of patients' age to histopathological features of breast tumours in  BRCA1  and  BRCA2  and mutation-negative breast cancer families\n",
      "Distinct pathological features among BRCA1-associated tumours have been found when such tumours are compared with sporadic cancers; these features include high tumour grade, negativity for oestrogen receptor (ER), overexpression of p53, negativity for progesterone receptor (PR), and a higher proportion of medullary and atypical medullary carcinomas [1-3]. Recently, cDNA expression analyses have suggested a basal epithelial phenotype for BRCA1 tumors [4] and expression of cytokeratins 5/6 have been associated with BRCA1 tumours [5]. Among BRCA2-associated tumours, findings have been inconsistent, and in most cases no significant difference has been found between BRCA2-associated and sporadic cancers [1,2,6,7].In our previous report [8], we have shown, consistent with earlier studies, that BRCA1-associated cancers were diagnosed younger and were more ER- and progesterone-receptor-negative (PR-), more p53+, and of higher grade than unselected breast tumours or tumours from non-BRCA1/2 breast cancer families. However, in multivariate analysis the independent factors, as compared with non-BRCA1/2 tumours, were age of diagnosis, grade, and PR-negativity. BRCA2 cases did not have such distinctive features compared with non-BRCA1/2 cases.In large studies on sporadic breast cancer tumours, tumours from premenopausal patients have been shown to differ from those of postmenopausal patients [9-11], but this has been little studied among familial patients. In this study, we had an excellent opportunity to study familial cases without age restriction and to evaluate whether the histology and immunohistochemistry differ in the different age groups (according to whether age of diagnosis is below or over 50 years, with age being used as a surrogate for menopause status) among BRCA1, BRCA2, and non-BRCA1/2 families.Family history of cancer was screened for among breast cancer patients in the Department of Oncology, Helsinki University Central Hospital [12]. Families were collected with a simple criterion of at least three first- or second-degree relatives with breast or ovarian cancer, with no restriction regarding age. All the families were tested for BRCA1 and BRCA2 mutations by mutation analysis of the whole coding sequences and exon/intron boundaries of the genes as described elsewhere [13,14], or were tested for all 18 previously reported Finnish BRCA1 and BRCA2 mutations [13-16]. In this study, as previously described [8], we collected all the available paraffin-wax blocks of the primary breast cancers (n = 262) from 119 breast cancer families. Altogether, 51 cancers from the 25 BRCA1 families, 59 cancers from the 20 BRCA2 families, and 152 cancers from the 74 non-BRCA1/2 families were obtained.The patients' median age at diagnosis of the tumours was 44 years for BRCA1, 47 years for BRCA2, and 55 years for non-BRCA1/2. For comparison of tumours from premenopausal and postmenopausal patients, the age of 50 years was chosen as a surrogate for menopause. Among the BRCA1 patients, 34 (66.7%) were diagnosed when they were below 50 years of age (median age 39) and 17 (33.3%) when they were 50 or more (median age 55); the respective numbers among BRCA2 patients were 35 (59.3%) and 24 (40.7%) (median ages 39 and 56.5, respectively), and among non-BRCA1/2 patients, 58 (38.2%) and 94 (61.8%) (median ages 44 and 65, respectively).The most representative area of the tumour was punched to produce a hereditary breast cancer tissue microarray including two cores (diameter 0.6 mm) from all the original blocks as described elsewhere [8,17]. The use of microarray tissue blocks makes it possible to stain all the samples at the same time and in the same conditions. Subgroups of the material are therefore very well comparable, and a highly significant correlation between this kind of multicore system and studying the whole sections of the original blocks has also been shown [18,19].All the tissue microarray slides were stained with routine methods used for pathological diagnostics with ER, PR, ERBB2, and p53 antibodies in the same laboratory [8]. Briefly, five-micrometer sections were cut from paraffin-embedded blocks, dewaxed in xylene, and dehydrated in a series of graded alcohols. The sections were pretreated in a microwave oven and incubated with antibody overnight. ER antibody (1:50) and ERBB2 antibody (NCL-CB11, 1:400) were purchased from Novocastra (Newcastle upon Tyne, UK), and PR (1:250) and p53 antibodies (1:100) were from Dako (Copenhagen, Denmark). The evaluation of the staining results was similar to that used in routine diagnostics, and samples were considered positive when 10%, 10%, and 20% of the cells were stained with ER, PR, and p53, respectively. Samples having a moderate or intense staining of the entire membrane in more than 10% of the tumour cells (immunohistochemical scores of 2+ and 3+) were considered to be ERBB2+. Other staining patterns (0 and 1+) were considered to be negative. We studied the haematoxylin-and-eosin sections of the original blocks to achieve histological diagnosis and grading (all by the same pathologist (PH)). Statistical analysis was done with SPSS version 8.0 for Windows. We tested the differences in dichotomous variables with a χ2 or Fisher's exact test. All P values are two-tailed.Permissions for this study were obtained from the ethics committees of the Department of Oncology and the Department of Obstetrics and Gynaecology, Helsinki University Central Hospital, and of the Ministry of Social Affairs and Health in Finland. Blood and tumour samples were used in this study with the informed consent of the probands and of the family members.In BRCA1 families, patients whose cancer was diagnosed when they were under 50 years of age differed significantly from those diagnosed at 50 years or older in the presence of grade 3 tumours (84.4% vs 47.1%, P = 0.009), ER-negativity (83.3% vs 25%, P = 0,001), and p53-positivity (50.0% vs 7.7%, P = 0.014) (Table 1). All of the five cancers with medullary histology were also detected in patients under 50 years old. Patients who were BRCA1+ and were under 50 years old at diagnosis differed significantly in all of these factors from familial non-BRCA1/2 patients (proportion of grade 3 tumours, 84.4% vs 17.3%, respectively, P ≤ 0.0005; of ER-negativity, 83.3% vs 29.3%, P ≤ 0.0005; of PR-negativity, 90.3% vs 31.0%, P ≤ 0.0005; and of p53-positivity, 50.0% vs 25.9%, P = 0.024). However, patients from BRCA1 families diagnosed at age 50 years or older differed significantly only for grade from the non-BRCA1/2 patients in the same age group (47.1% vs 23.3, P = 0.044).In BRCA2 families, tumours of patients diagnosed at less than 50 years of age differed significantly from those of the older patients for ER-negativity (20.6% vs 52.6%, respectively, P = 0.017) and PR-receptor negativity (35.3% vs 80.0%, P = 0.001) (Table 1). In contrast to BRCA1 tumours, the BRCA2 tumours diagnosed in patients 50 years or older were more often ER- (52.6% vs 25.6%, P = 0.02) and PR- (80.0% vs 54.4%, P = 0.036) than non-BRCA1/2 cancers among the same age group. Tumours of patients diagnosed at less than 50 years of age were very similar to non-BRCA1/2 tumours in the same age group (Table 1).Pathological features of non-BRCA1/2 tumours did not vary significantly between the two age groups.In this study, we have evaluated whether tumour histology and immunohistochemistry are influenced by age of onset (menopause status) among families with BRCA1, BRCA2, or non-BRCA1/2 tumours. Most of the earlier studies of the characteristics of tumours in BRCA1 and BRCA2 carriers have been based on young patients only. Because there was no age restriction in our selection criterion, we had an excellent opportunity to study patients within the whole age distribution.In BRCA1 families, tumours from patients diagnosed at over 50 years of age were surprisingly different from those in BRCA1 carriers diagnosed at under 50 years. Only tumours from the younger patients exhibited the distinctive characteristics that have been found to be typical of BRCA1 tumours, with higher grade, negativity for ER and PR, and positivity for p53 distinguishing them from familial non-BRCA1/2 tumours. However, tumours from the older patients in BRCA1 families differed significantly only in grade from tumours in non-BRCA1/2 patients. There were only five cases among this older group of patients, for which the BRCA1 mutation status was unknown. If these patients are excluded from the analysis, the observed frequencies remain ; therefore those do not account for the result.Previously, Vaziri and colleagues [20] have reported that the tumour immunophenotype of BRCA1-carriers is influenced by the age of diagnosis. As a control group, those authors used age-matched breast cancer patients unselected for family history, whereas in our study we included familial non-BRCA1/2 cancer cases. Vaziri and colleagues observed no differences in ER or PR staining of tumours between BRCA1 carriers diagnosed at 50 years or older and controls with sporadic cancers [20]. Foulkes and colleagues [21] also recently reported that the proportion of ER+ tumours increased with patients' age among the BRCA1 patients included in their study (diagnosed at less than 65 years of age), although they found a strong relationship between BRCA1 carrier status and ER-negativity of tumours in the age group 55 to 65 years. Vaziri and colleagues also studied the expression of markers Ki-67, Cyclin D1, p53, and ERBB2. None of these markers differed significantly in the patients 50 years or older between BRCA1-associated cancers and control cancers, although tumours from the younger BRCA1 age group presented less frequent ER, PR, and cyclin D1 staining and more frequent Ki-67 and B-catenin staining than those from control cancers. p53 expression did not differ in their study in different age groups, nor was p53 more frequently overexpressed among young BRCA1 patients than in controls.We did not find the BRCA2-associated tumours to differ significantly from familial non-BRCA1/2 tumours among the younger age group. However, tumours of BRCA2 carrier patients diagnosed at 50 years or older had more distinctive features, and were more ER- and PR-, than tumours of younger patients or tumours of the same age group of BRCA1 patients or non-BRCA1/2 patients.The specific features of BRCA1-associated tumours among the younger age group, and lack of such features among the BRCA2-associated tumours, are consistent with the overall characteristics reported previously among BRCA1 and BRCA2 patients [1,2]. Such features characterise to a large extent the BRCA1 and BRCA2 tumours overall, as a large majority (63% in this study) of all breast tumours in the BRCA1 and BRCA2 families are diagnosed before patients reach 50 years of age.However, among both BRCA1 and BRCA2 families, tumours from older patients form subgroups that are distinctly different from those of the younger patients. Tumours from the older BRCA1 patients resemble more those among the mutation-negative families, or sporadic tumours. The highest incidence rates and relative breast cancer risk among BRCA1 carriers are seen before age 50 [22], and some tumours from older BRCA1 mutation carriers could also be 'sporadic' cancers. However, the breast tumours from older BRCA1 patients also differed from mutation-negative ones by their higher grade. Furthermore, tumours from the older BRCA2 carriers exhibited distinctly different characteristics from the younger ones or from BRCA1 carrier tumours and mutation-negative ones, suggesting a strong impact of the germline mutation on tumour development among the older patients. It is interesting that the BRCA1 and BRCA2 tumours appear to be opposites with respect to their characteristics in the age groups of younger and older patients.There are now many models and computer programs to test the probability of BRCA1 or BRCA2 mutations [23-28]. We have also documented previously that efficient predictors for BRCA1 and BRCA2 mutations are early age of breast cancer onset and number of ovarian cancer cases in the family [27]. Simple family history criteria of the strongest predictors (onset of breast cancer under age 40 and presence of ovarian cancer) for a mutation may also provide a rough estimate of a high likelihood of carrying a mutation [27].However, it would be useful if, besides family history, histopathological markers could also be used to distinguish patients and families likely to carry a BRCA1/2 germline mutation from mutation-negative families and breast cancer patients in general. The use of morphologic and immunohistochemical data has been previously suggested to provide a helpful and cost-effective tool for predicting BRCA1 mutation among young breast cancer patients [2,29,30]. The findings here provide further information specifically with respect to older BRCA1 and BRCA2 patients and warrant further studies for evaluating the probability of mutation by combining information on family history and tumour characteristics in the various age groups.These findings may reflect different biological behaviour and pathway of tumour development among the older and the younger BRCA1 and BRCA2 patients, with impact also on prognosis and survival. So far, results on survival among BRCA1 and BRCA2 patients have been inconclusive or contradictory, and large meta-analyses specifically according to age groups could shed further light on this. Finally, in the context of genetic counselling, specific tumour characteristics may help evaluate the possibility of a BRCA1 or BRCA2 mutation and the need for mutation testing in a family with a history of breast cancer. It appears crucial, however, to consider such features specifically with respect to the age of the patients.ER = oestrogen receptor; PR = progesterone receptor.The author(s) declare that they have no competing interests.HE drafted the manuscript, participated in the design of the study and data collection, and performed the statistical analysis. PH carried out the immunohistochemistry. AT carried out the molecular genetic studies. KA participated in patient collection and did the genetic counselling of the patients and participated in drafting the manuscript. CB participated in the design of the study and drafting of the manuscript. HN participated in the design of the study, data collection, and drafting of the manuscript. All authors read and approved the final manuscript.\n",
      "__________\n",
      "Gene Structure Evolution of the Na + -Ca 2+  Exchanger ( NCX ) Family\n",
      "The Na+-Ca2+ exchanger (NCX) is an integral membrane protein belonging to the Ca2+/cation: antiporter (CaCA) superfamily of protein transporters [1]. Catalyzing the reversible counter-transport of three Na+ for one Ca2+, NCX plays a major role in maintaining Ca2+ homeostasis in many tissue types [2] although its role is best understood in the heart [3]. In cardiomyocytes, the exchanger extrudes Ca2+ from the cytosol thereby allowing relaxation to occur but it may also function in Ca2+ influx mode under certain physiological conditions, thereby contributing to cardiomyocyte contraction [4]. There is growing body of evidence that the role of NCX in cardiac excitation-contraction coupling differs with developmental and physiological states as well as between species. In the adult mammalian heart, NCX expression levels increase during heart failure and arrhythmias as an intrinsic mechanism of cardiac functional compensation, though with potentially negative side-effects [5]. The expression of NCX in cardiomyocytes is elevated in neonates, suggesting a greater role for the exchanger in early developmental stages [6]. NCX expression also differs among species. For example, NCX expression in teleosts fish cardiomyocytes appears higher than other vertebrates [7]. Interpretation of expression dynamics in physiological, developmental and evolutionary comparisons is complicated by the diversity in NCX homologs arising from both splice variants and gene/genome duplications.NCX is expressed in virtually all tissues across a phylogenetically diverse group of species. Invertebrates appear to express a single NCX ortholog based upon analyses in arthropods (fruitfly [8]) and molluscs (squid [9]). The analysis of vertebrate NCX homologs has focused mainly on mammals. To date, three NCX genes (NCX1, NCX2 and NCX3) have been cloned and functionally characterized from several mammals including mouse [10], rabbit [11], guinea pig [12] and dog [13]. NCX1 is expressed ubiquitously [14], whereas NCX2 [15] and NCX3 [16] are found exclusively in the brain and skeletal muscle. Expression levels generally correlate with the perceived importance of transmembrane Ca2+ flux in a particular cell type (i.e., high in cardiac, neuronal, and kidney tissue but relatively low in liver tissue). An NCX1 homolog has been cloned and characterized in several teleosts including trout [17], tilapia [18], and zebrafish [19]. We recently discovered a NCX gene (NCX4) that has been found only in fish species [20]. Although it has been shown to play a critical role in zebrafish cardiovascular development [21], its functionality and transport phenotype are not known.The protein products of mammalian NCX paralogs range in size from ~800 – 990 residues and show an overall identity of ~66%. Identity is especially high in the N- and C-terminal transmembrane (TM) domains, consisting of 5 and 4 transmembrane segments (TMS), respectively [22,23]. Within each domain, the α-repeats have been suggested to be involved in ion translocation. A large (~550 residues) intracellular loop, which separates the TM domains, contains components important for NCX regulation, such as exchange inactivation by the XIP site and Ca2+ binding by the Ca2+ binding domains (CBDs). The C-terminal portion of the loop of NCX1 is subject to extensive alternative splicing in which differential combinations of six exons (A, B, C, D, E and F) produce five well-documented and abundant splice variants expressed in a tissue-specific fashion, although other variants may be expressed at low levels in certain tissues out of a total of thirty-two possible splice variant exon combinations [24]. The physiological significance of NCX alternative splicing remains controversial. Schulze et al. [25] observed distinct voltage dependences between NCX1.1 versus NCX1.3 isoforms whereas Dyck et al. [26] and Hurtado et al. [27] identified differences between isoforms in Na+-dependent inactivation induced by an increase in intracellular Ca2+. Therefore a comprehensive evolutionary analysis of NCX alternative splicing is needed.The origin of many vertebrate gene families can be attributed to whole genome duplications (WGD) early in vertebrate evolution [28]. Superimposed on these genomic events are gene and segmental duplications. The relative importance of these genomic and gene duplications in diversity of NCX paralogs is not yet established. Reports of three NCX paralogs in mammals are consistent with two rounds of WGD, followed by loss of one paralog. NCX4 has been suggested to be a product of gene/genome duplication after teleost divergence from tetrapods [20]. However, the lack of sequence information from a breadth of vertebrates has made it difficult to determine the origin of the vertebrate paralogs. Of particular interest is the origin of the NCX4 paralog, which to this point had not been identified in species other than teleosts.In the current study we build on previous work and present a clearer picture of NCX molecular evolution. In addition to protein sequence analysis, closer examination of NCX gene structure provides insight into the evolutionary origins of the NCX gene family. Since the TMS and specific motifs within the regulatory loop are well conserved among species, examination of the exon-intron boundaries, gene length, intron density, and alternative splice variation provide opportunities for distinctions between possible evolutionary trajectories. Through a combination of existing [20] and newly found NCX genomic sequences, a more complete phylogenetic tree can be drawn leading to a new hypothesis of NCX gene evolution. These data are consistent with the 1R/2R/3R hypotheses for WGD, generating four NCX paralogs in basal vertebrates, and additional paralogs in teleosts. One of these genes, NCX4, is present in the genomes of teleost, amphibian and reptilian organisms but has likely been secondarily and independently lost in the mammalian and avian lineages. In addition, certain features of the NCX genes have been identified to differ among orthologs and paralogs.As for most genes, the vast amount of NCX genomic data and the speed with which it is expanding far surpasses the availability of cloned and phenotyped NCX cDNAs. In this study, therefore, we exploit this by making use of bioinformatics tools to search for NCX sequences in all of the genomes currently available including those from the Ensembl browser. Most sequences used in this article are complete but sequences with > 10% of the amino acids missing were not used for phylogenetic analyses. NCX searches were performed in genomes from invertebrates and vertebrates, augmented by individual clones from select species (see Table 1).Eukaryote NCX Homologs List* Represents complete transcripts available in GenBank. a and b represent teleost NCX duplicatesGene families in animals arise through gene duplications, but amongst vertebrates the defining events are a series of WGD. Within the chordate lineage, the first WGD (1R) occurred early in vertebrate evolution, around the time of the divergence of the lamprey and hagfish lineages, though the exact timing is not yet clear. A second WGD (2R) occurred prior to the divergence of chondrichthians and osteichthians. Thus, many genes present as single copies in protochordates occur as four copies in chondrichthians and osteichthians, including the sarcopterygian lineage that gave rise to tetrapods. Within the osteichthian lineage, a third WGD (3R) occurred prior to the emergence of teleosts. Thus, an actinopterygian ancestor basal to most teleost fish (including pufferfish, zebrafish, sticklebacks, and medaka) likely possessed four copies of each gene. Additional WGDs occurred more recently in specific vertebrate lineages, such as salmonids [28]. In many cases, gene family sizes in chordates deviate from the predicted 1, 2, 4, or 8 members as a result of duplication or loss of individual genes either before or after WGDs. Based on our analyses, NCX gene radiation in chordates is generally consistent with the 1R/2R/3R hypotheses. However, these studies also call into question the conclusions from previous work that hypothesized about the evolutionary origins and phylogenetic distribution of NCX4 in fish and tetrapods.Most invertebrate species such as fruitfly, honeybee and mosquito have only one NCX gene present in their genomes. A few invertebrate genomes contain several genes with some similarity to NCX family motifs, but only one gene found in the genomic sequence appears ancestral to vertebrate NCX genes with at least 40% identity to mammalian NCX protein sequences. Multiple NCX genes found in invertebrate genomes are most similar to each other with no obvious paralog distinction. C. elegans has various putative NCX genes but two [GenBank:C10G8.5, Y113G7A.4] have about 45% identity to vertebrate NCX. Although in Table 1 we label these gene products as C. elegans1 and C. elegans2 (according to NCBI annotation), it should be noted that this system does not correspond to our annotation for vertebrate NCX paralogs. Other putative NCX ESTs (not listed) demonstrated only 15 – 33% protein identity to mammalian NCX sequences. Similarly, in the sea urchin (Stongylocentrotus purpuratus), three putative NCX genomic sequences were found but only one transcript [GenBank:XM_001184049] displays high identity (~55%) with the vertebrate NCX (others had < 35% identity). Based on the presence/absence of critical motifs, we predict that most of the putative NCX genes found in various invertebrate species lack NCX functionality. We conclude that these genes likely arose from lineage-specific duplications after their divergence from chordates because they have: 1) low sequence identity to vertebrate sequences, 2) a lack of conservation in specific amino acids/motifs critical for Na+/Ca2+ exchange [3] and 3) weak identity with vertebrate homologs.To better determine the timing of NCX duplication events, we searched the protochordate sea squirt (Ciona intestinalis) genome for the presence of NCX genes. The distinctive evolutionary position of Ciona as an invertebrate chordate has been suggested to contain an approximation to the ancestral match of non-duplicated chordate genes; hence it may provide insights into vertebrate evolutionary origins [29]. The Ciona NCX genomic sequence is positioned in all of our phylogenetic trees in a manner that provides a clear separation of the invertebrate and vertebrate NCX sequences (Figure 1 and see Additional Files 1 and 2). The presence of a single copy of an NCX gene in Ciona with high percent identity to the various NCX genes found in vertebrates is consistent with previous findings that indicate that the Ciona genome contains every gene that corresponds to a paralogous family in vertebrates for many signalling molecules, transcription factors and channels [29,30]. The Ciona NCX genomic sequence displays ~56% overall identity among vertebrate NCX homologs. Even though other genes annotated as NCX were found in Ciona genome, it is hypothesized that these genes evolved after the divergence of Ciona from other vertebrates as evidenced by their lower sequence identity (~33%) to vertebrate NCX sequences.Maximum Likelihood NCX Phylogenetic Tree. The ML phylogenetic tree was generated with the PHYML program with 500 replicates using all known and postulated NCX protein sequences. Pirellula bacterial strain (Rhodopirellula baltica) was used to root this tree. The five-point stars () indicate NCX duplication after Ciona intestinalis divergence and the four-point stars () indicate teleost-specific NCX duplication. Branches are colour coded for vertebrate species, in which red designates mammals, purple indicates birds/aves, teal branches are for reptiles, green are amphibians, and blue are teleosts/fish. The dashed branch (---) indicates the division between invertebrate and vertebrate NCX sequences. The asterisk (*) indicates complete transcripts and those without an asterisk are genomic sequences. The letters 'a' and 'b' correspond to the teleost duplicate versions of NCX1, NCX2 and NCX4. Underlined species are new NCX sequences added in comparison to a previous paper [20].Very little useful NCX sequence data are available in cyclostomes (lamprey and hagfish) and chondrichthians. In the lamprey (Petromyzon marinus), three partial NCX sequences exhibit a high protein sequence identity to NCX paralogs with a wide range (51 – 82%) of identity. One shares high sequence identity with NCX1, another with NCX4 and the third with both NCX2 and NCX3. However, the limited data prevent definitive assignment as specific NCX orthologs and thus the nature of the cyclostome NCX gene family remains unclear. The first extant group to branch from the vertebrate lineage after the 2R WGD is the chondrichthians. Unfortunately, sequence available at this time from the elephant shark (Callorynchus milli) was not useful; we found only partial NCX genomic sequences with large gaps [31]. However, there is a spiny dogfish (S. acanthias) clone that corresponds to NCX1 [GenBank:DQ068478].Analysis of NCX gene family members in osteichthians and tetrapods is, for the most part, consistent with the 1R/2R/3R hypotheses. The NJ phylogenetic tree shown in Figure 1s supports the notion that the duplication events giving rise to NCX paralogs in vertebrates occurred after the divergence of the urochordates, which is estimated to be 520 mya [32]. Therefore, from the existence of one NCX gene in invertebrates, duplication events brought about four NCX paralogs in basal vertebrates. Hence, the finding of one NCX gene in Ciona's genome and its positioning in the phylogenetic tree dividing vertebrate from invertebrate branches correlates with previous evolutionary studies [20]. The structures of the Maximum Likelihood (ML) (Figure 1) and Maximum Parsimony (MP) (see Additional File 1) phylogenetic trees indicate two parallel duplications (Figure 2B), which matches the theory of dual genome duplication (2R) which is postulated to have occurred early in the vertebrate lineage [33]. These analyses are consistent with double genome duplication, as observed in the ML/MP phylogenetic trees which show a symmetric topology resulting in four orthologs. However, the phylogenetic tree generated using the Neighbour Joining (NJ) algorithm (see Additional File 2) is consistent with serial NCX duplication (Figure 2A). The serial duplication could also be the result of two genome duplications followed by independent gene duplication and loss [34]. However, the bulk of the evidence supports the hypothesis that four NCX genes would be expected due to the 2R WGD. Thus, remaining questions concern (1) the anomalous NCX4 pattern within tetrapods and (2) the diversification of NCX genes in teleosts subsequent to the 3R WGD.Summaries of Phylogeny Trees. Non-scaled, simplified representations of NCX evolution, rooted with a bacterial sequence is demonstrated with two manners of duplication: A. serial (Neighbour Joining) and B. parallel (Maximum Parsimony) duplication.Previous studies found a fourth vertebrate NCX (NCX4) in genomes of fugu, tetraodon and zebrafish [20]. In zebrafish, the predicted sequence of NCX4 on chromosome 7 shows high level of nucleotide identity (> 98%) with two ESTs [GenBank:BQ263135 and BI875890] and a cDNA [GenBank:EF470289[21]]. Likewise, the predicted NCX4 sequence in stickleback is identical to an EST encoding the NCX4 start coding region up to the XIP site [GenBank:DT993818] and an EST that contains 876 nucleotides from the alternative splice site to the partial last exon [GenBank:DT978254]. There are also two partial sequences from rainbow trout that are similar to fish NCX4 orthologs (85–92% identity), including an N-terminal region and a C-terminal comprising 159 amino acids (478 bp) [35]. In this study in which more teleost genomes were available for examination, NCX4 orthologs were found in green puffer fish, medaka, and stickleback. Although the best evidence to date is that NCX4 occurs widely within teleost fish, its function remains uncertain. Knockdown studies with zebrafish NCX4 suggest it is important during development, playing a role in left-right patterning [21].Previous studies suggested that NCX4 occurred in teleosts but not tetrapods [20]. Thus, it appeared most likely that teleost NCX4 was a product of either the 3R WGD, or a duplication of NCX1 in a basal actinopterygian [20]. When the X. tropicalis genome was searched using the Ensembl browser (v31), NCX tBLASTn searches identified only three scaffolds with sequences with the highest identity to NCX. The NCX genomic sequences found in scaffolds 684, 572, and 218 were tentatively identified as NCX1, 2 and 3, respectively. However, a second search in a later Ensembl version (v32) revealed a fourth NCX sequence in scaffold 41. We recognized that NCX1 is actually located in scaffold 41 while scaffold 684 contains NCX4 based on protein sequence alignment (see Additional File 3). Furthermore, the genome of a lizard (Anolis carolinensis) also possesses four complete NCX genomic sequences, orthologous to the four sequences found in amphibian and teleosts. The presence of NCX4 in these tetrapod genomes argues that NCX4 arose during the 2R WGD, rather than in a teleost-specific gene or genome duplication (3R), as previously proposed [20]. With clear evidence of NCX4 in basal vertebrates, the apparent absence of the gene in birds and mammals demanded further investigation.After extensive searches in all available mammalian genomes for the NCX4 gene, it was concluded that this gene is not present. For verification, the Evolutionary Conserved Regions (ECR) Browser [36] was used to find syntenic links among the teleost and amphibian NCX4 loci with mammalian counterparts. Syntenic alignments were consistent among the teleost and amphibian NCX4 surrounding genes, but high syntenic alignment with the mammalian genomic DNA confirmed that NCX4 was completely eliminated in mammals (Figure 3). Mammals arose from the synapsid reptiles very early in reptilian evolutionary history. Thus, the presence of NCX4 in a derived reptile (anole) but not mammals suggests that the mammalian homolog was lost in the synapsid reptilian ancestors of mammals, in cynodonts, or in a basal mammal. Note that no evidence of NCX4 is found in any mammals studied, including monotremes.Synteny Alignment Diagram at . Synteny diagram among zebrafish, fugu, frog, tetraodon and human. NCX4 (a or b) gene is represented as a circle and all other surrounding genes are represented as ovals and orthologs are associated with a line.We also failed to find evidence of NCX4 orthologs in birds. In our search for NCX genes in the available chicken genome (Ensembl v34), only NCX1 and NCX3 genomic sequences were found in their entirety. Synteny analysis of the complete chicken NCX and neighbouring genes confirmed their identity as NCX1 (on chromosome 3) and NCX3 (on chromosome 5). Partial high identity NCX exons were found in three separate unidentified chromosomes. Synteny analysis for the partial chicken NCX genes located in an unknown chromosome resulted in alignment with segments corresponding to NCX2 genes in other organisms. However, the other partial segments of chicken NCX gene resulted in insignificant synteny alignments probably due to the extensive sequence gaps. Therefore, the result is still inconclusive and refinement of the chicken genome will be required to confirm the presence or absence of NCX4 in avian species. If NCX4 was lost in birds (as in mammals), it must have occurred after the split between lepidosauromorphs (lizards and snakes) and archosauromorphs (crocodiles and bird ancestors). Establishing the exact timing of the NCX4 loss would benefit from analysis of a crocodilian genome.Gene and genome duplication has long been recognized as an important factor in the evolution of the complexity of organismal function and species diversity. The first two vertebrate WGDs provided species with four sets of homologous genes upon which evolutionary processes could act. In many cases, one or more gene became redundant and was/were lost early in lineages, leading to gene families of three or fewer members in tetrapods. The distribution of NCX4 in vertebrates is unusual in many respects. First, all four family members were preserved throughout much of vertebrate evolution. NCX is vital in the excitation-contraction coupling in cardiomyocytes. Physiologically, Na+/Ca2+ exchangers may differ in electrochemical sensitivity, tissue localization and physiological phenotype. Small differences among each NCX could provide specific needs to different tissues to species that are constantly exposed to fast changing and extreme environments. Thus the preservation of all four family members in most vertebrates would argue that selection acted to preserve the distinct homologs. Thus, the loss of NCX4 in mammals, and possibly in birds, might suggest a loss of potential for functional specialization. This is surprising because birds and mammals share the traits of endothermy and high metabolic rate, traits where elevated rates of ion transport occur, particularly in excitable tissues. Further studies of NCX4 expression and tissue specificity would aid in understanding the retention of this gene in teleost, amphibian, and reptile genomes, as well as the independent losses in birds and mammals.Superimposed on diversity in NCX genes as a result of the 2R WGD is the appearance of additional NCX genes in fish, likely as a result of the 3R WGD in teleosts [37]. When we searched for other putative NCX paralogs in fish, duplicates were found for all NCX genes except for NCX3, bringing the number of potential NCX genes in teleost species to seven overall (Figure 1, Figure 4 and Figure 5). Each duplicate pair shows high conservation patterns in known TMS, functional regions including α-1 and α-2 repeats, XIP site, Ca2+ binding sites, and exon-intron boundaries.Sample Species of NCX Homologs Exon Splicing Pattern. Three sample organisms for mammalian (Homo sapiens), reptilian (Anolis carolinensis), amphibian (Xenopus tropicalis) and teleost (Danio rerio) are shown aligned at exon A (blue)/B (orange). Light blue rectangles belong to NCX N-terminus before the alternative spliced exons and yellow rectangles represent the C-terminus after the alternative spliced region. Cassette exons (C-F) are indicated in light green, purple, red and dark green where it is applicable and respectively. Distances between exons are scaled as indicated on the legend but not the length of the exons.NCX Gene Homologs and Localization. Teleost, amphibian and aves list of NCX genes and localization with scaled distances in between exons. Open rectangles represent the exons at the N-terminus located before the alternative spliced exons and the dashed rectangles represent the exons after the alternative spliced exons at the C-terminus. Alternative exons A (black), B (light grey) and the rest of the cassette exons (dark grey) are shown where it is applicable. NCX duplicate genes are separated with NCXa and NCXb at the top and bottom of the list, respectively.It is not yet known if the duplicated genes have diverged sufficiently to acquire distinct functions. Langenbacher et al. [19] found that the two NCX1 genes in the zebrafish demonstrated distinct tissue specificities and effects. They named the NCX1 gene duplicates based on their localization in the developing embryo. NCX1n was predominantly expressed in the brain and neural tube whereas NCX1h was expressed in heart and played a role in its rhythmic contraction. An NCX1h knockout causes cardiac fibrillation. In this report, we redefined the distinction between teleost NCX duplicate sequences in which \"a\" is added to the sequences with the highest identity with mammalian NCX homologs and \"b\" to the most distant. Based upon sequence homologies, NCX1n corresponds to NCX1a, whereas NCXh is NCX1b.Our previous studies on the function of NCX homologs focused on trout because of its importance as a model in physiological studies. However, salmonids experienced a lineage-specific WGD [28], and thus there is potential to have duplicates of genes that were duplicated as a result of the 3R WGD. We have cloned and characterized a rainbow trout NCX1 that appears most similar to NCX1b of other teleosts (see Figure 1). There are ESTs from the rainbow trout in Genbank that are tentatively identified as NCX1 [GenBank: CX255655, CX255654], but the protein sequence has too low identity (71%) to correspond to our NCX1b. However, this EST still has the highest percentage alignment with NCX1 genes in comparison to the other three paralogs from other species. It remains to be established if this EST is NCX1a or a salmonid duplicated and diverged NCX1b variant.In addition to using sequence similarities, we examined NCX gene structure (number of exons, intron density range, gene length) to further define the evolution of the NCX gene family. All vertebrate NCX genes possess similarities in exon structure in both N-terminal and C-terminal regions, and a central segment of the gene that varies more widely among homologs.In mammalian paralogs, the central variable segment (involved in alternative splicing) of NCX genes consists of as many as six exons; NCX1 possesses all six exons, whereas NCX2 possesses two (BC), and NCX3 four (ABCE). Superimposed on the variation in the genetic organization is alternative utilization of the exons in the formation of splice variants, which are thought to be important in conferring tissue-specific functional differences in NCX. When comparing the variable central segment of vertebrate paralogs, all NCX genes possess at least one exon that is homologous to either exon A or exon B. Indeed, exons A and B have considerable sequence homology (e.g. a central acidic region), suggesting that they arose through a duplication event early in vertebrate evolution. Based on the sequence similarity (i.e., the maximum likelihood tree), the first WGD event gave rise to the common ancestor of NCX1 and NCX4 and the common ancestor of NCX2 and NCX3 (Figure 1). Since both exons (A and B) occur in both mammalian NCX1 and NCX3 (Table 2), it is likely that the regions were duplicated in a basal vertebrate prior to the 2R WGD. Furthermore, since both exon A and exon B are present in the mammalian, amphibian, reptilian and teleost orthologs of NCX1, it argues against a more limited duplication of this segment in selected lineages. In mammals (where it is best studied), splice variants of transcripts possess either exon A or exon B, but not both. The significance of the mutual exclusivity of exon A and B to construct NCX is not known, although in general exon A appears in excitable cells such as cardiomyocytes and exon B is expressed in non-excitable cells such as kidney [25].General Sequence of Alternative Splice Exons from all NCX HomologsThe phylogenetic distribution of the remaining exons (C, D, E, and F) is much more variable, though there is a general conservation in the number of exons in the central variable segment of NCX orthologs (Table 2). For example, NCX4 from teleosts, amphibians, and reptiles possess only exon A; NCX2 from fish, amphibians, reptiles, and mammals possess only exons B and C. The exon collection for NCX3 orthologs is more variable, with a single exon (A) in teleosts and birds, and additional exons in amphibians and reptiles (ABC) and mammals (ABCE). Exons D and F are present only in NCX1 orthologs, but they occur in all vertebrates, suggesting these exons arose in the ancestral NCX1 gene shortly after the appearance of the four member gene family.In general, alternative splicing of exons is an important mechanism to create variation from a single gene. Alternative splicing of exons in the central variable region of NCX genes is employed to different extents among paralogs and orthologs. No splice variants are possible for NCX4 where only a single alternative splicing exon occurs (Table 2). There are only two exons in this region of NCX2 (BC) and no splice variants have been detected in mammals [24]. In the case of NCX3, teleosts possess only a single alternative splicing exon, but mammals possess 4 exons (ABDE) and demonstrate multiple splice variants [24]. There is some evidence of alternative splicing for teleost variants of NCX1. For example, a cloned rainbow trout NCX1b cDNA identified as TR-NCX1.0 [17] possessed sequence corresponding to exons ACDF, but a second clone (TR-NCX1.1) also contained exon E (unpublished). While it remains possible that alternatively spliced variants of teleost NCX1 have simply escaped detection, it appears that splice variants of NCX1 are uncommon in fish. This is in contrast to the situation that appears to be seen in mammals, in which splice variants of NCX1 are common [24]. Thus, in the case of both NCX1 and NCX3, splice variants are much more common in mammals than in fish homologs. In the case of NCX1, this difference may be related to the duplicate copies of NCX 1, however in the case of NCX3, fish did not retain the duplicated NCX3 gene [38].Outside of the central variable segment, vertebrate NCX paralogs are more highly conserved. It has been reported that exon boundaries of NCX1 and NCX3 are identical, each with 5 exons (1 N-terminal, 4 C-terminal) [39]. When comparing across vertebrates, the organization of the C-terminal exons is highly conserved, with 4 exons in all NCX genes. In contrast, the N-terminus is more variable, and potentially useful for assessing the evolution of the NCX family. Amongst the tetrapods, the predominate pattern is a single N-terminal exon. This is seen in NCX1 and NCX3 of mammals (though NCX2 has 3 exons), and all four NCX genes in amphibians (Figure 4). In contrast to the conservation seen in tetrapods, the pattern seen in teleosts in much more variable. Although the N terminus of NCX1b and NCX3 possess a single exon, NCX1a and NCX4a have 1–3 exons, NCX2a has 4 to 8 exons, and NCX4b has 3 to 10 exons. Danio NCX homologs generally have fewer exons in the N-terminus than do the other teleost NCX sequences (Figure 4 and Figure 5).Based on these limited analyses, it is difficult to determine the factors that drive the variation in N-terminal gene structure in fish. The conservation seen in the gene organization of NCX3 is unusual, with a ubiquitous single N-terminal exon seen across fish, or for that matter, across vertebrates. It is also the only member of the NCX gene family that lacks a duplicate version in fish. In contrast, the three members that were duplicated in fish each demonstrate variation among orthologs and duplicates. Thus, it appears that the 3R duplication of ancestral genes (each with single N-terminal exons) created a tolerance for genetic rearrangements in this region of the NCX genes in the resultant duplicates.Without accounting for the 5' and 3' untranslated regions (which are mostly unknown), mammalian and reptilian NCX1 and NCX3 genes average 290 and 135 kb in length in their genomes, respectively, and represent the longest NCX genes across species while mammalian NCX2 average 30 kb. However, the teleost, amphibian and reptilian genes exhibit the same length patterns but on a smaller scale as expected due to their smaller genome size in comparison to mammalian genomes. A notable exception to this is that of the lizard with a ~94 kb long NCX2. The teleost and amphibian NCX2 gene duplicates, which are not much smaller than the mammalian homolog, average 22 kb close to the NCX4a gene and NCX4b at 30 kb. However the avian, amphibian and teleost NCX1 and NCX3 are greatly reduced in length in comparison to mammalian versions averaging 103 and 65 kb, respectively. Only NCX1b demonstrates a shorter gene length pattern in comparison to NCX1a across teleost species with an average of 10 kb. Invertebrate NCX gene lengths ranged from 7 to 90 kb.To quantify the evolution of introns, the intron density equation (number of introns per kb of coding sequence) was used to measure the number of introns per NCX gene [40]. As shown in Table 3, all teleost NCX2 exhibit 2 – 4 introns per kb and NCX4 has 2 – 5 introns per kb and all species demonstrate a wide range in intron density. Meanwhile, intron density among all mammals, bird, amphibian, reptile and zebrafish NCX1a maintain a consistent value of 1 intron per kb and the rest of the teleost NCX1a intron density is consistent at 2 – 3 introns per kb. Also, NCX3 gene intron density is preserved among all species at 1 intron per kb. As for the frog, lizard and chicken, all known NCX genes within these species contain an average of 1 intron per kb.NCX Intron Density* Units = introns per kb of coding sequence (10-6)(a) or (b) applicable for teleost onlyThe results from both NCX gene lengths and intron density demonstrate a correlation of similarities of NCX2 with NCX4 that differentiate them from NCX1 and NCX3. Exon-intron boundary and intron density high variations could indicate that NCX2 and NCX4 are genes with a higher rate of mutation in comparison to NCX1 and NCX3, which are more conserved and consistent. Gene length comparisons showed more compactness in NCX2 and NCX4, similar to sea squirt and most invertebrate NCX genes. These differences noted in NCX gene structure may shed light about their adaptation and evolutionary patterns.Rapid growth in the number of sequenced genomes has made it possible to identify a large number of NCX genes in many species. Although most NCX expression and function has been characterized from mammalian organisms, NCX gene presence and conservation is seen among a great variety of animal sequenced genomes. NCX presence in all species' sequenced genomes has allowed the construction of a phylogenetic tree that correlated to animal evolution and revealed that the origin of NCX duplication was initiated at the emergence of vertebrate organisms. From this duplication, at least four paralogs are hypothesized to have resulted and these have been found in teleost, amphibian and reptilian genomes, however we postulate that only three endured in mammalian genomes. Also, duplicate forms of these NCX genes have been found only in teleost genomes that correlate with the isolated genome duplication in ray-finned fish [38].The presence of the NCX4 gene, found only in teleost, reptile and amphibian genomes, indicates that NCX duplicated at least three times after the tunicates (i.e.: Ciona) and before the emergence of teleosts. The maintenance of NCX4 in teleosts may indicate specific demands significant for efficient and different Na+/Ca2+ exchange in organisms with NCX4. It has been recently demonstrated that NCX4 is expressed in the zebrafish [21] but characterization of its Na+/Ca2+ exchange and tissue localization requires exploration. As for the duplicate NCX genes in teleosts, only one NCX1a from the zebrafish [19] and three NCX1b have been cloned and demonstrated to be functional in cardiac tissue in zebrafish [19], trout [17] and tilapia [18]. Zebrafish is the only teleost in which both NCX1 have been cloned from cardiac (NCX1h/NCX1b) [GenBank:AY934775] and neural tissues (NCX1n/NCX1a) [GenBank:AY934776] [19]. The NCX gene redundancies in teleosts may indicate subfunctionality and substitute usage of alternative splicing exons as seen in mammalian organisms that have only three NCX genes.When NCX sequences are compared among all species, the main areas of conservation (i.e.: TMS and regulatory sites) can be observed. These phylogeny studies can provide an overall evolution of the NCX gene family. However, with further gene structure analysis, this report pinpoints the N-terminus segment including the central variable segment to be the main part of the protein to adapt to the requirements of environmental changes as organisms evolve. This is seen in our previous reports [41] in which temperature dependence comparisons between a mammalian and rainbow trout NCX1 differ due to sequences differences in the NH2-terminal transmembrane segment.tBLASTn searches were performed using known NCX protein sequences in available genome sequences in ENSEMBL database. Predicted and mRNA sequences of interest have yielded over 100 candidate genes for NCXs from GenBank, Ensembl, University of California, Santa Cruz Genome browser, and Elephant Shark genome project website [31]. Species names, gene names and location are listed in Table 1. The available genomic sequences of invertebrate and vertebrate species were analyzed to identify homologous NCX sequences. Due to some inaccuracies and missed annotations of NCX genes in Ensembl, the tBLASTn search method was utilized to find/correct predicted exons and complete segmented NCX protein sequences with cloned mammalian NCX protein sequences. Identification of candidate NCX sequences was based on conservation within the 9 TMSs, α-repeats and regulatory sites, originally established by known sequences. Hence, we have been able to categorize and/or complete over 35 NCX protein sequences in 10 different species' genomes.Targeted databases included: the non-redundant protein and nucleotide databases at NCBI BLAST [42] and the Ensembl Genome Browser v31–v34 and v39 [43] as seen in Table 1. The NCX ESTs (expressed sequenced tags) and clones were obtained from NCBI Nucleotide database [44]. The lizard (Feb.2007) sequences were obtained from the University of California Santa Cruz (UCSC) Genome Browser [45].To understand the origins of the eukaryotic NCX family, we performed a phylogenetic study of all NCX sequences from all species. Multiple sequence alignments and bootstrapped Neighbour-Joining rooted trees were prepared using ClustalX (v. 1.83) [46]; alignments were manually edited with Genedoc to remove the alternative spliced exons and visualized with TreeView32. Bootstrapping was performed (1000 replicates), and most nodes demonstrated high confidence values. PHYLIP-3.63 (.)[47] was used to construct 1000 Maximum Parsimony trees and PHYML online [48] was used to obtain 500 Maximum Likelihood trees and a consensus tree for each algorithm is shown with TreeView32. Protein sequence names were assigned according to species scientific name and NCX homolog number (i.e. = human NCX1 is labelled as H. sapiens1). Incomplete NCX sequences missing over 10% of the total amino acids were not included in the phylogenetic tree although some are listed in Table 1. A related NCX from the bacterium pirellula (Rhodopirellula baltica) was used as the outgroup to root the phylogenetic tree.The Ensembl database and Evolutionarily Conserved Regions (ECR) browser [49] were used to locate syntenic regions among teleost, avian, and mammalian genomes. In the ECR browser, a scaffold section known to contain the NCX4 gene flanked by a minimum of 30,000 base pairs was used to align with all other available genomes to find synteny patterns. The Ensembl database was used to find the predicted orthologs in the genomic regions found in the ECR browser.Sodium-Calcium exchanger: NCX; Chromosome: Chr; Scaffold: Scf; duplicate: dupl./d; contig: cntg; unknown: unk; basepairs: bp; kilobasepairs: kb.Figure S1. Maximum Parsimony Phylogenetic Tree. A consensus Maximum Parsimony tree that was obtained with 1000 replicates from the Phylip program.Click here for fileFigure S2. Neighbour-Joining Phylogenetic Tree. A Neighbour-Joining phylogenetic tree that was obtained with 1000 replicates from the ClustalX program.Click here for fileFigure S3. Teleost, amphibian and reptilian NCX4 amino acid alignments. NCX4 transcript and genomic sequences found in teleost, amphibian and reptilian genomic data have been aligned with ClustalX and viewed with Genedoc.Click here for file\n",
      "__________\n"
     ]
    }
   ],
   "source": [
    "res = es.search(index=\"ir\", body={\"query\": {\"match_all\": {}}}, size = 2)\n",
    "print(\"Got %d Hits:\" % res['hits']['total'])\n",
    "for hit in res['hits']['hits']:\n",
    "    print(hit['_source']['title'])\n",
    "    print(hit['_source']['text'])\n",
    "    file = hit['_source']['text']\n",
    "    print('_'*10)"
   ]
  },
  {
   "cell_type": "code",
   "execution_count": 23,
   "metadata": {
    "scrolled": false
   },
   "outputs": [
    {
     "name": "stdout",
     "output_type": "stream",
     "text": [
      "Got 2683879 Hits:\n",
      "In Section 3, we describe the experimental procedure that we followed to collect the raw data on which the analyses are based. In Section 2, we review related work.\n",
      "__________________________________________________ 0\n",
      "In Section 4, we describe the statistical analysis of the data, the results of the analysis, and the cross-validation procedures and their outcomes. In Section 3, we describe the experimental procedure that we followed to collect the raw data on which the analyses are based.\n",
      "__________________________________________________ 1\n",
      "In Section 5, we offer discussion of the experiment and its results. In Section 4, we describe the statistical analysis of the data, the results of the analysis, and the cross-validation procedures and their outcomes.\n",
      "__________________________________________________ 2\n",
      "There are three main differences between this previous work and our work. They showed that on their subject programs, the final sufficient set determined a higher AM than the Offutt that they also have few complex data structures, making it unclear whether the results of their experiments would carry over to complex C programs and object-oriented programs.\n",
      "__________________________________________________ 3\n",
      "These are the values that we used in the subsequent analysis. The data collection therefore yielded, for each of the seven programs , and for each of the 100 subject test suites, values for AM and for Ami for each i, 1 ≤ i ≤ 108.\n",
      "__________________________________________________ 4\n",
      "In Section 4.2, we describe the results of the model selection procedure on the data from all seven subject programs. In this section, the main section of the paper, we first (Section 4.1) describe alternative approaches to the model selection problem , including the method (cost-based LARS) that we adopted.\n",
      "__________________________________________________ 5\n",
      "This in turn implies that our procedure for applying CBLARS, when applied to the data from all seven subject programs, would yield an accurate prediction of AM scores for test suites of some other, arbitrary eighth program. Our cross-validation indicates that the procedure for applying CBLARS described in Section 4.2, when applied to a set of data from six of our subject programs, yields an accurate prediction of AM scores for test suites of the seventh subject program.\n",
      "__________________________________________________ 6\n",
      "However, larger programs may have more complex control and data flow patterns, which may lead to different results. This threat is mitigated by the facts that the C programs are large and complex enough to include a broad range of control and data structures, and that the three dominant languages in programming today (C, C++ and Java) all use very similar syntax in their non-OO constructs.\n",
      "__________________________________________________ 7\n",
      "We also note that we have not attempted to handle object-oriented constructs. However, larger programs may have more complex control and data flow patterns, which may lead to different results.\n",
      "__________________________________________________ 8\n"
     ]
    }
   ],
   "source": [
    "x = 0\n",
    "res = es.search(index=\"twosent\", body={\"query\": {\"match_all\": {}}}, size = 100)\n",
    "print(\"Got %d Hits:\" % res['hits']['total'])\n",
    "for hit in res['hits']['hits']:\n",
    "    if 'data' in hit['_source']['content.chapter.sentpositive']:\n",
    "        print(hit['_source']['content.chapter.sentpositive'])\n",
    "        print('_'*50,x)\n",
    "        x = x + 1"
   ]
  },
  {
   "cell_type": "code",
   "execution_count": 24,
   "metadata": {
    "scrolled": true
   },
   "outputs": [
    {
     "name": "stdout",
     "output_type": "stream",
     "text": [
      "Got 2261716 Hits:\n",
      "Remember that this Is only one use of the data structurel it is accessed in at least four other places in the program.\n",
      "__________________________________________________ 0\n",
      "Also, the cost includes the space as well as time costs, so the calculation must take into account the (sometimes changing) sizes of the data structures extant during the algorithm.\n",
      "__________________________________________________ 1\n",
      "Thus, if we knew the properties of the program totally, it might be reasonable to assl~ne that the failure process would be purely random, reflecting the fluctuations of the input data stream.\n",
      "__________________________________________________ 2\n",
      "We attempted to mitigate this threat by sharing both the \" raw \" data collected during the interviews and the resulting report (this paper) with the participants of the study for their validation.\n",
      "__________________________________________________ 3\n",
      "Amazon would tell you that 'yes, you can use the Elastic MapReduce on healthcare data'.\n",
      "__________________________________________________ 4\n",
      "The information is unstructured and difficult to navigate: \" If you want to know 'I have data with these characteristics, or a system that has these needs, what third party tool should I use?\n",
      "__________________________________________________ 5\n"
     ]
    }
   ],
   "source": [
    "x = 0\n",
    "res = es.search(index=\"devtwosentnew\", body={\"query\": {\"match_all\": {}}}, size = 100)\n",
    "print(\"Got %d Hits:\" % res['hits']['total'])\n",
    "for hit in res['hits']['hits']:\n",
    "    if 'data' in hit['_source']['content.chapter.sentpositive']:\n",
    "        print(hit['_source']['content.chapter.sentpositive'])\n",
    "        print('_'*50,x)\n",
    "        x = x + 1"
   ]
  },
  {
   "cell_type": "code",
   "execution_count": 98,
   "metadata": {},
   "outputs": [
    {
     "name": "stdout",
     "output_type": "stream",
     "text": [
      "Got 1 Hits:\n",
      "PMC_4075597 Enhanced wound healing by topical administration of d-limonene in alloxan induced diabetic mice through reduction of pro-inflammatory markers and chemokine expression\n"
     ]
    }
   ],
   "source": [
    "res = es.search(index = \"ir\", body = {\"query\": {\"match\": {\"_id\" : \"PMC_4075597\"}}}, size = 200)\n",
    "\n",
    "print(\"Got %d Hits:\" % res['hits']['total'])\n",
    "for hit in res['hits']['hits']:\n",
    "    print(hit['_id'], hit['_source']['title'])"
   ]
  },
  {
   "cell_type": "code",
   "execution_count": 106,
   "metadata": {
    "scrolled": true
   },
   "outputs": [
    {
     "name": "stdout",
     "output_type": "stream",
     "text": [
      "Got 9 Hits:\n",
      "PMC_40755975 {'content.chapter.sentpositive': 'Limonene treated mice showed a significant decrease in wound size, the levels of GITR-expressing cells, and Th1 cytokines as well as substantial down regulation of mRNA expression of the inflammatory mediators compared with the vehicle-treated and diabetic mice. Furthermore, histopathological examination showed complete re-epithelisation, decreased inflammatory cells and presence of granulation tissue in the limonene treated mice.', 'title': 'Enhanced wound healing by topical administration of d-limonene in alloxan induced diabetic mice through reduction of pro-inflammatory markers and chemokine expression', 'paper_id': 'PMC_4075597'}\n",
      "PMC_40755974 {'content.chapter.sentpositive': 'D-limonene, one of the major constituent in citrus essential oils is considered to have antioxidant, hypoglycemic and anti-inflammatory activities [2]. Diabetes can hinder the normal wound healing process by inducing long-term inflammation which can lead to delayed maturation of granulation tissues, reduced wound parallel tension and inhibition of angiogenesis [1].', 'title': 'Enhanced wound healing by topical administration of d-limonene in alloxan induced diabetic mice through reduction of pro-inflammatory markers and chemokine expression', 'paper_id': 'PMC_4075597'}\n",
      "PMC_40755976 {'content.chapter.sentpositive': 'Limonene also significantly up regulated the number of Tregs or it also induced Th17/Treg balance and modulated various pro-inflammatory and anti-inflammatory cytokines and the gene expression of their mediators that mediate inflammation. Limonene treated mice showed a significant decrease in wound size, the levels of GITR-expressing cells, and Th1 cytokines as well as substantial down regulation of mRNA expression of the inflammatory mediators compared with the vehicle-treated and diabetic mice.', 'title': 'Enhanced wound healing by topical administration of d-limonene in alloxan induced diabetic mice through reduction of pro-inflammatory markers and chemokine expression', 'paper_id': 'PMC_4075597'}\n",
      "PMC_40755970 {'content.chapter.sentpositive': 'In the present study, we investigated the effects of topical administration of d-limonene (50mg/kg and 100mg/kg; daily in acetone) on the key mediators of wound healing, namely T cell subsets, glucocorticoid-induced tumour necrosis factor receptor (GITR) expressing cells, CD4+CD25+Foxp3+ regulatory T (Treg) cells, Th17 cells, Th1 cytokines, and inflammatory mediator gene expression. Wound size was recorded on every third day and after 14 days of treatment, the heparinised whole blood and the wound tissue of all the groups was collected and tested.', 'title': 'Enhanced wound healing by topical administration of d-limonene in alloxan induced diabetic mice through reduction of pro-inflammatory markers and chemokine expression', 'paper_id': 'PMC_4075597'}\n",
      "PMC_40755973 {'content.chapter.sentpositive': 'Diabetes can hinder the normal wound healing process by inducing long-term inflammation which can lead to delayed maturation of granulation tissues, reduced wound parallel tension and inhibition of angiogenesis [1]. Delayed wound healing constitutes one of the most serious diabetes-associated complications.', 'title': 'Enhanced wound healing by topical administration of d-limonene in alloxan induced diabetic mice through reduction of pro-inflammatory markers and chemokine expression', 'paper_id': 'PMC_4075597'}\n",
      "PMC_40755971 {'content.chapter.sentpositive': 'Wound size was recorded on every third day and after 14 days of treatment, the heparinised whole blood and the wound tissue of all the groups was collected and tested. In this study, five groups of Swiss albino mice were used (10 mice per group): group 1, the non-diabetic (normal control; N+M); group 2, wound in non-diabetic mice (N+W); group 3, wound in diabetic mice (D+W); group 4, Limonene 50mg/kg treated wounds in diabetic mice (D+W+L50); group 5, Limonene 100mg/kg treated wounds in diabetic mice.', 'title': 'Enhanced wound healing by topical administration of d-limonene in alloxan induced diabetic mice through reduction of pro-inflammatory markers and chemokine expression', 'paper_id': 'PMC_4075597'}\n",
      "PMC_40755972 {'content.chapter.sentpositive': 'Delayed wound healing constitutes one of the most serious diabetes-associated complications. D-limonene, one of the major constituent in citrus essential oils is considered to have antioxidant, hypoglycemic and anti-inflammatory activities [2].', 'title': 'Enhanced wound healing by topical administration of d-limonene in alloxan induced diabetic mice through reduction of pro-inflammatory markers and chemokine expression', 'paper_id': 'PMC_4075597'}\n",
      "PMC_40755977 {'content.chapter.sentpositive': 'This might contribute to its enhanced wound healing. Limonene also significantly up regulated the number of Tregs or it also induced Th17/Treg balance and modulated various pro-inflammatory and anti-inflammatory cytokines and the gene expression of their mediators that mediate inflammation.', 'title': 'Enhanced wound healing by topical administration of d-limonene in alloxan induced diabetic mice through reduction of pro-inflammatory markers and chemokine expression', 'paper_id': 'PMC_4075597'}\n",
      "PMC_40755978 {'content.chapter.sentpositive': 'Furthermore, histopathological examination showed complete re-epithelisation, decreased inflammatory cells and presence of granulation tissue in the limonene treated mice. This might contribute to its enhanced wound healing.', 'title': 'Enhanced wound healing by topical administration of d-limonene in alloxan induced diabetic mice through reduction of pro-inflammatory markers and chemokine expression', 'paper_id': 'PMC_4075597'}\n"
     ]
    }
   ],
   "source": [
    "res = es.search(index = \"twosent\", body = {\"query\": {\"match\": {\"paper_id\" : \"PMC_4075597\"}}}, size = 200)\n",
    "\n",
    "print(\"Got %d Hits:\" % res['hits']['total'])\n",
    "for hit in res['hits']['hits']:\n",
    "    print(hit['_id'], hit['_source'])"
   ]
  },
  {
   "cell_type": "code",
   "execution_count": 76,
   "metadata": {},
   "outputs": [
    {
     "name": "stdout",
     "output_type": "stream",
     "text": [
      "Got 377 Hits:\n",
      "PMC_1851393 Risk of second primary cancer in men with breast cancer 5.460385\n",
      "PMC_4579663 An ecological measure of immune-cancer colocalization as a prognostic factor for breast cancer 4.976323\n",
      "PMC_340959 A New Breast Cancer Model 4.824152\n",
      "PMC_4940926 Systemic therapy for breast cancer and risk of subsequent contralateral breast cancer in the WECARE Study 4.7360334\n",
      "PMC_3720249 Vav Proteins' Role in Skin Cancer 4.702413\n"
     ]
    }
   ],
   "source": [
    "res = es.search(index = \"ir\", body = {\"query\": {\"match\": {\"title\" : \"cancer\"}}}, size = 5)\n",
    "\n",
    "print(\"Got %d Hits:\" % res['hits']['total'])\n",
    "for hit in res['hits']['hits']:\n",
    "    print(hit[\"_id\"], hit['_source']['title'], hit['_score'])"
   ]
  },
  {
   "cell_type": "code",
   "execution_count": 77,
   "metadata": {},
   "outputs": [
    {
     "name": "stdout",
     "output_type": "stream",
     "text": [
      "Got 202 Hits:\n",
      "PMC_2211537 The Genetic Structure of Pacific Islanders\n",
      "PMC_4858160 Exploiting Genetic Interference for Antiviral Therapy\n",
      "PMC_3185286 Find the weakest link. A comparison between demographic, genetic and demo-genetic metapopulation extinction times\n",
      "conf_icse_WeimerNGF09 Automatically finding patches using genetic programming.\n",
      "PMC_3341339 A Genetic Basis for Mechanosensory Traits in Humans\n"
     ]
    }
   ],
   "source": [
    "res = es.search(index = \"ir\", body = {\"query\": {\"match\": {\"title\" : \"genetic\"}}}, size = 5)\n",
    "\n",
    "print(\"Got %d Hits:\" % res['hits']['total'])\n",
    "for hit in res['hits']['hits']:\n",
    "    print(hit['_id'], hit['_source']['title'])"
   ]
  },
  {
   "cell_type": "code",
   "execution_count": 123,
   "metadata": {
    "scrolled": true
   },
   "outputs": [
    {
     "name": "stdout",
     "output_type": "stream",
     "text": [
      "Got 8003 Hits:\n",
      "PMC_2408596 Gene Structure Evolution of the Na + -Ca 2+  Exchanger ( NCX ) Family\n",
      "____________________________________________________________________________________________________\n",
      "PMC_4712596 Genomic and metagenomic analysis of microbes in a soil environment affected by the 2011 Great East Japan Earthquake tsunami\n",
      "____________________________________________________________________________________________________\n",
      "conf_trec_BreckBFHLM99 A Sys Called Qanda.\n",
      "____________________________________________________________________________________________________\n",
      "conf_trec_Westerveld06 Correlating Topic Rankings and Person Rankings to Find Experts.\n",
      "____________________________________________________________________________________________________\n",
      "conf_trec_MoulahiTMY14 IRIT at TREC 2014 Contextual Suggestion Track.\n",
      "____________________________________________________________________________________________________\n",
      "conf_trec_SutcliffeGMW03 Question Answering using the DLT System at TREC 2003.\n",
      "____________________________________________________________________________________________________\n",
      "conf_trec_RodeH04 Conceptual Language Models for Context-Aware Text Retrieval.\n",
      "____________________________________________________________________________________________________\n",
      "conf_trec_BrownDH03 IBM Research and the University of Colorado - TREC 2003 Genomics Track.\n",
      "____________________________________________________________________________________________________\n",
      "conf_trec_KimYC12 Overcoming Vocabulary Limitations in Twitter Microblogs.\n",
      "____________________________________________________________________________________________________\n",
      "conf_trec_BuccioMN10 Evaluation of a Methodology for Modeling Term Relationship through Geometry: Experiments at TREC 2010 Relevance Feedback Track.\n",
      "____________________________________________________________________________________________________\n",
      "conf_trec_ChangXB03 TREC 2003 Question Answering Track at CAS-ICT.\n",
      "____________________________________________________________________________________________________\n",
      "conf_trec_SinghalABCHP99 AT&T at TREC-8.\n",
      "____________________________________________________________________________________________________\n",
      "conf_trec_VtyurinaDSC15 WaterlooClarke: TREC 2015 LiveQA Track.\n",
      "____________________________________________________________________________________________________\n",
      "conf_trec_WuZDLS03 Questioning Answering By Pattern Matching, Web-Proofing, Semantic Form Proofing.\n",
      "____________________________________________________________________________________________________\n",
      "conf_trec_Zimmermann11 Chemical Structure Reconstruction with chemoCR.\n",
      "____________________________________________________________________________________________________\n",
      "conf_trec_AvulaOA13 A Nearest Neighbor Approach to Contextual Suggestion.\n",
      "____________________________________________________________________________________________________\n",
      "conf_trec_CaporasoBCJPH05 Concept Recognition and the TREC Genomics Tasks.\n",
      "____________________________________________________________________________________________________\n",
      "conf_trec_Mishne06 Multiple Ranking Strategies for Opinion Retrieval in Blogs - The University of Amsterdam at the 2006 TREC Blog Track.\n",
      "____________________________________________________________________________________________________\n",
      "conf_trec_SutcliffeWGM06 Question Answering Using the DLT System at TREC 2006.\n",
      "____________________________________________________________________________________________________\n",
      "conf_trec_DayanikNO03 Partioning a Graph of Sequences, Structures and Abstracts for Information Retrieval.\n",
      "____________________________________________________________________________________________________\n"
     ]
    }
   ],
   "source": [
    "res = es.search(index = \"ir\", body = {\"query\": {'query_string' : {\n",
    "                                        'query': '*onstruct*',\n",
    "                                        'fields': ['text']}}}, size = 20)\n",
    "\n",
    "print(\"Got %d Hits:\" % res['hits']['total'])\n",
    "for hit in res['hits']['hits']:\n",
    "    print(hit['_id'], hit['_source']['title'])\n",
    "    print('_'*100)"
   ]
  },
  {
   "cell_type": "markdown",
   "metadata": {
    "heading_collapsed": true
   },
   "source": [
    "# 5 Doc2vec Indexing"
   ]
  },
  {
   "cell_type": "code",
   "execution_count": 3,
   "metadata": {
    "hidden": true,
    "scrolled": true
   },
   "outputs": [],
   "source": [
    "from pymongo import MongoClient\n",
    "from elasticsearch import Elasticsearch\n",
    "from elasticsearch import helpers\n",
    "import nltk\n",
    "from nltk import tokenize\n",
    "import config as cfg\n",
    "\n",
    "sent_detector = nltk.data.load('tokenizers/punkt/english.pickle')\n",
    "client = MongoClient('localhost:' + str(cfg.mongoDB_Port))\n",
    "pub = client.pub.publications\n",
    "db=client.pub\n",
    "\n",
    "es = Elasticsearch([{'host': 'localhost', 'port': 9200}],timeout=30, max_retries=10, retry_on_timeout=True)\n",
    "\n",
    "# es.cluster.health(wait_for_status='yellow', request_timeout=1)"
   ]
  },
  {
   "cell_type": "code",
   "execution_count": 7,
   "metadata": {
    "hidden": true
   },
   "outputs": [],
   "source": [
    "file = ' An important difference between citing and co-citation networks, however, is size. Since papers in the biomedical sciences have a median of 30 articles in their reference lists, each citation event can be expected to add multiple papers to an article’s co-citation network (Fig 1D) but only one to its citing network. The latter are therefore highly vulnerable to finite number effects; in other words, for an article of interest with few citations, small changes in the citing network would have a disproportionate effect on how that article’s field was defined. We therefore chose to pursue co-citation networks as a way to describe an individual paper’s field.Having chosen our comparison group, we looked for a way to test how accurately co-citation networks represent an article’s field. One way to characterize groups of documents is to cluster them based on the frequency at which specific terms appear in a particular document relative to the frequency at which they appear in the entire corpus, a method known as term frequency–inverse document frequency (TF-IDF) . This is not a perfect approach, as it is possible to use entirely different words to describe similar concepts, but positive matches can be taken as a strong indication of similarity. Frequency of word occurrence can be converted into vectors so that the cosine of the angle between two vectors is a measurement of how alike the two documents are. To evaluate co-citation networks relative to journal of publication, which is often used as a proxy for field, we selected all papers published from 2002 to 2011 in each of six different journals that received exactly five citations during that same time frame.'"
   ]
  },
  {
   "cell_type": "code",
   "execution_count": 11,
   "metadata": {
    "hidden": true
   },
   "outputs": [],
   "source": [
    "file = 'exposed to increasing volumes of mcf7 and mdamb231 breast cancer cell cm or incubated with control volumes of concentrated serumfree media for 48 h after the 48 h incubation time cells and debris were removed from the thp1 supernatant by centrifugation following incubation the recovered cell number was determined and cell viability established using trypan blue exclusion under the conditions in this study the treatment of thp1 cells with cm did not reduce the viability of the thp1 cellsthe cm protein levels were quantified using a protein assay biorad hercules ca usa and the results were compared with a standard curve of bsa concentrations the protein concentrations were used to normalize the amount of cm loaded onto the gel thus the total protein loaded was equivalent in each lane loading buffer 5 wv sds 0225 m triscl ph 68 50 wv glycerol 005 wv bromophenol blue 025 m dithiothreitol was added to the cm and the mixture was denatured by boiling for 5 minutes samples were loaded onto a 10 sds polyacrylamide gel with 10 μl of a widerange colored protein molecular weight marker invitrogen carlsbad ca usa also loaded onto the gel the proteins were subsequently transferred from the gel onto a nitrocellulose membrane amersham biosciences piscataway nj usa the membrane was incubated with mouse monoclonal antimmp2 '"
   ]
  },
  {
   "cell_type": "code",
   "execution_count": null,
   "metadata": {
    "hidden": true
   },
   "outputs": [],
   "source": [
    "papernames=[]\n",
    "###############################\n",
    "file = open('data/allcorpus_papers.txt', 'r')\n",
    "text = file.read()\n",
    "\n",
    "sentences = tokenize.sent_tokenize(text)\n",
    "count = 0\n",
    "docLabels = []\n",
    "actions = []\n",
    "\n",
    "for i, sent in enumerate(sentences):\n",
    "    try:\n",
    "        neighbors = sentences[i + 1]\n",
    "        neighbor_count = count + 1\n",
    "        \n",
    "    except:\n",
    "        neighbors = sentences[i - 1]\n",
    "        neighbor_count = count - 1\n",
    "\n",
    "    docLabels.append(count)\n",
    "\n",
    "    actions.append({\n",
    "       \"_index\": \"devtwosentnew\",\n",
    "       \"_type\": \"devtwosentnorulesnew\",\n",
    "       \"_id\":count,\n",
    "\n",
    "       \"_source\" : {\n",
    "           \"content.chapter.sentpositive\" : sent,\n",
    "           \"content.chapter.sentnegtive\": neighbors,\n",
    "           \"neighborcount\":neighbor_count\n",
    "       }})\n",
    "    count = count + 1\n",
    "\n",
    "print(len(sentences))\n",
    "print(len(docLabels))\n",
    "\n",
    "res = helpers.bulk(es, actions)\n",
    "print(res)"
   ]
  },
  {
   "cell_type": "markdown",
   "metadata": {
    "heading_collapsed": true
   },
   "source": [
    "# 5 Preparing doc2vec"
   ]
  },
  {
   "cell_type": "code",
   "execution_count": 112,
   "metadata": {
    "hidden": true
   },
   "outputs": [],
   "source": [
    "from pymongo import MongoClient\n",
    "from elasticsearch import Elasticsearch\n",
    "from elasticsearch import helpers\n",
    "import math\n",
    "import nltk\n",
    "import string\n",
    "import config as cfg\n",
    "sent_detector = nltk.data.load('tokenizers/punkt/english.pickle')\n",
    "\n",
    "###############################\n",
    "\n",
    "client = MongoClient('localhost:' + str(cfg.mongoDB_Port))\n",
    "db = client.pub\n",
    "pub = client.pub.publications\n",
    "es = Elasticsearch(\n",
    "    [{'host': 'localhost', 'port': 9200}], timeout=30, max_retries=10, retry_on_timeout=True\n",
    ")\n",
    "es.cluster.health(wait_for_status='yellow', request_timeout=1)\n",
    "\n",
    "list_of_pubs=[]\n",
    "\n",
    "def returnnames(mongo_string_search, db):\n",
    "    # mongo_string_search = {\"dblpkey\": \"{}\".format(dblkey)}\n",
    "    results = db.publications.find(mongo_string_search)\n",
    "    chapters = list()\n",
    "    chapter_nums = list()\n",
    "    list_of_docs = list()\n",
    "    # list_of_abstracts = list()\n",
    "    merged_chapters = list()\n",
    "    my_dict = {\n",
    "        \"_id\": \"\",\n",
    "\n",
    "    }\n",
    "    for i, r in enumerate(results):\n",
    "        # try:\n",
    "        # list_of_sections = list()\n",
    "        my_dict['_id'] = r['_id']\n",
    "        list_of_docs.append((my_dict))\n",
    "\n",
    "        my_dict = {\n",
    "            \"_id\": \"\",\n",
    "\n",
    "        }\n",
    "\n",
    "    return list_of_docs"
   ]
  },
  {
   "cell_type": "code",
   "execution_count": 113,
   "metadata": {
    "hidden": true
   },
   "outputs": [],
   "source": [
    "filter_conference = [\"WWW\", \"ICSE\", \"VLDB\", \"PVLDB\", \"JCDL\", \"TREC\",  \"SIGIR\", \"ICWSM\", \"ECDL\", \"ESWC\"]\n",
    "\n",
    "for booktitle in filter_conference:\n",
    "    mongo_string_search = {'$and': [{'booktitle': booktitle}, {'content.fulltext': {'$exists': True}}]}\n",
    "    list_of_pubs.append(returnnames(mongo_string_search, db))"
   ]
  },
  {
   "cell_type": "code",
   "execution_count": 114,
   "metadata": {
    "hidden": true
   },
   "outputs": [],
   "source": [
    "mongo_string_search = {'$and': [{'domain': 'Biomedical'}, {'content.fulltext': {'$exists': True}}]}\n",
    "list_of_pubs.append(returnnames(mongo_string_search, db))"
   ]
  },
  {
   "cell_type": "code",
   "execution_count": null,
   "metadata": {
    "hidden": true,
    "scrolled": true
   },
   "outputs": [],
   "source": [
    "papersText = []\n",
    "\n",
    "for pubs in list_of_pubs:\n",
    "\n",
    "    for cur in pubs:\n",
    "\n",
    "        query = {\"query\":\n",
    "            {\"match\": {\n",
    "                \"_id\": {\n",
    "                    \"query\": cur['_id'],\n",
    "                    \"operator\": \"and\"\n",
    "                }\n",
    "            }\n",
    "            }\n",
    "        }\n",
    "\n",
    "        res = es.search(index = \"ir\", body = query, size = 200)\n",
    "\n",
    "        for doc in res['hits']['hits']:\n",
    "            # sentence = doc[\"_source\"][\"text\"].replace(',', ' ')\n",
    "            fulltext = doc[\"_source\"][\"text\"]\n",
    "\n",
    "            fulltext = fulltext.translate(str.maketrans('', '', string.punctuation))\n",
    "            \n",
    "            papersText.append(fulltext.lower())\n",
    "            \n",
    "papersText = \" \".join(papersText)\n",
    "\n",
    "f1 = open(\"data/word2vecData.txt\", \"w\")\n",
    "f1.write(papersText)\n",
    "f1.close()"
   ]
  },
  {
   "cell_type": "code",
   "execution_count": null,
   "metadata": {
    "hidden": true
   },
   "outputs": [],
   "source": []
  }
 ],
 "metadata": {
  "kernelspec": {
   "display_name": "Python 3",
   "language": "python",
   "name": "python3"
  },
  "language_info": {
   "codemirror_mode": {
    "name": "ipython",
    "version": 3
   },
   "file_extension": ".py",
   "mimetype": "text/x-python",
   "name": "python",
   "nbconvert_exporter": "python",
   "pygments_lexer": "ipython3",
   "version": "3.5.2"
  }
 },
 "nbformat": 4,
 "nbformat_minor": 2
}
